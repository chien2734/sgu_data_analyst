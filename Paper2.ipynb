{
  "cells": [
    {
      "cell_type": "markdown",
      "metadata": {
        "id": "PoEgqvzYpH8p"
      },
      "source": [
        "# PAPER 2\n"
      ]
    },
    {
      "cell_type": "markdown",
      "metadata": {
        "id": "Ds4aWsYRpM3K"
      },
      "source": [
        "## 1. Bối cảnh nghiên cứu"
      ]
    },
    {
      "cell_type": "markdown",
      "metadata": {
        "id": "lLVakqjTpjBB"
      },
      "source": [
        "- Tiểu đường type 2 (Non-insulin-dependent diabetes mellitus, NIDDM) là bệnh mạn tính phổ biến, đặc biệt ở cộng đồng người Pima Indian gần Phoenix, Arizona (Mỹ).\n",
        "\n",
        "- Cộng đồng này đã được nghiên cứu từ năm 1965 bởi National Institute of Diabetes and Digestive and Kidney Diseases (NIDDK) do tỷ lệ mắc bệnh rất cao.\n",
        "\n",
        "- Mục tiêu của nghiên cứu: Dự đoán khả năng mắc tiểu đường trong vòng 5 năm, từ các yếu tố nhân khẩu học, lâm sàng và sinh học."
      ]
    },
    {
      "cell_type": "markdown",
      "metadata": {
        "id": "GEwK6atqpsoH"
      },
      "source": [
        "## 2. Input (biến đầu vào) – Các đặc trưng của bệnh nhân"
      ]
    },
    {
      "cell_type": "markdown",
      "metadata": {
        "id": "sVqM_9AJpvtV"
      },
      "source": [
        "Paper chọn 8 biến y tế quan trọng làm đầu vào mô hình (features):\n",
        "\n",
        "1. Số lần mang thai (Number of times pregnant)\n",
        "→ Phụ nữ mang thai nhiều lần có nguy cơ tiểu đường thai kỳ, ảnh hưởng đến khả năng mắc tiểu đường sau này.\n",
        "\n",
        "2. Nồng độ glucose huyết tương sau 2 giờ (OGTT test) (Plasma glucose concentration at 2 hours in an oral glucose tolerance test)\n",
        "→ Chỉ số trực tiếp phản ánh khả năng dung nạp glucose, yếu tố chẩn đoán chính của tiểu đường.\n",
        "\n",
        "3. Huyết áp tâm trương (mm Hg) (Diastolic blood pressure)\n",
        "→ Huyết áp cao có liên quan đến hội chứng chuyển hóa và nguy cơ tiểu đường.\n",
        "\n",
        "4. Độ dày nếp gấp da cánh tay (mm) (Triceps skin fold thickness)\n",
        "→ Chỉ số ước lượng mỡ dưới da, liên quan đến béo phì.\n",
        "\n",
        "5. Nồng độ insulin huyết thanh sau 2 giờ (μU/ml) (2-hour serum insulin)\n",
        "→ Phản ánh khả năng tiết insulin của tuyến tụy.\n",
        "\n",
        "6. Chỉ số khối cơ thể (BMI) (Body Mass Index = Weight (kg) / Height² (m²))\n",
        "→ Béo phì là yếu tố nguy cơ hàng đầu của tiểu đường.\n",
        "\n",
        "7. Diabetes Pedigree Function (DPF)\n",
        "→ Hàm số tổng hợp đánh giá nguy cơ dựa trên tiền sử gia đình (cha mẹ, ông bà, anh chị em, cô dì chú bác).\n",
        "→ Càng nhiều người thân mắc bệnh → DPF càng cao.\n",
        "\n",
        "8. Tuổi (năm) (Age)\n",
        "→ Tuổi cao là yếu tố nguy cơ tăng khả năng mắc tiểu đường."
      ]
    },
    {
      "cell_type": "markdown",
      "metadata": {
        "id": "O0Fetj4fqMne"
      },
      "source": [
        "## 3. Output (biến mục tiêu – Target variable)"
      ]
    },
    {
      "cell_type": "markdown",
      "metadata": {
        "id": "MnJbtFT5qOOr"
      },
      "source": [
        "- 0 → Không mắc tiểu đường trong vòng 5 năm.\n",
        "\n",
        "- 1 → Mắc tiểu đường trong vòng 5 năm.\n",
        "\n",
        "--> Đây là một bài toán phân loại nhị phân (binary classification problem)."
      ]
    },
    {
      "cell_type": "markdown",
      "metadata": {
        "id": "u4jdQi33qXDY"
      },
      "source": [
        "## 4. Mục tiêu (Goal)"
      ]
    },
    {
      "cell_type": "markdown",
      "metadata": {
        "id": "OxaYr9geqaBQ"
      },
      "source": [
        "Mục tiêu chính của nghiên cứu là:\n",
        "\n",
        "- Xây dựng mô hình dự đoán nguy cơ mắc tiểu đường dựa trên 8 biến đầu vào.\n",
        "- So sánh hiệu năng các phương pháp:\n",
        "  *   ADAP algorithm (một dạng neural network cũ, do tác giả phát triển).\n",
        "  *   Logistic Regression.\n",
        "  *   Linear Perceptron.\n",
        "###\n",
        "**Chỉ số đánh giá mô hình**\n",
        "1.   Sensitivity (Độ nhạy, True Positive Rate)\n",
        "      *   Xác suất phát hiện đúng người sẽ mắc tiểu đường.\n",
        "      *   Công thức: TP / (TP + FN).\n",
        "2.   Specificity (Độ đặc hiệu, True Negative Rate)\n",
        "      *   Xác suất phát hiện đúng người không mắc tiểu đường.\n",
        "      *   Công thức: TN / (TN + FP).\n",
        "3.   ROC Curve (Receiver Operating Characteristic curve)\n",
        "      *   Đường cong biểu diễn quan hệ giữa Sensitivity và 1 – Specificity.\n",
        "      *   Diện tích dưới đường cong (AUC) càng lớn → mô hình càng tốt.\n",
        "\n",
        "\n",
        "\n",
        "\n",
        "\n",
        "\n",
        "\n",
        "\n",
        "\n",
        "\n",
        "\n",
        "\n",
        "\n",
        "\n",
        "\n",
        "\n",
        "\n"
      ]
    },
    {
      "cell_type": "markdown",
      "metadata": {
        "id": "B0PjJRYVsU5T"
      },
      "source": [
        "## 5. Kết quả chính của paper"
      ]
    },
    {
      "cell_type": "markdown",
      "metadata": {
        "id": "JzU9bZPBshFE"
      },
      "source": [
        "- ADAP đạt 76% sensitivity và 76% specificity trên tập kiểm tra (192 ca bệnh).\n",
        "\n",
        "- Kết quả này cho thấy mô hình có tiềm năng nhưng chưa vượt trội, nên tác giả tiếp tục so sánh với Logistic Regression và Linear Perceptron."
      ]
    }
  ],
  "metadata": {
    "colab": {
      "provenance": [],
      "toc_visible": true
    },
    "kernelspec": {
      "display_name": "Python 3",
      "name": "python3"
    },
    "language_info": {
      "name": "python"
    }
  },
  "nbformat": 4,
  "nbformat_minor": 0
}

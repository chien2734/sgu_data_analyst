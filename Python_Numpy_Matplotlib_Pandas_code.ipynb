{
  "nbformat": 4,
  "nbformat_minor": 0,
  "metadata": {
    "colab": {
      "provenance": [],
      "toc_visible": true,
      "authorship_tag": "ABX9TyPciuibzbfztEVKxPKsijdq",
      "include_colab_link": true
    },
    "kernelspec": {
      "name": "python3",
      "display_name": "Python 3"
    },
    "language_info": {
      "name": "python"
    }
  },
  "cells": [
    {
      "cell_type": "markdown",
      "metadata": {
        "id": "view-in-github",
        "colab_type": "text"
      },
      "source": [
        "<a href=\"https://colab.research.google.com/github/chien2734/sgu_data_analyst/blob/main/Python_Numpy_Matplotlib_Pandas_code.ipynb\" target=\"_parent\"><img src=\"https://colab.research.google.com/assets/colab-badge.svg\" alt=\"Open In Colab\"/></a>"
      ]
    },
    {
      "cell_type": "markdown",
      "source": [
        "# **Bài làm**"
      ],
      "metadata": {
        "id": "ObIgxD1MzGWe"
      }
    },
    {
      "cell_type": "markdown",
      "source": [
        "# **Biến, Kiểu dữ liệu, Khối lệnh**"
      ],
      "metadata": {
        "id": "nXA_MIxc2x7Q"
      }
    },
    {
      "cell_type": "markdown",
      "source": [
        "## Biến"
      ],
      "metadata": {
        "id": "oDQ4AaK23Kqe"
      }
    },
    {
      "cell_type": "code",
      "execution_count": 6,
      "metadata": {
        "colab": {
          "base_uri": "https://localhost:8080/"
        },
        "id": "OlGClf2szCBf",
        "outputId": "c95d420f-3b12-4425-e770-0f1b8466a30c"
      },
      "outputs": [
        {
          "output_type": "stream",
          "name": "stdout",
          "text": [
            "<class 'int'>\n",
            "<class 'float'>\n",
            "234\n"
          ]
        },
        {
          "output_type": "execute_result",
          "data": {
            "text/plain": [
              "(136583115654928, 11649544)"
            ]
          },
          "metadata": {},
          "execution_count": 6
        }
      ],
      "source": [
        "#Biến trong python:\n",
        "#- Có tên, phân biệt chữ hoa/thường\n",
        "#- Không cần khai báo trước\n",
        "#- Không cần chỉ ra kiểu dữ liệu\n",
        "#- Có thể thay đổi sang kiểu dữ liệu khác\n",
        "#- Nên gán giá trị ngay khi bắt đầu xuất hiện\n",
        "n = 12 # biến n là kiểu nguyên\n",
        "print(type(n))\n",
        "n = n + 0.1 # biến n chuyển sang kiểu thực\n",
        "print(type(n))\n",
        "\n",
        "#Tên biến có thể chứa chữ cái hoặc chữ số hoặc gạch dưới (_),kí tự bắt đầu không được dùng chữ số\n",
        "ten_3 = 234\n",
        "print(ten_3)\n",
        "#7_ten = 4   #không hợp lệ\n",
        "\n",
        "#Tất cả mọi biến trong python đều là các đối tượng, vì thế nó có kiểu và vị trí trong bộ nhớ (id)\n",
        "id(n), id(ten_3)"
      ]
    },
    {
      "cell_type": "markdown",
      "source": [
        "## Dữ liệu kiểu chuỗi"
      ],
      "metadata": {
        "id": "op9AKZSi4cV6"
      }
    },
    {
      "cell_type": "code",
      "source": [
        "#Khai báo dữ liệu kiểu chuỗi có thể nằm bên trong cặp nháy đơn ('), hoặc nháy kép (\") hoặc 3 dấu nháy kép liên tiếp (\"\"\")\n",
        "name = 'matt'\n",
        "# chuỗi trong nó có chứa dấu nháy đơn\n",
        "with_quote = \"I ain't gonna\"\n",
        "# chuỗi có nôi dung nằm trên 2 dòng\n",
        "longer = \"\"\"This string has multiple lines in it\"\"\"\n",
        "print(name)\n",
        "print(with_quote)\n",
        "print(longer)"
      ],
      "metadata": {
        "colab": {
          "base_uri": "https://localhost:8080/"
        },
        "id": "_lWdmJ6A4irA",
        "outputId": "763d17a7-7d92-4ef1-ee7f-c0661ba45cc9"
      },
      "execution_count": 7,
      "outputs": [
        {
          "output_type": "stream",
          "name": "stdout",
          "text": [
            "matt\n",
            "I ain't gonna\n",
            "This string has multiple lines in it\n"
          ]
        }
      ]
    },
    {
      "cell_type": "markdown",
      "source": [
        "## Escape sequence"
      ],
      "metadata": {
        "id": "cRRxOmWP4xmw"
      }
    },
    {
      "cell_type": "markdown",
      "source": [
        "\n",
        "\n",
        "*   Escape sequence là một phương pháp để viết các kí tự đặc biệt\n",
        "trong python\n",
        "*   Tương tự như các ngôn ngữ lập trình khác\n",
        "\n",
        "\n"
      ],
      "metadata": {
        "id": "F4gqyJA25zPs"
      }
    },
    {
      "cell_type": "code",
      "source": [
        "import pandas as pd\n",
        "\n",
        "# Tạo dữ liệu cho bảng\n",
        "data = {\n",
        "    \"Tên\": [\"Alert\", \"Backspace\", \"Newline\", \"Horizontal tab\", \"Single quote\", \"Double quote\", \"Backslash\"],\n",
        "    \"Kí hiệu\": [\"\\\\a\", \"\\\\b\", \"\\\\n\", \"\\\\t\", \"\\\\'\", \"\\\\\\\"\", \"\\\\\\\\\"],\n",
        "    \"Giải thích\": [\n",
        "        \"Phát ra một tiếng bíp\",\n",
        "        \"Đưa con trỏ về lại một khoảng trắng\",\n",
        "        \"Đưa con trỏ xuống dòng tiếp theo\",\n",
        "        \"In một horizontal tab\",\n",
        "        \"In ra kí tự '\",\n",
        "        \"In ra kí tự \\\"\",\n",
        "        \"In ra kí tự \\\\\"\n",
        "    ]\n",
        "}\n",
        "\n",
        "df = pd.DataFrame(data)\n",
        "df\n"
      ],
      "metadata": {
        "colab": {
          "base_uri": "https://localhost:8080/",
          "height": 269
        },
        "id": "SxYp68m_6b5V",
        "outputId": "0808e31c-cd02-43b1-cd11-2bc6275505fb"
      },
      "execution_count": 9,
      "outputs": [
        {
          "output_type": "execute_result",
          "data": {
            "text/plain": [
              "              Tên Kí hiệu                           Giải thích\n",
              "0           Alert      \\a                Phát ra một tiếng bíp\n",
              "1       Backspace      \\b  Đưa con trỏ về lại một khoảng trắng\n",
              "2         Newline      \\n     Đưa con trỏ xuống dòng tiếp theo\n",
              "3  Horizontal tab      \\t                In một horizontal tab\n",
              "4    Single quote      \\'                        In ra kí tự '\n",
              "5    Double quote      \\\"                        In ra kí tự \"\n",
              "6       Backslash      \\\\                        In ra kí tự \\"
            ],
            "text/html": [
              "\n",
              "  <div id=\"df-12dacac3-00cc-46d0-920f-f1f41b03a76e\" class=\"colab-df-container\">\n",
              "    <div>\n",
              "<style scoped>\n",
              "    .dataframe tbody tr th:only-of-type {\n",
              "        vertical-align: middle;\n",
              "    }\n",
              "\n",
              "    .dataframe tbody tr th {\n",
              "        vertical-align: top;\n",
              "    }\n",
              "\n",
              "    .dataframe thead th {\n",
              "        text-align: right;\n",
              "    }\n",
              "</style>\n",
              "<table border=\"1\" class=\"dataframe\">\n",
              "  <thead>\n",
              "    <tr style=\"text-align: right;\">\n",
              "      <th></th>\n",
              "      <th>Tên</th>\n",
              "      <th>Kí hiệu</th>\n",
              "      <th>Giải thích</th>\n",
              "    </tr>\n",
              "  </thead>\n",
              "  <tbody>\n",
              "    <tr>\n",
              "      <th>0</th>\n",
              "      <td>Alert</td>\n",
              "      <td>\\a</td>\n",
              "      <td>Phát ra một tiếng bíp</td>\n",
              "    </tr>\n",
              "    <tr>\n",
              "      <th>1</th>\n",
              "      <td>Backspace</td>\n",
              "      <td>\\b</td>\n",
              "      <td>Đưa con trỏ về lại một khoảng trắng</td>\n",
              "    </tr>\n",
              "    <tr>\n",
              "      <th>2</th>\n",
              "      <td>Newline</td>\n",
              "      <td>\\n</td>\n",
              "      <td>Đưa con trỏ xuống dòng tiếp theo</td>\n",
              "    </tr>\n",
              "    <tr>\n",
              "      <th>3</th>\n",
              "      <td>Horizontal tab</td>\n",
              "      <td>\\t</td>\n",
              "      <td>In một horizontal tab</td>\n",
              "    </tr>\n",
              "    <tr>\n",
              "      <th>4</th>\n",
              "      <td>Single quote</td>\n",
              "      <td>\\'</td>\n",
              "      <td>In ra kí tự '</td>\n",
              "    </tr>\n",
              "    <tr>\n",
              "      <th>5</th>\n",
              "      <td>Double quote</td>\n",
              "      <td>\\\"</td>\n",
              "      <td>In ra kí tự \"</td>\n",
              "    </tr>\n",
              "    <tr>\n",
              "      <th>6</th>\n",
              "      <td>Backslash</td>\n",
              "      <td>\\\\</td>\n",
              "      <td>In ra kí tự \\</td>\n",
              "    </tr>\n",
              "  </tbody>\n",
              "</table>\n",
              "</div>\n",
              "    <div class=\"colab-df-buttons\">\n",
              "\n",
              "  <div class=\"colab-df-container\">\n",
              "    <button class=\"colab-df-convert\" onclick=\"convertToInteractive('df-12dacac3-00cc-46d0-920f-f1f41b03a76e')\"\n",
              "            title=\"Convert this dataframe to an interactive table.\"\n",
              "            style=\"display:none;\">\n",
              "\n",
              "  <svg xmlns=\"http://www.w3.org/2000/svg\" height=\"24px\" viewBox=\"0 -960 960 960\">\n",
              "    <path d=\"M120-120v-720h720v720H120Zm60-500h600v-160H180v160Zm220 220h160v-160H400v160Zm0 220h160v-160H400v160ZM180-400h160v-160H180v160Zm440 0h160v-160H620v160ZM180-180h160v-160H180v160Zm440 0h160v-160H620v160Z\"/>\n",
              "  </svg>\n",
              "    </button>\n",
              "\n",
              "  <style>\n",
              "    .colab-df-container {\n",
              "      display:flex;\n",
              "      gap: 12px;\n",
              "    }\n",
              "\n",
              "    .colab-df-convert {\n",
              "      background-color: #E8F0FE;\n",
              "      border: none;\n",
              "      border-radius: 50%;\n",
              "      cursor: pointer;\n",
              "      display: none;\n",
              "      fill: #1967D2;\n",
              "      height: 32px;\n",
              "      padding: 0 0 0 0;\n",
              "      width: 32px;\n",
              "    }\n",
              "\n",
              "    .colab-df-convert:hover {\n",
              "      background-color: #E2EBFA;\n",
              "      box-shadow: 0px 1px 2px rgba(60, 64, 67, 0.3), 0px 1px 3px 1px rgba(60, 64, 67, 0.15);\n",
              "      fill: #174EA6;\n",
              "    }\n",
              "\n",
              "    .colab-df-buttons div {\n",
              "      margin-bottom: 4px;\n",
              "    }\n",
              "\n",
              "    [theme=dark] .colab-df-convert {\n",
              "      background-color: #3B4455;\n",
              "      fill: #D2E3FC;\n",
              "    }\n",
              "\n",
              "    [theme=dark] .colab-df-convert:hover {\n",
              "      background-color: #434B5C;\n",
              "      box-shadow: 0px 1px 3px 1px rgba(0, 0, 0, 0.15);\n",
              "      filter: drop-shadow(0px 1px 2px rgba(0, 0, 0, 0.3));\n",
              "      fill: #FFFFFF;\n",
              "    }\n",
              "  </style>\n",
              "\n",
              "    <script>\n",
              "      const buttonEl =\n",
              "        document.querySelector('#df-12dacac3-00cc-46d0-920f-f1f41b03a76e button.colab-df-convert');\n",
              "      buttonEl.style.display =\n",
              "        google.colab.kernel.accessAllowed ? 'block' : 'none';\n",
              "\n",
              "      async function convertToInteractive(key) {\n",
              "        const element = document.querySelector('#df-12dacac3-00cc-46d0-920f-f1f41b03a76e');\n",
              "        const dataTable =\n",
              "          await google.colab.kernel.invokeFunction('convertToInteractive',\n",
              "                                                    [key], {});\n",
              "        if (!dataTable) return;\n",
              "\n",
              "        const docLinkHtml = 'Like what you see? Visit the ' +\n",
              "          '<a target=\"_blank\" href=https://colab.research.google.com/notebooks/data_table.ipynb>data table notebook</a>'\n",
              "          + ' to learn more about interactive tables.';\n",
              "        element.innerHTML = '';\n",
              "        dataTable['output_type'] = 'display_data';\n",
              "        await google.colab.output.renderOutput(dataTable, element);\n",
              "        const docLink = document.createElement('div');\n",
              "        docLink.innerHTML = docLinkHtml;\n",
              "        element.appendChild(docLink);\n",
              "      }\n",
              "    </script>\n",
              "  </div>\n",
              "\n",
              "\n",
              "    <div id=\"df-22ffd3ad-d5b1-4408-bd61-baae0d3c3e87\">\n",
              "      <button class=\"colab-df-quickchart\" onclick=\"quickchart('df-22ffd3ad-d5b1-4408-bd61-baae0d3c3e87')\"\n",
              "                title=\"Suggest charts\"\n",
              "                style=\"display:none;\">\n",
              "\n",
              "<svg xmlns=\"http://www.w3.org/2000/svg\" height=\"24px\"viewBox=\"0 0 24 24\"\n",
              "     width=\"24px\">\n",
              "    <g>\n",
              "        <path d=\"M19 3H5c-1.1 0-2 .9-2 2v14c0 1.1.9 2 2 2h14c1.1 0 2-.9 2-2V5c0-1.1-.9-2-2-2zM9 17H7v-7h2v7zm4 0h-2V7h2v10zm4 0h-2v-4h2v4z\"/>\n",
              "    </g>\n",
              "</svg>\n",
              "      </button>\n",
              "\n",
              "<style>\n",
              "  .colab-df-quickchart {\n",
              "      --bg-color: #E8F0FE;\n",
              "      --fill-color: #1967D2;\n",
              "      --hover-bg-color: #E2EBFA;\n",
              "      --hover-fill-color: #174EA6;\n",
              "      --disabled-fill-color: #AAA;\n",
              "      --disabled-bg-color: #DDD;\n",
              "  }\n",
              "\n",
              "  [theme=dark] .colab-df-quickchart {\n",
              "      --bg-color: #3B4455;\n",
              "      --fill-color: #D2E3FC;\n",
              "      --hover-bg-color: #434B5C;\n",
              "      --hover-fill-color: #FFFFFF;\n",
              "      --disabled-bg-color: #3B4455;\n",
              "      --disabled-fill-color: #666;\n",
              "  }\n",
              "\n",
              "  .colab-df-quickchart {\n",
              "    background-color: var(--bg-color);\n",
              "    border: none;\n",
              "    border-radius: 50%;\n",
              "    cursor: pointer;\n",
              "    display: none;\n",
              "    fill: var(--fill-color);\n",
              "    height: 32px;\n",
              "    padding: 0;\n",
              "    width: 32px;\n",
              "  }\n",
              "\n",
              "  .colab-df-quickchart:hover {\n",
              "    background-color: var(--hover-bg-color);\n",
              "    box-shadow: 0 1px 2px rgba(60, 64, 67, 0.3), 0 1px 3px 1px rgba(60, 64, 67, 0.15);\n",
              "    fill: var(--button-hover-fill-color);\n",
              "  }\n",
              "\n",
              "  .colab-df-quickchart-complete:disabled,\n",
              "  .colab-df-quickchart-complete:disabled:hover {\n",
              "    background-color: var(--disabled-bg-color);\n",
              "    fill: var(--disabled-fill-color);\n",
              "    box-shadow: none;\n",
              "  }\n",
              "\n",
              "  .colab-df-spinner {\n",
              "    border: 2px solid var(--fill-color);\n",
              "    border-color: transparent;\n",
              "    border-bottom-color: var(--fill-color);\n",
              "    animation:\n",
              "      spin 1s steps(1) infinite;\n",
              "  }\n",
              "\n",
              "  @keyframes spin {\n",
              "    0% {\n",
              "      border-color: transparent;\n",
              "      border-bottom-color: var(--fill-color);\n",
              "      border-left-color: var(--fill-color);\n",
              "    }\n",
              "    20% {\n",
              "      border-color: transparent;\n",
              "      border-left-color: var(--fill-color);\n",
              "      border-top-color: var(--fill-color);\n",
              "    }\n",
              "    30% {\n",
              "      border-color: transparent;\n",
              "      border-left-color: var(--fill-color);\n",
              "      border-top-color: var(--fill-color);\n",
              "      border-right-color: var(--fill-color);\n",
              "    }\n",
              "    40% {\n",
              "      border-color: transparent;\n",
              "      border-right-color: var(--fill-color);\n",
              "      border-top-color: var(--fill-color);\n",
              "    }\n",
              "    60% {\n",
              "      border-color: transparent;\n",
              "      border-right-color: var(--fill-color);\n",
              "    }\n",
              "    80% {\n",
              "      border-color: transparent;\n",
              "      border-right-color: var(--fill-color);\n",
              "      border-bottom-color: var(--fill-color);\n",
              "    }\n",
              "    90% {\n",
              "      border-color: transparent;\n",
              "      border-bottom-color: var(--fill-color);\n",
              "    }\n",
              "  }\n",
              "</style>\n",
              "\n",
              "      <script>\n",
              "        async function quickchart(key) {\n",
              "          const quickchartButtonEl =\n",
              "            document.querySelector('#' + key + ' button');\n",
              "          quickchartButtonEl.disabled = true;  // To prevent multiple clicks.\n",
              "          quickchartButtonEl.classList.add('colab-df-spinner');\n",
              "          try {\n",
              "            const charts = await google.colab.kernel.invokeFunction(\n",
              "                'suggestCharts', [key], {});\n",
              "          } catch (error) {\n",
              "            console.error('Error during call to suggestCharts:', error);\n",
              "          }\n",
              "          quickchartButtonEl.classList.remove('colab-df-spinner');\n",
              "          quickchartButtonEl.classList.add('colab-df-quickchart-complete');\n",
              "        }\n",
              "        (() => {\n",
              "          let quickchartButtonEl =\n",
              "            document.querySelector('#df-22ffd3ad-d5b1-4408-bd61-baae0d3c3e87 button');\n",
              "          quickchartButtonEl.style.display =\n",
              "            google.colab.kernel.accessAllowed ? 'block' : 'none';\n",
              "        })();\n",
              "      </script>\n",
              "    </div>\n",
              "\n",
              "  <div id=\"id_0b6afa48-dd06-4fc6-9d3e-97535b60cb55\">\n",
              "    <style>\n",
              "      .colab-df-generate {\n",
              "        background-color: #E8F0FE;\n",
              "        border: none;\n",
              "        border-radius: 50%;\n",
              "        cursor: pointer;\n",
              "        display: none;\n",
              "        fill: #1967D2;\n",
              "        height: 32px;\n",
              "        padding: 0 0 0 0;\n",
              "        width: 32px;\n",
              "      }\n",
              "\n",
              "      .colab-df-generate:hover {\n",
              "        background-color: #E2EBFA;\n",
              "        box-shadow: 0px 1px 2px rgba(60, 64, 67, 0.3), 0px 1px 3px 1px rgba(60, 64, 67, 0.15);\n",
              "        fill: #174EA6;\n",
              "      }\n",
              "\n",
              "      [theme=dark] .colab-df-generate {\n",
              "        background-color: #3B4455;\n",
              "        fill: #D2E3FC;\n",
              "      }\n",
              "\n",
              "      [theme=dark] .colab-df-generate:hover {\n",
              "        background-color: #434B5C;\n",
              "        box-shadow: 0px 1px 3px 1px rgba(0, 0, 0, 0.15);\n",
              "        filter: drop-shadow(0px 1px 2px rgba(0, 0, 0, 0.3));\n",
              "        fill: #FFFFFF;\n",
              "      }\n",
              "    </style>\n",
              "    <button class=\"colab-df-generate\" onclick=\"generateWithVariable('df')\"\n",
              "            title=\"Generate code using this dataframe.\"\n",
              "            style=\"display:none;\">\n",
              "\n",
              "  <svg xmlns=\"http://www.w3.org/2000/svg\" height=\"24px\"viewBox=\"0 0 24 24\"\n",
              "       width=\"24px\">\n",
              "    <path d=\"M7,19H8.4L18.45,9,17,7.55,7,17.6ZM5,21V16.75L18.45,3.32a2,2,0,0,1,2.83,0l1.4,1.43a1.91,1.91,0,0,1,.58,1.4,1.91,1.91,0,0,1-.58,1.4L9.25,21ZM18.45,9,17,7.55Zm-12,3A5.31,5.31,0,0,0,4.9,8.1,5.31,5.31,0,0,0,1,6.5,5.31,5.31,0,0,0,4.9,4.9,5.31,5.31,0,0,0,6.5,1,5.31,5.31,0,0,0,8.1,4.9,5.31,5.31,0,0,0,12,6.5,5.46,5.46,0,0,0,6.5,12Z\"/>\n",
              "  </svg>\n",
              "    </button>\n",
              "    <script>\n",
              "      (() => {\n",
              "      const buttonEl =\n",
              "        document.querySelector('#id_0b6afa48-dd06-4fc6-9d3e-97535b60cb55 button.colab-df-generate');\n",
              "      buttonEl.style.display =\n",
              "        google.colab.kernel.accessAllowed ? 'block' : 'none';\n",
              "\n",
              "      buttonEl.onclick = () => {\n",
              "        google.colab.notebook.generateWithVariable('df');\n",
              "      }\n",
              "      })();\n",
              "    </script>\n",
              "  </div>\n",
              "\n",
              "    </div>\n",
              "  </div>\n"
            ],
            "application/vnd.google.colaboratory.intrinsic+json": {
              "type": "dataframe",
              "variable_name": "df",
              "summary": "{\n  \"name\": \"df\",\n  \"rows\": 7,\n  \"fields\": [\n    {\n      \"column\": \"T\\u00ean\",\n      \"properties\": {\n        \"dtype\": \"string\",\n        \"num_unique_values\": 7,\n        \"samples\": [\n          \"Alert\",\n          \"Backspace\",\n          \"Double quote\"\n        ],\n        \"semantic_type\": \"\",\n        \"description\": \"\"\n      }\n    },\n    {\n      \"column\": \"K\\u00ed hi\\u1ec7u\",\n      \"properties\": {\n        \"dtype\": \"string\",\n        \"num_unique_values\": 7,\n        \"samples\": [\n          \"\\\\a\",\n          \"\\\\b\",\n          \"\\\\\\\"\"\n        ],\n        \"semantic_type\": \"\",\n        \"description\": \"\"\n      }\n    },\n    {\n      \"column\": \"Gi\\u1ea3i th\\u00edch\",\n      \"properties\": {\n        \"dtype\": \"string\",\n        \"num_unique_values\": 7,\n        \"samples\": [\n          \"Ph\\u00e1t ra m\\u1ed9t ti\\u1ebfng b\\u00edp\",\n          \"\\u0110\\u01b0a con tr\\u1ecf v\\u1ec1 l\\u1ea1i m\\u1ed9t kho\\u1ea3ng tr\\u1eafng\",\n          \"In ra k\\u00ed t\\u1ef1 \\\"\"\n        ],\n        \"semantic_type\": \"\",\n        \"description\": \"\"\n      }\n    }\n  ]\n}"
            }
          },
          "metadata": {},
          "execution_count": 9
        }
      ]
    },
    {
      "cell_type": "markdown",
      "source": [
        "## Chuỗi trần"
      ],
      "metadata": {
        "id": "1a-v2lHC6zvs"
      }
    },
    {
      "cell_type": "code",
      "source": [
        "#Cú pháp: r’ nội dung chuỗi’\n",
        "a = r'\\n Neu moi ngay' # chuoi tran, bo quan Escape Sequence \\n\n",
        "print(a)"
      ],
      "metadata": {
        "colab": {
          "base_uri": "https://localhost:8080/"
        },
        "id": "2CXkNUw567Dl",
        "outputId": "74f6950f-c43f-49b9-d537-262d4b858a77"
      },
      "execution_count": 10,
      "outputs": [
        {
          "output_type": "stream",
          "name": "stdout",
          "text": [
            "\\n Neu moi ngay\n"
          ]
        }
      ]
    },
    {
      "cell_type": "markdown",
      "source": [
        "## Chú thích (comment)"
      ],
      "metadata": {
        "id": "W2YwFZz77ZH8"
      }
    },
    {
      "cell_type": "code",
      "source": [
        "# Python sử dụng kí tự # để chú thích các đoạn code\n",
        "# Tất cả các nội dung sau kí tự '#' sẽ không được dịch\n",
        "\n",
        "print(\" I'm a student\") # day la lenh in ra man hinh"
      ],
      "metadata": {
        "colab": {
          "base_uri": "https://localhost:8080/"
        },
        "id": "Jun1adB17cDt",
        "outputId": "fa0e3da4-2b7f-4e96-ed7b-2f975b318b3f"
      },
      "execution_count": 11,
      "outputs": [
        {
          "output_type": "stream",
          "name": "stdout",
          "text": [
            " I'm a student\n"
          ]
        }
      ]
    },
    {
      "cell_type": "markdown",
      "source": [
        "# **Nhập và Xuất dữ liệu**"
      ],
      "metadata": {
        "id": "xoibUb6I7ufM"
      }
    },
    {
      "cell_type": "markdown",
      "source": [
        "## Xuất dữ liệu"
      ],
      "metadata": {
        "id": "DrbpuVg07z_s"
      }
    },
    {
      "cell_type": "code",
      "source": [
        "#Sử dụng hàm print để in dữ liệu ra màn hình\n",
        "a=10220\n",
        "print(42)\n",
        "print(\"a = \", a)\n",
        "print(\"a = \\n\", a)\n",
        "print(\"a\",\"b\")\n",
        "print(\"a\",\"b\",sep=\"\")\n",
        "print(192,168,178,42,sep=\".\")\n",
        "print(\"a\",\"b\",sep=\":-)\")\n"
      ],
      "metadata": {
        "colab": {
          "base_uri": "https://localhost:8080/"
        },
        "id": "1tg5yv2j728N",
        "outputId": "58c2f54e-a647-477d-9441-be2b42430685"
      },
      "execution_count": 13,
      "outputs": [
        {
          "output_type": "stream",
          "name": "stdout",
          "text": [
            "42\n",
            "a =  10220\n",
            "a = \n",
            " 10220\n",
            "a b\n",
            "ab\n",
            "192.168.178.42\n",
            "a:-)b\n"
          ]
        }
      ]
    },
    {
      "cell_type": "markdown",
      "source": [
        "## Nhập dữ liệu"
      ],
      "metadata": {
        "id": "kUB5ejjZ8S7k"
      }
    },
    {
      "cell_type": "code",
      "source": [
        "#Sử dụng hàm input để nhập dữ liệu từ bàn phím\n",
        "name = input(\"What's your name? \")\n",
        "print(\"Nice to meet you \" + name + \"!\")\n",
        "age = input(\"Your age? \")\n",
        "print(\"You are already \" + age + \" years old, \" + name\n",
        "+ \"!\")\n",
        "# Có thể kết hợp chuyển kiểu nếu muốn tường minh\n",
        "age = int(input(\"Your age? \"))\n",
        "print(\"You are already %d years old!\", age)"
      ],
      "metadata": {
        "colab": {
          "base_uri": "https://localhost:8080/"
        },
        "id": "dpxb4d948VyV",
        "outputId": "12dc0c3c-29d4-45c0-8777-ba9ed369f11d"
      },
      "execution_count": 14,
      "outputs": [
        {
          "output_type": "stream",
          "name": "stdout",
          "text": [
            "What's your name? Chien\n",
            "Nice to meet you Chien!\n",
            "Your age? 21\n",
            "You are already 21 years old, Chien!\n",
            "Your age? 21\n",
            "You are already %d years old! 21\n"
          ]
        }
      ]
    },
    {
      "cell_type": "markdown",
      "source": [
        "## Ví dụ minh họa: Giải phương trình bậc 2"
      ],
      "metadata": {
        "id": "anRGPZyL8qnV"
      }
    },
    {
      "cell_type": "code",
      "source": [
        "a = float(input(\"A = \"))\n",
        "b = float(input(\"B = \"))\n",
        "c = float(input(\"C = \"))\n",
        "delta = b*b-4*a*c\n",
        "\n",
        "if delta==0:\n",
        "  print(\"Nghiem kep: x = \", str(-b/2/a))\n",
        "\n",
        "if delta<0:\n",
        "  print(\"Phuong trinh vo nghiem\")\n",
        "\n",
        "if delta>0:\n",
        "  print(\"X1 = \" + str((-b+delta**0.5)/2/a))\n",
        "  print(\"X2 = \" + str((-b-delta**0.5)/2/a))"
      ],
      "metadata": {
        "colab": {
          "base_uri": "https://localhost:8080/"
        },
        "id": "p92psNt_8w18",
        "outputId": "f37056a9-57fb-41ef-9d38-8b5c8221b308"
      },
      "execution_count": 15,
      "outputs": [
        {
          "output_type": "stream",
          "name": "stdout",
          "text": [
            "A = 12\n",
            "B = -4\n",
            "C = 2\n",
            "Phuong trinh vo nghiem\n"
          ]
        }
      ]
    },
    {
      "cell_type": "markdown",
      "source": [
        "# **Kiểu dữ liệu & phép toán**"
      ],
      "metadata": {
        "id": "dqVTzn-W86Zd"
      }
    },
    {
      "cell_type": "markdown",
      "source": [
        "## Kiểu dữ liệu & phép toán liên quan"
      ],
      "metadata": {
        "id": "blRDNNmN9Dm8"
      }
    },
    {
      "cell_type": "markdown",
      "source": [
        "### Kiểu số"
      ],
      "metadata": {
        "id": "bRFHwFqw9KYM"
      }
    },
    {
      "cell_type": "code",
      "source": [
        "#Python viết số nguyên theo nhiều hệ cơ số\n",
        "A = 1234 # hệ cơ số 10\n",
        "B = 0xAF1 # hệ cơ số 16\n",
        "C = 0o772 # hệ cơ số 8\n",
        "D = 0b1001 # hệ cơ số 2"
      ],
      "metadata": {
        "colab": {
          "base_uri": "https://localhost:8080/"
        },
        "id": "NlV31OyC9H9t",
        "outputId": "3838d1d5-d6f9-4346-f4eb-b3eb5e63f384"
      },
      "execution_count": 19,
      "outputs": [
        {
          "output_type": "stream",
          "name": "stdout",
          "text": [
            "<class 'int'>\n",
            "<class 'int'>\n"
          ]
        }
      ]
    },
    {
      "cell_type": "code",
      "source": [
        "#Chuyển đổi từ số nguyên thành string ở các hệ cơ số khác nhau\n",
        "K = str(1234) # chuyển thành str ở hệ cơ số 10\n",
        "L = hex(1234) # chuyển thành str ở hệ cơ số 16\n",
        "M = oct(1234) # chuyển thành str ở hệ cơ số 8\n",
        "N = bin(1234) # chuyển thành str ở hệ cơ số 2"
      ],
      "metadata": {
        "id": "2ZnJ-l6B9dE9"
      },
      "execution_count": 16,
      "outputs": []
    },
    {
      "cell_type": "code",
      "source": [
        "#Số thực (float) trong python có thể viết kiểu thông thường hoặc dạng khoa học\n",
        "X = 12.34\n",
        "Y = 314.15279e-2 # dạng số nguyên và phần mũ 10\n",
        "#Python hỗ trợ kiểu số phức, với chữ j đại diện cho phần ảo\n",
        "A = 3+4j\n",
        "B = 2-2j\n",
        "print(A+B) # sẽ in ra (5+2j)"
      ],
      "metadata": {
        "colab": {
          "base_uri": "https://localhost:8080/"
        },
        "id": "0Iyd1vnG9wOt",
        "outputId": "2330a6d1-9111-4bd1-f6bc-0cc484f2bdcb"
      },
      "execution_count": 20,
      "outputs": [
        {
          "output_type": "stream",
          "name": "stdout",
          "text": [
            "(5+2j)\n"
          ]
        }
      ]
    },
    {
      "cell_type": "markdown",
      "source": [
        "### Phép toán"
      ],
      "metadata": {
        "id": "LlzeLG0a-IMs"
      }
    },
    {
      "cell_type": "code",
      "source": [
        "#Các phép toán số thông thường:\n",
        "print(2+3, 2-3, 2*3, 2/3, 2//3, 2%3, 2**3)\n",
        "#Các phép so sánh:\n",
        "print(2==3, 2!=3, 2>3, 2<3, 2>=3, 2<=3)\n",
        "#Các phép logic:\n",
        "print(True and False, True or False, not True)\n",
        "#Các phép toán bit:\n",
        "print(2&3, 2|3, 2^3, ~2, 2<<3, 2>>3)\n",
        "#Phép kiểm tra tập\n",
        "print(2 in [1,2,3], 2 not in [1,2,3])"
      ],
      "metadata": {
        "colab": {
          "base_uri": "https://localhost:8080/"
        },
        "id": "alzMUv5k-MeF",
        "outputId": "418716c2-ef3b-44f0-e1b0-9eb4e4b27b16"
      },
      "execution_count": 24,
      "outputs": [
        {
          "output_type": "stream",
          "name": "stdout",
          "text": [
            "5 -1 6 0.6666666666666666 0 2 8\n",
            "False True False True False True\n",
            "False True False\n",
            "2 3 1 -3 16 0\n",
            "True False\n"
          ]
        }
      ]
    },
    {
      "cell_type": "markdown",
      "source": [
        "## Cấu trúc rẽ nhánh"
      ],
      "metadata": {
        "id": "wwoQW1_s-5CM"
      }
    },
    {
      "cell_type": "markdown",
      "source": [
        "### Cấu trúc rẽ nhánh if-else"
      ],
      "metadata": {
        "id": "tOZCyig9-8f8"
      }
    },
    {
      "cell_type": "code",
      "source": [
        "#if...else\n",
        "if 2>3:\n",
        "  print(\"2>3\")\n",
        "else:\n",
        "  print(\"2<=3\")\n",
        "\n",
        "#if...elif...else\n",
        "if 2>3:\n",
        "  print(\"2>3\")\n",
        "elif 2<3:\n",
        "  print(\"2<3\")\n",
        "else:\n",
        "  print(\"2=3\")\n"
      ],
      "metadata": {
        "colab": {
          "base_uri": "https://localhost:8080/"
        },
        "id": "ITO3Os-S-_PM",
        "outputId": "b421020f-aa8c-44ab-9c2e-bd6b39650752"
      },
      "execution_count": 26,
      "outputs": [
        {
          "output_type": "stream",
          "name": "stdout",
          "text": [
            "2<=3\n",
            "2<3\n"
          ]
        }
      ]
    },
    {
      "cell_type": "code",
      "source": [
        "#Chú ý: python nhạy cảm với việc viết khối mã\n",
        "name = input(\"What's your name? \")\n",
        "print(\"Nice to meet you \" + name + \"!\")\n",
        "age = int(input(\"Your age? \"))\n",
        "print(\"You are already\", age, \"years old,\",\n",
        "name, \"!\")\n",
        "if age>=18:\n",
        "  print(\"Đủ tuổi đi bầu cử\")\n",
        "  if age>100:\n",
        "    print(\"Có vẻ sai sai!\")\n",
        "else:\n",
        "  print(\"Nhỏ quá\")"
      ],
      "metadata": {
        "colab": {
          "base_uri": "https://localhost:8080/"
        },
        "id": "0XZY88bu_buU",
        "outputId": "c857c7e7-48e7-4731-ebcc-ff2e94f8f5fb"
      },
      "execution_count": 28,
      "outputs": [
        {
          "output_type": "stream",
          "name": "stdout",
          "text": [
            "What's your name? chien\n",
            "Nice to meet you chien!\n",
            "Your age? 101\n",
            "You are already 101 years old, chien !\n",
            "Đủ tuổi đi bầu cử\n",
            "Có vẻ sai sai!\n"
          ]
        }
      ]
    },
    {
      "cell_type": "markdown",
      "source": [
        "### “phép toán” if"
      ],
      "metadata": {
        "id": "AfvWOagC_wVk"
      }
    },
    {
      "cell_type": "code",
      "source": [
        "#Cú pháp: A if <điều-kiện> else B\n",
        "#Giải thích: phép toán trả về A nếu điều-kiện là đúng, ngược lại trả về B\n",
        "A,B=6,9\n",
        "X = A if A > B else B # X là max của A và B\n",
        "print(X)"
      ],
      "metadata": {
        "colab": {
          "base_uri": "https://localhost:8080/"
        },
        "id": "p2chz_Yl_4qU",
        "outputId": "0f657518-e6ce-40bf-e546-556cd5b7c1eb"
      },
      "execution_count": 29,
      "outputs": [
        {
          "output_type": "stream",
          "name": "stdout",
          "text": [
            "9\n"
          ]
        }
      ]
    },
    {
      "cell_type": "markdown",
      "source": [
        "## Vòng lặp"
      ],
      "metadata": {
        "id": "5lfSYODLAKDt"
      }
    },
    {
      "cell_type": "markdown",
      "source": [
        "### Vòng lặp while"
      ],
      "metadata": {
        "id": "oHetLVajAMkd"
      }
    },
    {
      "cell_type": "code",
      "source": [
        "i = 1\n",
        "while i <= 5:\n",
        "    print(i)\n",
        "    i += 1"
      ],
      "metadata": {
        "colab": {
          "base_uri": "https://localhost:8080/"
        },
        "id": "f3lL_SD0AstE",
        "outputId": "2df58fe3-7172-460a-f17a-fe5f12542e0d"
      },
      "execution_count": 30,
      "outputs": [
        {
          "output_type": "stream",
          "name": "stdout",
          "text": [
            "1\n",
            "2\n",
            "3\n",
            "4\n",
            "5\n"
          ]
        }
      ]
    },
    {
      "cell_type": "code",
      "source": [
        "i = 0\n",
        "while i < 10:\n",
        "    i += 1\n",
        "    if i % 2 == 0:\n",
        "        continue  # bỏ qua số chẵn\n",
        "    print(i)"
      ],
      "metadata": {
        "colab": {
          "base_uri": "https://localhost:8080/"
        },
        "id": "k1oQOHA0AzuE",
        "outputId": "cfc27a21-fc86-4000-edf4-94258e9832ef"
      },
      "execution_count": 31,
      "outputs": [
        {
          "output_type": "stream",
          "name": "stdout",
          "text": [
            "1\n",
            "3\n",
            "5\n",
            "7\n",
            "9\n"
          ]
        }
      ]
    },
    {
      "cell_type": "code",
      "source": [
        "i = 1\n",
        "while True:  # vòng lặp vô hạn\n",
        "    print(i)\n",
        "    if i == 5:\n",
        "        break  # thoát khi i = 5\n",
        "    i += 1"
      ],
      "metadata": {
        "colab": {
          "base_uri": "https://localhost:8080/"
        },
        "id": "vEkAR_TGA5Bk",
        "outputId": "c602c6e8-66a6-40bc-f24c-f58dd944d6e6"
      },
      "execution_count": 33,
      "outputs": [
        {
          "output_type": "stream",
          "name": "stdout",
          "text": [
            "1\n",
            "2\n",
            "3\n",
            "4\n",
            "5\n"
          ]
        }
      ]
    },
    {
      "cell_type": "code",
      "source": [
        "i = 1\n",
        "while i <= 3:\n",
        "    print(\"i =\", i)\n",
        "    i += 1\n",
        "else:\n",
        "    print(\"Vòng lặp kết thúc bình thường!\")"
      ],
      "metadata": {
        "colab": {
          "base_uri": "https://localhost:8080/"
        },
        "id": "spH8W7zuA8cT",
        "outputId": "d2d1a308-f8ce-40c5-ee2b-0fb8fbe88a6b"
      },
      "execution_count": 32,
      "outputs": [
        {
          "output_type": "stream",
          "name": "stdout",
          "text": [
            "i = 1\n",
            "i = 2\n",
            "i = 3\n",
            "Vòng lặp kết thúc bình thường!\n"
          ]
        }
      ]
    },
    {
      "cell_type": "markdown",
      "source": [
        "### Vòng lặp for"
      ],
      "metadata": {
        "id": "iVNa8TvhBAqO"
      }
    },
    {
      "cell_type": "code",
      "source": [
        "for d in range(10,20): # in các số từ 10 đến 19\n",
        "  print(d)\n",
        "for d in range(20,10,-1): # in các số từ 20 đến 11\n",
        "  print(d)"
      ],
      "metadata": {
        "colab": {
          "base_uri": "https://localhost:8080/"
        },
        "id": "UE2oc54wBF1N",
        "outputId": "8e4ab106-0f5b-4ebe-8c6a-80f5734e0a57"
      },
      "execution_count": 34,
      "outputs": [
        {
          "output_type": "stream",
          "name": "stdout",
          "text": [
            "10\n",
            "11\n",
            "12\n",
            "13\n",
            "14\n",
            "15\n",
            "16\n",
            "17\n",
            "18\n",
            "19\n",
            "20\n",
            "19\n",
            "18\n",
            "17\n",
            "16\n",
            "15\n",
            "14\n",
            "13\n",
            "12\n",
            "11\n"
          ]
        }
      ]
    },
    {
      "cell_type": "markdown",
      "source": [
        "## Hàm"
      ],
      "metadata": {
        "id": "-Cjx_Oi9BJXr"
      }
    },
    {
      "cell_type": "code",
      "source": [
        "#Ví dụ: hàm tính tích 2 số\n",
        "def tich(a, b):\n",
        "  return a*b\n",
        "tich(3, 6)"
      ],
      "metadata": {
        "colab": {
          "base_uri": "https://localhost:8080/"
        },
        "id": "TisOEjLNBNVk",
        "outputId": "01d6e822-18a3-444d-fd56-1866e372dd0f"
      },
      "execution_count": 36,
      "outputs": [
        {
          "output_type": "execute_result",
          "data": {
            "text/plain": [
              "18"
            ]
          },
          "metadata": {},
          "execution_count": 36
        }
      ]
    },
    {
      "cell_type": "code",
      "source": [
        "#Hàm có thể chỉ ra giá trị mặc định của tham số\n",
        "def tich(a, b = 1):\n",
        "  return a*b\n",
        "#Như vậy với hàm trên ta có thể gọi thực hiện nó:\n",
        "print(tich(10, 20)) # 200\n",
        "print(tich(10)) # 10\n",
        "print(tich(a=5)) # 5\n",
        "print(tich(b=6, a=5)) # 30"
      ],
      "metadata": {
        "colab": {
          "base_uri": "https://localhost:8080/"
        },
        "id": "T_OHApdOBkud",
        "outputId": "804d4094-992c-4588-e293-72cc68aa5340"
      },
      "execution_count": 37,
      "outputs": [
        {
          "output_type": "stream",
          "name": "stdout",
          "text": [
            "200\n",
            "10\n",
            "5\n",
            "30\n"
          ]
        }
      ]
    },
    {
      "cell_type": "markdown",
      "source": [
        "# **Chuỗi và danh sách**"
      ],
      "metadata": {
        "id": "3kVoAfX6Byg1"
      }
    },
    {
      "cell_type": "markdown",
      "source": [
        "## Kiểu dữ liệu tuần tự (sequential data type)"
      ],
      "metadata": {
        "id": "3jLu_ncSB1nt"
      }
    },
    {
      "cell_type": "code",
      "source": [
        "#Sequence types là các kiểu dữ liệu có thứ tự các phần tử, bạn có thể truy cập bằng chỉ số (index).\n",
        "#Các kiểu dữ liệu tuần tự phổ biến: list, tuple, range, str (chuỗi).\n",
        "\n",
        "my_list = [10, 20, 30, 40]\n",
        "print(my_list[0])   # 10\n",
        "print(my_list[-1])  # 40 (phần tử cuối)\n",
        "my_list[1] = 99\n",
        "print(my_list)  # [10, 99, 30, 40]\n",
        "\n",
        "my_tuple = (1, 2, 3, 4)\n",
        "print(my_tuple[0])  # 1\n",
        "\n",
        "for i in range(3, 8):\n",
        "    print(i, end=\" \")\n",
        "\n",
        "text = \"Hello\"\n",
        "print(text[0])   # H\n",
        "print(text[-1])  # o\n",
        "\n",
        "# Chuỗi cũng là sequence nên có thể lặp\n",
        "for ch in text:\n",
        "    print(ch)"
      ],
      "metadata": {
        "colab": {
          "base_uri": "https://localhost:8080/"
        },
        "id": "ctbWIkkJCJS9",
        "outputId": "94c49c3b-e5e8-46ee-d0a8-a10378e36548"
      },
      "execution_count": 39,
      "outputs": [
        {
          "output_type": "stream",
          "name": "stdout",
          "text": [
            "10\n",
            "40\n",
            "[10, 99, 30, 40]\n",
            "1\n",
            "3 4 5 6 7 H\n",
            "o\n",
            "H\n",
            "e\n",
            "l\n",
            "l\n",
            "o\n"
          ]
        }
      ]
    },
    {
      "cell_type": "markdown",
      "source": [
        "## String (chuỗi)"
      ],
      "metadata": {
        "id": "xzn85R0uB-DL"
      }
    },
    {
      "cell_type": "markdown",
      "source": [
        "### Kiểu chuỗi"
      ],
      "metadata": {
        "id": "rMTlMDMqD3hl"
      }
    },
    {
      "cell_type": "code",
      "source": [
        "str = \"I'm a student\"\n",
        "len(str)#Hàm len trả về độ dài (số chữ) của str: 13\n",
        "#Phép toán với chuỗi:\n",
        "s = \"Good\" + \" \" + \"Morning!\"   #Phép nối chuỗi (+)\n",
        "print(s)\n",
        "s = \"AB\" * 3   # số nguyên      #Phép nhân bản (*):\n",
        "print(s)\n",
        "s in '1ABABABCD' # True         #Kiểm tra nội dung:"
      ],
      "metadata": {
        "colab": {
          "base_uri": "https://localhost:8080/"
        },
        "id": "1zdvOfjBC_jg",
        "outputId": "7c60f910-239f-4580-ca4c-9b1ac57513a8"
      },
      "execution_count": 41,
      "outputs": [
        {
          "output_type": "stream",
          "name": "stdout",
          "text": [
            "Good Morning!\n",
            "ABABAB\n"
          ]
        },
        {
          "output_type": "execute_result",
          "data": {
            "text/plain": [
              "True"
            ]
          },
          "metadata": {},
          "execution_count": 41
        }
      ]
    },
    {
      "cell_type": "markdown",
      "source": [
        "### Chỉ mục trong chuỗi"
      ],
      "metadata": {
        "id": "IR5v__WwD6U0"
      }
    },
    {
      "cell_type": "code",
      "source": [
        "import pandas as pd\n",
        "\n",
        "# Dữ liệu\n",
        "chuoi = list(\"ĐHTHUYLOI\")\n",
        "index_duong = list(range(0, len(chuoi)))  # 0 đến 8\n",
        "index_am = list(range(-len(chuoi), 0))    # -9 đến -1\n",
        "\n",
        "df = pd.DataFrame({\n",
        "    \"Ký tự\": chuoi,\n",
        "    \"Chỉ số dương\": index_duong,\n",
        "    \"Chỉ số âm\": index_am\n",
        "})\n",
        "\n",
        "print(df)"
      ],
      "metadata": {
        "colab": {
          "base_uri": "https://localhost:8080/"
        },
        "id": "RVu8zAXLEAWV",
        "outputId": "173fe5a7-8830-432d-f782-faf9e9da52ed"
      },
      "execution_count": 42,
      "outputs": [
        {
          "output_type": "stream",
          "name": "stdout",
          "text": [
            "  Ký tự  Chỉ số dương  Chỉ số âm\n",
            "0     Đ             0         -9\n",
            "1     H             1         -8\n",
            "2     T             2         -7\n",
            "3     H             3         -6\n",
            "4     U             4         -5\n",
            "5     Y             5         -4\n",
            "6     L             6         -3\n",
            "7     O             7         -2\n",
            "8     I             8         -1\n"
          ]
        }
      ]
    },
    {
      "cell_type": "markdown",
      "source": [
        "### Cắt chuỗi"
      ],
      "metadata": {
        "id": "7I1YDoUXEbI9"
      }
    },
    {
      "cell_type": "code",
      "source": [
        "#<chuỗi>[vị trí A : vị trí B]\n",
        "#<chuỗi>[vị trí A : vị trí B : bước nhảy]\n",
        "s = '0123456789'\n",
        "print(s[3:6])#345\n",
        "print(s[3:])# 3456789\n",
        "print(s[:6])# 012345\n",
        "print(s[-7:-4])# 345\n",
        "print(s[-4:-7])#\n",
        "print(s[-4:-7:-1]) # 654\n",
        "print(s[:len(s)])# 0123456789\n",
        "print(s[:len(s)-1])# 012345678\n",
        "print(s[:])# 0123456789\n",
        "print(s[len(s)::-1]) # 9876543210\n",
        "print(s[len(s)-1::-1])# 9876543210\n",
        "print(s[len(s)-2::-1])# 876543210"
      ],
      "metadata": {
        "colab": {
          "base_uri": "https://localhost:8080/"
        },
        "id": "iAceiDYgEf4Y",
        "outputId": "726222fc-67bf-45bd-cd4b-50fe45993270"
      },
      "execution_count": 43,
      "outputs": [
        {
          "output_type": "stream",
          "name": "stdout",
          "text": [
            "345\n",
            "3456789\n",
            "012345\n",
            "345\n",
            "\n",
            "654\n",
            "0123456789\n",
            "012345678\n",
            "0123456789\n",
            "9876543210\n",
            "9876543210\n",
            "876543210\n"
          ]
        }
      ]
    },
    {
      "cell_type": "markdown",
      "source": [
        "### Định dạng chuỗi"
      ],
      "metadata": {
        "id": "__w6AzMzFB-V"
      }
    },
    {
      "cell_type": "code",
      "source": [
        "#Dùng toán tử %: <chuỗi> % (<các tham số>)\n",
        "\"Chao %s, gio la %d gio\" % ('txnam', 10)\n",
        "\"Can bac 2 cua 2 = %f\" % (2**0.5)\n",
        "\"Can bac 2 cua 2 = %10.3f\" % (2**0.5)\n",
        "\"Can bac 2 cua 2 = %10f\" % (2**0.5)\n",
        "\"Can bac 2 cua 2 = %.7f\" % (2**0.5)\n",
        "\n",
        "#Python cho phép định dạng chuỗi ở dạng f-string\n",
        "myname = 'DHNTT'\n",
        "s = f'This is {myname}.' # 'This is DHNTT.'\n",
        "print(s)\n",
        "w = f'{s} {myname}' # 'This is DHNTT. DHNTT '\n",
        "print(w)\n",
        "z = f'{{s}} {s}' # '{s} This is DHNTT.‘\n",
        "print(z)\n",
        "\n",
        "#Mạnh mẽ nhất là định dạng bằng format\n",
        "# điền lần lượt từng giá trị vào giữa cặp ngoặc nhọn\n",
        "'a: {}, b: {}, c: {}'.format(1, 2, 3)\n",
        "# điền nhưng không lần lượt\n",
        "'a: {1}, b: {2}, c: {0}'.format('one', 'two', 'three')\n",
        "'two same values: {0}, {0}'.format(1, 2)\n",
        "# điền và chỉ định từng giá trị\n",
        "'1: {one}, 2: {two}'.format(one=111, two=222)\n",
        "\n",
        "#Định dạng bằng format cho phép căn lề phong phú\n",
        "# căn giữa: ' aaaa '\n",
        "'{:^10}'.format('aaaa')\n",
        "# căn lề trái: 'aaaa '\n",
        "'{:<10}'.format('aaaa')\n",
        "# căn lề phải ' aaaa'\n",
        "'{:>10}'.format('aaaa')\n",
        "# căn lề phải, thay khoảng trắng bằng -: '------aaaa'\n",
        "'{:->10}'.format('aaaa')\n",
        "# căn lề trái, thay khoảng trắng *: 'aaa******'\n",
        "'{:*<10}'.format('aaaa')\n",
        "# căn giữa, thay khoảng trắng bằng +: '+++aaaa+++'\n",
        "'{:+^10}'.format('aaaa')"
      ],
      "metadata": {
        "colab": {
          "base_uri": "https://localhost:8080/",
          "height": 87
        },
        "id": "bYDpeRuOFFC0",
        "outputId": "02f422a1-864e-4e3c-9182-0279f84549f2"
      },
      "execution_count": 48,
      "outputs": [
        {
          "output_type": "stream",
          "name": "stdout",
          "text": [
            "This is DHNTT.\n",
            "This is DHNTT. DHNTT\n",
            "{s} This is DHNTT.\n"
          ]
        },
        {
          "output_type": "execute_result",
          "data": {
            "text/plain": [
              "'+++aaaa+++'"
            ],
            "application/vnd.google.colaboratory.intrinsic+json": {
              "type": "string"
            }
          },
          "metadata": {},
          "execution_count": 48
        }
      ]
    },
    {
      "cell_type": "markdown",
      "source": [
        "### Các phương thức của chuỗi"
      ],
      "metadata": {
        "id": "HaCSinsuF0A7"
      }
    },
    {
      "cell_type": "code",
      "source": [
        "s = \"hELlo world\"\n",
        "#Phương thức chỉnh dạng (Case methods)\n",
        "print(s.capitalize())  # Hello world\n",
        "print(s.upper())       # HELLO WORLD\n",
        "print(s.lower())       # hello world\n",
        "print(s.swapcase())    # HelLO WORLD\n",
        "print(s.title())       # Hello World\n",
        "\n",
        "#Phương thức căn lề (Justification methods)\n",
        "s = \"hi\"\n",
        "\n",
        "print(s.center(10, \"-\"))  # ---hi-----\n",
        "print(s.rjust(10, \".\"))   # ........hi\n",
        "print(s.ljust(10, \"*\"))   # hi********\n",
        "\n",
        "#Phương thức cắt phần dư (Strip methods)\n",
        "s = \"   hello   \"\n",
        "print(s.strip())   # \"hello\"  (bỏ khoảng trắng 2 bên)\n",
        "print(s.rstrip())  # \"   hello\"  (bỏ bên phải)\n",
        "print(s.lstrip())  # \"hello   \"  (bỏ bên trái)\n",
        "\n",
        "s2 = \"--hello--\"\n",
        "print(s2.strip(\"-\"))   # \"hello\"\n",
        "\n",
        "#Phương thức tách chuỗi (Split methods)\n",
        "s = \"apple,banana,cherry\"\n",
        "print(s.split(\",\"))      # ['apple', 'banana', 'cherry']\n",
        "print(s.split(\",\", 1))   # ['apple', 'banana,cherry']\n",
        "\n",
        "# rsplit tách từ bên phải\n",
        "print(s.rsplit(\",\", 1))  # ['apple,banana', 'cherry']\n",
        "\n",
        "#Phương thức khác (Other methods)\n",
        "# join\n",
        "print(\"-\".join(['1', '2', '3']))  # 1-2-3\n",
        "# replace\n",
        "print(\"I like cat\".replace(\"cat\", \"dog\"))  # I like dog\n",
        "# count\n",
        "print(\"banana\".count(\"a\"))  # 3\n",
        "# startswith / endswith\n",
        "print(\"hello\".startswith(\"he\"))  # True\n",
        "print(\"hello\".endswith(\"lo\"))    # True\n",
        "# find / rfind\n",
        "print(\"banana\".find(\"na\"))   # 2\n",
        "print(\"banana\".rfind(\"na\"))  # 4\n",
        "# islower, isupper, istitle, isdigit, isspace\n",
        "print(\"hello\".islower())  # True\n",
        "print(\"HELLO\".isupper())  # True\n",
        "print(\"Hello World\".istitle())  # True\n",
        "print(\"123\".isdigit())  # True\n",
        "print(\"   \".isspace())  # True\n"
      ],
      "metadata": {
        "colab": {
          "base_uri": "https://localhost:8080/"
        },
        "id": "iQ2R3fDFF9Rc",
        "outputId": "aaae8a83-5774-4c54-b4b6-e28a0f2c4e86"
      },
      "execution_count": 49,
      "outputs": [
        {
          "output_type": "stream",
          "name": "stdout",
          "text": [
            "Hello world\n",
            "HELLO WORLD\n",
            "hello world\n",
            "HelLO WORLD\n",
            "Hello World\n",
            "----hi----\n",
            "........hi\n",
            "hi********\n",
            "hello\n",
            "   hello\n",
            "hello   \n",
            "hello\n",
            "['apple', 'banana', 'cherry']\n",
            "['apple', 'banana,cherry']\n",
            "['apple,banana', 'cherry']\n",
            "1-2-3\n",
            "I like dog\n",
            "3\n",
            "True\n",
            "True\n",
            "2\n",
            "4\n",
            "True\n",
            "True\n",
            "True\n",
            "True\n",
            "True\n"
          ]
        }
      ]
    },
    {
      "cell_type": "markdown",
      "source": [
        "## List (danh sách)"
      ],
      "metadata": {
        "id": "3uKN7U-fB-MN"
      }
    },
    {
      "cell_type": "markdown",
      "source": [
        "### Giới thiệu và khai báo"
      ],
      "metadata": {
        "id": "zcEBhlwRGZl9"
      }
    },
    {
      "cell_type": "code",
      "source": [
        "[1, 2, 3, 4, 5] # list 5 số nguyên\n",
        "['a', 'b', 'c', 'd'] # list 4 chuỗi\n",
        "[[1, 2], [3, 4]] # list 2 list con\n",
        "[1, 'one', [2, 'two']] # list hỗ hợp\n",
        "[] # list rỗng"
      ],
      "metadata": {
        "colab": {
          "base_uri": "https://localhost:8080/"
        },
        "id": "hksFXFwGGdvt",
        "outputId": "beb121aa-1b53-4b68-ee3f-bd2806bd9d44"
      },
      "execution_count": 50,
      "outputs": [
        {
          "output_type": "execute_result",
          "data": {
            "text/plain": [
              "[]"
            ]
          },
          "metadata": {},
          "execution_count": 50
        }
      ]
    },
    {
      "cell_type": "markdown",
      "source": [
        "### Khởi tạo list"
      ],
      "metadata": {
        "id": "qiUYruKLGkN9"
      }
    },
    {
      "cell_type": "code",
      "source": [
        "#Tạo list bằng constructor\n",
        "l1 = list([1, 2, 3, 4]) # list 4 số nguyên\n",
        "l2 = list('edf') # list 3 chuỗi con\n",
        "l3 = list() # list rỗng\n",
        "\n",
        "#Tạo list bằng list comprehension\n",
        "# list 1000 số nguyên từ 0 đến 99\n",
        "X = [n for n in range(100)]\n",
        "# list gồm 10 list con là các cặp [x, x2]\n",
        "# với x chạy từ 0 đến 9\n",
        "Y = [[x, x*x] for x in range(10)]"
      ],
      "metadata": {
        "id": "On8oGEhCGm_E"
      },
      "execution_count": null,
      "outputs": []
    },
    {
      "cell_type": "markdown",
      "source": [
        "### Phép toán, chỉ mục và cắt"
      ],
      "metadata": {
        "id": "Vk-xEvkJG1dE"
      }
    },
    {
      "cell_type": "code",
      "source": [
        "l1 = list([1, 2, 3, 4])\n",
        "l1[-1] = list('abc')\n",
        "print(l1)         # [1, 2, 3, ['a', 'b', 'c']]"
      ],
      "metadata": {
        "colab": {
          "base_uri": "https://localhost:8080/"
        },
        "id": "jWmE4wwSG2vs",
        "outputId": "cf89eea6-7a65-4eb7-ea14-06b26e72ab6c"
      },
      "execution_count": 51,
      "outputs": [
        {
          "output_type": "stream",
          "name": "stdout",
          "text": [
            "[1, 2, 3, ['a', 'b', 'c']]\n"
          ]
        }
      ]
    },
    {
      "cell_type": "markdown",
      "source": [
        "### Các phương thức của list"
      ],
      "metadata": {
        "id": "Ofmbx4yhHYND"
      }
    },
    {
      "cell_type": "code",
      "source": [
        "# Tạo danh sách ví dụ\n",
        "lst = [1, 2, 3, 2, 4, 5]\n",
        "print(lst.count(2))  # 2 (số 2 xuất hiện 2 lần)\n",
        "print(lst.index(3))  # 2 (vì 3 ở vị trí index 2)\n",
        "#clear() – Xóa trắng list\n",
        "lst_copy = lst.copy()\n",
        "lst_copy.clear()\n",
        "print(lst_copy)  # []\n",
        "#append(x) – Thêm phần tử vào cuối list\n",
        "lst_copy = lst.copy()\n",
        "lst_copy.append(99)\n",
        "print(lst_copy)  # [1, 2, 3, 2, 4, 5, 99]\n",
        "#extend(x) – Thêm nhiều phần tử từ iterable\n",
        "lst_copy = lst.copy()\n",
        "lst_copy.extend([10, 11])\n",
        "print(lst_copy)  # [1, 2, 3, 2, 4, 5, 10, 11]\n",
        "#insert(p, x) –Chèn phần tử vào vị trí p\n",
        "lst_copy = lst.copy()\n",
        "lst_copy.insert(2, 100)\n",
        "print(lst_copy)  # [1, 2, 100, 3, 2, 4, 5]\n",
        "#pop(p) – Xóa phần tử ở vị trí p (mặc định là cuối)\n",
        "lst_copy = lst.copy()\n",
        "print(lst_copy.pop(2))  # 3 (trả về phần tử bị xóa)\n",
        "print(lst_copy)         # [1, 2, 2, 4, 5]\n",
        "#copy() – Tạo bản sao của list\n",
        "lst_copy = lst.copy()\n",
        "print(lst_copy)  # [1, 2, 3, 2, 4, 5]\n",
        "#remove(x) - Xóa phần tử đầu tiên có giá trị x\n",
        "lst_copy = lst.copy()\n",
        "lst_copy.remove(2)\n",
        "print(lst_copy)  # [1, 3, 2, 4, 5] (chỉ xóa 2 đầu tiên)\n",
        "#reverse()-Đảo ngược list\n",
        "lst_copy = lst.copy()\n",
        "lst_copy.reverse()\n",
        "print(lst_copy)  # [5, 4, 2, 3, 2, 1]\n",
        "#sort(key=None, reverse=False): mặc định là sắp xếp các phần tử từ bé đến lớn trong list bằng cách so sánh trực tiếp giá trị\n"
      ],
      "metadata": {
        "colab": {
          "base_uri": "https://localhost:8080/"
        },
        "id": "1qCxPmPjHbcb",
        "outputId": "5c87806c-d61e-4c51-bd10-d1e0db3cf0f1"
      },
      "execution_count": 57,
      "outputs": [
        {
          "output_type": "stream",
          "name": "stdout",
          "text": [
            "2\n",
            "2\n",
            "[]\n",
            "[1, 2, 3, 2, 4, 5, 99]\n",
            "[1, 2, 3, 2, 4, 5, 10, 11]\n",
            "[1, 2, 100, 3, 2, 4, 5]\n",
            "3\n",
            "[1, 2, 2, 4, 5]\n",
            "[1, 2, 3, 2, 4, 5]\n",
            "[1, 3, 2, 4, 5]\n",
            "[5, 4, 2, 3, 2, 1]\n"
          ]
        }
      ]
    },
    {
      "cell_type": "markdown",
      "source": [
        "## Tuple (hàng)"
      ],
      "metadata": {
        "id": "C5zJ0dzbB-Pt"
      }
    },
    {
      "cell_type": "markdown",
      "source": [
        "### Tuple là một dạng readonly list"
      ],
      "metadata": {
        "id": "e3HkTI__JMdD"
      }
    },
    {
      "cell_type": "code",
      "source": [
        "(1, 2, 3, 4, 5) # tuple 5 số nguyên\n",
        "('a', 'b', 'c', 'd') # tuple 4 chuỗi\n",
        "(1, 'one', [2, 'two']) # tuple hỗ hợp\n",
        "(1,) # tuple 1 phần tử\n",
        "() # tuple rỗng"
      ],
      "metadata": {
        "colab": {
          "base_uri": "https://localhost:8080/"
        },
        "id": "sxUMzgfLJN8d",
        "outputId": "e565a86b-c0ee-4cc7-a9be-7e4e5b978154"
      },
      "execution_count": 58,
      "outputs": [
        {
          "output_type": "execute_result",
          "data": {
            "text/plain": [
              "()"
            ]
          },
          "metadata": {},
          "execution_count": 58
        }
      ]
    },
    {
      "cell_type": "markdown",
      "source": [
        "### Tuple và list nhiều điểm giống nhau\n",
        "\n",
        "\n",
        "*   Tuple có thể tạo bằng constructor hoặc tuple\n",
        "comprehension\n",
        "\n",
        "*   Tuple hỗ trợ 3 phép toán: +, *, in\n",
        "*   Tuple cho phép sử dụng chỉ mục và cắt\n",
        "\n",
        "\n",
        "*   Các phương thức thường dùng của tuple:\n",
        "\n",
        "\n",
        "\n",
        "1.   count(v): đếm số lần xuất hiện của v trong tuple\n",
        "2.  index(sub[,start[,end]]): tương tự như str và list\n",
        "\n",
        "\n",
        "\n",
        "\n",
        "\n",
        "*  Tuple khác list ở điểm nào?\n",
        "\n",
        "1.   Chiếm ít bộ nhớ hơn\n",
        "\n",
        "2.   Nhanh hơn\n",
        "\n",
        "\n",
        "\n",
        "\n"
      ],
      "metadata": {
        "id": "ROxVh-LtJSt0"
      }
    },
    {
      "cell_type": "markdown",
      "source": [
        "## Range (miền)"
      ],
      "metadata": {
        "id": "lvg8FWr0B-VG"
      }
    },
    {
      "cell_type": "code",
      "source": [
        "\n",
        "range(9) #tạo miền từ 0 đến stop-1\n",
        "range(0, 9, 2)# tạo miền từ start đến stop-1, với bước nhảy là 2"
      ],
      "metadata": {
        "colab": {
          "base_uri": "https://localhost:8080/"
        },
        "id": "ZMbZW6hQKc2c",
        "outputId": "47c6698c-7c4b-45ae-cd31-939245134dc7"
      },
      "execution_count": 64,
      "outputs": [
        {
          "output_type": "stream",
          "name": "stdout",
          "text": [
            "range(0, 9)\n"
          ]
        },
        {
          "output_type": "execute_result",
          "data": {
            "text/plain": [
              "range(0, 9, 2)"
            ]
          },
          "metadata": {},
          "execution_count": 64
        }
      ]
    },
    {
      "cell_type": "markdown",
      "source": [
        "# **Tập hợp**\n"
      ],
      "metadata": {
        "id": "wgLbYAoBLha8"
      }
    },
    {
      "cell_type": "markdown",
      "source": [
        "## Set (tập hợp) và Frozenset (tập hợp tĩnh)"
      ],
      "metadata": {
        "id": "shu-m1RTLuy0"
      }
    },
    {
      "cell_type": "markdown",
      "source": [
        "### Khởi tạo Set"
      ],
      "metadata": {
        "id": "__aJl1xXL6qT"
      }
    },
    {
      "cell_type": "code",
      "source": [
        "basket = {'apple','orange','apple','pear'}\n",
        "print(basket)\n",
        "#{'orange','pear','apple'} : xóa trùng nhau\n",
        "a = {5,2,3,1,4}\n",
        "print(\"a=\", a) #a = {1, 2, 3, 4, 5}"
      ],
      "metadata": {
        "colab": {
          "base_uri": "https://localhost:8080/"
        },
        "id": "yRu4PA0FL2dU",
        "outputId": "fba10e05-ab05-4734-c874-83fad0dd54a1"
      },
      "execution_count": 65,
      "outputs": [
        {
          "output_type": "stream",
          "name": "stdout",
          "text": [
            "{'pear', 'apple', 'orange'}\n",
            "a= {1, 2, 3, 4, 5}\n"
          ]
        }
      ]
    },
    {
      "cell_type": "code",
      "source": [
        "#Tạo set bằng set comprehension\n",
        "# a = {'r', 'd'}\n",
        "a = {x for x in 'abracadabra' if x not in 'abc'}\n",
        "\n",
        "# Set không thể chứa những đối tượng mutable (có thể bị thay đổi), mặc dù chính set lại có thể thay đổi\n",
        "a = set(([1,2],[2,3])) # lỗi list\n",
        "\n",
        "a = set(((1,2),(2,3))) # {(1, 2), (2, 3)}\n",
        "a.add(\"abc\") # {(1, 2), \"abc\", (2, 3)}\n",
        "\n",
        "# Frozenset giống set, nhưng không thể bị thay đổi\n",
        "b = frozenset(((1,2),(2,3))) # {(1,2), (2,3)}\n",
        "b.add(\"abc\") # lỗi"
      ],
      "metadata": {
        "id": "XuNYomW2MC30"
      },
      "execution_count": 68,
      "outputs": []
    },
    {
      "cell_type": "markdown",
      "source": [
        "### Set"
      ],
      "metadata": {
        "id": "yE3CIy2WMU67"
      }
    },
    {
      "cell_type": "code",
      "source": [
        "#Set Hỗn hợp\n",
        "\n",
        "my_set = {8.0, \"Sinh viên\", (1, 2, 3)}\n",
        "print(\"ketqua_Set=\",my_set)\n",
        "#Output: ketqua_Set= {'Sinh viên', 8.0, (1, 2, 3)}\n",
        "\n",
        "# Khởi tạo my_set\n",
        "my_set = {1,3}\n",
        "my_set.add(2) #thêm\n",
        "my_set.update([2,3,4]) # Cập nhật\n",
        "my_set.update([4,5], {1,6,8}) # Cập nhật set\n",
        "print(my_set)\n",
        "\n",
        "# Output: {1, 2, 3, 4, 5, 6, 8}"
      ],
      "metadata": {
        "colab": {
          "base_uri": "https://localhost:8080/"
        },
        "id": "xFhfEgNyMaBd",
        "outputId": "5c4797a0-615d-4e8d-b6b7-11d382d3cad2"
      },
      "execution_count": 69,
      "outputs": [
        {
          "output_type": "stream",
          "name": "stdout",
          "text": [
            "ketqua_Set= {8.0, 'Sinh viên', (1, 2, 3)}\n",
            "{1, 2, 3, 4, 5, 6, 8}\n"
          ]
        }
      ]
    },
    {
      "cell_type": "markdown",
      "source": [
        "### Các phép toán trên set"
      ],
      "metadata": {
        "id": "eAhEwq1ZMluT"
      }
    },
    {
      "cell_type": "code",
      "source": [
        "m = set('abracadabra') # {'d', 'r', 'c', 'b', 'a'}\n",
        "n = set('alacazam') # {'z', 'c', 'm', 'l', 'a'}\n",
        "# Phép Hiệu: thuộc m nhưng không thuộc n\n",
        "print(m- n) # {'r', 'd', 'b'}\n",
        "\n",
        "# Phép Hợp: thuộc m hoặc n\n",
        "# {'a', 'c', 'r', 'd', 'b', 'm', 'z', 'l'}\n",
        "print(m | n)\n",
        "\n",
        "# Phép Giao: thuộc cả m và n\n",
        "print(m & n) # {'a', 'c'}\n",
        "\n",
        "# Phép Xor: thuộc hoặc m, hoặc n nhưng không phải cả 2\n",
        "# {'r', 'd', 'b', 'm', 'z', 'l'}\n",
        "print(m ^ n)"
      ],
      "metadata": {
        "colab": {
          "base_uri": "https://localhost:8080/"
        },
        "id": "grnY1KyYMo0D",
        "outputId": "3e7e23a5-2c86-4060-888c-c7ae9bbcbfbd"
      },
      "execution_count": 72,
      "outputs": [
        {
          "output_type": "stream",
          "name": "stdout",
          "text": [
            "{'d', 'b', 'r'}\n",
            "{'r', 'z', 'l', 'a', 'd', 'b', 'm', 'c'}\n",
            "{'a', 'c'}\n",
            "{'d', 'b', 'r', 'z', 'l', 'm'}\n"
          ]
        }
      ]
    },
    {
      "cell_type": "markdown",
      "source": [
        "### Các phương thức của set"
      ],
      "metadata": {
        "id": "voQSqmvSNJ2t"
      }
    },
    {
      "cell_type": "code",
      "source": [
        "# Tạo tập hợp ví dụ\n",
        "A = {1, 2, 3, 4}\n",
        "B = {3, 4, 5}\n",
        "\n",
        "print(\"A =\", A)\n",
        "print(\"B =\", B)\n",
        "\n",
        "# add(e): thêm e vào tập hợp\n",
        "A.add(99)\n",
        "print(\"add(99):\", A)\n",
        "\n",
        "# clear(): xóa mọi phần tử trong tập\n",
        "C = A.copy()\n",
        "C.clear()\n",
        "print(\"clear():\", C)\n",
        "\n",
        "# copy(): tạo một bản sao của tập\n",
        "C = A.copy()\n",
        "print(\"copy():\", C)\n",
        "\n",
        "# difference(x): trả về các phần tử có trong A nhưng không có trong B\n",
        "print(\"difference(B):\", A.difference(B))  # {1, 2, 99}\n",
        "\n",
        "# difference_update(x): xóa phần tử trùng với B khỏi A\n",
        "C = A.copy()\n",
        "C.difference_update(B)\n",
        "print(\"difference_update(B):\", C)\n",
        "\n",
        "# discard(e): bỏ e khỏi tập, không báo lỗi nếu không tìm thấy\n",
        "C = A.copy()\n",
        "C.discard(3)\n",
        "print(\"discard(3):\", C)\n",
        "\n",
        "# remove(e): bỏ e khỏi tập, báo lỗi nếu không tìm thấy\n",
        "C = A.copy()\n",
        "C.remove(3)\n",
        "print(\"remove(3):\", C)\n",
        "\n",
        "# union(x): hợp của A và B\n",
        "print(\"union(B):\", A.union(B))\n",
        "\n",
        "# intersection(x): giao của A và B\n",
        "print(\"intersection(B):\", A.intersection(B))\n",
        "\n",
        "# isdisjoint(x): True nếu không có phần tử chung\n",
        "print(\"isdisjoint({10, 20}):\", A.isdisjoint({10, 20}))\n",
        "\n",
        "# issubset(x): True nếu A là tập con của x\n",
        "print(\"{1, 2}.issubset(A):\", {1, 2}.issubset(A))\n",
        "\n",
        "# issuperset(x): True nếu A là tập cha của x\n",
        "print(\"A.issuperset({3, 4}):\", A.issuperset({3, 4}))\n",
        "\n",
        "# pop(): lấy ngẫu nhiên 1 phần tử ra khỏi tập\n",
        "C = A.copy()\n",
        "print(\"pop():\", C.pop(), \"=> còn lại:\", C)\n",
        "\n",
        "# symmetric_difference(x): các phần tử chỉ thuộc 1 trong 2 tập (A ^ B)\n",
        "print(\"symmetric_difference(B):\", A.symmetric_difference(B))\n"
      ],
      "metadata": {
        "colab": {
          "base_uri": "https://localhost:8080/"
        },
        "id": "F5B3CCRsNcnb",
        "outputId": "d0030fb6-4977-4829-ccd4-7187365c2e83"
      },
      "execution_count": 73,
      "outputs": [
        {
          "output_type": "stream",
          "name": "stdout",
          "text": [
            "A = {1, 2, 3, 4}\n",
            "B = {3, 4, 5}\n",
            "add(99): {1, 2, 99, 3, 4}\n",
            "clear(): set()\n",
            "copy(): {1, 2, 99, 3, 4}\n",
            "difference(B): {1, 2, 99}\n",
            "difference_update(B): {1, 2, 99}\n",
            "discard(3): {1, 2, 99, 4}\n",
            "remove(3): {1, 2, 99, 4}\n",
            "union(B): {1, 2, 99, 3, 4, 5}\n",
            "intersection(B): {3, 4}\n",
            "isdisjoint({10, 20}): True\n",
            "{1, 2}.issubset(A): True\n",
            "A.issuperset({3, 4}): True\n",
            "pop(): 1 => còn lại: {2, 99, 3, 4}\n",
            "symmetric_difference(B): {1, 2, 5, 99}\n"
          ]
        }
      ]
    },
    {
      "cell_type": "code",
      "source": [
        "num = {1,3,5,6,8,20,7,8,29,33}\n",
        "print(\"Số lớn nhất là :\", max(num))\n",
        "print(\"Số bé nhất là :\", min(num))"
      ],
      "metadata": {
        "colab": {
          "base_uri": "https://localhost:8080/"
        },
        "id": "vuYIr8UTNMhd",
        "outputId": "3d4c9f74-f41b-4437-928f-4d1eb2d7695e"
      },
      "execution_count": 75,
      "outputs": [
        {
          "output_type": "stream",
          "name": "stdout",
          "text": [
            "Số lớn nhất là : 33\n",
            "Số bé nhất là : 1\n"
          ]
        }
      ]
    },
    {
      "cell_type": "markdown",
      "source": [
        "### Vòng lặp for của set()"
      ],
      "metadata": {
        "id": "AipH-RB0N_SV"
      }
    },
    {
      "cell_type": "code",
      "source": [
        "\n",
        "#Ví dụ\n",
        "setFruits = {'lemon','orange','apple','pear'}\n",
        "for x in setFruits:\n",
        "  print(x)\n",
        "#Ví dụ\n",
        "for letter in set(\"chivuong\"):\n",
        "    print(letter)"
      ],
      "metadata": {
        "colab": {
          "base_uri": "https://localhost:8080/"
        },
        "id": "c9MqZ7FxMZIs",
        "outputId": "32cb9414-5500-4d76-d706-5833299b6654"
      },
      "execution_count": 77,
      "outputs": [
        {
          "output_type": "stream",
          "name": "stdout",
          "text": [
            "orange\n",
            "pear\n",
            "apple\n",
            "lemon\n",
            "h\n",
            "i\n",
            "o\n",
            "n\n",
            "u\n",
            "g\n",
            "v\n",
            "c\n"
          ]
        }
      ]
    },
    {
      "cell_type": "markdown",
      "source": [
        "## Dictionary (từ điển)"
      ],
      "metadata": {
        "id": "27zD1KY6OU49"
      }
    },
    {
      "cell_type": "markdown",
      "source": [
        "### Khai báo"
      ],
      "metadata": {
        "id": "cU-NF_FXOfGU"
      }
    },
    {
      "cell_type": "code",
      "source": [
        "dict = {1:'one',2:'two',3:'three'}\n",
        "print(dict[1]) #'one'\n",
        "dict[4]='four'\n",
        "print(dict)\n",
        "\n",
        "#Chú ý: chỉ những loại dữ liệu immutable (không thể thay đổi) mới có thể dùng làm key của từ điển\n",
        "dict = {(1,2,3):\"abc\", 3.1415:\"abc\"}\n",
        "dict = {[1,2,3]:\"abc\"} # lỗi"
      ],
      "metadata": {
        "colab": {
          "base_uri": "https://localhost:8080/",
          "height": 228
        },
        "id": "FvfifaGoOlVs",
        "outputId": "406495b4-f7ab-4c99-9c64-1bd6e6ac9aaf"
      },
      "execution_count": 79,
      "outputs": [
        {
          "output_type": "stream",
          "name": "stdout",
          "text": [
            "one\n",
            "{1: 'one', 2: 'two', 3: 'three', 4: 'four'}\n"
          ]
        },
        {
          "output_type": "error",
          "ename": "TypeError",
          "evalue": "unhashable type: 'list'",
          "traceback": [
            "\u001b[0;31m---------------------------------------------------------------------------\u001b[0m",
            "\u001b[0;31mTypeError\u001b[0m                                 Traceback (most recent call last)",
            "\u001b[0;32m/tmp/ipython-input-1162638240.py\u001b[0m in \u001b[0;36m<cell line: 0>\u001b[0;34m()\u001b[0m\n\u001b[1;32m      6\u001b[0m \u001b[0;31m#Chú ý: chỉ những loại dữ liệu immutable (không thể thay đổi) mới có thể dùng làm key của từ điển\u001b[0m\u001b[0;34m\u001b[0m\u001b[0;34m\u001b[0m\u001b[0m\n\u001b[1;32m      7\u001b[0m \u001b[0mdict\u001b[0m \u001b[0;34m=\u001b[0m \u001b[0;34m{\u001b[0m\u001b[0;34m(\u001b[0m\u001b[0;36m1\u001b[0m\u001b[0;34m,\u001b[0m\u001b[0;36m2\u001b[0m\u001b[0;34m,\u001b[0m\u001b[0;36m3\u001b[0m\u001b[0;34m)\u001b[0m\u001b[0;34m:\u001b[0m\u001b[0;34m\"abc\"\u001b[0m\u001b[0;34m,\u001b[0m \u001b[0;36m3.1415\u001b[0m\u001b[0;34m:\u001b[0m\u001b[0;34m\"abc\"\u001b[0m\u001b[0;34m}\u001b[0m\u001b[0;34m\u001b[0m\u001b[0;34m\u001b[0m\u001b[0m\n\u001b[0;32m----> 8\u001b[0;31m \u001b[0mdict\u001b[0m \u001b[0;34m=\u001b[0m \u001b[0;34m{\u001b[0m\u001b[0;34m[\u001b[0m\u001b[0;36m1\u001b[0m\u001b[0;34m,\u001b[0m\u001b[0;36m2\u001b[0m\u001b[0;34m,\u001b[0m\u001b[0;36m3\u001b[0m\u001b[0;34m]\u001b[0m\u001b[0;34m:\u001b[0m\u001b[0;34m\"abc\"\u001b[0m\u001b[0;34m}\u001b[0m \u001b[0;31m# lỗi\u001b[0m\u001b[0;34m\u001b[0m\u001b[0;34m\u001b[0m\u001b[0m\n\u001b[0m",
            "\u001b[0;31mTypeError\u001b[0m: unhashable type: 'list'"
          ]
        }
      ]
    },
    {
      "cell_type": "markdown",
      "source": [
        "### Một số phép toán / phương thức thường dùng"
      ],
      "metadata": {
        "id": "BqjNt5P0O0xF"
      }
    },
    {
      "cell_type": "code",
      "source": [
        "# Tạo dictionary ví dụ\n",
        "d = {\"name\": \"Alice\", \"age\": 20, \"city\": \"Hanoi\"}\n",
        "print(\"Dictionary ban đầu:\", d)\n",
        "\n",
        "# len(d): trả về số cặp key-value\n",
        "print(\"len(d):\", len(d))\n",
        "\n",
        "# del d[k]: xóa key k (và value tương ứng)\n",
        "d2 = d.copy()\n",
        "del d2[\"city\"]\n",
        "print(\"del d['city']:\", d2)\n",
        "\n",
        "# k in d / k not in d: kiểm tra key có / không có trong dictionary\n",
        "print(\"'name' in d:\", \"name\" in d)\n",
        "print(\"'email' not in d:\", \"email\" not in d)\n",
        "\n",
        "# pop(k): trả về value và xóa cặp key-value\n",
        "d2 = d.copy()\n",
        "print(\"pop('age'):\", d2.pop(\"age\"), \"=> còn lại:\", d2)\n",
        "\n",
        "# popitem(): trả về (key, value) và xóa nó (lấy ngẫu nhiên)\n",
        "d2 = d.copy()\n",
        "print(\"popitem():\", d2.popitem(), \"=> còn lại:\", d2)\n",
        "\n",
        "# get(k): lấy value theo key, nếu không có thì trả về None\n",
        "print(\"get('name'):\", d.get(\"name\"))\n",
        "print(\"get('email'):\", d.get(\"email\"))  # không lỗi, trả về None\n",
        "\n",
        "# update(w): ghép dictionary w vào d\n",
        "d2 = d.copy()\n",
        "d2.update({\"age\": 25, \"email\": \"alice@example.com\"})\n",
        "print(\"update({'age': 25, 'email': 'alice@example.com'}):\", d2)\n",
        "\n",
        "# items(): trả về list các cặp (key, value)\n",
        "print(\"items():\", list(d.items()))\n",
        "\n",
        "# keys(): trả về danh sách các key\n",
        "print(\"keys():\", list(d.keys()))\n",
        "\n",
        "# values(): trả về danh sách các value\n",
        "print(\"values():\", list(d.values()))\n"
      ],
      "metadata": {
        "colab": {
          "base_uri": "https://localhost:8080/"
        },
        "id": "2xQl7bWlO527",
        "outputId": "d016b840-7bd9-42f9-93a2-683586dea492"
      },
      "execution_count": 80,
      "outputs": [
        {
          "output_type": "stream",
          "name": "stdout",
          "text": [
            "Dictionary ban đầu: {'name': 'Alice', 'age': 20, 'city': 'Hanoi'}\n",
            "len(d): 3\n",
            "del d['city']: {'name': 'Alice', 'age': 20}\n",
            "'name' in d: True\n",
            "'email' not in d: True\n",
            "pop('age'): 20 => còn lại: {'name': 'Alice', 'city': 'Hanoi'}\n",
            "popitem(): ('city', 'Hanoi') => còn lại: {'name': 'Alice', 'age': 20}\n",
            "get('name'): Alice\n",
            "get('email'): None\n",
            "update({'age': 25, 'email': 'alice@example.com'}): {'name': 'Alice', 'age': 25, 'city': 'Hanoi', 'email': 'alice@example.com'}\n",
            "items(): [('name', 'Alice'), ('age', 20), ('city', 'Hanoi')]\n",
            "keys(): ['name', 'age', 'city']\n",
            "values(): ['Alice', 20, 'Hanoi']\n"
          ]
        }
      ]
    },
    {
      "cell_type": "code",
      "source": [
        "#Dùng zip để ghép 2 list thành từ điển\n",
        "l1 = [\"a\",\"b\",\"c\"]\n",
        "l2 = [1,2,3]\n",
        "c = zip(l1, l2)\n",
        "for i in c:\n",
        "  print(i)"
      ],
      "metadata": {
        "colab": {
          "base_uri": "https://localhost:8080/"
        },
        "id": "k1XCfUGPPKQM",
        "outputId": "5b5115a8-6e1a-4642-88b8-f4a3aa4658c8"
      },
      "execution_count": 81,
      "outputs": [
        {
          "output_type": "stream",
          "name": "stdout",
          "text": [
            "('a', 1)\n",
            "('b', 2)\n",
            "('c', 3)\n"
          ]
        }
      ]
    },
    {
      "cell_type": "code",
      "source": [
        "#Tạo mới từ điển\n",
        "Dict = {1: 'Nguyen', 2: 'Van', 3: 'Anh'}\n",
        "print(Dict)\n",
        "Dict = {'Name': 'dict', 1: [1, 2, 5, 6]}# tạo một dict với key hỗn hợp\n",
        "print(Dict)\n",
        "\n",
        "#Thêm các giá trị vào từ điển\n",
        "Dict = {}\n",
        "Dict[0] = 'Xin chao'\n",
        "Dict[1] = 'lop hoc Khoa học du lieu'\n",
        "print(Dict)\n",
        "\n",
        "#Truy cập giá trị của từ điển\n",
        "Dict = {1: 'Lớp', 2: 'Khoa học', 3: 'Dữ liệu'}\n",
        "print(Dict[1])# Lớp\n",
        "# truy cập bằng phương thức get()\n",
        "print(Dict.get(3))\n",
        "\n",
        "#Chuyển từ điển thành chuỗi: str()\n",
        "Dict = {'Ten':'An','Tuoi':20};\n",
        "print(\"Chuỗi tương đương là :\", % str (Dict))\n",
        "#Chuỗi tương đương là : {'Ten': ‘An', 'Tuoi': 20}\n",
        "\n",
        "#Cập nhật 1 giá trị của từ điển: update()\n",
        "Dict = {'Cúc':18, 'Lan':19, 'Hồng':20, 'Mai':27}\n",
        "Dict.update({'Lan':21}) #cập nhật tuổi cho Lan\n",
        "Dict.update({'Đào':25}) #thêm một phần tử mới là Đào\n",
        "print(Dict)\n"
      ],
      "metadata": {
        "colab": {
          "base_uri": "https://localhost:8080/"
        },
        "id": "N6jTGGKkPTiN",
        "outputId": "dd7873c4-2398-4919-a342-f3330c1fb0d6"
      },
      "execution_count": 83,
      "outputs": [
        {
          "output_type": "stream",
          "name": "stdout",
          "text": [
            "{1: 'Nguyen', 2: 'Van', 3: 'Anh'}\n",
            "{'Name': 'dict', 1: [1, 2, 5, 6]}\n",
            "{0: 'Xin chao', 1: 'lop hoc Khoa học du lieu'}\n"
          ]
        }
      ]
    },
    {
      "cell_type": "markdown",
      "source": [
        "# **Module và Package**"
      ],
      "metadata": {
        "id": "dKIDhKRIQXvV"
      }
    },
    {
      "cell_type": "code",
      "source": [
        "#Khai báo import module đó: import <tên-module>\n",
        "import math\n",
        "import matplotlib.pyplot as plt\n",
        "#Hoặc có thể import riêng một hàm hoặc nhiều hàm, cú pháp: from <tên-module> import fuc1, fuc2,..., fucN\n",
        "from math import pi, sin\n",
        "\n",
        "#Package = Thư mục các module (lưu trữ vật lý)\n",
        "import numpy\n",
        "A = array([1, 2, 3]) # lỗi\n",
        "A = numpy.array([1, 2, 3]) # ok\n",
        "\n",
        "import numpy as np\n",
        "B = np.array([1, 2, 3]) # ok\n",
        "\n",
        "from numpy import array\n",
        "C = array([1, 2, 3]) # ok"
      ],
      "metadata": {
        "id": "PzSBgidFQj7i"
      },
      "execution_count": null,
      "outputs": []
    },
    {
      "cell_type": "markdown",
      "source": [
        "# **Thư viện NumPy**"
      ],
      "metadata": {
        "id": "7c3DIs7uRJbT"
      }
    },
    {
      "cell_type": "markdown",
      "source": [
        "# **Kết thúc**"
      ],
      "metadata": {
        "id": "hS9fMXCVzMLL"
      }
    },
    {
      "cell_type": "code",
      "source": [],
      "metadata": {
        "id": "7NRB6H5JQhCd"
      },
      "execution_count": null,
      "outputs": []
    },
    {
      "cell_type": "markdown",
      "source": [],
      "metadata": {
        "id": "jraOq1sg9uOj"
      }
    }
  ]
}
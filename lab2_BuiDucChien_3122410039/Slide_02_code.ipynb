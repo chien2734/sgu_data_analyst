{
  "nbformat": 4,
  "nbformat_minor": 0,
  "metadata": {
    "colab": {
      "provenance": [],
      "toc_visible": true,
      "authorship_tag": "ABX9TyM5BgbPCgWSLiyMrQ9cZiAt",
      "include_colab_link": true
    },
    "kernelspec": {
      "name": "python3",
      "display_name": "Python 3"
    },
    "language_info": {
      "name": "python"
    }
  },
  "cells": [
    {
      "cell_type": "markdown",
      "metadata": {
        "id": "view-in-github",
        "colab_type": "text"
      },
      "source": [
        "<a href=\"https://colab.research.google.com/github/chien2734/sgu_data_analyst/blob/main/Slide_02_code.ipynb\" target=\"_parent\"><img src=\"https://colab.research.google.com/assets/colab-badge.svg\" alt=\"Open In Colab\"/></a>"
      ]
    },
    {
      "cell_type": "markdown",
      "source": [
        "# Bài làm"
      ],
      "metadata": {
        "id": "4vCtAW6D7VJN"
      }
    },
    {
      "cell_type": "markdown",
      "source": [
        "# **Python programming**\n"
      ],
      "metadata": {
        "id": "QBFdeCaRG21M"
      }
    },
    {
      "cell_type": "markdown",
      "source": [
        "## Python Hello World"
      ],
      "metadata": {
        "id": "C8whrC0mHXHC"
      }
    },
    {
      "cell_type": "code",
      "source": [
        "print(\"Hello World\")"
      ],
      "metadata": {
        "colab": {
          "base_uri": "https://localhost:8080/"
        },
        "id": "2ZA3iRW6Hfq0",
        "outputId": "11fd2f6f-0c85-4a77-ba81-077c5722e9b7"
      },
      "execution_count": null,
      "outputs": [
        {
          "output_type": "stream",
          "name": "stdout",
          "text": [
            "Hello World\n"
          ]
        }
      ]
    },
    {
      "cell_type": "markdown",
      "source": [
        "## Python Syntax\n"
      ],
      "metadata": {
        "id": "NnK-HY2xHn02"
      }
    },
    {
      "cell_type": "markdown",
      "source": [
        "### Python Comment"
      ],
      "metadata": {
        "id": "xTyWO7oGJ0Bx"
      }
    },
    {
      "cell_type": "code",
      "source": [
        "# I'm SGU student"
      ],
      "metadata": {
        "id": "iMgFOYj5H5gW"
      },
      "execution_count": null,
      "outputs": []
    },
    {
      "cell_type": "markdown",
      "source": [
        "### Indentation the spaces at the beginning of a code line 4 spaces"
      ],
      "metadata": {
        "id": "IQ3bXWp5IQ9Z"
      }
    },
    {
      "cell_type": "code",
      "source": [
        "score = 90\n",
        "if score >=60 :\n",
        "  print(\"Pass\")\n",
        "else:\n",
        "  print(\"No Pass\")"
      ],
      "metadata": {
        "colab": {
          "base_uri": "https://localhost:8080/"
        },
        "id": "VNF1-sVjIXG1",
        "outputId": "30179c84-290c-4d9e-d784-3a8f6711ff1c"
      },
      "execution_count": null,
      "outputs": [
        {
          "output_type": "stream",
          "name": "stdout",
          "text": [
            "Pass\n"
          ]
        }
      ]
    },
    {
      "cell_type": "markdown",
      "source": [
        "## Python Variables"
      ],
      "metadata": {
        "id": "u-YIqhMYI5hJ"
      }
    },
    {
      "cell_type": "code",
      "source": [
        "# Python variables\n",
        "x = 4\n",
        "print(x)\n",
        "\n",
        "price = 2.9\n",
        "print(price)\n",
        "\n",
        "word = 'Hello'\n",
        "print(word)\n",
        "\n",
        "word = 'Hello'\n",
        "print(word)\n",
        "\n",
        "word = \"Hello\"\n",
        "print(word)\n",
        "\n",
        "word = '''Hello'''\n",
        "print(word)\n",
        "\n",
        "y = x + 1\n",
        "print(y)"
      ],
      "metadata": {
        "colab": {
          "base_uri": "https://localhost:8080/"
        },
        "id": "3WuGh0JrI_VO",
        "outputId": "21d0ac82-a08a-4576-f4a4-a8083fd0ae2f"
      },
      "execution_count": null,
      "outputs": [
        {
          "output_type": "stream",
          "name": "stdout",
          "text": [
            "4\n",
            "2.9\n",
            "Hello\n",
            "Hello\n",
            "Hello\n",
            "Hello\n",
            "5\n"
          ]
        }
      ]
    },
    {
      "cell_type": "markdown",
      "source": [
        "## Python_version()"
      ],
      "metadata": {
        "id": "8kQKy9qRKEeg"
      }
    },
    {
      "cell_type": "code",
      "source": [
        "# comment\n",
        "from platform import python_version\n",
        "print(\"Python Version:\", python_version())"
      ],
      "metadata": {
        "colab": {
          "base_uri": "https://localhost:8080/"
        },
        "id": "Op1z8ABcIldp",
        "outputId": "838303ec-6756-4727-b454-cc903284c492"
      },
      "execution_count": null,
      "outputs": [
        {
          "output_type": "stream",
          "name": "stdout",
          "text": [
            "Python Version: 3.12.11\n"
          ]
        }
      ]
    },
    {
      "cell_type": "markdown",
      "source": [
        "## Python Data Types"
      ],
      "metadata": {
        "id": "Dx1giqHXKTQv"
      }
    },
    {
      "cell_type": "code",
      "source": [
        "x = \"Hello World\"\n",
        "print(type(x))    #str\n",
        "x = 2\n",
        "print(type(x))    #int\n",
        "x = 2.5\n",
        "print(type(x))    #float\n",
        "x = 7j\n",
        "print(type(x))    #complex\n",
        "x = [\"apple\", \"star apple\", \"cherry\"]\n",
        "print(type(x))    #list\n",
        "x = (\"sugar apple\", \"banana\", \"cherry\")\n",
        "print(type(x))    #tuple\n",
        "x = range(6)\n",
        "print(type(x))    #range\n",
        "x = {\"name\" : \"Tom\", \"age\" : 20}\n",
        "print(type(x))    #dict\n",
        "x = {\"apple\", \"banana\", \"cherry\"}\n",
        "print(type(x))    #set\n",
        "x = frozenset({\"apple\", \"banana\", \"cherry\"})\n",
        "print(type(x))    #frozenset\n",
        "x = True\n",
        "print(type(x))    #bool\n",
        "x = b\"Hello\"\n",
        "print(type(x))    #bytes\n",
        "x = bytearray(5)\n",
        "print(type(x))    #bytearray\n",
        "x = memoryview(bytes(5))\n",
        "print(type(x))    #memoryview\n",
        "x = None\n",
        "print(type(x))    #NoneType"
      ],
      "metadata": {
        "colab": {
          "base_uri": "https://localhost:8080/"
        },
        "id": "Aw7BUxceKPkV",
        "outputId": "3a012b9a-523b-446c-8e9f-c2bc915d7458"
      },
      "execution_count": null,
      "outputs": [
        {
          "output_type": "stream",
          "name": "stdout",
          "text": [
            "<class 'str'>\n",
            "<class 'int'>\n",
            "<class 'float'>\n",
            "<class 'complex'>\n",
            "<class 'list'>\n",
            "<class 'tuple'>\n",
            "<class 'range'>\n",
            "<class 'dict'>\n",
            "<class 'set'>\n",
            "<class 'frozenset'>\n",
            "<class 'bool'>\n",
            "<class 'bytes'>\n",
            "<class 'bytearray'>\n",
            "<class 'memoryview'>\n",
            "<class 'NoneType'>\n"
          ]
        }
      ]
    },
    {
      "cell_type": "markdown",
      "source": [
        "### Python Casting"
      ],
      "metadata": {
        "id": "B6NRZaOyLVAA"
      }
    },
    {
      "cell_type": "code",
      "source": [
        "x = str(3) # x will be '3'\n",
        "y = int(3) # y will be 3\n",
        "z = float(3) # z will be 3.0\n",
        "print(x, type(x))\n",
        "print(y, type(y))\n",
        "print(z, type(z))"
      ],
      "metadata": {
        "colab": {
          "base_uri": "https://localhost:8080/"
        },
        "id": "mR8PV_ESLYOD",
        "outputId": "6b05ff64-d344-4ec2-86e2-e70f3af772ef"
      },
      "execution_count": null,
      "outputs": [
        {
          "output_type": "stream",
          "name": "stdout",
          "text": [
            "3 <class 'str'>\n",
            "3 <class 'int'>\n",
            "3.0 <class 'float'>\n"
          ]
        }
      ]
    },
    {
      "cell_type": "markdown",
      "source": [
        "### Python Numbers"
      ],
      "metadata": {
        "id": "YcQDB9BuLnVC"
      }
    },
    {
      "cell_type": "code",
      "source": [
        "x = 2 # int\n",
        "y = 3.4 # float\n",
        "z = 7j #complex\n",
        "print(x, type(x))\n",
        "print(y, type(y))\n",
        "print(z, type(z))"
      ],
      "metadata": {
        "colab": {
          "base_uri": "https://localhost:8080/"
        },
        "id": "ZTbeUCrVLppQ",
        "outputId": "e01d8786-3102-43ff-ec6b-f339a78b58b5"
      },
      "execution_count": null,
      "outputs": [
        {
          "output_type": "stream",
          "name": "stdout",
          "text": [
            "2 <class 'int'>\n",
            "3.4 <class 'float'>\n",
            "7j <class 'complex'>\n"
          ]
        }
      ]
    },
    {
      "cell_type": "markdown",
      "source": [
        "## Python Arithmetic Operators"
      ],
      "metadata": {
        "id": "qnZzDfeZL9zf"
      }
    },
    {
      "cell_type": "code",
      "source": [
        "# Operator Name Example\n",
        "# + Addition 7 + 2 = 9\n",
        "print(7 + 2)\n",
        "# - Subtraction 7 - 2 = 5\n",
        "print(7 - 2)\n",
        "# * Multiplication 7 * 2 = 14\n",
        "print(7 * 2)\n",
        "# / Division 7 / 2 = 3.5\n",
        "print(7 / 2)\n",
        "# // Floor division 7 // 2 = 3 (Quotient)\n",
        "print(7 // 2)\n",
        "# % Modulus 7 % 2 = 1 (Remainder)\n",
        "print(7 % 2)\n",
        "# ** Exponentiation 7 ** 2 = 49\n",
        "print(7 ** 2)"
      ],
      "metadata": {
        "colab": {
          "base_uri": "https://localhost:8080/"
        },
        "id": "0MrsGhRRMBNA",
        "outputId": "892fa8ec-f4ae-4fe7-b33c-e34a1320d209"
      },
      "execution_count": null,
      "outputs": [
        {
          "output_type": "stream",
          "name": "stdout",
          "text": [
            "9\n",
            "5\n",
            "14\n",
            "3.5\n",
            "3\n",
            "1\n",
            "49\n"
          ]
        }
      ]
    },
    {
      "cell_type": "markdown",
      "source": [
        "## Python Basic Operators"
      ],
      "metadata": {
        "id": "m6JHiD2_MguS"
      }
    },
    {
      "cell_type": "code",
      "source": [
        "print('7 + 2 =', 7 + 2)\n",
        "print('7 - 2 =', 7 - 2)\n",
        "print('7 * 2 =', 7 * 2)\n",
        "print('7 / 2 =', 7 / 2)\n",
        "print('7 // 2 =', 7 // 2)\n",
        "print('7 % 2 =', 7 % 2)\n",
        "print('7 ** 2 =', 7 ** 2)"
      ],
      "metadata": {
        "colab": {
          "base_uri": "https://localhost:8080/"
        },
        "id": "9CbD0kLUMkR7",
        "outputId": "542cd911-537a-48de-fbdb-a1cdd4186257"
      },
      "execution_count": null,
      "outputs": [
        {
          "output_type": "stream",
          "name": "stdout",
          "text": [
            "7 + 2 = 9\n",
            "7 - 2 = 5\n",
            "7 * 2 = 14\n",
            "7 / 2 = 3.5\n",
            "7 // 2 = 3\n",
            "7 % 2 = 1\n",
            "7 ** 2 = 49\n"
          ]
        }
      ]
    },
    {
      "cell_type": "markdown",
      "source": [
        "## Python Booleans: True or False"
      ],
      "metadata": {
        "id": "F2d5QC7xMuN-"
      }
    },
    {
      "cell_type": "code",
      "source": [
        "# Python Booleans: True or False\n",
        "print(3 > 4)\n",
        "print(3 == 4)\n",
        "print(3 < 4)"
      ],
      "metadata": {
        "colab": {
          "base_uri": "https://localhost:8080/"
        },
        "id": "Pr16o9muMzP7",
        "outputId": "20847a81-bcc7-4655-a8d8-f75bcca5deed"
      },
      "execution_count": null,
      "outputs": [
        {
          "output_type": "stream",
          "name": "stdout",
          "text": [
            "False\n",
            "False\n",
            "True\n"
          ]
        }
      ]
    },
    {
      "cell_type": "markdown",
      "source": [
        "## Python BMI Calculator"
      ],
      "metadata": {
        "id": "gHOprkujM-fQ"
      }
    },
    {
      "cell_type": "code",
      "source": [
        "# BMI Calculator in Python\n",
        "height_cm = 169\n",
        "weight_kg = 49\n",
        "height_m = height_cm/100\n",
        "BMI = (weight_kg/(height_m**2))\n",
        "\n",
        "print(\"My BMI is: \" + str(round(BMI,1)))"
      ],
      "metadata": {
        "colab": {
          "base_uri": "https://localhost:8080/"
        },
        "id": "5johw2ILNCTb",
        "outputId": "c62043c2-30a2-4c3d-923d-1991fcbbc150"
      },
      "execution_count": null,
      "outputs": [
        {
          "output_type": "stream",
          "name": "stdout",
          "text": [
            "My BMI is: 17.2\n"
          ]
        }
      ]
    },
    {
      "cell_type": "markdown",
      "source": [
        "## Future value of a specified principal amount, rate of interest, and a number of years\n"
      ],
      "metadata": {
        "id": "Ziz34U3gNStF"
      }
    },
    {
      "cell_type": "markdown",
      "source": [
        "### How much is your $100 worth after 7 years?"
      ],
      "metadata": {
        "id": "TyXjnK0OjURP"
      }
    },
    {
      "cell_type": "code",
      "source": [
        "# How much is your $100 worth after 7 years?\n",
        "fv = 100 * 1.1 ** 7\n",
        "print('fv = ', round(fv, 2))"
      ],
      "metadata": {
        "id": "O1Wg2we9Ni9i",
        "colab": {
          "base_uri": "https://localhost:8080/"
        },
        "outputId": "f5c268a3-4eb6-4449-debc-d973989604ef"
      },
      "execution_count": null,
      "outputs": [
        {
          "output_type": "stream",
          "name": "stdout",
          "text": [
            "fv =  194.87\n"
          ]
        }
      ]
    },
    {
      "cell_type": "markdown",
      "source": [
        "### Future Value"
      ],
      "metadata": {
        "id": "ZmHwSceuVq7D"
      }
    },
    {
      "cell_type": "code",
      "source": [
        "# Future Value\n",
        "pv = 100\n",
        "r = 0.1\n",
        "n = 7\n",
        "fv = pv * ((1 + (r)) ** n)\n",
        "print(round(fv, 2))\n",
        "\n",
        "amount = 100\n",
        "interest = 10 #10% = 0.01 * 10\n",
        "years = 7\n",
        "\n",
        "future_value = amount * ((1 + (0.01 * interest)) ** years)\n",
        "print(round(future_value, 2))"
      ],
      "metadata": {
        "colab": {
          "base_uri": "https://localhost:8080/"
        },
        "id": "FZiq8JwzVt_d",
        "outputId": "78b5850e-395e-4555-a84d-de4abeca8230"
      },
      "execution_count": null,
      "outputs": [
        {
          "output_type": "stream",
          "name": "stdout",
          "text": [
            "194.87\n",
            "194.87\n"
          ]
        }
      ]
    },
    {
      "cell_type": "markdown",
      "source": [
        "# **Python Data Structures**"
      ],
      "metadata": {
        "id": "1Kre78gfV9je"
      }
    },
    {
      "cell_type": "markdown",
      "source": [
        "## Python Collections"
      ],
      "metadata": {
        "id": "ZTPl9shOWP01"
      }
    },
    {
      "cell_type": "markdown",
      "source": [
        "### Lists[]\n",
        "• Method Description\n",
        "\n",
        "• append() Adds an element at the end of the list\n",
        "\n",
        "• clear() Removes all the elements from the list\n",
        "\n",
        "• copy() Returns a copy of the list\n",
        "\n",
        "• count() Returns the number of\n",
        "elements with the specified value\n",
        "\n",
        "• extend() Add the elements of a list (or any iterable), to the end of the\n",
        "current list\n",
        "\n",
        "• index() Returns the index of the first element with the specified value\n",
        "\n",
        "• insert() Adds an element at the specified position\n",
        "\n",
        "• pop() Removes the element at the specified position\n",
        "\n",
        "• remove()Removes the item with the specified value\n",
        "\n",
        "• reverse() Reverses the order of the list\n",
        "\n",
        "• sort() Sorts the list"
      ],
      "metadata": {
        "id": "ahhghXWzWfvz"
      }
    },
    {
      "cell_type": "code",
      "source": [
        "x = [50, 70, 90, 110]\n",
        "print(len(x))\n",
        "print(x[0])\n",
        "print(x[1])\n",
        "print(x[-1])\n",
        "print(x[-2])\n",
        "x.append(20)\n",
        "print(x)\n",
        "y=x.copy()\n",
        "print(y)\n",
        "y.count(70)"
      ],
      "metadata": {
        "colab": {
          "base_uri": "https://localhost:8080/"
        },
        "id": "SbjyCN2sWSW5",
        "outputId": "cadc6817-0053-46f0-d967-4d75e608d582"
      },
      "execution_count": null,
      "outputs": [
        {
          "output_type": "stream",
          "name": "stdout",
          "text": [
            "4\n",
            "50\n",
            "70\n",
            "110\n",
            "90\n",
            "[50, 70, 90, 110, 20]\n",
            "[50, 70, 90, 110, 20]\n"
          ]
        },
        {
          "output_type": "execute_result",
          "data": {
            "text/plain": [
              "1"
            ]
          },
          "metadata": {},
          "execution_count": 86
        }
      ]
    },
    {
      "cell_type": "markdown",
      "source": [
        "### Tuples()"
      ],
      "metadata": {
        "id": "brZlTbkkXv1d"
      }
    },
    {
      "cell_type": "code",
      "source": [
        "x = (10, 20, 30, 40, 50)\n",
        "print(x[0])\n",
        "print(x[1])\n",
        "print(x[2])\n",
        "print(x[-1])\n"
      ],
      "metadata": {
        "colab": {
          "base_uri": "https://localhost:8080/"
        },
        "id": "CjnWgaBVXxj5",
        "outputId": "f499ae7d-f339-49ce-f93a-8f80f97e4a13"
      },
      "execution_count": null,
      "outputs": [
        {
          "output_type": "stream",
          "name": "stdout",
          "text": [
            "10\n",
            "20\n",
            "30\n",
            "50\n"
          ]
        }
      ]
    },
    {
      "cell_type": "markdown",
      "source": [
        "### Sets{}"
      ],
      "metadata": {
        "id": "G-Y7jSgtX6d4"
      }
    },
    {
      "cell_type": "code",
      "source": [
        "animals = {'cat', 'dog', 'pig'}\n",
        "print('cat' in animals)\n",
        "print('fish' in animals)\n",
        "animals.add('fish')\n",
        "print('fish' in animals)\n",
        "print(len(animals))\n",
        "animals.add('cat')\n",
        "print(len(animals))\n",
        "animals.remove('pig')\n",
        "print(len(animals))"
      ],
      "metadata": {
        "colab": {
          "base_uri": "https://localhost:8080/"
        },
        "id": "k7Cn_xG6X-JL",
        "outputId": "948ba0d8-fbac-450c-870c-2ae6e40473d7"
      },
      "execution_count": null,
      "outputs": [
        {
          "output_type": "stream",
          "name": "stdout",
          "text": [
            "True\n",
            "False\n",
            "True\n",
            "4\n",
            "4\n",
            "3\n"
          ]
        }
      ]
    },
    {
      "cell_type": "markdown",
      "source": [
        "### Dictionary {key:value}"
      ],
      "metadata": {
        "id": "VnpXUHzNYO2z"
      }
    },
    {
      "cell_type": "code",
      "source": [
        "k = { 'EN':'English', 'FR':'French' }\n",
        "print(k['EN'])\n",
        "print(k['FR'])"
      ],
      "metadata": {
        "colab": {
          "base_uri": "https://localhost:8080/"
        },
        "id": "dspVr7O_YTHG",
        "outputId": "f7d9418c-59be-450a-a4fb-81ba120fd234"
      },
      "execution_count": null,
      "outputs": [
        {
          "output_type": "stream",
          "name": "stdout",
          "text": [
            "English\n",
            "French\n"
          ]
        }
      ]
    },
    {
      "cell_type": "markdown",
      "source": [
        "## Python Data Structures"
      ],
      "metadata": {
        "id": "0Dot24U2Yhyw"
      }
    },
    {
      "cell_type": "code",
      "source": [
        "fruits = [\"apple\", \"banana\", \"cherry\"] #lists []\n",
        "print(type(fruits))\n",
        "\n",
        "colors = (\"red\", \"green\", \"blue\") #tuples ()\n",
        "print(type(colors))\n",
        "\n",
        "animals = {'cat', 'dog'} #sets {}\n",
        "print(type(animals))\n",
        "\n",
        "person = {\"name\" : \"Tom\", \"age\" : 20} #dictionaries {}\n",
        "print(type(person))\n"
      ],
      "metadata": {
        "colab": {
          "base_uri": "https://localhost:8080/"
        },
        "id": "DxwkA__-Yk-L",
        "outputId": "46f28ce8-cddd-4d64-fef7-3cb10fa67528"
      },
      "execution_count": null,
      "outputs": [
        {
          "output_type": "stream",
          "name": "stdout",
          "text": [
            "<class 'list'>\n",
            "<class 'tuple'>\n",
            "<class 'set'>\n",
            "<class 'dict'>\n"
          ]
        }
      ]
    },
    {
      "cell_type": "markdown",
      "source": [
        "## Python for Finance Applications"
      ],
      "metadata": {
        "id": "dm9uEinuZI4S"
      }
    },
    {
      "cell_type": "code",
      "source": [
        "# Python Tuples\n",
        "accounts = ((\"Cash\", 1001), (\"Accounts Receivable\", 1002),\n",
        "(\"Inventory\", 1003))\n",
        "for account in accounts:\n",
        "  print(\"Account name:\", account[0], \"Account number:\", account[1])"
      ],
      "metadata": {
        "colab": {
          "base_uri": "https://localhost:8080/"
        },
        "id": "WYv0gTF9ZK_2",
        "outputId": "e11bd0a4-bcce-487b-c7be-4481fbb3a0a9"
      },
      "execution_count": null,
      "outputs": [
        {
          "output_type": "stream",
          "name": "stdout",
          "text": [
            "Account name: Cash Account number: 1001\n",
            "Account name: Accounts Receivable Account number: 1002\n",
            "Account name: Inventory Account number: 1003\n"
          ]
        }
      ]
    },
    {
      "cell_type": "code",
      "source": [
        "# Python Sets\n",
        "account_numbers = {1001, 1002, 1003}\n",
        "new_account_number = 1000\n",
        "if new_account_number not in account_numbers:\n",
        "  print(\"Account number\", new_account_number, \"is not in use.\")"
      ],
      "metadata": {
        "colab": {
          "base_uri": "https://localhost:8080/"
        },
        "id": "MIySaxlKZYJE",
        "outputId": "6176d91a-8510-4cce-acdd-75afab22d26a"
      },
      "execution_count": null,
      "outputs": [
        {
          "output_type": "stream",
          "name": "stdout",
          "text": [
            "Account number 1000 is not in use.\n"
          ]
        }
      ]
    },
    {
      "cell_type": "code",
      "source": [
        "# Python Dictionaries\n",
        "accounts = {\"1001\": {\"name\": \"Cash\", \"balance\": 500.00, \"type\": \"Asset\"},\n",
        "\"1002\": {\"name\": \"Accounts Receivable\", \"balance\": 1000.00, \"type\": \"Asset\"},\n",
        "\"2001\": {\"name\": \"Accounts Payable\", \"balance\": 750.00, \"type\": \"Liability\"}}\n",
        "for account_number, account_info in accounts.items():\n",
        "  print(\"Account number:\", account_number)\n",
        "  print(\"Account name:\", account_info[\"name\"])\n",
        "  print(\"Account balance:\", account_info[\"balance\"])\n",
        "  print(\"Account type:\", account_info[\"type\"])"
      ],
      "metadata": {
        "colab": {
          "base_uri": "https://localhost:8080/"
        },
        "id": "MXtaYkEIZh6q",
        "outputId": "98055439-7b04-4b9f-af14-79594b604b06"
      },
      "execution_count": null,
      "outputs": [
        {
          "output_type": "stream",
          "name": "stdout",
          "text": [
            "Account number: 1001\n",
            "Account name: Cash\n",
            "Account balance: 500.0\n",
            "Account type: Asset\n",
            "Account number: 1002\n",
            "Account name: Accounts Receivable\n",
            "Account balance: 1000.0\n",
            "Account type: Asset\n",
            "Account number: 2001\n",
            "Account name: Accounts Payable\n",
            "Account balance: 750.0\n",
            "Account type: Liability\n"
          ]
        }
      ]
    },
    {
      "cell_type": "markdown",
      "source": [
        "# **Python Control Logic and Loops**"
      ],
      "metadata": {
        "id": "Hczj_JeGZ09V"
      }
    },
    {
      "cell_type": "markdown",
      "source": [
        "## Python if...else"
      ],
      "metadata": {
        "id": "lnsEagmzZ-9t"
      }
    },
    {
      "cell_type": "markdown",
      "source": [],
      "metadata": {
        "id": "8MhxnL0KoWYs"
      }
    },
    {
      "cell_type": "markdown",
      "source": [
        "### Python if"
      ],
      "metadata": {
        "id": "RkwHaYAwluuA"
      }
    },
    {
      "cell_type": "code",
      "source": [
        "score = 100\n",
        "if score >=50 :\n",
        "  print(\"Pass\")"
      ],
      "metadata": {
        "id": "R172Ao-7Z4Vx",
        "colab": {
          "base_uri": "https://localhost:8080/"
        },
        "outputId": "8d42e1ac-6cf9-41a1-aad3-0b1bc47cce6f"
      },
      "execution_count": null,
      "outputs": [
        {
          "output_type": "stream",
          "name": "stdout",
          "text": [
            "Pass\n"
          ]
        }
      ]
    },
    {
      "cell_type": "markdown",
      "source": [
        "### Python if else"
      ],
      "metadata": {
        "id": "NARzp37jo7Lm"
      }
    },
    {
      "cell_type": "code",
      "source": [
        "score = 10\n",
        "if score >=50 :\n",
        "  print(\"Pass\")\n",
        "else:\n",
        "  print(\"Fail\")"
      ],
      "metadata": {
        "colab": {
          "base_uri": "https://localhost:8080/"
        },
        "id": "-VJq2oTBmL-u",
        "outputId": "5cd4a67d-c381-44b5-9153-980a41097778"
      },
      "execution_count": null,
      "outputs": [
        {
          "output_type": "stream",
          "name": "stdout",
          "text": [
            "Fail\n"
          ]
        }
      ]
    },
    {
      "cell_type": "markdown",
      "source": [
        "### Python if elif else"
      ],
      "metadata": {
        "id": "vCbMvaCrpHKG"
      }
    },
    {
      "cell_type": "code",
      "source": [
        "score = 90\n",
        "grade = \"\"\n",
        "if score >=90:\n",
        "  grade = \"A\"\n",
        "elif score >= 80:\n",
        "  grade = \"B\"\n",
        "elif score >= 70:\n",
        "  grade = \"C\"\n",
        "elif score >= 60:\n",
        "  grade = \"D\"\n",
        "else:\n",
        "  grade = \"E\"\n",
        "print(grade)"
      ],
      "metadata": {
        "colab": {
          "base_uri": "https://localhost:8080/"
        },
        "id": "2J4Og8a5mXZ3",
        "outputId": "2caca948-d02b-4cf1-9f0f-f486c188ad61"
      },
      "execution_count": null,
      "outputs": [
        {
          "output_type": "stream",
          "name": "stdout",
          "text": [
            "A\n"
          ]
        }
      ]
    },
    {
      "cell_type": "code",
      "source": [
        "score = 95\n",
        "if score >= 90 :\n",
        "  print(\"A\")\n",
        "elif score >=60 :\n",
        "  print(\"Pass\")\n",
        "else:\n",
        "  print(\"Fail\")"
      ],
      "metadata": {
        "colab": {
          "base_uri": "https://localhost:8080/"
        },
        "id": "rENwhJoTpM2V",
        "outputId": "ede9b3f2-aee1-41b5-caa8-4ae33925ed7c"
      },
      "execution_count": null,
      "outputs": [
        {
          "output_type": "stream",
          "name": "stdout",
          "text": [
            "A\n"
          ]
        }
      ]
    },
    {
      "cell_type": "markdown",
      "source": [
        "## Python for Loops"
      ],
      "metadata": {
        "id": "4-CsuB-Gl7ql"
      }
    },
    {
      "cell_type": "code",
      "source": [
        "for i in range(1,10):\n",
        "  print(i)"
      ],
      "metadata": {
        "colab": {
          "base_uri": "https://localhost:8080/"
        },
        "collapsed": true,
        "id": "5KMJC7wGl910",
        "outputId": "73e155cc-ba1c-4efb-9f05-4e6527c90da4"
      },
      "execution_count": null,
      "outputs": [
        {
          "output_type": "stream",
          "name": "stdout",
          "text": [
            "1\n",
            "2\n",
            "3\n",
            "4\n",
            "5\n",
            "6\n",
            "7\n",
            "8\n",
            "9\n"
          ]
        }
      ]
    },
    {
      "cell_type": "code",
      "source": [
        "for i in range(1,5):\n",
        "  for j in range(1,5):\n",
        "    print(i, ' * ' , j , ' = ', i*j)"
      ],
      "metadata": {
        "colab": {
          "base_uri": "https://localhost:8080/"
        },
        "collapsed": true,
        "id": "s0hWTsf-pele",
        "outputId": "49dfa4ac-bdf7-4d61-8e18-1d508e94c8f5"
      },
      "execution_count": null,
      "outputs": [
        {
          "output_type": "stream",
          "name": "stdout",
          "text": [
            "1  *  1  =  1\n",
            "1  *  2  =  2\n",
            "1  *  3  =  3\n",
            "1  *  4  =  4\n",
            "2  *  1  =  2\n",
            "2  *  2  =  4\n",
            "2  *  3  =  6\n",
            "2  *  4  =  8\n",
            "3  *  1  =  3\n",
            "3  *  2  =  6\n",
            "3  *  3  =  9\n",
            "3  *  4  =  12\n",
            "4  *  1  =  4\n",
            "4  *  2  =  8\n",
            "4  *  3  =  12\n",
            "4  *  4  =  16\n"
          ]
        }
      ]
    },
    {
      "cell_type": "markdown",
      "source": [
        "## Python while Loops"
      ],
      "metadata": {
        "id": "ubS_BYQjpvKG"
      }
    },
    {
      "cell_type": "code",
      "source": [
        "# while loops\n",
        "age = 10\n",
        "while age < 20:\n",
        "  print(age)\n",
        "  age = age + 1"
      ],
      "metadata": {
        "colab": {
          "base_uri": "https://localhost:8080/"
        },
        "collapsed": true,
        "id": "ycgeElkqpxRs",
        "outputId": "a2f5a49f-fee3-4144-a148-37a54de19bb8"
      },
      "execution_count": null,
      "outputs": [
        {
          "output_type": "stream",
          "name": "stdout",
          "text": [
            "10\n",
            "11\n",
            "12\n",
            "13\n",
            "14\n",
            "15\n",
            "16\n",
            "17\n",
            "18\n",
            "19\n"
          ]
        }
      ]
    },
    {
      "cell_type": "code",
      "source": [
        "# break\n",
        "age = 10\n",
        "while age < 20:\n",
        "  print(age)\n",
        "  age = age + 1\n",
        "  if age == 15:\n",
        "    break"
      ],
      "metadata": {
        "colab": {
          "base_uri": "https://localhost:8080/"
        },
        "collapsed": true,
        "id": "5RZ3nWBRqRRS",
        "outputId": "fe0f027b-14a9-42b9-cfbb-fc6ea42c2422"
      },
      "execution_count": null,
      "outputs": [
        {
          "output_type": "stream",
          "name": "stdout",
          "text": [
            "10\n",
            "11\n",
            "12\n",
            "13\n",
            "14\n"
          ]
        }
      ]
    },
    {
      "cell_type": "code",
      "source": [
        "# continue\n",
        "age = 10\n",
        "while age < 20:\n",
        "  age+=1\n",
        "  if age==15:\n",
        "    continue\n",
        "  print(age)\n"
      ],
      "metadata": {
        "colab": {
          "base_uri": "https://localhost:8080/"
        },
        "id": "zqxsfloCqjAG",
        "outputId": "e039c8e6-0e75-4192-c7ed-fe5687efad07"
      },
      "execution_count": null,
      "outputs": [
        {
          "output_type": "stream",
          "name": "stdout",
          "text": [
            "11\n",
            "12\n",
            "13\n",
            "14\n",
            "16\n",
            "17\n",
            "18\n",
            "19\n",
            "20\n"
          ]
        }
      ]
    },
    {
      "cell_type": "markdown",
      "source": [
        "# **Python Functions**"
      ],
      "metadata": {
        "id": "yx6ltTPYrx4P"
      }
    },
    {
      "cell_type": "markdown",
      "source": [
        "## Python Function def"
      ],
      "metadata": {
        "id": "gGB18Zx3r5b9"
      }
    },
    {
      "cell_type": "code",
      "source": [
        "# Python Function def\n",
        "# indentation for blocks. four spaces\n",
        "def getfv(pv, r, n):\n",
        "  fv = pv * ((1 + (r)) ** n)\n",
        "  return fv\n",
        "fv = getfv(100, 0.1, 7)\n",
        "print(round(fv, 2))"
      ],
      "metadata": {
        "colab": {
          "base_uri": "https://localhost:8080/"
        },
        "id": "rS0RkS6Ur1At",
        "outputId": "d82d0b33-3a00-462a-9949-dd3359dccc78"
      },
      "execution_count": null,
      "outputs": [
        {
          "output_type": "stream",
          "name": "stdout",
          "text": [
            "194.87\n"
          ]
        }
      ]
    },
    {
      "cell_type": "markdown",
      "source": [
        "# **Python Classes/Objects** class MyClass:"
      ],
      "metadata": {
        "id": "Onc9PJ2osbYe"
      }
    },
    {
      "cell_type": "markdown",
      "source": [
        "## Python Classes/Objects"
      ],
      "metadata": {
        "id": "dnax1Ru0tKgW"
      }
    },
    {
      "cell_type": "code",
      "source": [
        "# Python class\n",
        "class MyClass:\n",
        "  x = 5\n",
        "c1 = MyClass()\n",
        "print(c1.x)"
      ],
      "metadata": {
        "colab": {
          "base_uri": "https://localhost:8080/"
        },
        "id": "b4nJ-RJHsqjc",
        "outputId": "d3c12b76-eb76-49f2-d5e3-0795ab1ba904"
      },
      "execution_count": null,
      "outputs": [
        {
          "output_type": "stream",
          "name": "stdout",
          "text": [
            "5\n"
          ]
        }
      ]
    },
    {
      "cell_type": "code",
      "source": [
        "class Person:\n",
        "  def __init__(self, name, age):\n",
        "    self.name = name\n",
        "    self.age = age\n",
        "\n",
        "  def myfunc(self):\n",
        "    print(\"Hello my name is \" + self.name + \" and I'm \" + str(self.age) + \" years old\")\n",
        "\n",
        "p1 = Person(\"Chien\", 21)\n",
        "print(p1.name)\n",
        "print(p1.age)\n",
        "p1.myfunc()"
      ],
      "metadata": {
        "colab": {
          "base_uri": "https://localhost:8080/"
        },
        "id": "eq2p0s5ytiO9",
        "outputId": "b582b03d-49ad-4c3d-b6a2-e9fefde75368"
      },
      "execution_count": null,
      "outputs": [
        {
          "output_type": "stream",
          "name": "stdout",
          "text": [
            "Chien\n",
            "21\n",
            "Hello my name is Chien and I'm 21 years old\n"
          ]
        }
      ]
    },
    {
      "cell_type": "markdown",
      "source": [
        "## Python Classes and Obects"
      ],
      "metadata": {
        "id": "lTeVLHEVu5om"
      }
    },
    {
      "cell_type": "code",
      "source": [
        "class Vehicle:\n",
        "  name = \"\"\n",
        "  kind = \"car\"\n",
        "  color = \"\"\n",
        "  value = 100.00\n",
        "  def description(self):\n",
        "    desc_str = \"%s is a %s %s worth $%.2f.\" % (self.name, self.color, self.kind, self.value)\n",
        "    return desc_str\n",
        "\n",
        "car1 = Vehicle()\n",
        "car1.name = \"Fer\"\n",
        "car1.color = \"red\"\n",
        "car1.kind = \"convertible\"\n",
        "car1.value = 60000.00\n",
        "\n",
        "car2 = Vehicle()\n",
        "car2.name = \"Jump\"\n",
        "car2.color = \"blue\"\n",
        "car2.kind = \"van\"\n",
        "car2.value = 10000.00\n",
        "\n",
        "print(car1.description())\n",
        "print(car1.name)\n",
        "print(car2.description())\n",
        "print(car2.name)"
      ],
      "metadata": {
        "colab": {
          "base_uri": "https://localhost:8080/"
        },
        "id": "zcSZmUTMuh73",
        "outputId": "c1293f9b-1a69-4d14-9361-d37469edb773"
      },
      "execution_count": null,
      "outputs": [
        {
          "output_type": "stream",
          "name": "stdout",
          "text": [
            "Fer is a red convertible worth $60000.00.\n",
            "Fer\n",
            "Jump is a blue van worth $10000.00.\n",
            "Jump\n"
          ]
        }
      ]
    },
    {
      "cell_type": "markdown",
      "source": [
        "# **Python Modules**"
      ],
      "metadata": {
        "id": "Alb9Pp5Jvast"
      }
    },
    {
      "cell_type": "markdown",
      "source": [
        "## Python Modules"
      ],
      "metadata": {
        "id": "pkpDLSpfviem"
      }
    },
    {
      "cell_type": "code",
      "source": [
        "import mymodule\n",
        "mymodule.greeting(\"Alan\")"
      ],
      "metadata": {
        "colab": {
          "base_uri": "https://localhost:8080/"
        },
        "id": "J8vxtfMCvebM",
        "outputId": "8ab87018-f29d-4887-81f9-d5d2cdff39be"
      },
      "execution_count": null,
      "outputs": [
        {
          "output_type": "stream",
          "name": "stdout",
          "text": [
            "Hello, Alan\n"
          ]
        }
      ]
    },
    {
      "cell_type": "markdown",
      "source": [
        "## Python File Input / Output"
      ],
      "metadata": {
        "id": "GPkHZCULw6J9"
      }
    },
    {
      "cell_type": "code",
      "source": [
        "# Python File Input / Output\n",
        "with open('myfile.txt', 'w') as file:\n",
        "  file.write('Hello World\\nThis is Python File Input Output')\n",
        "\n",
        "with open('myfile.txt', 'r') as file:\n",
        "  text = file.read()\n",
        "  print(text)"
      ],
      "metadata": {
        "colab": {
          "base_uri": "https://localhost:8080/"
        },
        "id": "QN56uFLqw17Y",
        "outputId": "4a8db013-e81c-4c55-f485-886bf6e19a65"
      },
      "execution_count": null,
      "outputs": [
        {
          "output_type": "stream",
          "name": "stdout",
          "text": [
            "Hello World\n",
            "This is Python File Input Output\n"
          ]
        }
      ]
    },
    {
      "cell_type": "code",
      "source": [
        "# Python File Input / Output\n",
        "filename = 'mymodule.py'\n",
        "with open(filename, 'w') as file:\n",
        "  text = '''def greeting(name):\n",
        "  print(\"Hello, \" + name)\n",
        "  '''\n",
        "  file.write(text)\n",
        "\n",
        "with open(filename, 'r') as file:\n",
        "  text = file.read()\n",
        "\n",
        "print(filename)\n",
        "print(text)"
      ],
      "metadata": {
        "colab": {
          "base_uri": "https://localhost:8080/"
        },
        "id": "fUtOQVhuxQan",
        "outputId": "c887308b-52bf-44a8-f194-f80392d4da93"
      },
      "execution_count": null,
      "outputs": [
        {
          "output_type": "stream",
          "name": "stdout",
          "text": [
            "mymodule.py\n",
            "def greeting(name):\n",
            "  print(\"Hello, \" + name)\n",
            "  \n"
          ]
        }
      ]
    },
    {
      "cell_type": "markdown",
      "source": [
        "## Python main() function"
      ],
      "metadata": {
        "id": "saps5um5yamm"
      }
    },
    {
      "cell_type": "code",
      "source": [
        "def main():\n",
        "  print(\"Hello World!\")\n",
        "\n",
        "if __name__ == \"__main__\":\n",
        "  main()"
      ],
      "metadata": {
        "colab": {
          "base_uri": "https://localhost:8080/"
        },
        "id": "gOzlkVdwyctp",
        "outputId": "de732595-c9e1-4b06-f3bd-85b26d0530eb"
      },
      "execution_count": null,
      "outputs": [
        {
          "output_type": "stream",
          "name": "stdout",
          "text": [
            "Hello World!\n"
          ]
        }
      ]
    },
    {
      "cell_type": "markdown",
      "source": [
        "# **Files and Exception Handling**"
      ],
      "metadata": {
        "id": "5K9d35dpyyhl"
      }
    },
    {
      "cell_type": "markdown",
      "source": [
        "## Python Files(File Handling)"
      ],
      "metadata": {
        "id": "Mha-359XzMvW"
      }
    },
    {
      "cell_type": "code",
      "source": [
        "f = open(\"myfile.txt\", \"w\")\n",
        "f.write(\"Hello World\")\n",
        "f.close()\n",
        "\n",
        "f = open(\"myfile.txt\", \"r\")\n",
        "text = f.read()\n",
        "print(text)\n",
        "f.close()"
      ],
      "metadata": {
        "colab": {
          "base_uri": "https://localhost:8080/"
        },
        "id": "LWb5xnREy2px",
        "outputId": "eba6ea0e-994b-47c6-fa1d-b5df54e59c93"
      },
      "execution_count": null,
      "outputs": [
        {
          "output_type": "stream",
          "name": "stdout",
          "text": [
            "Hello World\n"
          ]
        }
      ]
    },
    {
      "cell_type": "code",
      "source": [
        "# Python File Input / Output\n",
        "with open('myfile.txt', 'w') as file:\n",
        "  file.write('Hello World\\nPython File IO')\n",
        "\n",
        "with open('myfile.txt', 'r') as file:\n",
        "  text = file.read()\n",
        "print(text +\"\\n ............\")\n",
        "\n",
        "with open('myfile.txt', 'a+') as file:\n",
        "  file.write('\\n' + 'New line')\n",
        "\n",
        "with open('myfile.txt', 'r') as file:\n",
        "  text = file.read()\n",
        "print(text)"
      ],
      "metadata": {
        "colab": {
          "base_uri": "https://localhost:8080/"
        },
        "id": "kBfT7H65z2He",
        "outputId": "0e13d3d2-6e8f-4480-93f0-69e8b42005f0"
      },
      "execution_count": null,
      "outputs": [
        {
          "output_type": "stream",
          "name": "stdout",
          "text": [
            "Hello World\n",
            "Python File IO\n",
            " ............\n",
            "Hello World\n",
            "Python File IO\n",
            "New line\n"
          ]
        }
      ]
    },
    {
      "cell_type": "code",
      "source": [
        "# !ls list files\n",
        "!ls"
      ],
      "metadata": {
        "colab": {
          "base_uri": "https://localhost:8080/"
        },
        "id": "8VhTHsi1001e",
        "outputId": "9680f82b-0bd7-408f-dddc-1cfdf5152eb4"
      },
      "execution_count": null,
      "outputs": [
        {
          "output_type": "stream",
          "name": "stdout",
          "text": [
            "myfile.txt  mymodule.py  __pycache__  sample_data\n"
          ]
        }
      ]
    },
    {
      "cell_type": "markdown",
      "source": [
        "## Python OS, IO, files, and Google Drive\n"
      ],
      "metadata": {
        "id": "6lXJh7PQ00Su"
      }
    },
    {
      "cell_type": "code",
      "source": [
        "import os\n",
        "cwd = os.getcwd()\n",
        "print(cwd)"
      ],
      "metadata": {
        "colab": {
          "base_uri": "https://localhost:8080/"
        },
        "id": "6kYCohoK1we_",
        "outputId": "2e6d054e-b624-4d16-febc-d660b323ea74"
      },
      "execution_count": null,
      "outputs": [
        {
          "output_type": "stream",
          "name": "stdout",
          "text": [
            "/content\n"
          ]
        }
      ]
    },
    {
      "cell_type": "code",
      "source": [
        "# os.listdir(cwd)\n",
        "os.listdir(cwd)"
      ],
      "metadata": {
        "colab": {
          "base_uri": "https://localhost:8080/"
        },
        "id": "1VvEw30E126G",
        "outputId": "09f6be63-552c-45a9-d7a1-d818cadc615f"
      },
      "execution_count": null,
      "outputs": [
        {
          "output_type": "execute_result",
          "data": {
            "text/plain": [
              "['.config', 'myfile.txt', 'mymodule.py', '__pycache__', 'sample_data']"
            ]
          },
          "metadata": {},
          "execution_count": 115
        }
      ]
    },
    {
      "cell_type": "markdown",
      "source": [
        "![image.png](data:image/png;base64,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)"
      ],
      "metadata": {
        "id": "Qj1Wi4Xy4AGN"
      }
    },
    {
      "cell_type": "code",
      "source": [
        "# os.listdir(cwd)\n",
        "path = os.path.join(cwd,'sample_data')\n",
        "print(path)\n",
        "os.listdir(path)"
      ],
      "metadata": {
        "colab": {
          "base_uri": "https://localhost:8080/"
        },
        "id": "TX4cQuFB2fov",
        "outputId": "fe706605-61f4-4ce6-b6d0-b0fe9c6b24e7"
      },
      "execution_count": null,
      "outputs": [
        {
          "output_type": "stream",
          "name": "stdout",
          "text": [
            "/content/sample_data\n"
          ]
        },
        {
          "output_type": "execute_result",
          "data": {
            "text/plain": [
              "['anscombe.json',\n",
              " 'README.md',\n",
              " 'mnist_test.csv',\n",
              " 'mnist_train_small.csv',\n",
              " 'california_housing_train.csv',\n",
              " 'california_housing_test.csv']"
            ]
          },
          "metadata": {},
          "execution_count": 118
        }
      ]
    },
    {
      "cell_type": "markdown",
      "source": [
        "![Screenshot 2025-09-16 163230.png](data:image/png;base64,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)"
      ],
      "metadata": {
        "id": "KwUSf49V3p6A"
      }
    },
    {
      "cell_type": "code",
      "source": [
        "#from google.colab import files\n",
        "from google.colab import files\n",
        "\n",
        "with open('io_file_myday.txt', 'w') as f:\n",
        "  f.write('Google Colab File Write Text some content Myday')\n",
        "\n",
        "import time\n",
        "time.sleep(1) # time sleep 1 second\n",
        "\n",
        "files.download('io_file_myday.txt')\n",
        "print('downloaded')"
      ],
      "metadata": {
        "colab": {
          "base_uri": "https://localhost:8080/",
          "height": 34
        },
        "id": "2MkT0SCs37KV",
        "outputId": "b247aba5-3a87-477a-8595-ff115d9f2369"
      },
      "execution_count": 119,
      "outputs": [
        {
          "output_type": "display_data",
          "data": {
            "text/plain": [
              "<IPython.core.display.Javascript object>"
            ],
            "application/javascript": [
              "\n",
              "    async function download(id, filename, size) {\n",
              "      if (!google.colab.kernel.accessAllowed) {\n",
              "        return;\n",
              "      }\n",
              "      const div = document.createElement('div');\n",
              "      const label = document.createElement('label');\n",
              "      label.textContent = `Downloading \"${filename}\": `;\n",
              "      div.appendChild(label);\n",
              "      const progress = document.createElement('progress');\n",
              "      progress.max = size;\n",
              "      div.appendChild(progress);\n",
              "      document.body.appendChild(div);\n",
              "\n",
              "      const buffers = [];\n",
              "      let downloaded = 0;\n",
              "\n",
              "      const channel = await google.colab.kernel.comms.open(id);\n",
              "      // Send a message to notify the kernel that we're ready.\n",
              "      channel.send({})\n",
              "\n",
              "      for await (const message of channel.messages) {\n",
              "        // Send a message to notify the kernel that we're ready.\n",
              "        channel.send({})\n",
              "        if (message.buffers) {\n",
              "          for (const buffer of message.buffers) {\n",
              "            buffers.push(buffer);\n",
              "            downloaded += buffer.byteLength;\n",
              "            progress.value = downloaded;\n",
              "          }\n",
              "        }\n",
              "      }\n",
              "      const blob = new Blob(buffers, {type: 'application/binary'});\n",
              "      const a = document.createElement('a');\n",
              "      a.href = window.URL.createObjectURL(blob);\n",
              "      a.download = filename;\n",
              "      div.appendChild(a);\n",
              "      a.click();\n",
              "      div.remove();\n",
              "    }\n",
              "  "
            ]
          },
          "metadata": {}
        },
        {
          "output_type": "display_data",
          "data": {
            "text/plain": [
              "<IPython.core.display.Javascript object>"
            ],
            "application/javascript": [
              "download(\"download_c9a87d5d-11d8-4b9f-b728-b8e3b8ea3f60\", \"io_file_myday.txt\", 47)"
            ]
          },
          "metadata": {}
        },
        {
          "output_type": "stream",
          "name": "stdout",
          "text": [
            "downloaded\n"
          ]
        }
      ]
    },
    {
      "cell_type": "code",
      "source": [
        "#from google.colab import files\n",
        "from google.colab import files\n",
        "uploaded = files.upload()\n",
        "\n",
        "for fn in uploaded.keys():\n",
        "  print('User uploaded file \"{name}\" with length {length} bytes'.format(\n",
        "name=fn, length=len(uploaded[fn])))"
      ],
      "metadata": {
        "id": "v9NLuRA04f51"
      },
      "execution_count": null,
      "outputs": []
    },
    {
      "cell_type": "code",
      "source": [
        "#os.remove()\n",
        "import os\n",
        "if os.path.exists(\"myfile.txt\"):\n",
        "  os.remove(\"myfile.txt\")\n",
        "  print(\"myfile.txt removed\")\n",
        "else:\n",
        "  print(\"The file does not exist\")"
      ],
      "metadata": {
        "colab": {
          "base_uri": "https://localhost:8080/"
        },
        "id": "RLb9Sj7O4447",
        "outputId": "9c84e263-fa60-469b-a0b0-d7a7fac0ee06"
      },
      "execution_count": 120,
      "outputs": [
        {
          "output_type": "stream",
          "name": "stdout",
          "text": [
            "myfile.txt removed\n"
          ]
        }
      ]
    },
    {
      "cell_type": "code",
      "source": [
        "#os.mkdir(\"myfolder1\")\n",
        "#os.rmdir(\"myfolder1\")\n",
        "import os\n",
        "#os.listdir()\n",
        "#os.mkdir(\"myfolder1\")\n",
        "#os.listdir()\n",
        "os.rmdir(\"myfolder1\")\n",
        "os.listdir()"
      ],
      "metadata": {
        "colab": {
          "base_uri": "https://localhost:8080/"
        },
        "id": "RHu8Ao_s5IjG",
        "outputId": "cf6a893d-9fc5-45c7-b9e5-f13afbb0b379"
      },
      "execution_count": 124,
      "outputs": [
        {
          "output_type": "execute_result",
          "data": {
            "text/plain": [
              "['.config', 'io_file_myday.txt', 'mymodule.py', '__pycache__', 'sample_data']"
            ]
          },
          "metadata": {},
          "execution_count": 124
        }
      ]
    },
    {
      "cell_type": "markdown",
      "source": [
        "## Python Try Except(Exception Handling)"
      ],
      "metadata": {
        "id": "yXBcU70q5jal"
      }
    },
    {
      "cell_type": "markdown",
      "source": [
        "### try: except:"
      ],
      "metadata": {
        "id": "HH-IcQGe6HYt"
      }
    },
    {
      "cell_type": "code",
      "source": [
        "#Python try except\n",
        "# x = (10, 20, 30, 40, 50)\n",
        "try:\n",
        "  print(x)\n",
        "except:\n",
        "  print(\"Exception Error\")"
      ],
      "metadata": {
        "colab": {
          "base_uri": "https://localhost:8080/"
        },
        "id": "3ZPokciu5nPe",
        "outputId": "e49443da-b9d7-4a83-83b0-9707af24701d"
      },
      "execution_count": 125,
      "outputs": [
        {
          "output_type": "stream",
          "name": "stdout",
          "text": [
            "(10, 20, 30, 40, 50)\n"
          ]
        }
      ]
    },
    {
      "cell_type": "markdown",
      "source": [
        "### try: except: finally:"
      ],
      "metadata": {
        "id": "pJ1joSRF6OEd"
      }
    },
    {
      "cell_type": "code",
      "source": [
        "#Python try except finally\n",
        "try:\n",
        "  print(\"Hello\")\n",
        "except:\n",
        "  print(\"Exception Error\")\n",
        "finally:\n",
        "  print(\"Finally process\")"
      ],
      "metadata": {
        "colab": {
          "base_uri": "https://localhost:8080/"
        },
        "id": "koUfxLu3523d",
        "outputId": "d27927cd-c1da-462a-9606-48f08afd3ab1"
      },
      "execution_count": 127,
      "outputs": [
        {
          "output_type": "stream",
          "name": "stdout",
          "text": [
            "Hello\n",
            "Finally process\n"
          ]
        }
      ]
    },
    {
      "cell_type": "markdown",
      "source": [
        "### try: except: else:\n"
      ],
      "metadata": {
        "id": "udiL29RY6T2k"
      }
    },
    {
      "cell_type": "code",
      "source": [
        "#Python try except else\n",
        "try:\n",
        "  print(\"Hello\")\n",
        "except:\n",
        "  print(\"Exception Error\")\n",
        "else:\n",
        "  print(\"No exception\")"
      ],
      "metadata": {
        "colab": {
          "base_uri": "https://localhost:8080/"
        },
        "id": "mHmy1sot6TgF",
        "outputId": "49334e13-2946-437f-b128-84002ec7970f"
      },
      "execution_count": 126,
      "outputs": [
        {
          "output_type": "stream",
          "name": "stdout",
          "text": [
            "Hello\n",
            "No exception\n"
          ]
        }
      ]
    },
    {
      "cell_type": "markdown",
      "source": [
        "### try: except: else: finally:\n"
      ],
      "metadata": {
        "id": "vIqEaFlQ6hRd"
      }
    },
    {
      "cell_type": "code",
      "source": [
        "try:\n",
        "  print(\"Hello\")\n",
        "except:\n",
        "  print(\"Exception Error\")\n",
        "else:\n",
        "  print(\"No exception\")\n",
        "finally:\n",
        "  print(\"Finally process\")"
      ],
      "metadata": {
        "colab": {
          "base_uri": "https://localhost:8080/"
        },
        "id": "JzxvxGJt6kwS",
        "outputId": "520b7141-8177-45de-bd7e-18b3da644d72"
      },
      "execution_count": 128,
      "outputs": [
        {
          "output_type": "stream",
          "name": "stdout",
          "text": [
            "Hello\n",
            "No exception\n",
            "Finally process\n"
          ]
        }
      ]
    },
    {
      "cell_type": "code",
      "source": [
        "try:\n",
        "  file = open(\"myfile.txt\")\n",
        "  file.write(\"Python write file\")\n",
        "  print(\"file saved\")\n",
        "except:\n",
        "  print(\"Exception file Error\")"
      ],
      "metadata": {
        "colab": {
          "base_uri": "https://localhost:8080/"
        },
        "id": "AsvAP6rW66VG",
        "outputId": "c693aa8c-1c37-43e1-ae1f-66581d9222dd"
      },
      "execution_count": 129,
      "outputs": [
        {
          "output_type": "stream",
          "name": "stdout",
          "text": [
            "Exception file Error\n"
          ]
        }
      ]
    },
    {
      "cell_type": "code",
      "source": [
        "try:\n",
        "  file = open(\"myfile.txt\")\n",
        "  file.write(\"Python write file\")\n",
        "  print(\"file saved\")\n",
        "except:\n",
        "  print(\"Exception file Error\")\n",
        "finally:\n",
        "  file.close()\n",
        "  print(\"Finally process\")"
      ],
      "metadata": {
        "colab": {
          "base_uri": "https://localhost:8080/"
        },
        "id": "wpIRfin27BS-",
        "outputId": "1a65d0b6-c99c-40fb-8814-1cf0495c0c50"
      },
      "execution_count": 130,
      "outputs": [
        {
          "output_type": "stream",
          "name": "stdout",
          "text": [
            "Exception file Error\n",
            "Finally process\n"
          ]
        }
      ]
    },
    {
      "cell_type": "markdown",
      "source": [
        "# Kết Thúc\n"
      ],
      "metadata": {
        "id": "DJpjRgkU7QJc"
      }
    }
  ]
}
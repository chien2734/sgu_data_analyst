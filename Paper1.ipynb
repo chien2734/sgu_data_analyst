{
  "nbformat": 4,
  "nbformat_minor": 0,
  "metadata": {
    "colab": {
      "provenance": [],
      "toc_visible": true,
      "authorship_tag": "ABX9TyN7ReN9J2ajx+yClhytj5w5",
      "include_colab_link": true
    },
    "kernelspec": {
      "name": "python3",
      "display_name": "Python 3"
    },
    "language_info": {
      "name": "python"
    }
  },
  "cells": [
    {
      "cell_type": "markdown",
      "metadata": {
        "id": "view-in-github",
        "colab_type": "text"
      },
      "source": [
        "<a href=\"https://colab.research.google.com/github/chien2734/sgu_data_analyst/blob/anh/Paper1.ipynb\" target=\"_parent\"><img src=\"https://colab.research.google.com/assets/colab-badge.svg\" alt=\"Open In Colab\"/></a>"
      ]
    },
    {
      "cell_type": "markdown",
      "source": [
        "#Phân tích Paper1 WHO 1999"
      ],
      "metadata": {
        "id": "-HJzH1ODjKi_"
      }
    },
    {
      "cell_type": "markdown",
      "source": [
        "##1. Bài toán và giải pháp"
      ],
      "metadata": {
        "id": "sW4aQehFjR63"
      }
    },
    {
      "cell_type": "markdown",
      "source": [
        "Paper WHO (1999) “Definition, Diagnosis and Classification of Diabetes Mellitus and its Complications” đưa ra:\n",
        "\n",
        "+ Vấn đề trước đây: nhiều tổ chức (NDDG 1979, WHO 1980/1985, ADA 1997) đưa ra tiêu chuẩn chẩn đoán khác nhau → gây khó khăn trong nghiên cứu và điều trị.\n",
        "\n",
        "+ Giải pháp WHO 1999:\n",
        "\n",
        "   + Chuẩn hóa định nghĩa: bệnh đái tháo đường là rối loạn chuyển hóa do thiếu insulin hoặc kháng insulin → tăng glucose máu mạn tính, gây biến chứng tim mạch, thận, mắt, thần kinh.\n",
        "\n",
        "   + Điều chỉnh tiêu chuẩn chẩn đoán: hạ ngưỡng FPG từ 7.8 xuống 7.0 mmol/L (126 mg/dL).\n",
        "\n",
        "   + Phân loại theo cơ chế bệnh sinh (Type 1, Type 2, Gestational, Other specific types).\n",
        "\n",
        "   + Giới thiệu nhóm trung gian: IFG (Impaired Fasting Glycaemia), IGT (Impaired Glucose Tolerance).\n",
        "\n",
        "   + Đưa vào khái niệm Hội chứng chuyển hóa (Metabolic Syndrome)."
      ],
      "metadata": {
        "id": "hbktglRujWV4"
      }
    },
    {
      "cell_type": "markdown",
      "source": [
        "## 2. Ý nghĩa bài toán: Input / Output / Mục tiêu"
      ],
      "metadata": {
        "id": "ISb7AOnukAbp"
      }
    },
    {
      "cell_type": "markdown",
      "source": [
        "###Input\n",
        "Xét nghiệm máu:\n",
        "\n",
        "+ FPG (Fasting Plasma Glucose – mmol/L hoặc mg/dL).\n",
        "\n",
        "+ OGTT 2h (đường huyết sau uống 75g glucose).\n",
        "\n",
        "+ HbA1c (chưa chuẩn hóa hoàn toàn năm 1999).\n",
        "\n",
        "Thông tin lâm sàng: triệu chứng (khát, tiểu nhiều, sụt cân), tiền sử gia đình, béo phì, tuổi, thai kỳ."
      ],
      "metadata": {
        "id": "XhIrv9_DkEs4"
      }
    },
    {
      "cell_type": "markdown",
      "source": [
        "###Output\n",
        "\n",
        "Phân loại tình trạng glucose:\n",
        "\n",
        "+ Normoglycaemia (bình thường).\n",
        "\n",
        "+ IFG / IGT (rối loạn dung nạp glucose – tiền ĐTĐ).\n",
        "\n",
        "+ Diabetes Mellitus (Type 1, Type 2, Gestational, Other specific types)."
      ],
      "metadata": {
        "id": "7a1_lrN-kXTn"
      }
    },
    {
      "cell_type": "markdown",
      "source": [
        "###Mục tiêu\n",
        "\n",
        "+ Chuẩn hóa tiêu chuẩn chẩn đoán trên toàn cầu.\n",
        "\n",
        "+ Phát hiện sớm bệnh nhân nguy cơ cao để dự phòng biến chứng.\n",
        "\n",
        "+ Cơ sở cho nghiên cứu dịch tễ (so sánh tỷ lệ bệnh quốc tế).\n",
        "\n",
        "+ Hỗ trợ lâm sàng trong phân loại và điều trị."
      ],
      "metadata": {
        "id": "WOuglWfSki7X"
      }
    },
    {
      "cell_type": "markdown",
      "source": [
        "## 3. Các nghiên cứu liên quan"
      ],
      "metadata": {
        "id": "AQ0bRvr4kxDI"
      }
    },
    {
      "cell_type": "markdown",
      "source": [
        "+ NDDG (1979): đưa ra chuẩn đầu tiên nhưng ngưỡng glucose cao, dễ bỏ sót bệnh.\n",
        "\n",
        "+ WHO (1980, 1985): tiêu chuẩn quốc tế đầu tiên, nhưng chưa nhất quán.\n",
        "\n",
        "+ ADA (1997): đề xuất hạ FPG xuống 7.0 mmol/L → nền tảng cho WHO 1999.\n",
        "\n",
        "+ Các nghiên cứu dịch tễ:\n",
        "\n",
        "  + McCance et al. (1994): so sánh HbA1c, FPG, OGTT → HbA1c chưa đủ chuẩn hóa.\n",
        "\n",
        "  + DECODE Study Group (1998): chứng minh OGTT quan trọng để phát hiện bệnh ở người già, châu Á.\n",
        "\n",
        "  + Ramachandran et al. (1998): ở người Ấn Độ, nguy cơ tim mạch tăng ngay cả ở mức glucose thấp hơn chuẩn cũ.\n",
        "👉 Các nghiên cứu này củng cố rằng: ngưỡng FPG = 7.0 mmol/L và giữ OGTT là hợp lý, phản ánh đúng nguy cơ biến chứng."
      ],
      "metadata": {
        "id": "OVDSoWNUk09Z"
      }
    }
  ]
}
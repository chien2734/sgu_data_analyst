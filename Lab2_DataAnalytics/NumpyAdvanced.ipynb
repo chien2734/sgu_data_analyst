{
  "nbformat": 4,
  "nbformat_minor": 0,
  "metadata": {
    "colab": {
      "provenance": [],
      "toc_visible": true,
      "authorship_tag": "ABX9TyOoQoRnAfZV5tBqdJOP5YQt",
      "include_colab_link": true
    },
    "kernelspec": {
      "name": "python3",
      "display_name": "Python 3"
    },
    "language_info": {
      "name": "python"
    }
  },
  "cells": [
    {
      "cell_type": "markdown",
      "metadata": {
        "id": "view-in-github",
        "colab_type": "text"
      },
      "source": [
        "<a href=\"https://colab.research.google.com/github/chien2734/sgu_data_analyst/blob/chien/Lab2_DataAnalytics/NumpyAdvanced.ipynb\" target=\"_parent\"><img src=\"https://colab.research.google.com/assets/colab-badge.svg\" alt=\"Open In Colab\"/></a>"
      ]
    },
    {
      "cell_type": "markdown",
      "source": [
        "## 9. Performance Tips"
      ],
      "metadata": {
        "id": "PWqP34Ob9TMB"
      }
    },
    {
      "cell_type": "markdown",
      "source": [
        "### 1. Lý do NumPy nhanh hơn Python thuần\n",
        "* NumPy dựa trên các mảng (arrays) thay vì danh sách Python → cho phép xử lý dữ liệu theo khối (vectorization).\n",
        "\n",
        "* Thay vì dùng vòng lặp for, bạn nên dùng toán tử mảng (+, *, np.mean(), np.sum(), …).\n",
        "\n",
        "* NumPy được viết bằng C, nên các thao tác nội bộ chạy rất nhanh."
      ],
      "metadata": {
        "id": "J3yW_qt79lWw"
      }
    },
    {
      "cell_type": "markdown",
      "source": [
        "### 2. Mẹo tối ưu chính"
      ],
      "metadata": {
        "id": "uLqOlduT9xUQ"
      }
    },
    {
      "cell_type": "markdown",
      "source": [
        "* Chuyển vòng lặp Python sang thao tác mảng NumPy.\n",
        "\n",
        "→ Thay vì:"
      ],
      "metadata": {
        "id": "1ijzYkjZ-eso"
      }
    },
    {
      "cell_type": "code",
      "execution_count": 5,
      "metadata": {
        "id": "OhkUAsXRlclU"
      },
      "outputs": [],
      "source": [
        "import numpy as np\n",
        "arr = [1, 2, 3, 4, 5]\n",
        "total = 0\n",
        "for x in arr:\n",
        "    total += x"
      ]
    },
    {
      "cell_type": "markdown",
      "source": [
        "dùng:"
      ],
      "metadata": {
        "id": "fVs3sj4R-qZK"
      }
    },
    {
      "cell_type": "code",
      "source": [
        "arr = np.array(arr)\n",
        "total = arr.sum()"
      ],
      "metadata": {
        "id": "p-tXjY8O-id9"
      },
      "execution_count": 6,
      "outputs": []
    },
    {
      "cell_type": "markdown",
      "source": [
        "* Dùng broadcasting thay vì lặp nhiều chiều.\n",
        "Broadcasting giúp tự động mở rộng mảng để tính toán mà không cần sao chép dữ liệu.\n",
        "\n",
        "* Dùng slicing (cắt mảng) thay vì copy dữ liệu.\n",
        "\n",
        " * Tận dụng ufuncs (universal functions) như np.add, np.exp, np.log vì chúng chạy nhanh hơn rất nhiều so với hàm Python."
      ],
      "metadata": {
        "id": "fvlhUdo2_EU_"
      }
    },
    {
      "cell_type": "markdown",
      "source": [
        "### 3. Khi NumPy vẫn chưa đủ nhanh\n",
        "\n",
        "Có thể dùng:\n",
        "\n",
        "* Cython (viết code Python + C)\n",
        "\n",
        "* C hoặc Fortran nếu cần tốc độ cực cao\n",
        "→ Cython thường được khuyên dùng vì dễ tích hợp hơn."
      ],
      "metadata": {
        "id": "wPNDoWkL_R5A"
      }
    },
    {
      "cell_type": "markdown",
      "source": [
        "### 4. Tầm quan trọng của bộ nhớ liên tục (Contiguous Memory)\n",
        "\n",
        "* Tốc độ xử lý phụ thuộc vào cách dữ liệu được lưu trong bộ nhớ (theo hàng hay theo cột).\n",
        "\n",
        "* NumPy có hai kiểu:\n",
        "\n",
        "  * 'C' order: lưu theo hàng (row-major) → mặc định của NumPy\n",
        "\n",
        "  * 'F' order: lưu theo cột (column-major) → giống Fortran"
      ],
      "metadata": {
        "id": "6NMZLd6D_a_I"
      }
    },
    {
      "cell_type": "markdown",
      "source": [
        "Ví dụ:"
      ],
      "metadata": {
        "id": "P_MMHXyK_iqw"
      }
    },
    {
      "cell_type": "code",
      "source": [
        "arr_c = np.ones((100, 10000), order='C')\n",
        "arr_c.flags"
      ],
      "metadata": {
        "colab": {
          "base_uri": "https://localhost:8080/"
        },
        "id": "3_20yYTI_phw",
        "outputId": "f9e6ca29-8746-4182-c104-e78cf7ee9c74"
      },
      "execution_count": 7,
      "outputs": [
        {
          "output_type": "execute_result",
          "data": {
            "text/plain": [
              "  C_CONTIGUOUS : True\n",
              "  F_CONTIGUOUS : False\n",
              "  OWNDATA : True\n",
              "  WRITEABLE : True\n",
              "  ALIGNED : True\n",
              "  WRITEBACKIFCOPY : False"
            ]
          },
          "metadata": {},
          "execution_count": 7
        }
      ]
    },
    {
      "cell_type": "code",
      "source": [
        "arr_c.flags.c_contiguous"
      ],
      "metadata": {
        "colab": {
          "base_uri": "https://localhost:8080/"
        },
        "id": "ZXnM0lJJAMSR",
        "outputId": "bf6217c7-9e38-45fa-e316-c49d328cc9f7"
      },
      "execution_count": 10,
      "outputs": [
        {
          "output_type": "execute_result",
          "data": {
            "text/plain": [
              "True"
            ]
          },
          "metadata": {},
          "execution_count": 10
        }
      ]
    },
    {
      "cell_type": "code",
      "source": [
        "arr_f = np.ones((100, 10000), order='F')\n",
        "arr_f.flags"
      ],
      "metadata": {
        "colab": {
          "base_uri": "https://localhost:8080/"
        },
        "id": "h4tQ-YRk_zE4",
        "outputId": "204ae7f4-3736-42d0-bb5d-fa9998f6d057"
      },
      "execution_count": 8,
      "outputs": [
        {
          "output_type": "execute_result",
          "data": {
            "text/plain": [
              "  C_CONTIGUOUS : False\n",
              "  F_CONTIGUOUS : True\n",
              "  OWNDATA : True\n",
              "  WRITEABLE : True\n",
              "  ALIGNED : True\n",
              "  WRITEBACKIFCOPY : False"
            ]
          },
          "metadata": {},
          "execution_count": 8
        }
      ]
    },
    {
      "cell_type": "code",
      "source": [
        "arr_f.flags.f_contiguous"
      ],
      "metadata": {
        "colab": {
          "base_uri": "https://localhost:8080/"
        },
        "id": "sLZqAc-7AC6A",
        "outputId": "0bc879d9-ff8d-484a-e8d0-124bfa3f7c17"
      },
      "execution_count": 9,
      "outputs": [
        {
          "output_type": "execute_result",
          "data": {
            "text/plain": [
              "True"
            ]
          },
          "metadata": {},
          "execution_count": 9
        }
      ]
    },
    {
      "cell_type": "code",
      "source": [
        "%timeit arr_c.sum(1)  # 444 µs\n",
        "%timeit arr_f.sum(1)  # 581 µs"
      ],
      "metadata": {
        "colab": {
          "base_uri": "https://localhost:8080/"
        },
        "id": "fr6TxKp6AUon",
        "outputId": "c29ad355-e21d-4044-a48d-f17170456ec1"
      },
      "execution_count": 11,
      "outputs": [
        {
          "output_type": "stream",
          "name": "stdout",
          "text": [
            "551 µs ± 128 µs per loop (mean ± std. dev. of 7 runs, 1000 loops each)\n",
            "681 µs ± 9.02 µs per loop (mean ± std. dev. of 7 runs, 1000 loops each)\n"
          ]
        }
      ]
    },
    {
      "cell_type": "markdown",
      "source": [
        "→ Mảng C (theo hàng) nhanh hơn vì dữ liệu liên tiếp trong bộ nhớ."
      ],
      "metadata": {
        "id": "YUg89bD7AdPX"
      }
    },
    {
      "cell_type": "markdown",
      "source": [
        "### 5. Một số lưu ý khác:\n",
        "\n",
        "* .copy('C') hoặc .copy('F') có thể đổi kiểu sắp xếp bộ nhớ.\n",
        "\n",
        "* Các view (cắt lát mảng) có thể mất tính liên tục, làm giảm tốc độ.\n",
        "\n",
        "Ví dụ:"
      ],
      "metadata": {
        "id": "rCfi1P47AiMH"
      }
    },
    {
      "cell_type": "code",
      "source": [
        "arr_f.copy('C').flags\n"
      ],
      "metadata": {
        "colab": {
          "base_uri": "https://localhost:8080/"
        },
        "id": "AWKVEl82AedB",
        "outputId": "50257d4e-bf07-4413-c63e-786b432f334b"
      },
      "execution_count": 15,
      "outputs": [
        {
          "output_type": "execute_result",
          "data": {
            "text/plain": [
              "  C_CONTIGUOUS : True\n",
              "  F_CONTIGUOUS : False\n",
              "  OWNDATA : True\n",
              "  WRITEABLE : True\n",
              "  ALIGNED : True\n",
              "  WRITEBACKIFCOPY : False"
            ]
          },
          "metadata": {},
          "execution_count": 15
        }
      ]
    },
    {
      "cell_type": "code",
      "source": [
        "arr_c[:50].flags.contiguous  # False\n"
      ],
      "metadata": {
        "colab": {
          "base_uri": "https://localhost:8080/"
        },
        "id": "_tHJS_wXAuQA",
        "outputId": "bbf3ce82-a993-4932-bcf8-9d14acf0cb93"
      },
      "execution_count": 16,
      "outputs": [
        {
          "output_type": "execute_result",
          "data": {
            "text/plain": [
              "True"
            ]
          },
          "metadata": {},
          "execution_count": 16
        }
      ]
    },
    {
      "cell_type": "code",
      "source": [
        "arr_c[:, :50].flags"
      ],
      "metadata": {
        "colab": {
          "base_uri": "https://localhost:8080/"
        },
        "id": "qJRjrmY8BPPA",
        "outputId": "6951f06d-6f8f-48b1-cf4f-da1964aad3b9"
      },
      "execution_count": 17,
      "outputs": [
        {
          "output_type": "execute_result",
          "data": {
            "text/plain": [
              "  C_CONTIGUOUS : False\n",
              "  F_CONTIGUOUS : False\n",
              "  OWNDATA : False\n",
              "  WRITEABLE : True\n",
              "  ALIGNED : True\n",
              "  WRITEBACKIFCOPY : False"
            ]
          },
          "metadata": {},
          "execution_count": 17
        }
      ]
    },
    {
      "cell_type": "code",
      "source": [],
      "metadata": {
        "id": "WWgGpmOIBQ21"
      },
      "execution_count": null,
      "outputs": []
    }
  ]
}
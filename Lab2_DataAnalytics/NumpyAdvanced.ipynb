{
  "cells": [
    {
      "cell_type": "markdown",
      "metadata": {
        "colab_type": "text",
        "id": "view-in-github"
      },
      "source": [
        "<a href=\"https://colab.research.google.com/github/chien2734/sgu_data_analyst/blob/chien/Lab2_DataAnalytics/NumpyAdvanced.ipynb\" target=\"_parent\"><img src=\"https://colab.research.google.com/assets/colab-badge.svg\" alt=\"Open In Colab\"/></a>\n"
      ]
    },
    {
      "cell_type": "markdown",
      "metadata": {},
      "source": [
        "# ADVANCED NUMPY\n"
      ]
    },
    {
      "cell_type": "markdown",
      "metadata": {},
      "source": [
        "**Nạp thư viện**\n"
      ]
    },
    {
      "cell_type": "code",
      "execution_count": 1,
      "metadata": {},
      "outputs": [
        {
          "name": "stdout",
          "output_type": "stream",
          "text": [
            "NumPy version: 1.23.5\n",
            "Numba version: 0.60.0\n"
          ]
        }
      ],
      "source": [
        "import numpy as np\n",
        "import numba as nb\n",
        "import os # Dùng để quản lý file\n",
        "\n",
        "# Khởi tạo bộ sinh số ngẫu nhiên\n",
        "rng = np.random.default_rng()\n",
        "\n",
        "print(f\"NumPy version: {np.__version__}\")\n",
        "print(f\"Numba version: {nb.__version__}\")"
      ]
    },
    {
      "cell_type": "markdown",
      "metadata": {},
      "source": [
        "## A.7: Writing Fast NumPy Functions with Numba (Tăng tốc các hàm NumPy với Numba)\n",
        "\n",
        "**Numba** là một trình biên dịch **Just-In-Time (JIT)** giúp dịch mã Python (và NumPy) sang mã máy (machine code) ngay tại thời điểm chạy. Kết quả là tốc độ thực thi có thể tăng lên hàng trăm lần, đôi khi còn nhanh hơn cả các hàm NumPy được viết sẵn bằng C.\n",
        "\n",
        "### 1.Vấn đề: Vòng lặp `for` trong Python rất chậm\n",
        "\n",
        "Hãy xem xét một hàm Python thuần túy tính toán `(x - y).mean()` bằng vòng lặp `for`.\n"
      ]
    },
    {
      "cell_type": "code",
      "execution_count": 2,
      "metadata": {},
      "outputs": [
        {
          "name": "stdout",
          "output_type": "stream",
          "text": [
            "Đo hiệu năng của hàm Python thuần túy:\n",
            "1.92 s ± 27.5 ms per loop (mean ± std. dev. of 7 runs, 1 loop each)\n",
            "\n",
            "Đo hiệu năng của hàm NumPy vector hóa:\n",
            "42.4 ms ± 10.2 ms per loop (mean ± std. dev. of 7 runs, 10 loops each)\n"
          ]
        }
      ],
      "source": [
        "# Hàm Python thuần túy\n",
        "def mean_distance(x, y):\n",
        "    nx = len(x)\n",
        "    result = 0.0\n",
        "    count = 0\n",
        "    for i in range(nx):\n",
        "        result += x[i] - y[i]\n",
        "        count += 1\n",
        "    return result / count\n",
        "\n",
        "# Tạo dữ liệu lớn để kiểm tra\n",
        "x = rng.standard_normal(10_000_000)\n",
        "y = rng.standard_normal(10_000_000)\n",
        "\n",
        "print(\"Đo hiệu năng của hàm Python thuần túy:\")\n",
        "%timeit mean_distance(x, y)\n",
        "\n",
        "print(\"\\nĐo hiệu năng của hàm NumPy vector hóa:\")\n",
        "%timeit (x - y).mean()"
      ]
    },
    {
      "cell_type": "markdown",
      "metadata": {},
      "source": [
        "### 2. Giải pháp: Dùng `@numba.jit`\n",
        "\n",
        "Chỉ cần thêm một **decorator** là `@nb.jit` vào trước hàm, Numba sẽ tự động biên dịch nó sang mã máy trong lần chạy đầu tiên.\n"
      ]
    },
    {
      "cell_type": "code",
      "execution_count": 3,
      "metadata": {},
      "outputs": [
        {
          "name": "stdout",
          "output_type": "stream",
          "text": [
            "Đo hiệu năng của hàm đã được Numba tăng tốc:\n",
            "7.98 ms ± 841 µs per loop (mean ± std. dev. of 7 runs, 1 loop each)\n"
          ]
        }
      ],
      "source": [
        "@nb.jit\n",
        "def mean_distance_numba(x, y):\n",
        "    nx = len(x)\n",
        "    result = 0.0\n",
        "    count = 0\n",
        "    for i in range(nx):\n",
        "        result += x[i] - y[i]\n",
        "        count += 1\n",
        "    return result / count\n",
        "\n",
        "# Lần chạy đầu tiên sẽ mất một chút thời gian để biên dịch\n",
        "print(\"Đo hiệu năng của hàm đã được Numba tăng tốc:\")\n",
        "%timeit mean_distance_numba(x, y)"
      ]
    },
    {
      "cell_type": "markdown",
      "metadata": {},
      "source": [
        "**Nhận xét**: Như bạn thấy, hàm Numba không chỉ nhanh hơn rất nhiều so với hàm Python thuần túy mà còn vượt qua cả hàm NumPy vector hóa. Điều này là do Numba có thể tối ưu hóa toàn bộ vòng lặp và các phép toán vào một khối mã máy hiệu quả, tránh được chi phí tạo ra các mảng trung gian.\n"
      ]
    },
    {
      "cell_type": "markdown",
      "metadata": {},
      "source": [
        "### 3. Chế độ `nopython` và `njit`\n",
        "\n",
        "Để đảm bảo hiệu năng cao nhất, chúng ta có thể yêu cầu Numba chạy ở chế độ **\"nopython\"** (`nopython=True`). Chế độ này sẽ báo lỗi nếu Numba không thể biên dịch toàn bộ hàm sang mã máy (tức là không còn phụ thuộc vào trình thông dịch của Python).\n",
        "\n",
        "`@nb.njit` là một cách viết tắt cho `@nb.jit(nopython=True)`.\n",
        "\n",
        "#### Tối ưu hóa với Chữ ký Kiểu (Type Signatures)\n",
        "\n",
        "Bạn còn có thể giúp Numba tối ưu hơn nữa bằng cách cung cấp \"chữ ký kiểu\" (type signature) cho hàm. Điều này cho Numba biết chính xác kiểu dữ liệu đầu vào và đầu ra.\n",
        "\n",
        "Ví dụ, hàm `mean_distance` của chúng ta có thể được viết lại bằng chính cú pháp của NumPy và vẫn được Numba tăng tốc.\n"
      ]
    },
    {
      "cell_type": "code",
      "execution_count": 5,
      "metadata": {},
      "outputs": [
        {
          "name": "stdout",
          "output_type": "stream",
          "text": [
            "Đo hiệu năng hàm Numba với cú pháp NumPy:\n",
            "28.4 ms ± 555 µs per loop (mean ± std. dev. of 7 runs, 10 loops each)\n"
          ]
        }
      ],
      "source": [
        "from numba import float64, njit\n",
        "\n",
        "@njit(float64(float64[:], float64[:]))\n",
        "def mean_distance_numpy_style(x, y):\n",
        "    return (x - y).mean()\n",
        "\n",
        "print(\"Đo hiệu năng hàm Numba với cú pháp NumPy:\")\n",
        "%timeit mean_distance_numpy_style(x, y)"
      ]
    },
    {
      "cell_type": "markdown",
      "metadata": {},
      "source": [
        "**Nhận xét**: Mặc dù bên trong hàm này không có vòng lặp for tường minh, @njit vẫn có thể nhận diện các hàm NumPy và biên dịch chúng thành một vòng lặp hợp nhất (fused loop) cực kỳ hiệu quả ở tầng mã máy.\n"
      ]
    },
    {
      "cell_type": "markdown",
      "metadata": {},
      "source": [
        "### 4.Tạo ufunc tùy chỉnh với `@numba.vectorize`\n",
        "\n",
        "Numba cũng cho phép bạn dễ dàng tạo ra các hàm `ufunc` (Universal Functions) của riêng mình. Các hàm này sẽ tự động được áp dụng lên từng phần tử của mảng NumPy.\n"
      ]
    },
    {
      "cell_type": "code",
      "execution_count": null,
      "metadata": {},
      "outputs": [
        {
          "name": "stdout",
          "output_type": "stream",
          "text": [
            "Sử dụng ufunc nb_add: [ 0  2  4  6  8 10 12 14 16 18]\n",
            "Sử dụng accumulate: [ 0  1  3  6 10 15 21 28 36 45]\n"
          ]
        }
      ],
      "source": [
        "# Ghi rõ các chữ ký kiểu cho ufunc để hỗ trợ int64 và float64\n",
        "@nb.vectorize([\"int64(int64,int64)\", \"float64(float64,float64)\"], nopython=True)\n",
        "def nb_add(x, y):\n",
        "    return x + y\n",
        "\n",
        "a = np.arange(10)\n",
        "print(f\"Sử dụng ufunc nb_add: {nb_add(a, a)}\")\n",
        "\n",
        "print(f\"Sử dụng accumulate: {nb_add.accumulate(a, 0)}\")"
      ]
    },
    {
      "cell_type": "markdown",
      "metadata": {},
      "source": [
        "**Nhận xét**: Với @vectorize, bạn không cần phải tự viết vòng lặp for. Bạn chỉ cần định nghĩa logic cho một cặp phần tử, và Numba sẽ lo phần còn lại, tạo ra một hàm có thể phát sóng (broadcast) và xử lý mảng một cách hiệu quả.\n"
      ]
    },
    {
      "cell_type": "markdown",
      "metadata": {},
      "source": [
        "## A.8: Advanced Array Input and Output (Kỹ thuật Input/Output nâng cao)\n",
        "\n",
        "Khi làm việc với các bộ dữ liệu cực lớn không thể tải hết vào bộ nhớ RAM, **Memory-Mapped Files (memmap)** là một giải pháp cứu cánh.\n",
        "\n",
        "**Memmap** cho phép bạn thao tác với một file nhị phân trên đĩa **như thể nó là một mảng trong bộ nhớ**. NumPy sẽ tự động quản lý việc đọc các phần nhỏ của file khi cần thiết, thay vì đọc toàn bộ.\n"
      ]
    },
    {
      "cell_type": "code",
      "execution_count": 4,
      "metadata": {},
      "outputs": [
        {
          "name": "stdout",
          "output_type": "stream",
          "text": [
            "Đối tượng memmap đã được tạo:\n",
            "[[0. 0. 0. ... 0. 0. 0.]\n",
            " [0. 0. 0. ... 0. 0. 0.]\n",
            " [0. 0. 0. ... 0. 0. 0.]\n",
            " ...\n",
            " [0. 0. 0. ... 0. 0. 0.]\n",
            " [0. 0. 0. ... 0. 0. 0.]\n",
            " [0. 0. 0. ... 0. 0. 0.]]\n",
            "\n",
            "Đã ghi dữ liệu ngẫu nhiên vào 5 hàng đầu tiên.\n",
            "Dữ liệu đã được flush xuống đĩa.\n"
          ]
        }
      ],
      "source": [
        "filename = 'mymmap'\n",
        "shape = (10000, 10000)\n",
        "dtype = np.float64\n",
        "\n",
        "# Tạo một file memmap mới ở chế độ ghi và đọc ('w+')\n",
        "mmap = np.memmap(filename, dtype=dtype, mode='w+', shape=shape)\n",
        "print(\"Đối tượng memmap đã được tạo:\")\n",
        "print(mmap)\n",
        "\n",
        "# Đây là một \"view\", không phải bản sao\n",
        "section = mmap[:5]\n",
        "\n",
        "section[:] = rng.standard_normal((5, 10000))\n",
        "print(\"\\nĐã ghi dữ liệu ngẫu nhiên vào 5 hàng đầu tiên.\")\n",
        "\n",
        "# Đồng bộ hóa các thay đổi từ bộ nhớ đệm (buffer) xuống file trên đĩa\n",
        "mmap.flush()\n",
        "print(\"Dữ liệu đã được flush xuống đĩa.\")"
      ]
    },
    {
      "cell_type": "markdown",
      "metadata": {},
      "source": [
        "### **Đọc từ Memmap**\n",
        "\n",
        "Để mở một file memmap đã tồn tại, bạn chỉ cần cung cấp `filename`, `dtype`, và `shape`.\n"
      ]
    },
    {
      "cell_type": "code",
      "execution_count": null,
      "metadata": {},
      "outputs": [
        {
          "name": "stdout",
          "output_type": "stream",
          "text": [
            "5 hàng đầu tiên đọc từ file memmap đã lưu:\n",
            "[[ 0.55892394  0.41611858  1.12940627 ... -0.03818604  0.45331686\n",
            "  -1.47637291]\n",
            " [-0.2409946   0.04709209  0.01203819 ... -0.270605   -1.66487881\n",
            "  -0.24056536]\n",
            " [ 0.3050747  -0.17881751 -1.64675548 ... -1.35197121  0.35262594\n",
            "  -0.41166427]\n",
            " [-0.81662365 -0.63352441  1.21095092 ...  0.74325194 -0.51218403\n",
            "  -1.06096309]\n",
            " [-1.89479073  0.8836742   1.35844008 ...  0.79089143  0.40131958\n",
            "  -0.85393979]]\n",
            "NameError: name 'mmap' is not defined\n",
            "\n",
            "File 'mymmap' đã được xóa thành công.\n"
          ]
        }
      ],
      "source": [
        "filename = 'mymmap' #\n",
        "dtype = np.float64\n",
        "shape = (10000, 10000)\n",
        "\n",
        "mmap_read = np.memmap(filename, dtype=dtype, shape=shape)\n",
        "\n",
        "print(\"5 hàng đầu tiên đọc từ file memmap đã lưu:\")\n",
        "print(mmap_read[:5])\n",
        "\n",
        "# %xdel là một \"magic command\" của IPython giúp xóa biến và các tham chiếu của nó\n",
        "%xdel mmap\n",
        "%xdel mmap_read\n",
        "\n",
        "# Xóa file vật lý khỏi đĩa\n",
        "try:\n",
        "    os.remove(filename)\n",
        "    print(f\"\\nFile '{filename}' đã được xóa thành công.\")\n",
        "except OSError as e:\n",
        "    print(f\"Lỗi khi xóa file: {e}\")"
      ]
    },
    {
      "cell_type": "markdown",
      "metadata": {},
      "source": [
        "### **Các lựa chọn lưu trữ khác: HDF5**\n",
        "\n",
        "Đối với các nhu cầu lưu trữ dữ liệu khoa học cực lớn và phức tạp, định dạng **HDF5 (Hierarchical Data Format)** là một tiêu chuẩn công nghiệp. Các thư viện Python như **h5py** và **PyTables** cung cấp giao diện thân thiện với NumPy để làm việc với file HDF5, hỗ trợ nén dữ liệu hiệu quả và truy vấn phức tạp.\n"
      ]
    },
    {
      "cell_type": "markdown",
      "metadata": {
        "id": "PWqP34Ob9TMB"
      },
      "source": [
        "## A.9 Performance Tips\n"
      ]
    },
    {
      "cell_type": "markdown",
      "metadata": {
        "id": "J3yW_qt79lWw"
      },
      "source": [
        "### 1. Lý do NumPy nhanh hơn Python thuần\n",
        "\n",
        "- NumPy dựa trên các mảng (arrays) thay vì danh sách Python → cho phép xử lý dữ liệu theo khối (vectorization).\n",
        "\n",
        "- Thay vì dùng vòng lặp for, bạn nên dùng toán tử mảng (+, \\*, np.mean(), np.sum(), …).\n",
        "\n",
        "- NumPy được viết bằng C, nên các thao tác nội bộ chạy rất nhanh.\n"
      ]
    },
    {
      "cell_type": "markdown",
      "metadata": {
        "id": "uLqOlduT9xUQ"
      },
      "source": [
        "### 2. Mẹo tối ưu chính\n"
      ]
    },
    {
      "cell_type": "markdown",
      "metadata": {
        "id": "1ijzYkjZ-eso"
      },
      "source": [
        "- Chuyển vòng lặp Python sang thao tác mảng NumPy.\n",
        "\n",
        "→ Thay vì:\n"
      ]
    },
    {
      "cell_type": "code",
      "execution_count": 5,
      "metadata": {
        "id": "OhkUAsXRlclU"
      },
      "outputs": [],
      "source": [
        "import numpy as np\n",
        "arr = [1, 2, 3, 4, 5]\n",
        "total = 0\n",
        "for x in arr:\n",
        "    total += x"
      ]
    },
    {
      "cell_type": "markdown",
      "metadata": {
        "id": "fVs3sj4R-qZK"
      },
      "source": [
        "dùng:\n"
      ]
    },
    {
      "cell_type": "code",
      "execution_count": 6,
      "metadata": {
        "id": "p-tXjY8O-id9"
      },
      "outputs": [],
      "source": [
        "arr = np.array(arr)\n",
        "total = arr.sum()"
      ]
    },
    {
      "cell_type": "markdown",
      "metadata": {
        "id": "fvlhUdo2_EU_"
      },
      "source": [
        "- Dùng broadcasting thay vì lặp nhiều chiều.\n",
        "  Broadcasting giúp tự động mở rộng mảng để tính toán mà không cần sao chép dữ liệu.\n",
        "\n",
        "- Dùng slicing (cắt mảng) thay vì copy dữ liệu.\n",
        "\n",
        "- Tận dụng ufuncs (universal functions) như np.add, np.exp, np.log vì chúng chạy nhanh hơn rất nhiều so với hàm Python.\n"
      ]
    },
    {
      "cell_type": "markdown",
      "metadata": {
        "id": "wPNDoWkL_R5A"
      },
      "source": [
        "### 3. Khi NumPy vẫn chưa đủ nhanh\n",
        "\n",
        "Có thể dùng:\n",
        "\n",
        "- Cython (viết code Python + C)\n",
        "\n",
        "- C hoặc Fortran nếu cần tốc độ cực cao\n",
        "  → Cython thường được khuyên dùng vì dễ tích hợp hơn.\n"
      ]
    },
    {
      "cell_type": "markdown",
      "metadata": {
        "id": "6NMZLd6D_a_I"
      },
      "source": [
        "### 4. Tầm quan trọng của bộ nhớ liên tục (Contiguous Memory)\n",
        "\n",
        "- Tốc độ xử lý phụ thuộc vào cách dữ liệu được lưu trong bộ nhớ (theo hàng hay theo cột).\n",
        "\n",
        "- NumPy có hai kiểu:\n",
        "\n",
        "  - 'C' order: lưu theo hàng (row-major) → mặc định của NumPy\n",
        "\n",
        "  - 'F' order: lưu theo cột (column-major) → giống Fortran\n"
      ]
    },
    {
      "cell_type": "markdown",
      "metadata": {
        "id": "P_MMHXyK_iqw"
      },
      "source": [
        "Ví dụ:\n"
      ]
    },
    {
      "cell_type": "code",
      "execution_count": 7,
      "metadata": {
        "colab": {
          "base_uri": "https://localhost:8080/"
        },
        "id": "3_20yYTI_phw",
        "outputId": "f9e6ca29-8746-4182-c104-e78cf7ee9c74"
      },
      "outputs": [
        {
          "data": {
            "text/plain": [
              "  C_CONTIGUOUS : True\n",
              "  F_CONTIGUOUS : False\n",
              "  OWNDATA : True\n",
              "  WRITEABLE : True\n",
              "  ALIGNED : True\n",
              "  WRITEBACKIFCOPY : False"
            ]
          },
          "execution_count": 7,
          "metadata": {},
          "output_type": "execute_result"
        }
      ],
      "source": [
        "arr_c = np.ones((100, 10000), order='C')\n",
        "arr_c.flags"
      ]
    },
    {
      "cell_type": "code",
      "execution_count": 10,
      "metadata": {
        "colab": {
          "base_uri": "https://localhost:8080/"
        },
        "id": "ZXnM0lJJAMSR",
        "outputId": "bf6217c7-9e38-45fa-e316-c49d328cc9f7"
      },
      "outputs": [
        {
          "data": {
            "text/plain": [
              "True"
            ]
          },
          "execution_count": 10,
          "metadata": {},
          "output_type": "execute_result"
        }
      ],
      "source": [
        "arr_c.flags.c_contiguous"
      ]
    },
    {
      "cell_type": "code",
      "execution_count": 8,
      "metadata": {
        "colab": {
          "base_uri": "https://localhost:8080/"
        },
        "id": "h4tQ-YRk_zE4",
        "outputId": "204ae7f4-3736-42d0-bb5d-fa9998f6d057"
      },
      "outputs": [
        {
          "data": {
            "text/plain": [
              "  C_CONTIGUOUS : False\n",
              "  F_CONTIGUOUS : True\n",
              "  OWNDATA : True\n",
              "  WRITEABLE : True\n",
              "  ALIGNED : True\n",
              "  WRITEBACKIFCOPY : False"
            ]
          },
          "execution_count": 8,
          "metadata": {},
          "output_type": "execute_result"
        }
      ],
      "source": [
        "arr_f = np.ones((100, 10000), order='F')\n",
        "arr_f.flags"
      ]
    },
    {
      "cell_type": "code",
      "execution_count": 9,
      "metadata": {
        "colab": {
          "base_uri": "https://localhost:8080/"
        },
        "id": "sLZqAc-7AC6A",
        "outputId": "0bc879d9-ff8d-484a-e8d0-124bfa3f7c17"
      },
      "outputs": [
        {
          "data": {
            "text/plain": [
              "True"
            ]
          },
          "execution_count": 9,
          "metadata": {},
          "output_type": "execute_result"
        }
      ],
      "source": [
        "arr_f.flags.f_contiguous"
      ]
    },
    {
      "cell_type": "code",
      "execution_count": 11,
      "metadata": {
        "colab": {
          "base_uri": "https://localhost:8080/"
        },
        "id": "fr6TxKp6AUon",
        "outputId": "c29ad355-e21d-4044-a48d-f17170456ec1"
      },
      "outputs": [
        {
          "name": "stdout",
          "output_type": "stream",
          "text": [
            "551 µs ± 128 µs per loop (mean ± std. dev. of 7 runs, 1000 loops each)\n",
            "681 µs ± 9.02 µs per loop (mean ± std. dev. of 7 runs, 1000 loops each)\n"
          ]
        }
      ],
      "source": [
        "%timeit arr_c.sum(1)  # 444 µs\n",
        "%timeit arr_f.sum(1)  # 581 µs"
      ]
    },
    {
      "cell_type": "markdown",
      "metadata": {
        "id": "YUg89bD7AdPX"
      },
      "source": [
        "→ Mảng C (theo hàng) nhanh hơn vì dữ liệu liên tiếp trong bộ nhớ.\n"
      ]
    },
    {
      "cell_type": "markdown",
      "metadata": {
        "id": "rCfi1P47AiMH"
      },
      "source": [
        "### 5. Một số lưu ý khác:\n",
        "\n",
        "- .copy('C') hoặc .copy('F') có thể đổi kiểu sắp xếp bộ nhớ.\n",
        "\n",
        "- Các view (cắt lát mảng) có thể mất tính liên tục, làm giảm tốc độ.\n",
        "\n",
        "Ví dụ:\n"
      ]
    },
    {
      "cell_type": "code",
      "execution_count": 15,
      "metadata": {
        "colab": {
          "base_uri": "https://localhost:8080/"
        },
        "id": "AWKVEl82AedB",
        "outputId": "50257d4e-bf07-4413-c63e-786b432f334b"
      },
      "outputs": [
        {
          "data": {
            "text/plain": [
              "  C_CONTIGUOUS : True\n",
              "  F_CONTIGUOUS : False\n",
              "  OWNDATA : True\n",
              "  WRITEABLE : True\n",
              "  ALIGNED : True\n",
              "  WRITEBACKIFCOPY : False"
            ]
          },
          "execution_count": 15,
          "metadata": {},
          "output_type": "execute_result"
        }
      ],
      "source": [
        "arr_f.copy('C').flags\n"
      ]
    },
    {
      "cell_type": "code",
      "execution_count": 16,
      "metadata": {
        "colab": {
          "base_uri": "https://localhost:8080/"
        },
        "id": "_tHJS_wXAuQA",
        "outputId": "bbf3ce82-a993-4932-bcf8-9d14acf0cb93"
      },
      "outputs": [
        {
          "data": {
            "text/plain": [
              "True"
            ]
          },
          "execution_count": 16,
          "metadata": {},
          "output_type": "execute_result"
        }
      ],
      "source": [
        "arr_c[:50].flags.contiguous  # False\n"
      ]
    },
    {
      "cell_type": "code",
      "execution_count": 17,
      "metadata": {
        "colab": {
          "base_uri": "https://localhost:8080/"
        },
        "id": "qJRjrmY8BPPA",
        "outputId": "6951f06d-6f8f-48b1-cf4f-da1964aad3b9"
      },
      "outputs": [
        {
          "data": {
            "text/plain": [
              "  C_CONTIGUOUS : False\n",
              "  F_CONTIGUOUS : False\n",
              "  OWNDATA : False\n",
              "  WRITEABLE : True\n",
              "  ALIGNED : True\n",
              "  WRITEBACKIFCOPY : False"
            ]
          },
          "execution_count": 17,
          "metadata": {},
          "output_type": "execute_result"
        }
      ],
      "source": [
        "arr_c[:, :50].flags"
      ]
    },
    {
      "cell_type": "markdown",
      "metadata": {},
      "source": [
        "# KẾT THÚC\n"
      ]
    }
  ],
  "metadata": {
    "colab": {
      "authorship_tag": "ABX9TyOoQoRnAfZV5tBqdJOP5YQt",
      "include_colab_link": true,
      "provenance": [],
      "toc_visible": true
    },
    "kernelspec": {
      "display_name": "py39_env",
      "language": "python",
      "name": "python3"
    },
    "language_info": {
      "codemirror_mode": {
        "name": "ipython",
        "version": 3
      },
      "file_extension": ".py",
      "mimetype": "text/x-python",
      "name": "python",
      "nbconvert_exporter": "python",
      "pygments_lexer": "ipython3",
      "version": "3.9.23"
    }
  },
  "nbformat": 4,
  "nbformat_minor": 0
}

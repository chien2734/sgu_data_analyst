{
  "cells": [
    {
      "cell_type": "markdown",
      "metadata": {
        "id": "view-in-github",
        "colab_type": "text"
      },
      "source": [
        "<a href=\"https://colab.research.google.com/github/chien2734/sgu_data_analyst/blob/main/04_exercise_02.ipynb\" target=\"_parent\"><img src=\"https://colab.research.google.com/assets/colab-badge.svg\" alt=\"Open In Colab\"/></a>"
      ]
    },
    {
      "cell_type": "markdown",
      "source": [
        "# **Bài Làm**"
      ],
      "metadata": {
        "id": "IydNf8QcVCv2"
      },
      "id": "IydNf8QcVCv2"
    },
    {
      "cell_type": "markdown",
      "id": "154c8525-a8b1-4532-8b8c-a6048596e61b",
      "metadata": {
        "id": "154c8525-a8b1-4532-8b8c-a6048596e61b"
      },
      "source": [
        "# Kỹ thuật lập trình Python"
      ]
    },
    {
      "cell_type": "markdown",
      "id": "bff7ceae-0971-41e5-9ad6-a25c303fecab",
      "metadata": {
        "id": "bff7ceae-0971-41e5-9ad6-a25c303fecab"
      },
      "source": [
        "## Làm quen với Numpy"
      ]
    },
    {
      "cell_type": "markdown",
      "id": "bda2fb69-42db-4a12-8b57-7b4815510961",
      "metadata": {
        "id": "bda2fb69-42db-4a12-8b57-7b4815510961"
      },
      "source": [
        "### Bài 1. Tính toán trên dãy số"
      ]
    },
    {
      "cell_type": "markdown",
      "id": "04e6a456-6793-4645-b159-426121c860a6",
      "metadata": {
        "id": "04e6a456-6793-4645-b159-426121c860a6"
      },
      "source": [
        "#### 1. Tạo một dãy số a có N phần tử (N = 10)"
      ]
    },
    {
      "cell_type": "code",
      "execution_count": 3,
      "id": "bac1a84b-a496-40c6-962e-97c0acaf7d8e",
      "metadata": {
        "id": "bac1a84b-a496-40c6-962e-97c0acaf7d8e",
        "outputId": "70dafd54-e67d-42bf-c229-695f81f803a8",
        "colab": {
          "base_uri": "https://localhost:8080/"
        }
      },
      "outputs": [
        {
          "output_type": "stream",
          "name": "stdout",
          "text": [
            "1. Tạo một dãy số a có N phần tử (N = 10)\n",
            "Day so a:  [992, 614, 340, 884, 122, 788, 957, 410, 102, 71]\n"
          ]
        }
      ],
      "source": [
        "import numpy as np # Khai báo thư viện numpy\n",
        "\n",
        "print(\"1. Tạo một dãy số a có N phần tử (N = 10)\")\n",
        "\"\"\" CÁC BẠN LÀM BÀI Ở ĐÂY \"\"\"\n",
        "a = [np.random.randint(1, 1000) for _ in range(10)]\n",
        "\n",
        "print(\"Day so a: \", a)"
      ]
    },
    {
      "cell_type": "markdown",
      "id": "4d85d8e2-16ff-42d1-acda-97e62736aaf6",
      "metadata": {
        "id": "4d85d8e2-16ff-42d1-acda-97e62736aaf6"
      },
      "source": [
        "#### 2. Các thao tác trên dãy số a\n",
        "(a) Bình phương các phần tử trong dãy số <br/>\n",
        "(b) Tìm số lượng các phần tử của dãy số <br/>\n",
        "(c) In ra giá trị lớn nhất, giá trị nhỏ nhất và giá trị trung bình <br/>\n",
        "(d) Tính phương sai của dãy số $\\sigma^2 = \\frac{\\sum{\\left(a_i - \\mu\\right)^2}}{N - 1}$ với $\\mu = \\frac{\\sum{a_i}}{N}$ và độ lệch chuẩn $var = \\sqrt{\\sigma^2}$"
      ]
    },
    {
      "cell_type": "code",
      "execution_count": 10,
      "id": "5d245b5b-90d5-48bf-b870-fc7c2deecd12",
      "metadata": {
        "id": "5d245b5b-90d5-48bf-b870-fc7c2deecd12",
        "outputId": "18a92971-177e-49ba-ba35-30514b9292dc",
        "colab": {
          "base_uri": "https://localhost:8080/"
        }
      },
      "outputs": [
        {
          "output_type": "stream",
          "name": "stdout",
          "text": [
            "2. Các thao tác tính toán đơn giản với dãy số a\n",
            "a. Binh phuong a:  [984064, 376996, 115600, 781456, 14884, 620944, 915849, 168100, 10404, 5041]\n",
            "\n",
            "b. Do dai a:  10\n",
            "\n",
            "c. Gia tri lon nhat: [992], gia tri nho nhat: [71], gia tri trung binh [528.0]\n",
            "\n",
            "d. Phuong sai: [ 133944.22] va do lech chuan: [ 365.98]\n"
          ]
        }
      ],
      "source": [
        "print(\"2. Các thao tác tính toán đơn giản với dãy số a\")\n",
        "\"\"\" CÁC BẠN LÀM BÀI Ở ĐÂY \"\"\"\n",
        "a2 = [x**2 for x in a]\n",
        "na = len(a)\n",
        "\n",
        "print(\"a. Binh phuong a: \", a2)\n",
        "print(\"\\nb. Do dai a: \", na)\n",
        "\n",
        "\"\"\" CÁC BẠN LÀM BÀI Ở ĐÂY \"\"\"\n",
        "v_max = max(a)\n",
        "v_min = min(a)\n",
        "v_avg = sum(a) / na\n",
        "\n",
        "print(f'\\nc. Gia tri lon nhat: [{v_max}], gia tri nho nhat: [{v_min}], gia tri trung binh [{v_avg}]')\n",
        "\n",
        "\"\"\" CÁC BẠN LÀM BÀI Ở ĐÂY \"\"\"\n",
        "v_sigma2 = sum([(x - v_avg)**2 for x in a]) / (na - 1)\n",
        "v_var = np.sqrt(v_sigma2)\n",
        "\n",
        "print(f'\\nd. Phuong sai: [{v_sigma2: .2f}] va do lech chuan: [{v_var: .2f}]')"
      ]
    },
    {
      "cell_type": "markdown",
      "id": "1b582e22-cc99-4933-892b-e0d83672fb7f",
      "metadata": {
        "id": "1b582e22-cc99-4933-892b-e0d83672fb7f"
      },
      "source": [
        "#### 3. Toán tử trên hai dãy số\n",
        "(a) Tạo dãy số x có 10 phần tử từ 1 đến 10 (dùng hàm np.arange) <br/>\n",
        "(b) Liệt kê và đếm số lượng phần tử chẵn và lẻ có trong dãy a và x <br/>\n",
        "(c) Tính khoảng cách giữa các phần tử ở vị trí lẻ của mảng a và x với $s = \\sqrt{\\sum{\\left(a_i - x_i\\right)^2}}$ với $i$ lẻ<br/>\n",
        "(d) Tìm khoảng cách nhỏ nhất giữa tập a và x. Ví dụ: min({1, 3, 5}, {2, 10, 8}} = 1"
      ]
    },
    {
      "cell_type": "code",
      "execution_count": 12,
      "id": "1c6f51c1-ac3d-46a8-ab35-0d087877fb9d",
      "metadata": {
        "id": "1c6f51c1-ac3d-46a8-ab35-0d087877fb9d",
        "outputId": "7aa84c8d-7027-454e-c902-63af36aeda01",
        "colab": {
          "base_uri": "https://localhost:8080/"
        }
      },
      "outputs": [
        {
          "output_type": "stream",
          "name": "stdout",
          "text": [
            "3. Xử lý khác trên dãy số\n",
            "a. Day so x: [ 1  2  3  4  5  6  7  8  9 10]\n"
          ]
        }
      ],
      "source": [
        "print(\"3. Xử lý khác trên dãy số\")\n",
        "\"\"\" CÁC BẠN LÀM BÀI Ở ĐÂY \"\"\"\n",
        "x = np.arange(1, 11)\n",
        "\n",
        "print(f'a. Day so x: {x}')"
      ]
    },
    {
      "cell_type": "code",
      "execution_count": 13,
      "id": "13211d38-0008-49ba-ac7b-c4ea034d12f4",
      "metadata": {
        "id": "13211d38-0008-49ba-ac7b-c4ea034d12f4",
        "outputId": "38ab573c-7962-4cef-f7c1-dbecb34cc788",
        "colab": {
          "base_uri": "https://localhost:8080/"
        }
      },
      "outputs": [
        {
          "output_type": "stream",
          "name": "stdout",
          "text": [
            "b. Cac phan tu chan trong day a, b: \n",
            "+ Day a: [ 38 186  84  97  52  79 163   7  28  48]\n",
            "  - Loc chan: [ True  True  True False  True False False False  True  True]\n",
            "  - Day chua phan tu chan trong a: [ 38 186  84  52  28  48], so luong 6 phan tu.\n",
            "+ Day x: [ 1  2  3  4  5  6  7  8  9 10]\n",
            "  - Loc chan: [False  True False  True False  True False  True False  True]\n",
            "  - Day chua phan tu chan trong a: [ 2  4  6  8 10], so luong 5 phan tu.\n"
          ]
        }
      ],
      "source": [
        "\"\"\" CÁC BẠN LÀM BÀI Ở ĐÂY \"\"\"\n",
        "a = np.random.randint(1, 200, 10)\n",
        "\n",
        "a_la_chan = (a % 2 == 0)\n",
        "a_chan = a[a_la_chan]\n",
        "n_a_chan = len(a_chan)\n",
        "\n",
        "x_la_chan = (x % 2 == 0)\n",
        "x_chan = x[x_la_chan]\n",
        "n_x_chan = len(x_chan)\n",
        "print( \"b. Cac phan tu chan trong day a, b: \")\n",
        "print(f\"+ Day a: {a}\")\n",
        "print(f\"  - Loc chan: {a_la_chan}\")\n",
        "print(f\"  - Day chua phan tu chan trong a: {a_chan}, so luong {n_a_chan} phan tu.\")\n",
        "print(f\"+ Day x: {x}\")\n",
        "print(f\"  - Loc chan: {x_la_chan}\")\n",
        "print(f\"  - Day chua phan tu chan trong a: {x_chan}, so luong {n_x_chan} phan tu.\")"
      ]
    },
    {
      "cell_type": "code",
      "execution_count": 14,
      "id": "1d441e53-26ad-45ff-a6d4-6abbb9c66f65",
      "metadata": {
        "id": "1d441e53-26ad-45ff-a6d4-6abbb9c66f65",
        "outputId": "2f8464e2-5e15-4fd3-dcb6-64d165e8c349",
        "colab": {
          "base_uri": "https://localhost:8080/"
        }
      },
      "outputs": [
        {
          "output_type": "stream",
          "name": "stdout",
          "text": [
            "c.Tính hiệu các phần tử ở vị trí lẻ của mảng a và x: \n",
            "+ Vi tri le trong a va x: [False  True False  True False  True False  True False  True]\n",
            "+ Day so a: [ 38 186  84  97  52  79 163   7  28  48] va cac so o vi tri le: [186  97  79   7  48]\n",
            "+ Day so x: [ 1  2  3  4  5  6  7  8  9 10] va cac so o vi tri le: [ 2  4  6  8 10]\n",
            "+ Hieu cua a va x o vi tri le: [184  93  73  -1  38]\n",
            "+ Khoang cach cac phan tu cua a va x o vi tri le:  221.99\n"
          ]
        }
      ],
      "source": [
        "\"\"\" CÁC BẠN LÀM BÀI Ở ĐÂY \"\"\"\n",
        "v_le = (np.arange(10) % 2 == 1)\n",
        "a_le = a[v_le]\n",
        "x_le = x[v_le]\n",
        "hieu_le = a_le - x_le\n",
        "kc_le = np.sqrt(np.sum(hieu_le**2))\n",
        "\n",
        "print( \"c.Tính hiệu các phần tử ở vị trí lẻ của mảng a và x: \")\n",
        "print(f\"+ Vi tri le trong a va x: {v_le}\")\n",
        "print(f\"+ Day so a: {a} va cac so o vi tri le: {a_le}\")\n",
        "print(f\"+ Day so x: {x} va cac so o vi tri le: {x_le}\")\n",
        "print(f\"+ Hieu cua a va x o vi tri le: {hieu_le}\")\n",
        "print(f\"+ Khoang cach cac phan tu cua a va x o vi tri le: {kc_le: .2f}\")"
      ]
    },
    {
      "cell_type": "code",
      "execution_count": 15,
      "id": "92f5e91d-e213-4146-b873-0d2936c6990e",
      "metadata": {
        "id": "92f5e91d-e213-4146-b873-0d2936c6990e",
        "outputId": "9e02b1c0-9699-4704-8ede-7904e6317c8b",
        "colab": {
          "base_uri": "https://localhost:8080/"
        }
      },
      "outputs": [
        {
          "output_type": "stream",
          "name": "stdout",
          "text": [
            "d. Tìm khoảng cách nhỏ nhất giữa tập a và x. Ví dụ: min({1, 3, 5}, {2, 10, 8}} = 1\n",
            "+ Day a: [ 38 186  84  97  52  79 163   7  28  48]\n",
            "+ Day x: [ 1  2  3  4  5  6  7  8  9 10]\n",
            "+ Khoang cach nho nhat: 0\n"
          ]
        }
      ],
      "source": [
        "print(\"d. Tìm khoảng cách nhỏ nhất giữa tập a và x. Ví dụ: min({1, 3, 5}, {2, 10, 8}} = 1\")\n",
        "\"\"\"\n",
        "Gợi ý: Áp dụng toán tử broatcasting\n",
        "[[1],                    [[1, 1, 1],        [[2, 10, 8],    =   [[-1, -9, -7],\n",
        " [3],   - [2, 10, 8] =    [3, 3, 3],   -     [2, 10, 8],         [ 1, -7, -5],  --> np.min(np.abs(...)) = 1\n",
        " [5]]                     [5, 5, 5]]         [2, 10, 8]]         [ 3, -5, -3]]\n",
        "\"\"\"\n",
        "\"\"\" CÁC BẠN LÀM BÀI Ở ĐÂY \"\"\"\n",
        "# Tăng số chiều dùng tại vị trí chiều cuối dùng np.newaxis như sau: a[:, np.newaxis]\n",
        "diff = a.reshape(10, 1) - x\n",
        "v_min = np.min(np.abs(diff))\n",
        "\n",
        "print(f\"+ Day a: {a}\")\n",
        "print(f\"+ Day x: {x}\")\n",
        "print(f\"+ Khoang cach nho nhat: {v_min}\")"
      ]
    },
    {
      "cell_type": "markdown",
      "id": "d18845b8-0d51-4666-ba1c-5ff836ef3d54",
      "metadata": {
        "id": "d18845b8-0d51-4666-ba1c-5ff836ef3d54"
      },
      "source": [
        "#### 4. Sinh ngẫu nhiên dãy số\n",
        "(a) Sinh ngẫu nhiên dãy số có 100 phần tử theo phân bố đều với giá trị trong đoạn [1, 10] và vẽ đồ thị tần số xuất hiện <br/>\n",
        "(b) Sinh ngẫu nhiên N diem (x, y) với y là hàm phân phối chuẩn $N(\\mu = 1, \\sigma^2 = 1.0)$: <br/>\n",
        " $$\n",
        " y = f\\left(x| \\mu, \\sigma\\right) = \\frac{1}{\\sigma\\sqrt{2\\pi}}exp\\left(-\\frac{\\left(x - \\mu\\right)^2}{2\\sigma^2}\\right)\n",
        " $$\n",
        " nơi mà $x \\in [\\mu - 5\\sigma, \\mu + 5\\sigma]$ <br/>\n",
        " (c) Sinh ngẫu nhiên dãy số có 100000 phần tử theo phân bố chuẩn $N(\\mu = 1, \\sigma^2 = 1.0)$ và vẽ đồ thị tần số xuất hiện <br/> <br/>"
      ]
    },
    {
      "cell_type": "code",
      "execution_count": 18,
      "id": "4d35cd9c-3163-486e-baef-63180ff2f5b6",
      "metadata": {
        "id": "4d35cd9c-3163-486e-baef-63180ff2f5b6",
        "outputId": "cb68897d-18df-4ac3-c487-94f8a21737be",
        "colab": {
          "base_uri": "https://localhost:8080/",
          "height": 597
        }
      },
      "outputs": [
        {
          "output_type": "stream",
          "name": "stdout",
          "text": [
            "a. Sinh ngẫu nhiên theo phân bố đều\n",
            "+ Gia tri: [ 1  2  3  4  5  6  7  8  9 10]\n",
            "+ So lan xuat hien: [ 7 13  9 15  7 10  9 10  9 11]\n",
            "+ Do thi ham so xuat hien\n"
          ]
        },
        {
          "output_type": "display_data",
          "data": {
            "text/plain": [
              "<Figure size 600x600 with 1 Axes>"
            ],
            "image/png": "[encoded data removed]"
          },
          "metadata": {}
        }
      ],
      "source": [
        "import matplotlib.pyplot as plt  # Khai báo thư viện pyplot trong matplotlib\n",
        "\n",
        "\"\"\" CÁC BẠN LÀM BÀI Ở ĐÂY \"\"\"\n",
        "# Sử dụng hàm np.random.randint để sinh dãy số ngẫu nhiên\n",
        "# Sử dụng hàm np.unique để trả về tần số xuất hiện\n",
        "# ...\n",
        "\n",
        "a = np.random.randint(1, 11, 100)\n",
        "value, cnt = np.unique(a, return_counts=True)\n",
        "\n",
        "print(\"a. Sinh ngẫu nhiên theo phân bố đều\")\n",
        "print(f\"+ Gia tri: {value}\")\n",
        "print(f\"+ So lan xuat hien: {cnt}\")\n",
        "print(\"+ Do thi ham so xuat hien\")\n",
        "plt.figure(figsize=(6,6))      #  kich thuoc ban ve\n",
        "plt.bar(value, cnt)            #  ve cac khoi chu nhat theo day x, y\n",
        "plt.xlim(0, 11)                #  gioi han truc x\n",
        "plt.ylim(0, np.max(cnt) + 10)  #  gioi han truc y\n",
        "plt.savefig(\"4a.png\")          #  luu do thi\n",
        "plt.show()                     #  hien thi do thi"
      ]
    },
    {
      "cell_type": "code",
      "execution_count": 20,
      "id": "55c99911-a213-4961-85b7-2ef09b775945",
      "metadata": {
        "id": "55c99911-a213-4961-85b7-2ef09b775945",
        "outputId": "36008e7d-c1c7-4e88-e071-61b5cbbd7050",
        "colab": {
          "base_uri": "https://localhost:8080/",
          "height": 574
        }
      },
      "outputs": [
        {
          "output_type": "stream",
          "name": "stdout",
          "text": [
            "b. Sinh cặp (x, y) với y làm hàm phân phối chuẩn\n",
            "+ x: -4.0 <= min [-3.79] <= max [ 5.99] <= 6.0\n",
            "+ Ve ham so y(x)\n"
          ]
        },
        {
          "output_type": "display_data",
          "data": {
            "text/plain": [
              "<Figure size 600x600 with 1 Axes>"
            ],
            "image/png": "[encoded data removed]"
          },
          "metadata": {}
        }
      ],
      "source": [
        "\"\"\" CÁC BẠN LÀM BÀI Ở ĐÂY \"\"\"\n",
        "# Sử dụm hàm np.random.rand() sinh số ngẫu nhiên trong [0,1) --> [0,1) * (b - a) + a --> [a, b)\n",
        "# Sử dụng hàm sau để tính hàm xác suất chuẩn N(m, s): np.sqrt, np.exp\n",
        "# ...\n",
        "mu = 1          # trung bình\n",
        "sigma = 1.0     # độ lệch chuẩn\n",
        "N = 100\n",
        "\n",
        "x_min = mu - 5*sigma\n",
        "x_max = mu + 5*sigma\n",
        "x = (x_min) + (x_max-x_min) * np.random.rand(N)\n",
        "y = (1 / (sigma * np.sqrt(2 * np.pi))) * np.exp(-((x - mu)**2) / (2 * sigma**2))\n",
        "\n",
        "print(\"b. Sinh cặp (x, y) với y làm hàm phân phối chuẩn\")\n",
        "print(f\"+ x: {x_min} <= min [{np.min(x): .2f}] <= max [{np.max(x): .2f}] <= {x_max}\")\n",
        "print(f\"+ Ve ham so y(x)\")\n",
        "plt.figure(figsize=(6,6))      # kich thuoc ban ve\n",
        "plt.scatter(x, y)              # ve cac diem (xi, yi)\n",
        "plt.savefig(\"4b.png\")          #  luu do thi\n",
        "plt.show()                     #  hien thi do thi"
      ]
    },
    {
      "cell_type": "code",
      "execution_count": 26,
      "id": "0b4cf743-6afa-47da-8d3e-61f84623c707",
      "metadata": {
        "id": "0b4cf743-6afa-47da-8d3e-61f84623c707",
        "outputId": "74d92886-bf4b-4765-e26d-95030f583918",
        "colab": {
          "base_uri": "https://localhost:8080/",
          "height": 591
        }
      },
      "outputs": [
        {
          "output_type": "stream",
          "name": "stdout",
          "text": [
            "c. Sinh ngẫu nhiên theo phân phối chuẩn\n",
            "c. Sinh day so theo phan phoi chuan\n",
            "+ x: len = 100000, min [-4.67990064842904], max [4.584542141589875]\n",
            "+ Mat so xac suat cua day so x\n"
          ]
        },
        {
          "output_type": "display_data",
          "data": {
            "text/plain": [
              "<Figure size 600x600 with 1 Axes>"
            ],
            "image/png": "[encoded data removed]"
          },
          "metadata": {}
        }
      ],
      "source": [
        "\"\"\" CÁC BẠN LÀM BÀI Ở ĐÂY \"\"\"\n",
        "# Sử dụng hàm np.random.randn() sinh phân phối chuẩn N(0,1) --> N(m,s^2) = m + N(0,1) * s\n",
        "# Sử dụng hàm np.histogram với density=True để thống kê số lần xuất hiện với số bins = 300 (do dãy số thực)\n",
        "# ...\n",
        "x = np.random.randn(100000)\n",
        "val, cnt = np.histogram(x, bins=300, density=True)\n",
        "bin_centers = (cnt[:-1] + cnt[1:]) / 2\n",
        "#bin_centers = (bin_edges[:-1] + bin_edges[1:]) / 2\n",
        "print(\"c. Sinh ngẫu nhiên theo phân phối chuẩn\")\n",
        "print( \"c. Sinh day so theo phan phoi chuan\")\n",
        "print(f\"+ x: len = {len(x)}, min [{np.min(x)}], max [{np.max(x)}]\")\n",
        "print(f\"+ Mat so xac suat cua day so x\")\n",
        "plt.figure(figsize=(6,6))      # kich thuoc ban ve\n",
        "plt.scatter(bin_centers, val)\n",
        "plt.show()"
      ]
    },
    {
      "cell_type": "markdown",
      "id": "4f1a6dde-3e75-4dc7-8bab-40b7b9e17091",
      "metadata": {
        "id": "4f1a6dde-3e75-4dc7-8bab-40b7b9e17091"
      },
      "source": [
        "### Bài 2. Tính toán trên ma trận"
      ]
    },
    {
      "cell_type": "markdown",
      "id": "8ce5c9f7-de68-44cf-a1ce-950822c408d3",
      "metadata": {
        "id": "8ce5c9f7-de68-44cf-a1ce-950822c408d3"
      },
      "source": [
        "#### 1. Tạo ma trận a có M = 6 dòng, N = 4 cột"
      ]
    },
    {
      "cell_type": "code",
      "execution_count": 27,
      "id": "17b1f09d-11c7-4711-8b40-f67abd54323e",
      "metadata": {
        "id": "17b1f09d-11c7-4711-8b40-f67abd54323e",
        "outputId": "e9c33e21-dfb5-44eb-a445-f454efffa27e",
        "colab": {
          "base_uri": "https://localhost:8080/"
        }
      },
      "outputs": [
        {
          "output_type": "stream",
          "name": "stdout",
          "text": [
            "Ma trận a: \n",
            " [[121 103 102  89]\n",
            " [147  23 178  56]\n",
            " [119  53  41  95]\n",
            " [ 18  83  43 139]\n",
            " [114  40 133  46]\n",
            " [ 76  56 159 136]]\n"
          ]
        }
      ],
      "source": [
        "# a = np.random.randint(100, 200, (6, 4))\n",
        "\"\"\" CÁC BẠN LÀM BÀI Ở ĐÂY \"\"\"\n",
        "# ...\n",
        "a = np.random.randint(10, 200, (6, 4))\n",
        "print(\"Ma trận a: \\n\", a)"
      ]
    },
    {
      "cell_type": "markdown",
      "id": "8bc353b9-1740-4e94-b779-eae046171142",
      "metadata": {
        "id": "8bc353b9-1740-4e94-b779-eae046171142"
      },
      "source": [
        "#### 2. Các thao tác trên ma trận a\n",
        "(a) In ra ma trận chuyển vị <br/>\n",
        "(b) In ra phần tử ở vị trí dòng 2 cột 3 <br/>\n",
        "(c) Trích xuất dòng đầu, dòng cuối, dòng 2 <br/>\n",
        "(d) Trích xuất cột kế cuối, cột đầu <br/>\n",
        "(e) Đảo các giá trị trên từng cột <br/>\n",
        "(f) Tính tổng các dòng, trung bình các cột <br/>"
      ]
    },
    {
      "cell_type": "code",
      "execution_count": 31,
      "id": "5236b916-3dda-4444-8004-9a6ab8d80df4",
      "metadata": {
        "id": "5236b916-3dda-4444-8004-9a6ab8d80df4",
        "outputId": "a3ff108d-0570-462e-ca88-1b737aba74ce",
        "colab": {
          "base_uri": "https://localhost:8080/"
        }
      },
      "outputs": [
        {
          "output_type": "stream",
          "name": "stdout",
          "text": [
            "a. In ra ma trận chuyển vị: \n",
            "[[121 147 119  18 114  76]\n",
            " [103  23  53  83  40  56]\n",
            " [102 178  41  43 133 159]\n",
            " [ 89  56  95 139  46 136]]\n",
            "\n",
            "b. In ra phần tử ở vị trí dòng 2 cột 3: 95\n",
            "\n",
            "c. Trích xuất các dòng: \n",
            "   + Dòng đầu : [121 103 102  89]\n",
            "   + Dòng cuối: [ 76  56 159 136]\n",
            "   + Dòng hai : [119  53  41  95]\n",
            "\n",
            "d. Trích xuất các cột: \n",
            "   + Cột kế cuối: [102 178  41  43 133 159]\n",
            "   + Cột đầu: [121 147 119  18 114  76]\n",
            "\n",
            "e. Đảo các giá trị trên từng cột: \n",
            " [[ 89 102 103 121]\n",
            " [ 56 178  23 147]\n",
            " [ 95  41  53 119]\n",
            " [139  43  83  18]\n",
            " [ 46 133  40 114]\n",
            " [136 159  56  76]]\n",
            "\n",
            "f. Phép tính theo trục:\n",
            "   + Tổng dòng: [415 404 308 283 333 427]\n",
            "   + Trung bình cột: [ 99.16666667  59.66666667 109.33333333  93.5       ]\n"
          ]
        }
      ],
      "source": [
        "\"\"\" CÁC BẠN LÀM BÀI Ở ĐÂY \"\"\"\n",
        "# ...\n",
        "a_t = a.T\n",
        "v_23 = a[2, 3]\n",
        "d_0 = a[ 0, :]\n",
        "d_last = a[-1, :]\n",
        "d_2 = a[2, :]\n",
        "c_l1 = a[:, -2]\n",
        "c_0 = a[:, 0]\n",
        "dao_cot = a[:, ::-1]\n",
        "tong_dong = np.sum(a, axis=1)\n",
        "tb_cot = np.mean(a, axis=0)\n",
        "print(f\"a. In ra ma trận chuyển vị: \\n{a_t}\")\n",
        "print(f\"\\nb. In ra phần tử ở vị trí dòng 2 cột 3: {v_23}\")\n",
        "print(f\"\\nc. Trích xuất các dòng: \")\n",
        "print(f\"   + Dòng đầu : {d_0}\")\n",
        "print(f\"   + Dòng cuối: {d_last}\")\n",
        "print(f\"   + Dòng hai : {d_2}\")\n",
        "print(f\"\\nd. Trích xuất các cột: \")\n",
        "print(f\"   + Cột kế cuối: {c_l1}\")\n",
        "print(f\"   + Cột đầu: {c_0}\")\n",
        "print(f\"\\ne. Đảo các giá trị trên từng cột: \\n {dao_cot}\")\n",
        "print(f\"\\nf. Phép tính theo trục:\")\n",
        "print(f\"   + Tổng dòng: {tong_dong}\")\n",
        "print(f\"   + Trung bình cột: {tb_cot}\")"
      ]
    },
    {
      "cell_type": "markdown",
      "id": "bca46803-13a7-4324-b719-0bffd7110119",
      "metadata": {
        "id": "bca46803-13a7-4324-b719-0bffd7110119"
      },
      "source": [
        "#### 3. Các toán tử trên hai ma trận\n",
        "(a) Tạo hai ma trận A và B có 4 dòng x 3 cột và X có 3 dòng x 4 cột <br/>\n",
        "(b) Tính tổng, hiệu, tích của từng phần tử trên hai ma trận A và B <br/>\n",
        "(c) Tính phép nhân ma trận Y = A x X"
      ]
    },
    {
      "cell_type": "code",
      "execution_count": 32,
      "id": "86d9c4ed-e86c-4baf-b51b-9dbd20e5c3cb",
      "metadata": {
        "id": "86d9c4ed-e86c-4baf-b51b-9dbd20e5c3cb",
        "outputId": "55cc8ba3-3929-436d-eaf2-1a0d782ad76c",
        "colab": {
          "base_uri": "https://localhost:8080/"
        }
      },
      "outputs": [
        {
          "output_type": "stream",
          "name": "stdout",
          "text": [
            "a. Tạo hai ma trận A và B có 4 dòng x 3 cột và X có 3 dòng x 4 cột\n",
            "+ Ma tran A: \n",
            "[[1 8 3]\n",
            " [3 8 1]\n",
            " [3 7 5]\n",
            " [1 9 1]]\n",
            "+ Ma tran B: \n",
            "[[4 6 9]\n",
            " [5 4 4]\n",
            " [9 1 2]\n",
            " [5 2 9]]\n",
            "+ Ma tran X: \n",
            "[[1 4 5 6]\n",
            " [6 6 5 2]\n",
            " [5 8 4 4]]\n",
            "\n",
            "b. Tính tổng, hiệu, tích của từng phần tử trên hai ma trận A và B\n",
            "A + B = \n",
            "[[ 5 14 12]\n",
            " [ 8 12  5]\n",
            " [12  8  7]\n",
            " [ 6 11 10]]\n",
            "A - B = \n",
            "[[-3  2 -6]\n",
            " [-2  4 -3]\n",
            " [-6  6  3]\n",
            " [-4  7 -8]]\n",
            "A . B = \n",
            "[[ 4 48 27]\n",
            " [15 32  4]\n",
            " [27  7 10]\n",
            " [ 5 18  9]]\n",
            "\n",
            "c. Tính phép nhân ma trận Y = A x X\n",
            "Y = A x X --> shape A ((4, 3)) x shape X ((3, 4)) = shape Y ((4, 4)) \n",
            "[[64 76 57 34]\n",
            " [56 68 59 38]\n",
            " [70 94 70 52]\n",
            " [60 66 54 28]]\n"
          ]
        }
      ],
      "source": [
        "\"\"\" CÁC BẠN LÀM BÀI Ở ĐÂY \"\"\"\n",
        "A = np.random.randint(1, 10, (4, 3))\n",
        "B = np.random.randint(1, 10, (4, 3))\n",
        "X = np.random.randint(1, 10, (3, 4))\n",
        "\n",
        "AB_add = A+B\n",
        "AB_sub = A-B\n",
        "AB_mul = A*B\n",
        "\n",
        "Y = np.dot(A, X)\n",
        "print(\"a. Tạo hai ma trận A và B có 4 dòng x 3 cột và X có 3 dòng x 4 cột\")\n",
        "print(f\"+ Ma tran A: \\n{A}\")\n",
        "print(f\"+ Ma tran B: \\n{B}\")\n",
        "print(f\"+ Ma tran X: \\n{X}\")\n",
        "\n",
        "print(\"\\nb. Tính tổng, hiệu, tích của từng phần tử trên hai ma trận A và B\")\n",
        "print(f\"A + B = \\n{AB_add}\")\n",
        "print(f\"A - B = \\n{AB_sub}\")\n",
        "print(f\"A . B = \\n{AB_mul}\")\n",
        "\n",
        "print(\"\\nc. Tính phép nhân ma trận Y = A x X\")\n",
        "print(f\"Y = A x X --> shape A ({A.shape}) x shape X ({X.shape}) = shape Y ({Y.shape}) \\n{Y}\")"
      ]
    },
    {
      "cell_type": "markdown",
      "id": "43602379-f77d-44ba-b2e3-23f85c6bcf5a",
      "metadata": {
        "id": "43602379-f77d-44ba-b2e3-23f85c6bcf5a"
      },
      "source": [
        "\n",
        "#### 4. Giải hệ phương trình tuyến tính\n",
        "Giải hệ phương trình tuyến tính sau:\n",
        "$$\n",
        "\\left\\{\\begin{matrix}\n",
        "        4x_1  + 3x_2 - 5x_3 = 2 \\\\\n",
        "        -2x_1 - 4x_2 + 5x_3 = 5 \\\\\n",
        "        8x_1 + 8x_2 = -3 \\\\\n",
        "\\end{matrix}\\right.\n",
        "$$"
      ]
    },
    {
      "cell_type": "code",
      "execution_count": 35,
      "id": "53db2e93-fcbe-49f6-a4dd-482d22bcda54",
      "metadata": {
        "id": "53db2e93-fcbe-49f6-a4dd-482d22bcda54",
        "outputId": "e7d42db1-1588-4cda-f28e-09ee91057daf",
        "colab": {
          "base_uri": "https://localhost:8080/"
        }
      },
      "outputs": [
        {
          "output_type": "stream",
          "name": "stdout",
          "text": [
            "+ Ma tran A: \n",
            "[[ 4.  3. -5.]\n",
            " [-2. -4.  5.]\n",
            " [ 8.  8.  0.]]\n",
            "+ Vector y: [ 2.  5. -3.]\n",
            "+ Nghiem x: [ 2.20833333 -2.58333333 -0.18333333]\n",
            "+ Kiem tra: yy = Ax = [ 2.  5. -3.] ==> ||yy -y ||_2 =  0.00\n"
          ]
        }
      ],
      "source": [
        "\"\"\" CÁC BẠN LÀM BÀI Ở ĐÂY \"\"\"\n",
        "# ...\n",
        "A = np.array([[4, 3, -5],\n",
        "              [-2, -4, 5],\n",
        "              [8, 8, 0]], dtype=float)\n",
        "\n",
        "b = np.array([2, 5, -3], dtype=float)\n",
        "x = np.linalg.solve(A, b)\n",
        "yy = np.dot(A, x)\n",
        "diff = np.linalg.norm(yy - b, 2)\n",
        "print(f\"+ Ma tran A: \\n{A}\")\n",
        "print(f\"+ Vector y: {b}\")\n",
        "print(f\"+ Nghiem x: {x}\")\n",
        "print(f\"+ Kiem tra: yy = Ax = {yy} ==> ||yy -y ||_2 = {diff: .2f}\")"
      ]
    },
    {
      "cell_type": "markdown",
      "id": "526b7e20-beca-4087-9cab-02ccc0a8f856",
      "metadata": {
        "id": "526b7e20-beca-4087-9cab-02ccc0a8f856"
      },
      "source": [
        "## Bài tập áp dụng"
      ]
    },
    {
      "cell_type": "markdown",
      "id": "9ee067fb-2045-4d3e-b504-ff4a8c3dcf37",
      "metadata": {
        "id": "9ee067fb-2045-4d3e-b504-ff4a8c3dcf37"
      },
      "source": [
        "### Bài 3. Tính gần đúng số pi dùng phương pháp Monte Carlo\n",
        "\n",
        "Vẽ một đường tròn $C$ có bán kính $r$ nội tiếp một hình vuông $C$, và đặt ngẫu nhiên $N$ chấm lên hình vuông. Tỉ lệ các chấm nằm trong hình tròn trên tổng số chấm xấp xỉ bằng diện tích của hình tròn chia cho hình vuông như sau:\n",
        "$$\n",
        "\\frac{N_C}{N} \\approx  \\frac{\\mathbb{S}_C}{\\mathbb{S}_N}\n",
        "$$\n",
        "nơi mà $N_C$ là các chấm trong hình tròn, $N$ là tổng số chấm, $\\mathbb{S}_C$ và $\\mathbb{S}_N$ lần lượt là diện tích của hình tròn và hình vuông.\n",
        "$$ \\mathbb{S}_C = \\pi * r^2 $$\n",
        "$$ \\mathbb{S}_N = (2*r)^2 = 4r^2 $$\n",
        "Do đó, công thức trên trở thành:\n",
        "$$\n",
        "\\frac{N_C}{N} \\approx \\frac{\\pi * r^2}{4r^2} = \\frac{\\pi}{4}\n",
        "$$\n",
        "Suy ra, ta có giá trị số $\\pi$ được tính như sau:\n",
        "$$\n",
        "\\pi \\approx \\frac{4N_C}{N}\n",
        "$$\n",
        "\n",
        "Các bạn hãy lập trình tính sấp xỉ số $\\pi$ dùng phương pháp Monte Carlo. Cho biết các sai số với $N = 100$, $N = 10000$, và $N = 1000000$. Vẽ đồ thị minh họa cho chương trình.\n",
        "\n",
        "**Hướng dẫn**: Viết chương trình phát sinh $N$ điểm $(x_i, y_i)$ với $x_i, y_i \\in [-1, -1]$. $(x_i, y_i)$ thuộc hình tròn tâm $(0, 0)$ bán kính 1 nội tiếp hình vuông có tâm tại $(0, 0)$ độ dài cạnh 2 khi và chỉ khi $x_i^2 + y_i^2 <= 1$."
      ]
    },
    {
      "cell_type": "code",
      "execution_count": null,
      "id": "793640f7-4ba5-4d27-9d52-a65f4c25a5b0",
      "metadata": {
        "id": "793640f7-4ba5-4d27-9d52-a65f4c25a5b0",
        "outputId": "44ebad53-d6dd-4d1e-fca6-0a1b60db226e"
      },
      "outputs": [
        {
          "data": {
            "image/png": "[encoded data removed]",
            "text/plain": [
              "<Figure size 432x432 with 1 Axes>"
            ]
          },
          "metadata": {
            "needs_background": "light"
          },
          "output_type": "display_data"
        }
      ],
      "source": [
        "import matplotlib.pyplot as plt # khai báo thư viện vẽ pyplot\n",
        "import math\n",
        "\n",
        "circle = plt.Circle((0, 0), 1, color='g') # tạo đối tượng vòng tròn\n",
        "\n",
        "fig, ax = plt.subplots(figsize=(6, 6)) # lấy figure và vùng vẽ\n",
        "\n",
        "plt.plot(0, 0, 'o', color=(0.9, 0.9, 1.0), alpha=0.8) # vẽ điểm tại tâm (0,0)\n",
        "ax.add_patch(circle) # thêm vòng tròn vào vùng vẽ\n",
        "\n",
        "x = 0.75; y = math.sqrt(1 - (x ** 2)) # (x = 0.75, y = căn bậc 2 của 1 - x^2)\n",
        "plt.arrow(0, 0, x, y)\n",
        "\n",
        "plt.xlim(-1, 1) # giới hạn trục x\n",
        "plt.ylim(-1, 1) # giới hạn trục y\n",
        "\n",
        "plt.savefig('pi.png') # lưu đồ thị xuống tập tin\n",
        "plt.show()            # hiển thị đồ thị"
      ]
    },
    {
      "cell_type": "code",
      "execution_count": 36,
      "id": "bef335d2-9e51-4fa5-8843-aa1d67a607f0",
      "metadata": {
        "id": "bef335d2-9e51-4fa5-8843-aa1d67a607f0"
      },
      "outputs": [],
      "source": [
        "import numpy as np\n",
        "\n",
        "def calc_pi_monte_carlo(n = 100):\n",
        "    pi = 0\n",
        "\n",
        "    # gợi ý: sử dụng np.random.rand(s1, s2, ...) --> sinh ngẫu nhiên các số trong nửa đoạn [0.0, 1.0)\n",
        "    \"\"\" CÁC BẠN LÀM BÀI Ở ĐÂY \"\"\"\n",
        "    # ...\n",
        "    x = np.random.uniform(-1, 1, N)\n",
        "    y = np.random.uniform(-1, 1, N)\n",
        "\n",
        "    inside = x**2 + y**2 <= 1\n",
        "    NC = np.sum(inside)\n",
        "    pi = 4 * NC / N\n",
        "    return pi\n",
        "# calc_pi_monte_carlo"
      ]
    },
    {
      "cell_type": "code",
      "execution_count": 37,
      "id": "91071758-5957-497b-a5d1-2f2d17df6fae",
      "metadata": {
        "id": "91071758-5957-497b-a5d1-2f2d17df6fae",
        "outputId": "d3ec2e93-0a20-41d0-deb1-4fca887fe2da",
        "colab": {
          "base_uri": "https://localhost:8080/"
        }
      },
      "outputs": [
        {
          "output_type": "stream",
          "name": "stdout",
          "text": [
            "epsilon(n=100):  0.018407346410207026\n",
            "epsilon(n=100):  -0.14159265358979312\n",
            "epsilon(n=10000):  0.0984073464102071\n",
            "epsilon(n=10000):  -0.02159265358979301\n",
            "epsilon(n=1000000):  -0.18159265358979315\n",
            "epsilon(n=1000000):  -0.2615926535897932\n"
          ]
        }
      ],
      "source": [
        "import math\n",
        "\n",
        "print(\"epsilon(n=100): \", calc_pi_monte_carlo(n = 100) - math.pi)\n",
        "print(\"epsilon(n=100): \", calc_pi_monte_carlo(n = 100) - math.pi)\n",
        "print(\"epsilon(n=10000): \", calc_pi_monte_carlo(n = 10000) - math.pi)\n",
        "print(\"epsilon(n=10000): \", calc_pi_monte_carlo(n = 10000) - math.pi)\n",
        "print(\"epsilon(n=1000000): \", calc_pi_monte_carlo(n = 1000000) - math.pi)\n",
        "print(\"epsilon(n=1000000): \", calc_pi_monte_carlo(n = 1000000) - math.pi)"
      ]
    },
    {
      "cell_type": "markdown",
      "source": [
        "# **Kết Thúc**"
      ],
      "metadata": {
        "id": "3BeR3fv_U76g"
      },
      "id": "3BeR3fv_U76g"
    }
  ],
  "metadata": {
    "kernelspec": {
      "display_name": "Python 3",
      "language": "python",
      "name": "python3"
    },
    "language_info": {
      "codemirror_mode": {
        "name": "ipython",
        "version": 3
      },
      "file_extension": ".py",
      "mimetype": "text/x-python",
      "name": "python",
      "nbconvert_exporter": "python",
      "pygments_lexer": "ipython3",
      "version": "3.8.8"
    },
    "colab": {
      "provenance": [],
      "toc_visible": true,
      "include_colab_link": true
    }
  },
  "nbformat": 4,
  "nbformat_minor": 5
}
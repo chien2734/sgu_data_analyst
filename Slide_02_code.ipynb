{
  "nbformat": 4,
  "nbformat_minor": 0,
  "metadata": {
    "colab": {
      "provenance": [],
      "toc_visible": true,
      "authorship_tag": "ABX9TyOSpQKG/8/VTs23cVGXFSdN",
      "include_colab_link": true
    },
    "kernelspec": {
      "name": "python3",
      "display_name": "Python 3"
    },
    "language_info": {
      "name": "python"
    }
  },
  "cells": [
    {
      "cell_type": "markdown",
      "metadata": {
        "id": "view-in-github",
        "colab_type": "text"
      },
      "source": [
        "<a href=\"https://colab.research.google.com/github/chien2734/sgu_data_analyst/blob/main/Slide_02_code.ipynb\" target=\"_parent\"><img src=\"https://colab.research.google.com/assets/colab-badge.svg\" alt=\"Open In Colab\"/></a>"
      ]
    },
    {
      "cell_type": "code",
      "execution_count": null,
      "metadata": {
        "id": "BxOTYCslELxa"
      },
      "outputs": [],
      "source": []
    },
    {
      "cell_type": "markdown",
      "source": [
        "#Python programming\n"
      ],
      "metadata": {
        "id": "QBFdeCaRG21M"
      }
    },
    {
      "cell_type": "markdown",
      "source": [
        "## Python Hello World"
      ],
      "metadata": {
        "id": "C8whrC0mHXHC"
      }
    },
    {
      "cell_type": "code",
      "source": [
        "print(\"Hello World\")"
      ],
      "metadata": {
        "colab": {
          "base_uri": "https://localhost:8080/"
        },
        "id": "2ZA3iRW6Hfq0",
        "outputId": "e6d5f26a-f803-4bf7-e618-605dd8ee65ce"
      },
      "execution_count": 1,
      "outputs": [
        {
          "output_type": "stream",
          "name": "stdout",
          "text": [
            "Hello World\n"
          ]
        }
      ]
    },
    {
      "cell_type": "markdown",
      "source": [
        "## Python Syntax\n"
      ],
      "metadata": {
        "id": "NnK-HY2xHn02"
      }
    },
    {
      "cell_type": "markdown",
      "source": [
        "### Comment"
      ],
      "metadata": {
        "id": "xTyWO7oGJ0Bx"
      }
    },
    {
      "cell_type": "code",
      "source": [
        "# I'm SGU student"
      ],
      "metadata": {
        "id": "iMgFOYj5H5gW"
      },
      "execution_count": 4,
      "outputs": []
    },
    {
      "cell_type": "markdown",
      "source": [
        "### Indentation the spaces at the beginning of a code line 4 spaces"
      ],
      "metadata": {
        "id": "IQ3bXWp5IQ9Z"
      }
    },
    {
      "cell_type": "code",
      "source": [
        "score = 90\n",
        "if score >=60 :\n",
        "  print(\"Pass\")\n",
        "else:\n",
        "  print(\"No Pass\")"
      ],
      "metadata": {
        "colab": {
          "base_uri": "https://localhost:8080/"
        },
        "id": "VNF1-sVjIXG1",
        "outputId": "03aa48bc-b921-4b07-9f07-6778f297f037"
      },
      "execution_count": 5,
      "outputs": [
        {
          "output_type": "stream",
          "name": "stdout",
          "text": [
            "Pass\n"
          ]
        }
      ]
    },
    {
      "cell_type": "markdown",
      "source": [
        "## Python Variables"
      ],
      "metadata": {
        "id": "u-YIqhMYI5hJ"
      }
    },
    {
      "cell_type": "code",
      "source": [
        "# Python variables\n",
        "x = 4\n",
        "print(x)\n",
        "\n",
        "price = 2.9\n",
        "print(price)\n",
        "\n",
        "word = 'Hello'\n",
        "print(word)\n",
        "\n",
        "word = 'Hello'\n",
        "print(word)\n",
        "\n",
        "word = \"Hello\"\n",
        "print(word)\n",
        "\n",
        "word = '''Hello'''\n",
        "print(word)\n",
        "\n",
        "y = x + 1\n",
        "print(y)"
      ],
      "metadata": {
        "colab": {
          "base_uri": "https://localhost:8080/"
        },
        "id": "3WuGh0JrI_VO",
        "outputId": "d395f93f-77c2-4ece-8764-3a4f00ac55c0"
      },
      "execution_count": 6,
      "outputs": [
        {
          "output_type": "stream",
          "name": "stdout",
          "text": [
            "4\n",
            "2.9\n",
            "Hello\n",
            "Hello\n",
            "Hello\n",
            "Hello\n",
            "5\n"
          ]
        }
      ]
    },
    {
      "cell_type": "markdown",
      "source": [
        "## Python_version()"
      ],
      "metadata": {
        "id": "8kQKy9qRKEeg"
      }
    },
    {
      "cell_type": "code",
      "source": [
        "# comment\n",
        "from platform import python_version\n",
        "print(\"Python Version:\", python_version())"
      ],
      "metadata": {
        "colab": {
          "base_uri": "https://localhost:8080/"
        },
        "id": "Op1z8ABcIldp",
        "outputId": "91d7e078-23d1-4154-a61f-8184a89cd6ee"
      },
      "execution_count": 7,
      "outputs": [
        {
          "output_type": "stream",
          "name": "stdout",
          "text": [
            "Python Version: 3.12.11\n"
          ]
        }
      ]
    },
    {
      "cell_type": "markdown",
      "source": [
        "## Python Data Types"
      ],
      "metadata": {
        "id": "Dx1giqHXKTQv"
      }
    },
    {
      "cell_type": "code",
      "source": [
        "x = \"Hello World\"\n",
        "print(type(x))    #str\n",
        "x = 2\n",
        "print(type(x))    #int\n",
        "x = 2.5\n",
        "print(type(x))    #float\n",
        "x = 7j\n",
        "print(type(x))    #complex\n",
        "x = [\"apple\", \"star apple\", \"cherry\"]\n",
        "print(type(x))    #list\n",
        "x = (\"sugar apple\", \"banana\", \"cherry\")\n",
        "print(type(x))    #tuple\n",
        "x = range(6)\n",
        "print(type(x))    #range\n",
        "x = {\"name\" : \"Tom\", \"age\" : 20}\n",
        "print(type(x))    #dict\n",
        "x = {\"apple\", \"banana\", \"cherry\"}\n",
        "print(type(x))    #set\n",
        "x = frozenset({\"apple\", \"banana\", \"cherry\"})\n",
        "print(type(x))    #frozenset\n",
        "x = True\n",
        "print(type(x))    #bool\n",
        "x = b\"Hello\"\n",
        "print(type(x))    #bytes\n",
        "x = bytearray(5)\n",
        "print(type(x))    #bytearray\n",
        "x = memoryview(bytes(5))\n",
        "print(type(x))    #memoryview\n",
        "x = None\n",
        "print(type(x))    #NoneType"
      ],
      "metadata": {
        "colab": {
          "base_uri": "https://localhost:8080/"
        },
        "id": "Aw7BUxceKPkV",
        "outputId": "27ef2a6f-24ea-4712-d4fe-ddad605e5f88"
      },
      "execution_count": 9,
      "outputs": [
        {
          "output_type": "stream",
          "name": "stdout",
          "text": [
            "<class 'str'>\n",
            "<class 'int'>\n",
            "<class 'float'>\n",
            "<class 'complex'>\n",
            "<class 'list'>\n",
            "<class 'tuple'>\n",
            "<class 'range'>\n",
            "<class 'dict'>\n",
            "<class 'set'>\n",
            "<class 'frozenset'>\n",
            "<class 'bool'>\n",
            "<class 'bytes'>\n",
            "<class 'bytearray'>\n",
            "<class 'memoryview'>\n",
            "<class 'NoneType'>\n"
          ]
        }
      ]
    },
    {
      "cell_type": "markdown",
      "source": [
        "### Python Casting"
      ],
      "metadata": {
        "id": "B6NRZaOyLVAA"
      }
    },
    {
      "cell_type": "code",
      "source": [
        "x = str(3) # x will be '3'\n",
        "y = int(3) # y will be 3\n",
        "z = float(3) # z will be 3.0\n",
        "print(x, type(x))\n",
        "print(y, type(y))\n",
        "print(z, type(z))"
      ],
      "metadata": {
        "colab": {
          "base_uri": "https://localhost:8080/"
        },
        "id": "mR8PV_ESLYOD",
        "outputId": "b6138f02-c719-40d3-81dd-19c592272d45"
      },
      "execution_count": 10,
      "outputs": [
        {
          "output_type": "stream",
          "name": "stdout",
          "text": [
            "3 <class 'str'>\n",
            "3 <class 'int'>\n",
            "3.0 <class 'float'>\n"
          ]
        }
      ]
    },
    {
      "cell_type": "markdown",
      "source": [
        "### Python Numbers"
      ],
      "metadata": {
        "id": "YcQDB9BuLnVC"
      }
    },
    {
      "cell_type": "code",
      "source": [
        "x = 2 # int\n",
        "y = 3.4 # float\n",
        "z = 7j #complex\n",
        "print(x, type(x))\n",
        "print(y, type(y))\n",
        "print(z, type(z))"
      ],
      "metadata": {
        "colab": {
          "base_uri": "https://localhost:8080/"
        },
        "id": "ZTbeUCrVLppQ",
        "outputId": "8208dc01-a1fc-47bc-bc43-86ac5c6ebc45"
      },
      "execution_count": 11,
      "outputs": [
        {
          "output_type": "stream",
          "name": "stdout",
          "text": [
            "2 <class 'int'>\n",
            "3.4 <class 'float'>\n",
            "7j <class 'complex'>\n"
          ]
        }
      ]
    },
    {
      "cell_type": "markdown",
      "source": [
        "## Python Arithmetic Operators"
      ],
      "metadata": {
        "id": "qnZzDfeZL9zf"
      }
    },
    {
      "cell_type": "code",
      "source": [
        "# Operator Name Example\n",
        "# + Addition 7 + 2 = 9\n",
        "print(7 + 2)\n",
        "# - Subtraction 7 - 2 = 5\n",
        "print(7 - 2)\n",
        "# * Multiplication 7 * 2 = 14\n",
        "print(7 * 2)\n",
        "# / Division 7 / 2 = 3.5\n",
        "print(7 / 2)\n",
        "# // Floor division 7 // 2 = 3 (Quotient)\n",
        "print(7 // 2)\n",
        "# % Modulus 7 % 2 = 1 (Remainder)\n",
        "print(7 % 2)\n",
        "# ** Exponentiation 7 ** 2 = 49\n",
        "print(7 ** 2)"
      ],
      "metadata": {
        "colab": {
          "base_uri": "https://localhost:8080/"
        },
        "id": "0MrsGhRRMBNA",
        "outputId": "98c719ca-cc35-43aa-d5b9-219fed9e303c"
      },
      "execution_count": 12,
      "outputs": [
        {
          "output_type": "stream",
          "name": "stdout",
          "text": [
            "9\n",
            "5\n",
            "14\n",
            "3.5\n",
            "3\n",
            "1\n",
            "49\n"
          ]
        }
      ]
    },
    {
      "cell_type": "markdown",
      "source": [
        "## Python Basic Operators"
      ],
      "metadata": {
        "id": "m6JHiD2_MguS"
      }
    },
    {
      "cell_type": "code",
      "source": [
        "print('7 + 2 =', 7 + 2)\n",
        "print('7 - 2 =', 7 - 2)\n",
        "print('7 * 2 =', 7 * 2)\n",
        "print('7 / 2 =', 7 / 2)\n",
        "print('7 // 2 =', 7 // 2)\n",
        "print('7 % 2 =', 7 % 2)\n",
        "print('7 ** 2 =', 7 ** 2)"
      ],
      "metadata": {
        "colab": {
          "base_uri": "https://localhost:8080/"
        },
        "id": "9CbD0kLUMkR7",
        "outputId": "0588da74-0ad3-450a-91ec-dc48f78da957"
      },
      "execution_count": 13,
      "outputs": [
        {
          "output_type": "stream",
          "name": "stdout",
          "text": [
            "7 + 2 = 9\n",
            "7 - 2 = 5\n",
            "7 * 2 = 14\n",
            "7 / 2 = 3.5\n",
            "7 // 2 = 3\n",
            "7 % 2 = 1\n",
            "7 ** 2 = 49\n"
          ]
        }
      ]
    },
    {
      "cell_type": "markdown",
      "source": [
        "## Python Booleans: True or False"
      ],
      "metadata": {
        "id": "F2d5QC7xMuN-"
      }
    },
    {
      "cell_type": "code",
      "source": [
        "# Python Booleans: True or False\n",
        "print(3 > 4)\n",
        "print(3 == 4)\n",
        "print(3 < 4)"
      ],
      "metadata": {
        "colab": {
          "base_uri": "https://localhost:8080/"
        },
        "id": "Pr16o9muMzP7",
        "outputId": "483e1652-fee9-4137-eaca-64eec066e9c5"
      },
      "execution_count": 14,
      "outputs": [
        {
          "output_type": "stream",
          "name": "stdout",
          "text": [
            "False\n",
            "False\n",
            "True\n"
          ]
        }
      ]
    },
    {
      "cell_type": "markdown",
      "source": [
        "## Python BMI Calculator"
      ],
      "metadata": {
        "id": "gHOprkujM-fQ"
      }
    },
    {
      "cell_type": "code",
      "source": [
        "# BMI Calculator in Python\n",
        "height_cm = 169\n",
        "weight_kg = 49\n",
        "height_m = height_cm/100\n",
        "BMI = (weight_kg/(height_m**2))\n",
        "\n",
        "print(\"My BMI is: \" + str(round(BMI,1)))"
      ],
      "metadata": {
        "colab": {
          "base_uri": "https://localhost:8080/"
        },
        "id": "5johw2ILNCTb",
        "outputId": "44a09346-a2c5-4b82-a9d3-ec1fd9f1b34b"
      },
      "execution_count": 16,
      "outputs": [
        {
          "output_type": "stream",
          "name": "stdout",
          "text": [
            "My BMI is: 17.2\n"
          ]
        }
      ]
    },
    {
      "cell_type": "markdown",
      "source": [
        "## Future value of a specified principal amount, rate of interest, and a number of years"
      ],
      "metadata": {
        "id": "Ziz34U3gNStF"
      }
    },
    {
      "cell_type": "code",
      "source": [],
      "metadata": {
        "id": "O1Wg2we9Ni9i"
      },
      "execution_count": null,
      "outputs": []
    }
  ]
}
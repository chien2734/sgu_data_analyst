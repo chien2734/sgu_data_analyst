{
  "nbformat": 4,
  "nbformat_minor": 0,
  "metadata": {
    "colab": {
      "provenance": [],
      "authorship_tag": "ABX9TyMRXXYueJwYQXluQStpHt2/",
      "include_colab_link": true
    },
    "kernelspec": {
      "name": "python3",
      "display_name": "Python 3"
    },
    "language_info": {
      "name": "python"
    }
  },
  "cells": [
    {
      "cell_type": "markdown",
      "metadata": {
        "id": "view-in-github",
        "colab_type": "text"
      },
      "source": [
        "<a href=\"https://colab.research.google.com/github/chien2734/sgu_data_analyst/blob/chien/Paper3.ipynb\" target=\"_parent\"><img src=\"https://colab.research.google.com/assets/colab-badge.svg\" alt=\"Open In Colab\"/></a>"
      ]
    },
    {
      "cell_type": "markdown",
      "source": [
        "<h1> PAPER3"
      ],
      "metadata": {
        "id": "HhdCBRuxz8FY"
      }
    },
    {
      "cell_type": "markdown",
      "source": [
        "# 1. Mục tiêu\n",
        "\n",
        "Xây dựng một hệ thống phân loại (classification system) để:\n",
        "\n",
        "* Chẩn đoán bệnh nhân: phân loại họ thuộc nhóm DM, IGT, GDM, PrevAGT, PotAGT, Normal.\n",
        "\n",
        "* Xác định subtype: DM thuộc IDDM (type 1) hay NIDDM (type 2, obese / non-obese).\n",
        "\n",
        "* Chuẩn hóa quy trình đánh giá bệnh nhân, tránh nhầm lẫn, bỏ sót hoặc chẩn đoán sai."
      ],
      "metadata": {
        "id": "eT_rnDTq0A4p"
      }
    },
    {
      "cell_type": "markdown",
      "source": [
        "# 2. Đầu vào (Input)\n",
        "Từ nội dung paper, có thể suy ra dữ liệu cần thu thập cho mỗi bệnh nhân:\n",
        "\n",
        "* **Thông tin xét nghiệm**:\n",
        "\n",
        "  * FPG (đường huyết lúc đói).\n",
        "\n",
        "  * OGTT glucose (0, 30, 60, 90, 120 phút – và 180 phút nếu nghi GDM).\n",
        "\n",
        "* **Thông tin lâm sàng**:\n",
        "\n",
        "  * Triệu chứng kinh điển: khát nhiều, tiểu nhiều, sụt cân, nhiễm toan ceton.\n",
        "\n",
        "  * Tiền sử: mang thai, GDM trước đó, từng có IGT.\n",
        "\n",
        "* **Thông tin nhân khẩu học**:\n",
        "\n",
        "  * Tuổi, giới, cân nặng, chiều cao (để tính BMI).\n",
        "\n",
        "  * Chủng tộc / yếu tố nguy cơ gia đình.\n",
        "\n",
        "* **Thông tin bổ sung (nếu có)**:\n",
        "\n",
        "  * Kết quả HLA, islet cell antibody, insulin, C-peptide (để xác định type 1 vs type 2).\n",
        "\n",
        "  * Thuốc đang dùng hoặc bệnh đi kèm có thể gây tăng glucose."
      ],
      "metadata": {
        "id": "au2oWNq30P8i"
      }
    },
    {
      "cell_type": "markdown",
      "source": [
        "# 3. Đầu ra (Output)\n",
        "\n",
        "* **Nhãn phân loại chính**:\n",
        "\n",
        "  * Normal (bình thường)\n",
        "\n",
        "  * IGT (rối loạn dung nạp glucose)\n",
        "\n",
        "  * DM (tiểu đường – thoả tiêu chuẩn)\n",
        "\n",
        "  * GDM (tiểu đường thai kỳ)\n",
        "\n",
        "  * PrevAGT (từng bất thường nhưng hiện bình thường)\n",
        "\n",
        "  * PotAGT (có nguy cơ cao nhưng chưa bất thường)\n",
        "\n",
        "* **Nhãn phụ**:\n",
        "\n",
        "  * Nếu DM → IDDM hoặc NIDDM (obese/nonobese)"
      ],
      "metadata": {
        "id": "OCebTKUE04Zr"
      }
    },
    {
      "cell_type": "markdown",
      "source": [
        "# 4. Quy tắc quyết định (Decision Rules)\n",
        "\n",
        "Dựa trên tiêu chuẩn trong paper:\n",
        "\n",
        "* **DM**:\n",
        "\n",
        "  * FPG ≥ 140 mg/dl (xác nhận ≥2 lần)\n",
        "hoặc OGTT 2h ≥ 200 mg/dl + ≥1 giá trị khác trong 0–2h ≥ 200 mg/dl\n",
        "hoặc có triệu chứng + glucose bất kỳ ≥ 200 mg/dl.\n",
        "\n",
        "* **IGT**:\n",
        "\n",
        "  * FPG < 140 mg/dl, OGTT 2h trong [140, 200) mg/dl.\n",
        "\n",
        "* **GDM**:\n",
        "\n",
        "  * OGTT 100 g: ≥2 giá trị đạt ngưỡng (F≥105, 1h≥190, 2h≥165, 3h≥145 mg/dl).\n",
        "\n",
        "* **PrevAGT / PotAGT**: dựa trên tiền sử hoặc yếu tố nguy cơ."
      ],
      "metadata": {
        "id": "039q8Svl1Jjp"
      }
    },
    {
      "cell_type": "markdown",
      "source": [
        "# 5. Mục tiêu triển khai\n",
        "\n",
        "* **Phía nghiên cứu**: đánh giá tỷ lệ mắc, so sánh đặc điểm giữa các nhóm, dự đoán tiến triển từ IGT → DM.\n",
        "\n",
        "* **Phía kỹ thuật**: có thể xây dựng hệ thống hỗ trợ quyết định (Decision Support System) hoặc mô hình ML phân loại bệnh nhân dựa trên dữ liệu xét nghiệm."
      ],
      "metadata": {
        "id": "-cCFQfvK1mM_"
      }
    },
    {
      "cell_type": "code",
      "source": [],
      "metadata": {
        "id": "hlxr1e_5zy18"
      },
      "execution_count": null,
      "outputs": []
    }
  ]
}
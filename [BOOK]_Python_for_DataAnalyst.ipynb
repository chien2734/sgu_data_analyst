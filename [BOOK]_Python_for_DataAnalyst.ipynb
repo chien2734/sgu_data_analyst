{
  "nbformat": 4,
  "nbformat_minor": 0,
  "metadata": {
    "colab": {
      "provenance": [],
      "authorship_tag": "ABX9TyOerXJUvPqSMKpU2qOgqFbi",
      "include_colab_link": true
    },
    "kernelspec": {
      "name": "python3",
      "display_name": "Python 3"
    },
    "language_info": {
      "name": "python"
    }
  },
  "cells": [
    {
      "cell_type": "markdown",
      "metadata": {
        "id": "view-in-github",
        "colab_type": "text"
      },
      "source": [
        "<a href=\"https://colab.research.google.com/github/chien2734/sgu_data_analyst/blob/main/%5BBOOK%5D_Python_for_DataAnalyst.ipynb\" target=\"_parent\"><img src=\"https://colab.research.google.com/assets/colab-badge.svg\" alt=\"Open In Colab\"/></a>"
      ]
    },
    {
      "cell_type": "markdown",
      "source": [
        "<h1> CHAPTER 1: Prelininaries\n"
      ],
      "metadata": {
        "id": "O3J0YDOpZoiI"
      }
    },
    {
      "cell_type": "markdown",
      "source": [
        "## 1.1 What Is This Book About?\n",
        "\n"
      ],
      "metadata": {
        "id": "z0KIveNCaHvW"
      }
    },
    {
      "cell_type": "markdown",
      "source": [
        "## 1.2 Why Python for Data Analysis?"
      ],
      "metadata": {
        "id": "W-DI4f_gaHyf"
      }
    },
    {
      "cell_type": "markdown",
      "source": [
        "## 1.3 Essential Python Libraries"
      ],
      "metadata": {
        "id": "GF48SSFbaH1f"
      }
    },
    {
      "cell_type": "markdown",
      "source": [
        "## 1.4 Installation and Setup"
      ],
      "metadata": {
        "id": "UMCeAWUfaH4r"
      }
    },
    {
      "cell_type": "markdown",
      "source": [
        "## 1.5 Community and Conferences"
      ],
      "metadata": {
        "id": "r2hbOOv7aH8M"
      }
    },
    {
      "cell_type": "markdown",
      "source": [
        "## 1.6 Navigating This Book"
      ],
      "metadata": {
        "id": "_9LlZ5OUa41x"
      }
    },
    {
      "cell_type": "code",
      "execution_count": 1,
      "metadata": {
        "id": "bv4ODptGZTs0"
      },
      "outputs": [],
      "source": [
        "import numpy as np\n",
        "import pandas as pd\n",
        "pd.options.display.max_columns = 20\n",
        "pd.options.display.max_rows = 20\n",
        "pd.options.display.max_colwidth = 80\n",
        "np.set_printoptions(precision=4, suppress=True)"
      ]
    },
    {
      "cell_type": "code",
      "source": [
        "#Import Conventions\n",
        "import numpy as np\n",
        "import matplotlib.pyplot as plt\n",
        "import pandas as pd\n",
        "import seaborn as sns\n",
        "import statsmodels as sm"
      ],
      "metadata": {
        "id": "7YPXR52ObetB"
      },
      "execution_count": 2,
      "outputs": []
    },
    {
      "cell_type": "markdown",
      "source": [
        "<h1> CHAPTER 2:\n",
        "Python Language Basics, IPython,\n",
        "and Jupyter Notebooks"
      ],
      "metadata": {
        "id": "SKe809Y-a473"
      }
    },
    {
      "cell_type": "markdown",
      "source": [
        "## 2.1 The Python Interpreter"
      ],
      "metadata": {
        "id": "Tt8BAxKsbxeZ"
      }
    },
    {
      "cell_type": "code",
      "source": [],
      "metadata": {
        "id": "MSVp1xm9btmV"
      },
      "execution_count": null,
      "outputs": []
    }
  ]
}
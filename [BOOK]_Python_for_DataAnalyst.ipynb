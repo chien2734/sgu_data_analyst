{
  "nbformat": 4,
  "nbformat_minor": 0,
  "metadata": {
    "colab": {
      "provenance": [],
      "authorship_tag": "ABX9TyOF8lnGxe8hL60u6l297Pb/",
      "include_colab_link": true
    },
    "kernelspec": {
      "name": "python3",
      "display_name": "Python 3"
    },
    "language_info": {
      "name": "python"
    }
  },
  "cells": [
    {
      "cell_type": "markdown",
      "metadata": {
        "id": "view-in-github",
        "colab_type": "text"
      },
      "source": [
        "<a href=\"https://colab.research.google.com/github/chien2734/sgu_data_analyst/blob/main/%5BBOOK%5D_Python_for_DataAnalyst.ipynb\" target=\"_parent\"><img src=\"https://colab.research.google.com/assets/colab-badge.svg\" alt=\"Open In Colab\"/></a>"
      ]
    },
    {
      "cell_type": "markdown",
      "source": [
        "<h1> CHAPTER 1: Prelininaries\n"
      ],
      "metadata": {
        "id": "O3J0YDOpZoiI"
      }
    },
    {
      "cell_type": "markdown",
      "source": [
        "## 1.1 What Is This Book About?\n",
        "\n"
      ],
      "metadata": {
        "id": "z0KIveNCaHvW"
      }
    },
    {
      "cell_type": "markdown",
      "source": [
        "## 1.2 Why Python for Data Analysis?"
      ],
      "metadata": {
        "id": "W-DI4f_gaHyf"
      }
    },
    {
      "cell_type": "markdown",
      "source": [
        "## 1.3 Essential Python Libraries"
      ],
      "metadata": {
        "id": "GF48SSFbaH1f"
      }
    },
    {
      "cell_type": "markdown",
      "source": [
        "## 1.4 Installation and Setup"
      ],
      "metadata": {
        "id": "UMCeAWUfaH4r"
      }
    },
    {
      "cell_type": "markdown",
      "source": [
        "## 1.5 Community and Conferences"
      ],
      "metadata": {
        "id": "r2hbOOv7aH8M"
      }
    },
    {
      "cell_type": "markdown",
      "source": [
        "## 1.6 Navigating This Book"
      ],
      "metadata": {
        "id": "_9LlZ5OUa41x"
      }
    },
    {
      "cell_type": "code",
      "execution_count": null,
      "metadata": {
        "id": "bv4ODptGZTs0"
      },
      "outputs": [],
      "source": [
        "import numpy as np\n",
        "import pandas as pd\n",
        "pd.options.display.max_columns = 20\n",
        "pd.options.display.max_rows = 20\n",
        "pd.options.display.max_colwidth = 80\n",
        "np.set_printoptions(precision=4, suppress=True)"
      ]
    },
    {
      "cell_type": "code",
      "source": [
        "#Import Conventions\n",
        "import numpy as np\n",
        "import matplotlib.pyplot as plt\n",
        "import pandas as pd\n",
        "import seaborn as sns\n",
        "import statsmodels as sm"
      ],
      "metadata": {
        "id": "7YPXR52ObetB"
      },
      "execution_count": null,
      "outputs": []
    },
    {
      "cell_type": "markdown",
      "source": [
        "<h1> CHAPTER 2:\n",
        "Python Language Basics, IPython,\n",
        "and Jupyter Notebooks"
      ],
      "metadata": {
        "id": "SKe809Y-a473"
      }
    },
    {
      "cell_type": "markdown",
      "source": [
        "## 2.1 The Python Interpreter"
      ],
      "metadata": {
        "id": "Tt8BAxKsbxeZ"
      }
    },
    {
      "cell_type": "code",
      "source": [
        "a = 5\n",
        "print(a)\n",
        "\n",
        "print(\"Hello world\")"
      ],
      "metadata": {
        "id": "MSVp1xm9btmV",
        "colab": {
          "base_uri": "https://localhost:8080/"
        },
        "outputId": "7604ab59-621e-4017-90c9-0fbab29746fd"
      },
      "execution_count": 2,
      "outputs": [
        {
          "output_type": "stream",
          "name": "stdout",
          "text": [
            "5\n",
            "Hello world\n"
          ]
        }
      ]
    },
    {
      "cell_type": "markdown",
      "source": [
        "## 2.2 IPython Basics"
      ],
      "metadata": {
        "id": "4vYrvO5-D3lv"
      }
    },
    {
      "cell_type": "markdown",
      "source": [
        "### Running the IPython Shell"
      ],
      "metadata": {
        "id": "72vE9bzbD8B2"
      }
    },
    {
      "cell_type": "code",
      "source": [
        "a = 5\n",
        "a #print 5"
      ],
      "metadata": {
        "colab": {
          "base_uri": "https://localhost:8080/"
        },
        "id": "5FxgH3zHD4UC",
        "outputId": "b08988b1-293e-4120-f856-fa3cbcd3e5c4"
      },
      "execution_count": 5,
      "outputs": [
        {
          "output_type": "execute_result",
          "data": {
            "text/plain": [
              "5"
            ]
          },
          "metadata": {},
          "execution_count": 5
        }
      ]
    },
    {
      "cell_type": "code",
      "source": [
        "import numpy as np\n",
        "data = [np.random.standard_normal() for i in range(8)]\n",
        "data #print(data)"
      ],
      "metadata": {
        "colab": {
          "base_uri": "https://localhost:8080/"
        },
        "id": "AGC-RGIYETEf",
        "outputId": "1c7ff46f-5e1b-493c-e93a-f4969dc31c89"
      },
      "execution_count": 6,
      "outputs": [
        {
          "output_type": "execute_result",
          "data": {
            "text/plain": [
              "[-0.04664350085945034,\n",
              " 0.08334126223593778,\n",
              " 0.044577390567203785,\n",
              " -0.07512381189122282,\n",
              " -2.538163815938322,\n",
              " 0.3652711235795394,\n",
              " -1.6728013983197745,\n",
              " 1.6451020548688982]"
            ]
          },
          "metadata": {},
          "execution_count": 6
        }
      ]
    },
    {
      "cell_type": "markdown",
      "source": [
        "### Running the Jupyter Notebook"
      ],
      "metadata": {
        "id": "XRjnYEpkE9d2"
      }
    },
    {
      "cell_type": "markdown",
      "source": [
        "### Tab Completion"
      ],
      "metadata": {
        "id": "AhsZOKUVFAj1"
      }
    },
    {
      "cell_type": "code",
      "source": [
        "an_apple = 27\n",
        "an_example = 42\n",
        "an_apple\n",
        "\n",
        "b = [1, 2, 3]\n",
        "b.append\n",
        "\n",
        "import datetime\n",
        "datetime.datetime.now()\n"
      ],
      "metadata": {
        "colab": {
          "base_uri": "https://localhost:8080/"
        },
        "id": "VCiVKbooFAAk",
        "outputId": "7bdfef67-62cd-418c-ff70-e60d70bb2d9f"
      },
      "execution_count": 12,
      "outputs": [
        {
          "output_type": "stream",
          "name": "stdout",
          "text": [
            "None\n"
          ]
        },
        {
          "output_type": "execute_result",
          "data": {
            "text/plain": [
              "datetime.datetime(2025, 10, 13, 5, 43, 16, 140007)"
            ]
          },
          "metadata": {},
          "execution_count": 12
        }
      ]
    },
    {
      "cell_type": "markdown",
      "source": [
        "### Introspection\n",
        "\n",
        "Using a question mark (?) before or after a variable will display some general infor‐\n",
        "mation about the object:"
      ],
      "metadata": {
        "id": "0YuAFmtbGNYA"
      }
    },
    {
      "cell_type": "code",
      "source": [
        "b = [1, 2, 3]\n",
        "b?\n",
        "\n",
        "print?\n",
        "# Signature: print(*args, sep=' ', end='\\n', file=None, flush=False)\n",
        "# Docstring:\n",
        "# Prints the values to a stream, or to sys.stdout by default."
      ],
      "metadata": {
        "id": "BAuHARY6GODt"
      },
      "execution_count": 20,
      "outputs": []
    },
    {
      "cell_type": "code",
      "source": [
        "def add_numbers(a, b):\n",
        "  \"\"\"\n",
        "  Add two numbers together\n",
        "  Returns\n",
        "  -------\n",
        "  the_sum : type of arguments\n",
        "  \"\"\"\n",
        "  return a + b\n",
        "\n",
        "add_numbers?\n",
        "# Signature: add_numbers(a, b)\n",
        "# Docstring:\n",
        "# Add two numbers together\n",
        "# Returns"
      ],
      "metadata": {
        "id": "ZkfFFpRmGj1Z"
      },
      "execution_count": 21,
      "outputs": []
    },
    {
      "cell_type": "code",
      "source": [
        "import numpy as np\n",
        "np.*load*?\n",
        "# np.__loader__\n",
        "# np.load\n",
        "# np.loadtxt"
      ],
      "metadata": {
        "id": "nC1p6fvwH1m5"
      },
      "execution_count": 22,
      "outputs": []
    },
    {
      "cell_type": "markdown",
      "source": [
        "## 2.3 Python Language Basics"
      ],
      "metadata": {
        "id": "isiydrBJIH5H"
      }
    },
    {
      "cell_type": "markdown",
      "source": [
        "### Language Semantics"
      ],
      "metadata": {
        "id": "-RyLyXzpINlo"
      }
    },
    {
      "cell_type": "markdown",
      "source": [
        "#### Indentation, not braces"
      ],
      "metadata": {
        "id": "fti43LSHKIlo"
      }
    },
    {
      "cell_type": "code",
      "source": [
        "for x in array:\n",
        "  if x < pivot:\n",
        "    less.append(x)\n",
        "  else:\n",
        "    greater.append(x)\n",
        "\n",
        "a = 5; b = 6; c = 7"
      ],
      "metadata": {
        "id": "Fe4gVCjMIKZa"
      },
      "execution_count": null,
      "outputs": []
    },
    {
      "cell_type": "markdown",
      "source": [
        "#### Comment"
      ],
      "metadata": {
        "id": "ruNeCMgGKM_g"
      }
    },
    {
      "cell_type": "code",
      "source": [
        "results = []\n",
        "for line in file_handle:\n",
        "  # keep the empty lines for now\n",
        "  # if len(line) == 0:\n",
        "  # continue\n",
        "  results.append(line.replace(\"foo\", \"bar\"))\n",
        "\n",
        "print(\"Reached this line\") # Simple status report"
      ],
      "metadata": {
        "id": "smFXHpLPIhb3"
      },
      "execution_count": null,
      "outputs": []
    },
    {
      "cell_type": "markdown",
      "source": [
        "#### Function and object method calls"
      ],
      "metadata": {
        "id": "10-SekUPKQhg"
      }
    },
    {
      "cell_type": "code",
      "source": [
        "result = f(x, y, z)\n",
        "g()\n",
        "\n",
        "obj.some_method(x, y, z)\n",
        "\n",
        "result = f(a, b, c, d=5, e=\"foo\")"
      ],
      "metadata": {
        "id": "LJOlSKyDI0kA"
      },
      "execution_count": null,
      "outputs": []
    },
    {
      "cell_type": "markdown",
      "source": [
        "#### Variables and argument passing"
      ],
      "metadata": {
        "id": "3fz2LkMJKUJ4"
      }
    },
    {
      "cell_type": "code",
      "source": [
        "a = [1, 2, 3]\n",
        "b = a\n",
        "a.append(4)\n",
        "print(b)\n",
        "\n",
        "def append_element(some_list, element):\n",
        "  some_list.append(element)\n",
        "#Then we have:\n",
        "data = [1, 2, 3]\n",
        "append_element(data, 4)\n",
        "data\n"
      ],
      "metadata": {
        "colab": {
          "base_uri": "https://localhost:8080/"
        },
        "id": "EKo0TuMbJKtf",
        "outputId": "8ec41c4e-10fe-4d3e-eed0-aa2d8eb0ff51"
      },
      "execution_count": 26,
      "outputs": [
        {
          "output_type": "stream",
          "name": "stdout",
          "text": [
            "[1, 2, 3, 4]\n"
          ]
        },
        {
          "output_type": "execute_result",
          "data": {
            "text/plain": [
              "[1, 2, 3, 4]"
            ]
          },
          "metadata": {},
          "execution_count": 26
        }
      ]
    },
    {
      "cell_type": "markdown",
      "source": [
        "#### Dynamic references, strong types"
      ],
      "metadata": {
        "id": "QeXXgvCyJMCX"
      }
    },
    {
      "cell_type": "code",
      "source": [
        "a = 5\n",
        "print(type(a)) # int\n",
        "a = \"foo\"\n",
        "print(type(a)) # str\n",
        "\n",
        "#\"5\" + 5 # Error\n",
        "\n",
        "a = 4.5\n",
        "b = 2\n",
        "# String formatting, to be visited later\n",
        "print(f\"a is {type(a)}, b is {type(b)}\")\n",
        "a / b"
      ],
      "metadata": {
        "colab": {
          "base_uri": "https://localhost:8080/"
        },
        "id": "umaKbscJKCeA",
        "outputId": "e3626929-8ffd-41eb-b995-3c41d9304e1c"
      },
      "execution_count": 31,
      "outputs": [
        {
          "output_type": "stream",
          "name": "stdout",
          "text": [
            "<class 'int'>\n",
            "<class 'str'>\n",
            "a is <class 'float'>, b is <class 'int'>\n"
          ]
        },
        {
          "output_type": "execute_result",
          "data": {
            "text/plain": [
              "2.25"
            ]
          },
          "metadata": {},
          "execution_count": 31
        }
      ]
    },
    {
      "cell_type": "code",
      "source": [
        "a = 5\n",
        "print(isinstance(a, int))\n",
        "\n",
        "a = 5; b = 4.5\n",
        "print(isinstance(a, (int, float)))\n",
        "print(isinstance(b, (int, float)))"
      ],
      "metadata": {
        "colab": {
          "base_uri": "https://localhost:8080/"
        },
        "id": "VGJy4hKAMbLq",
        "outputId": "dc40f4b3-5f06-4b68-cdc0-23bea5101c13"
      },
      "execution_count": 34,
      "outputs": [
        {
          "output_type": "stream",
          "name": "stdout",
          "text": [
            "True\n",
            "True\n",
            "True\n"
          ]
        }
      ]
    },
    {
      "cell_type": "markdown",
      "source": [
        "#### Attributes and methods"
      ],
      "metadata": {
        "id": "T-yRm59CMyOg"
      }
    },
    {
      "cell_type": "code",
      "source": [
        "a = \"foo\"\n",
        "getattr(a, \"split\")"
      ],
      "metadata": {
        "colab": {
          "base_uri": "https://localhost:8080/"
        },
        "id": "fbwzAM1UMzHu",
        "outputId": "85c9f8d6-ce9d-4cf2-cd26-f3dbec5957a2"
      },
      "execution_count": 35,
      "outputs": [
        {
          "output_type": "execute_result",
          "data": {
            "text/plain": [
              "<function str.split(sep=None, maxsplit=-1)>"
            ]
          },
          "metadata": {},
          "execution_count": 35
        }
      ]
    },
    {
      "cell_type": "markdown",
      "source": [
        "#### Duck typing"
      ],
      "metadata": {
        "id": "uxZQtSzDvjZO"
      }
    },
    {
      "cell_type": "code",
      "source": [
        "def isiterable(obj):\n",
        "  try:\n",
        "    iter(obj)\n",
        "    return True\n",
        "  except TypeError: # not iterable\n",
        "    return False"
      ],
      "metadata": {
        "id": "_kVqHD5svo38"
      },
      "execution_count": 1,
      "outputs": []
    },
    {
      "cell_type": "code",
      "source": [
        "isiterable(\"a string\") #True\n",
        "isiterable([1, 2, 3]) #True\n",
        "isiterable(5) #False"
      ],
      "metadata": {
        "colab": {
          "base_uri": "https://localhost:8080/"
        },
        "id": "w66c7CXov7gW",
        "outputId": "1ecc9528-7f07-449e-cbae-f4734c7cfa2d"
      },
      "execution_count": 3,
      "outputs": [
        {
          "output_type": "execute_result",
          "data": {
            "text/plain": [
              "False"
            ]
          },
          "metadata": {},
          "execution_count": 3
        }
      ]
    },
    {
      "cell_type": "markdown",
      "source": [
        "#### Imports"
      ],
      "metadata": {
        "id": "pW2U3a0TwPt-"
      }
    },
    {
      "cell_type": "code",
      "source": [
        "import some_module\n",
        "result = some_module.f(5)\n",
        "pi = some_module.PI\n",
        "#Or alternately:\n",
        "from some_module import g, PI\n",
        "result = g(5, PI)\n",
        "#By using the as keyword, you can give imports different variable names:\n",
        "import some_module as sm\n",
        "from some_module import PI as pi, g as gf\n",
        "r1 = sm.f(pi)\n",
        "r2 = gf(6, pi)"
      ],
      "metadata": {
        "id": "C_OlFC2UwRPj"
      },
      "execution_count": 5,
      "outputs": []
    },
    {
      "cell_type": "markdown",
      "source": [
        "#### Binary operators and comparisons"
      ],
      "metadata": {
        "id": "RMI88iJp0rmw"
      }
    },
    {
      "cell_type": "code",
      "source": [
        "print(5 - 7)\n",
        "print(12 + 21.5)\n",
        "print(5 <= 2)\n",
        "a = [1, 2, 3]\n",
        "b = a\n",
        "c = list(a)\n",
        "print(a is b)\n",
        "print(a is not c)\n",
        "print(a==c)\n",
        "a = None\n",
        "print(a is None)"
      ],
      "metadata": {
        "colab": {
          "base_uri": "https://localhost:8080/"
        },
        "id": "pcNH0s_A0t-a",
        "outputId": "c489928b-f312-4350-9267-e5f85366c8c0"
      },
      "execution_count": 13,
      "outputs": [
        {
          "output_type": "stream",
          "name": "stdout",
          "text": [
            "-2\n",
            "33.5\n",
            "False\n",
            "True\n",
            "True\n",
            "True\n",
            "True\n"
          ]
        }
      ]
    },
    {
      "cell_type": "markdown",
      "source": [
        "#### Mutable and immutable objects"
      ],
      "metadata": {
        "id": "yb7LBuAD1hL-"
      }
    },
    {
      "cell_type": "code",
      "source": [
        "a_list = [\"foo\", 2, [4, 5]]\n",
        "a_list[2] = (3, 4)\n",
        "a_list\n",
        "a_tuple = (3, 5, (4, 5))\n",
        "a_tuple[1] = \"four\"\n",
        "#'tuple' object does not support item assignment"
      ],
      "metadata": {
        "colab": {
          "base_uri": "https://localhost:8080/"
        },
        "id": "cLlD9fZr1jJ_",
        "outputId": "fa23641a-87dc-47ad-8a3d-b859888b3e6d"
      },
      "execution_count": 16,
      "outputs": [
        {
          "output_type": "execute_result",
          "data": {
            "text/plain": [
              "['foo', 2, (3, 4)]"
            ]
          },
          "metadata": {},
          "execution_count": 16
        }
      ]
    },
    {
      "cell_type": "markdown",
      "source": [
        "### Scalar Types"
      ],
      "metadata": {
        "id": "M9YeFk3p2Fot"
      }
    },
    {
      "cell_type": "markdown",
      "source": [
        "#### Numeric types"
      ],
      "metadata": {
        "id": "3xVrsHbB2Lk-"
      }
    },
    {
      "cell_type": "code",
      "source": [
        "ival = 17239871\n",
        "print(ival**6)\n",
        "\n",
        "fval = 7.243\n",
        "fval2 = 6.78e-5\n",
        "\n",
        "print(3/2)\n",
        "print(3//2)"
      ],
      "metadata": {
        "colab": {
          "base_uri": "https://localhost:8080/"
        },
        "id": "PulXvwfX2H2Q",
        "outputId": "b2c13613-ad4f-4035-d058-2d9064b9baa4"
      },
      "execution_count": 19,
      "outputs": [
        {
          "output_type": "stream",
          "name": "stdout",
          "text": [
            "26254519291092456596965462913230729701102721\n",
            "1.5\n",
            "1\n"
          ]
        }
      ]
    },
    {
      "cell_type": "markdown",
      "source": [
        "#### Strings"
      ],
      "metadata": {
        "id": "mkzgeQO22maH"
      }
    },
    {
      "cell_type": "code",
      "source": [
        "a = 'this is a string'\n",
        "b = \"another way\"\n",
        "c = \"\"\"\n",
        "This is a longer string that\n",
        "spans multiple lines\n",
        "\"\"\"\n",
        "\n",
        "print(c.count(\"\\n\"))\n",
        "\n",
        "#a[10] =\"f\"\n",
        "#'str' object does not support item assignment\n",
        "\n",
        "b = a.replace(\"string\", \"longer string\")\n",
        "print(b)\n",
        "print(a)\n",
        "\n",
        "a = 5.6\n",
        "s=str(a)\n",
        "print(s)\n",
        "\n",
        "s = \"python\"\n",
        "print(list(s))\n",
        "print(s[:3])\n",
        "\n",
        "s = \"12\\\\34\"\n",
        "print(s)\n",
        "\n",
        "s = r\"this\\has\\no\\special\\characters\"\n",
        "print(s)\n",
        "\n",
        "a = \"this is the first half \"\n",
        "b = \"and this is the second half\"\n",
        "print(a + b)\n",
        "\n",
        "template = \"{0:.2f} {1:s} are worth US${2:d}\"\n",
        "\n",
        "print(template.format(88.46, \"Argentine Pesos\", 1))\n",
        "\n",
        "amount = 10\n",
        "rate = 88.46\n",
        "currency = \"Pesos\"\n",
        "result = f\"{amount} {currency} is worth US${amount / rate}\"\n",
        "f\"{amount} {currency} is worth US${amount / rate:.2f}\""
      ],
      "metadata": {
        "colab": {
          "base_uri": "https://localhost:8080/",
          "height": 218
        },
        "id": "c4n34MPU2oKZ",
        "outputId": "9013c910-e8f5-483a-d60c-a159d04f5ca4"
      },
      "execution_count": 28,
      "outputs": [
        {
          "output_type": "stream",
          "name": "stdout",
          "text": [
            "3\n",
            "this is a longer string\n",
            "this is a string\n",
            "5.6\n",
            "['p', 'y', 't', 'h', 'o', 'n']\n",
            "pyt\n",
            "12\\34\n",
            "this\\has\\no\\special\\characters\n",
            "this is the first half and this is the second half\n",
            "88.46 Argentine Pesos are worth US$1\n"
          ]
        },
        {
          "output_type": "execute_result",
          "data": {
            "text/plain": [
              "'10 Pesos is worth US$0.11'"
            ],
            "application/vnd.google.colaboratory.intrinsic+json": {
              "type": "string"
            }
          },
          "metadata": {},
          "execution_count": 28
        }
      ]
    },
    {
      "cell_type": "markdown",
      "source": [
        "#### Bytes and Unicode\n"
      ],
      "metadata": {
        "id": "O57k6qjk4ee-"
      }
    },
    {
      "cell_type": "code",
      "source": [
        "val = \"español\"\n",
        "print(val)\n",
        "\n",
        "val_utf8 = val.encode(\"utf-8\")\n",
        "print(val_utf8)\n",
        "\n",
        "print(type(val_utf8))\n",
        "print(val_utf8.decode(\"utf-8\"))\n",
        "\n",
        "print(val.encode(\"latin1\"))\n",
        "print(val.encode(\"utf-16\"))\n",
        "print(val.encode(\"utf-16le\"))"
      ],
      "metadata": {
        "colab": {
          "base_uri": "https://localhost:8080/"
        },
        "id": "VAm_m6qB4eAA",
        "outputId": "95319e4e-f667-44b3-93ff-ba4490647998"
      },
      "execution_count": 31,
      "outputs": [
        {
          "output_type": "stream",
          "name": "stdout",
          "text": [
            "español\n",
            "b'espa\\xc3\\xb1ol'\n",
            "<class 'bytes'>\n",
            "español\n",
            "b'espa\\xf1ol'\n",
            "b'\\xff\\xfee\\x00s\\x00p\\x00a\\x00\\xf1\\x00o\\x00l\\x00'\n",
            "b'e\\x00s\\x00p\\x00a\\x00\\xf1\\x00o\\x00l\\x00'\n"
          ]
        }
      ]
    },
    {
      "cell_type": "markdown",
      "source": [
        "#### Booleans"
      ],
      "metadata": {
        "id": "bqCR-VMo5DAA"
      }
    },
    {
      "cell_type": "code",
      "source": [
        "print(True and True)\n",
        "print(False or True)\n",
        "print(int(False))\n",
        "print(int(True))\n",
        "a = True\n",
        "b = False\n",
        "print(not a)\n",
        "print( not b)"
      ],
      "metadata": {
        "colab": {
          "base_uri": "https://localhost:8080/"
        },
        "id": "b0xnQL4K5FTu",
        "outputId": "74db1bde-6ae3-482e-a2fa-5f3343f09fbc"
      },
      "execution_count": 33,
      "outputs": [
        {
          "output_type": "stream",
          "name": "stdout",
          "text": [
            "True\n",
            "True\n",
            "0\n",
            "1\n",
            "False\n",
            "True\n"
          ]
        }
      ]
    },
    {
      "cell_type": "markdown",
      "source": [
        "#### Type casting"
      ],
      "metadata": {
        "id": "Ml_mjUCp5prP"
      }
    },
    {
      "cell_type": "code",
      "source": [
        "s = \"3.14159\"\n",
        "fval = float(s)\n",
        "print(type(fval))\n",
        "print(int(fval))\n",
        "print(bool(fval))\n",
        "print(bool(0))"
      ],
      "metadata": {
        "colab": {
          "base_uri": "https://localhost:8080/"
        },
        "id": "ZVBRcfIv5rh9",
        "outputId": "aade60a7-fd95-449f-c774-3ae5bbcd47fe"
      },
      "execution_count": 35,
      "outputs": [
        {
          "output_type": "stream",
          "name": "stdout",
          "text": [
            "<class 'float'>\n",
            "3\n",
            "True\n",
            "False\n"
          ]
        }
      ]
    },
    {
      "cell_type": "markdown",
      "source": [
        "#### None"
      ],
      "metadata": {
        "id": "3MU9vVzY5_bA"
      }
    },
    {
      "cell_type": "code",
      "source": [
        "a = None\n",
        "print(a is None)\n",
        "b = 5\n",
        "print(b is not None)"
      ],
      "metadata": {
        "colab": {
          "base_uri": "https://localhost:8080/"
        },
        "id": "mFiOvX1q6AZE",
        "outputId": "f0542858-b79a-471b-837b-2cd4be027be0"
      },
      "execution_count": 36,
      "outputs": [
        {
          "output_type": "stream",
          "name": "stdout",
          "text": [
            "True\n",
            "True\n"
          ]
        }
      ]
    },
    {
      "cell_type": "code",
      "source": [
        "def add_and_maybe_multiply(a, b, c=None):\n",
        "  result = a + b\n",
        "  if c is not None:\n",
        "    result = result * c\n",
        "  return result\n",
        "print(add_and_maybe_multiply(1, 2))\n",
        "add_and_maybe_multiply(1, 2, 3)\n"
      ],
      "metadata": {
        "colab": {
          "base_uri": "https://localhost:8080/"
        },
        "id": "UFk3mXjV6NQ4",
        "outputId": "2658cbf2-0d10-4543-dfd0-9fd28e784067"
      },
      "execution_count": 37,
      "outputs": [
        {
          "output_type": "stream",
          "name": "stdout",
          "text": [
            "3\n"
          ]
        },
        {
          "output_type": "execute_result",
          "data": {
            "text/plain": [
              "9"
            ]
          },
          "metadata": {},
          "execution_count": 37
        }
      ]
    },
    {
      "cell_type": "markdown",
      "source": [
        "#### Dates and times"
      ],
      "metadata": {
        "id": "uUOo9gIM6dlf"
      }
    },
    {
      "cell_type": "code",
      "source": [
        "from datetime import datetime, date, time\n",
        "dt = datetime(2011, 10, 29, 20, 30, 21)\n",
        "print(dt.day)\n",
        "print(dt.minute)\n",
        "\n",
        "print(dt.date())\n",
        "print(dt.time())\n",
        "\n",
        "print(dt.strftime(\"%Y-%m-%d %H:%M\"))\n",
        "print(datetime.strptime(\"20091031\", \"%Y%m%d\"))\n",
        "\n",
        "dt_hour = dt.replace(minute=0, second=0)\n",
        "print(dt_hour)\n",
        "print(dt)"
      ],
      "metadata": {
        "colab": {
          "base_uri": "https://localhost:8080/"
        },
        "id": "m5bW25i46fwM",
        "outputId": "5311e38c-272a-415a-d7f7-8ec1e802f9a1"
      },
      "execution_count": 40,
      "outputs": [
        {
          "output_type": "stream",
          "name": "stdout",
          "text": [
            "29\n",
            "30\n",
            "2011-10-29\n",
            "20:30:21\n",
            "2011-10-29 20:30\n",
            "2009-10-31 00:00:00\n",
            "2011-10-29 20:00:00\n",
            "2011-10-29 20:30:21\n"
          ]
        }
      ]
    },
    {
      "cell_type": "code",
      "source": [
        "dt2 = datetime(2011, 11, 15, 22, 30)\n",
        "delta = dt2 - dt\n",
        "print(delta)\n",
        "print(type(delta))\n",
        "print(dt)\n",
        "print(dt + delta)"
      ],
      "metadata": {
        "colab": {
          "base_uri": "https://localhost:8080/"
        },
        "id": "FM9ksAdC7Nzo",
        "outputId": "7e2e1d48-3a1d-424b-f219-a3b5aff2f57b"
      },
      "execution_count": 41,
      "outputs": [
        {
          "output_type": "stream",
          "name": "stdout",
          "text": [
            "17 days, 1:59:39\n",
            "<class 'datetime.timedelta'>\n",
            "2011-10-29 20:30:21\n",
            "2011-11-15 22:30:00\n"
          ]
        }
      ]
    },
    {
      "cell_type": "markdown",
      "source": [
        "### Control Flow"
      ],
      "metadata": {
        "id": "FOYQwZvg7d_g"
      }
    },
    {
      "cell_type": "markdown",
      "source": [
        "#### if, elif, and else"
      ],
      "metadata": {
        "id": "NO4mucqq7g4o"
      }
    },
    {
      "cell_type": "code",
      "source": [
        "x = -5\n",
        "if x < 0:\n",
        "  print(\"It's negative\")"
      ],
      "metadata": {
        "colab": {
          "base_uri": "https://localhost:8080/"
        },
        "id": "Ng_3GZvA7fEl",
        "outputId": "b0ff33c8-6241-4d96-e054-bd417ef7af2f"
      },
      "execution_count": 43,
      "outputs": [
        {
          "output_type": "stream",
          "name": "stdout",
          "text": [
            "It's negative\n"
          ]
        }
      ]
    },
    {
      "cell_type": "code",
      "source": [
        "if x < 0:\n",
        "  print(\"It's negative\")\n",
        "elif x == 0:\n",
        "  print(\"Equal to zero\")\n",
        "elif 0 < x < 5:\n",
        "  print(\"Positive but smaller than 5\")\n",
        "else:\n",
        "  print(\"Positive and larger than or equal to 5\")"
      ],
      "metadata": {
        "colab": {
          "base_uri": "https://localhost:8080/"
        },
        "id": "eS5kQctL7mkW",
        "outputId": "90fafe9c-5d3d-4dbf-ec3c-20f1ce22b644"
      },
      "execution_count": 45,
      "outputs": [
        {
          "output_type": "stream",
          "name": "stdout",
          "text": [
            "It's negative\n"
          ]
        }
      ]
    },
    {
      "cell_type": "code",
      "source": [
        "a = 5; b = 7\n",
        "c = 8; d = 4\n",
        "if a < b or c > d:\n",
        "  print(\"Made it\")"
      ],
      "metadata": {
        "colab": {
          "base_uri": "https://localhost:8080/"
        },
        "id": "cJYYDbPr7vNA",
        "outputId": "dafd2ff6-392a-4624-c1ff-df6e5d4be7b6"
      },
      "execution_count": 46,
      "outputs": [
        {
          "output_type": "stream",
          "name": "stdout",
          "text": [
            "Made it\n"
          ]
        }
      ]
    },
    {
      "cell_type": "code",
      "source": [
        "4 > 3 > 2 < 1"
      ],
      "metadata": {
        "colab": {
          "base_uri": "https://localhost:8080/"
        },
        "id": "ISJNP8yR71c4",
        "outputId": "ef9bf0f3-1e73-4735-8c4e-c041b8f99134"
      },
      "execution_count": 48,
      "outputs": [
        {
          "output_type": "execute_result",
          "data": {
            "text/plain": [
              "False"
            ]
          },
          "metadata": {},
          "execution_count": 48
        }
      ]
    },
    {
      "cell_type": "markdown",
      "source": [
        "#### for loops"
      ],
      "metadata": {
        "id": "f8v2EvZZ75JQ"
      }
    },
    {
      "cell_type": "code",
      "source": [
        "sequence = [1, 2, None, 4, None, 5]\n",
        "total = 0\n",
        "for value in sequence:\n",
        "  if value is None:\n",
        "    continue\n",
        "  total += value\n",
        "print(total)"
      ],
      "metadata": {
        "colab": {
          "base_uri": "https://localhost:8080/"
        },
        "id": "e3fLSQfW76sk",
        "outputId": "338d4e28-3646-4d2b-ae04-8d4f76ebf336"
      },
      "execution_count": 49,
      "outputs": [
        {
          "output_type": "stream",
          "name": "stdout",
          "text": [
            "12\n"
          ]
        }
      ]
    },
    {
      "cell_type": "code",
      "source": [
        "sequence = [1, 2, 0, 4, 6, 5, 2, 1]\n",
        "total_until_5 = 0\n",
        "for value in sequence:\n",
        "  if value == 5:\n",
        "    break\n",
        "  total_until_5 += value\n",
        "print(total_until_5)"
      ],
      "metadata": {
        "colab": {
          "base_uri": "https://localhost:8080/"
        },
        "id": "McjbwTVH8I65",
        "outputId": "7b710012-bce2-4c26-ccc6-ba9759e5f958"
      },
      "execution_count": 50,
      "outputs": [
        {
          "output_type": "stream",
          "name": "stdout",
          "text": [
            "13\n"
          ]
        }
      ]
    },
    {
      "cell_type": "code",
      "source": [
        "for i in range(4):\n",
        "   for j in range(4):\n",
        "    if j > i:\n",
        "      break\n",
        "    print((i, j))"
      ],
      "metadata": {
        "colab": {
          "base_uri": "https://localhost:8080/"
        },
        "id": "w85dkG4a8QWI",
        "outputId": "c15536e2-6cc5-4048-e6b6-7ecd14ebf8a7"
      },
      "execution_count": 51,
      "outputs": [
        {
          "output_type": "stream",
          "name": "stdout",
          "text": [
            "(0, 0)\n",
            "(1, 0)\n",
            "(1, 1)\n",
            "(2, 0)\n",
            "(2, 1)\n",
            "(2, 2)\n",
            "(3, 0)\n",
            "(3, 1)\n",
            "(3, 2)\n",
            "(3, 3)\n"
          ]
        }
      ]
    },
    {
      "cell_type": "markdown",
      "source": [
        "#### while loops"
      ],
      "metadata": {
        "id": "Us4Qa_wD8YkI"
      }
    },
    {
      "cell_type": "code",
      "source": [
        "x = 256\n",
        "total = 0\n",
        "while x > 0:\n",
        "  if total > 500:\n",
        "    break\n",
        "  total += x\n",
        "  x = x // 2\n",
        "print(total)"
      ],
      "metadata": {
        "colab": {
          "base_uri": "https://localhost:8080/"
        },
        "id": "mnmg5yIx8aKu",
        "outputId": "04bd9548-0be0-47bb-afde-e53a858c46ee"
      },
      "execution_count": 52,
      "outputs": [
        {
          "output_type": "stream",
          "name": "stdout",
          "text": [
            "504\n"
          ]
        }
      ]
    },
    {
      "cell_type": "markdown",
      "source": [
        "#### pass"
      ],
      "metadata": {
        "id": "Ds294jom80Aw"
      }
    },
    {
      "cell_type": "code",
      "source": [
        "if x < 0:\n",
        "  print(\"negative!\")\n",
        "elif x == 0:\n",
        "# TODO: put something smart here\n",
        "  pass\n",
        "else:\n",
        "  print(\"positive!\")"
      ],
      "metadata": {
        "colab": {
          "base_uri": "https://localhost:8080/"
        },
        "id": "6kb4Qv6N8hgo",
        "outputId": "c3e8fdc8-0472-4971-c68f-d5e933997c6d"
      },
      "execution_count": 53,
      "outputs": [
        {
          "output_type": "stream",
          "name": "stdout",
          "text": [
            "positive!\n"
          ]
        }
      ]
    },
    {
      "cell_type": "markdown",
      "source": [
        "#### range"
      ],
      "metadata": {
        "id": "A2C4JBc988bA"
      }
    },
    {
      "cell_type": "code",
      "source": [
        "print(range(10))\n",
        "print(list(range(10)))\n",
        "print(list(range(0, 20, 2)))\n",
        "print(list(range(5, 0, -1)))\n",
        "\n",
        "seq = [1, 2, 3, 4]\n",
        "for i in range(len(seq)):\n",
        "  print(f\"element {i}: {seq[i]}\")\n",
        "\n",
        "total = 0\n",
        "for i in range(100_000):\n",
        "   # % is the modulo operator\n",
        "   if i % 3 == 0 or i % 5 == 0:\n",
        "    total += i\n",
        "print(total)"
      ],
      "metadata": {
        "colab": {
          "base_uri": "https://localhost:8080/"
        },
        "id": "w3G4ey-f89pU",
        "outputId": "9c61cf18-1a77-4b1f-dd62-47f27b2064b0"
      },
      "execution_count": 58,
      "outputs": [
        {
          "output_type": "stream",
          "name": "stdout",
          "text": [
            "range(0, 10)\n",
            "[0, 1, 2, 3, 4, 5, 6, 7, 8, 9]\n",
            "[0, 2, 4, 6, 8, 10, 12, 14, 16, 18]\n",
            "[5, 4, 3, 2, 1]\n",
            "element 0: 1\n",
            "element 1: 2\n",
            "element 2: 3\n",
            "element 3: 4\n",
            "2333316668\n"
          ]
        }
      ]
    },
    {
      "cell_type": "markdown",
      "source": [
        "## 2.4 Conclusion"
      ],
      "metadata": {
        "id": "4lbljptv9eNo"
      }
    },
    {
      "cell_type": "code",
      "source": [],
      "metadata": {
        "id": "IZLLNGwq9k7L"
      },
      "execution_count": null,
      "outputs": []
    }
  ]
}
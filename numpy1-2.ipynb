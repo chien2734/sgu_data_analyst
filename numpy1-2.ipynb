{
  "nbformat": 4,
  "nbformat_minor": 0,
  "metadata": {
    "colab": {
      "provenance": []
    },
    "kernelspec": {
      "name": "python3",
      "display_name": "Python 3"
    },
    "language_info": {
      "name": "python"
    }
  },
  "cells": [
    {
      "cell_type": "markdown",
      "source": [
        "# NumPy - Cấu trúc nội bộ và thao tác mảng nâng cao"
      ],
      "metadata": {
        "id": "1jwIpgs5OGAh"
      }
    },
    {
      "cell_type": "markdown",
      "source": [
        "## Nhập thư viện"
      ],
      "metadata": {
        "id": "nd9WKeOMORZ0"
      }
    },
    {
      "cell_type": "code",
      "execution_count": 1,
      "metadata": {
        "id": "K-Z5wJ0tNkpN"
      },
      "outputs": [],
      "source": [
        "import numpy as np"
      ]
    },
    {
      "cell_type": "markdown",
      "source": [],
      "metadata": {
        "id": "sVZeRa6MSh0Q"
      }
    },
    {
      "cell_type": "markdown",
      "source": [
        "## Tạo dữ liệu ngẫu nhiên bằng `random()`"
      ],
      "metadata": {
        "id": "H7yY43ItOXm9"
      }
    },
    {
      "cell_type": "code",
      "source": [
        "rng = np.random.default_rng(seed=12345)"
      ],
      "metadata": {
        "id": "zkj1-ODBOX0f"
      },
      "execution_count": 2,
      "outputs": []
    },
    {
      "cell_type": "markdown",
      "source": [
        "## A.1 Cấu trúc nội bộ của đối tượng ndarray"
      ],
      "metadata": {
        "id": "7a-0C46XOrxa"
      }
    },
    {
      "cell_type": "markdown",
      "source": [
        "`ndarray` trong NumPy là một cấu trúc dữ liệu mảng đa chiều được xây dựng trên một khối bộ nhớ liên tục chứa các giá trị có cùng kiểu dữ liệu (dtype).\n",
        "\n",
        "Một mảng NumPy bao gồm:\n",
        "\n",
        "* Con trỏ dữ liệu – trỏ đến vùng nhớ chứa dữ liệu thô.\n",
        "\n",
        "* Kiểu dữ liệu (dtype) – quy định mỗi phần tử là kiểu gì (int, float, bool, v.v.).\n",
        "\n",
        "* Kích thước (shape) – là một tuple biểu diễn số chiều và số phần tử ở mỗi chiều.\n",
        "\n",
        "* Strides – số byte cần bước qua để đến phần tử tiếp theo theo từng trục."
      ],
      "metadata": {
        "id": "0bJrZcTqShhY"
      }
    },
    {
      "cell_type": "markdown",
      "source": [
        "Ví dụ: Mảng 10x5 sẽ có kích thước (10,5)"
      ],
      "metadata": {
        "id": "q1TNxXLKWPkg"
      }
    },
    {
      "cell_type": "code",
      "source": [
        "np.ones((10, 5)).shape"
      ],
      "metadata": {
        "colab": {
          "base_uri": "https://localhost:8080/"
        },
        "id": "dYuQo-3vPshC",
        "outputId": "4a2a2a96-0b11-448e-9758-4d98f7318cec"
      },
      "execution_count": 3,
      "outputs": [
        {
          "output_type": "execute_result",
          "data": {
            "text/plain": [
              "(10, 5)"
            ]
          },
          "metadata": {},
          "execution_count": 3
        }
      ]
    },
    {
      "cell_type": "markdown",
      "source": [
        "### Phân cấp kiểu dữ liệu trong NumPy\n",
        "\n",
        "NumPy có hệ thống kế thừa giữa các kiểu dữ liệu:\n",
        "\n",
        "*   np.integer bao gồm các kiểu số nguyên như int8, int16, uint32...\n",
        "*   np.floating bao gồm các kiểu số thực như float16, float32, float64.\n",
        "\n",
        "Cả hai đều kế thừa từ lớp cha np.number.\n",
        "\n",
        "Kiểm tra kiểu dữ liệu bằng:"
      ],
      "metadata": {
        "id": "xmh26BRyPtH-"
      }
    },
    {
      "cell_type": "code",
      "source": [
        "np.ones((3, 4, 5), dtype=np.float64).strides"
      ],
      "metadata": {
        "colab": {
          "base_uri": "https://localhost:8080/"
        },
        "id": "OCiHgyvqPtVw",
        "outputId": "c74bb6bb-c9ae-4f2d-c1cf-811ea0146a11"
      },
      "execution_count": 4,
      "outputs": [
        {
          "output_type": "execute_result",
          "data": {
            "text/plain": [
              "(160, 40, 8)"
            ]
          },
          "metadata": {},
          "execution_count": 4
        }
      ]
    },
    {
      "cell_type": "markdown",
      "source": [
        "**Hệ thống phân cấp kiểu dữ liệu NumPy**\n"
      ],
      "metadata": {
        "id": "ztionK8gPvmW"
      }
    },
    {
      "cell_type": "markdown",
      "source": [
        "Ta có thể kiểm tra xem một mảng có chứa số nguyên, số dấu phẩy động, chuỗi hay đối tượng Python hay không bằng các siêu lớp, chẳng hạn như np.integer và np.floating, có thể được sử dụng với hàm `np.issubdtype`"
      ],
      "metadata": {
        "id": "1HaX-zkNWrEG"
      }
    },
    {
      "cell_type": "code",
      "source": [
        "ints = np.ones(10, dtype=np.uint16)\n",
        "floats = np.ones(10, dtype=np.float32)\n",
        "np.issubdtype(ints.dtype, np.integer)"
      ],
      "metadata": {
        "colab": {
          "base_uri": "https://localhost:8080/"
        },
        "id": "mZfAbesfPw61",
        "outputId": "c0400a6e-9c65-4f5a-ba86-05ab266356cc"
      },
      "execution_count": 5,
      "outputs": [
        {
          "output_type": "execute_result",
          "data": {
            "text/plain": [
              "True"
            ]
          },
          "metadata": {},
          "execution_count": 5
        }
      ]
    },
    {
      "cell_type": "code",
      "source": [
        "np.issubdtype(floats.dtype, np.floating)"
      ],
      "metadata": {
        "colab": {
          "base_uri": "https://localhost:8080/"
        },
        "id": "KJ7m8ej_P17F",
        "outputId": "31cadf03-4a98-4bc8-adf0-6fc96adb7383"
      },
      "execution_count": 6,
      "outputs": [
        {
          "output_type": "execute_result",
          "data": {
            "text/plain": [
              "True"
            ]
          },
          "metadata": {},
          "execution_count": 6
        }
      ]
    },
    {
      "cell_type": "markdown",
      "source": [
        "Bạn có thể xem tất cả các lớp cha của một kiểu dữ liệu cụ thể bằng cách gọi phương thức `mro`"
      ],
      "metadata": {
        "id": "17HhGG8DP4yV"
      }
    },
    {
      "cell_type": "code",
      "source": [
        "np.float64.mro()"
      ],
      "metadata": {
        "colab": {
          "base_uri": "https://localhost:8080/"
        },
        "id": "V9QpMpSDP5Be",
        "outputId": "acb43d89-2fbd-410b-8f62-ccfe8bc3836f"
      },
      "execution_count": 7,
      "outputs": [
        {
          "output_type": "execute_result",
          "data": {
            "text/plain": [
              "[numpy.float64,\n",
              " numpy.floating,\n",
              " numpy.inexact,\n",
              " numpy.number,\n",
              " numpy.generic,\n",
              " float,\n",
              " object]"
            ]
          },
          "metadata": {},
          "execution_count": 7
        }
      ]
    },
    {
      "cell_type": "code",
      "source": [
        "np.issubdtype(ints.dtype, np.number)"
      ],
      "metadata": {
        "colab": {
          "base_uri": "https://localhost:8080/"
        },
        "id": "8UXz5RnBP63J",
        "outputId": "e10b7e1e-ee97-4c51-ab97-241213d0af0f"
      },
      "execution_count": 8,
      "outputs": [
        {
          "output_type": "execute_result",
          "data": {
            "text/plain": [
              "True"
            ]
          },
          "metadata": {},
          "execution_count": 8
        }
      ]
    },
    {
      "cell_type": "markdown",
      "source": [
        "## A.2 Thao tác mảng nâng cao"
      ],
      "metadata": {
        "id": "ZNTr_6HdP6qN"
      }
    },
    {
      "cell_type": "markdown",
      "source": [
        "### 1. Thay đổi hình dạng mảng (Reshaping)"
      ],
      "metadata": {
        "id": "KsqPbPClP8js"
      }
    },
    {
      "cell_type": "markdown",
      "source": [
        "\n",
        "\n",
        "*   Dùng `.reshape()` để chuyển mảng sang kích thước mới mà không cần sao chép dữ liệu.\n",
        "*   Có thể truyền -1 để NumPy tự suy ra kích thước còn lại.\n",
        "*   Ngược lại, `.ravel()` hoặc `.flatten()` dùng để làm phẳng (1 chiều):\n",
        "    *   `ravel()` tạo view (không copy dữ liệu nếu có thể).\n",
        "    * `flatten()` luôn tạo bản sao mới.\n",
        "\n",
        "\n"
      ],
      "metadata": {
        "id": "PDDimSonQDNP"
      }
    },
    {
      "cell_type": "markdown",
      "source": [
        "Trong nhiều trường hợp, ta có thể chuyển đổi một mảng từ hình dạng này sang hình dạng khác mà không cần sao chép bất kỳ dữ liệu nào. Để làm điều này, hãy truyền một bộ dữ liệu biểu thị hình dạng mới vào phương thức thể hiện mảng định hình lại."
      ],
      "metadata": {
        "id": "XeOweItBXbSO"
      }
    },
    {
      "cell_type": "code",
      "source": [
        "arr = np.arange(8)\n",
        "arr"
      ],
      "metadata": {
        "colab": {
          "base_uri": "https://localhost:8080/"
        },
        "id": "2fS85j9sP8x9",
        "outputId": "6098c68f-2065-41e4-992e-888cdf973864"
      },
      "execution_count": 9,
      "outputs": [
        {
          "output_type": "execute_result",
          "data": {
            "text/plain": [
              "array([0, 1, 2, 3, 4, 5, 6, 7])"
            ]
          },
          "metadata": {},
          "execution_count": 9
        }
      ]
    },
    {
      "cell_type": "code",
      "source": [
        "arr.reshape((4, 2))"
      ],
      "metadata": {
        "colab": {
          "base_uri": "https://localhost:8080/"
        },
        "id": "Q7IUnxPbQBdo",
        "outputId": "eb1849d0-3e36-4bd2-c3c7-fa0c55b42ef1"
      },
      "execution_count": 10,
      "outputs": [
        {
          "output_type": "execute_result",
          "data": {
            "text/plain": [
              "array([[0, 1],\n",
              "       [2, 3],\n",
              "       [4, 5],\n",
              "       [6, 7]])"
            ]
          },
          "metadata": {},
          "execution_count": 10
        }
      ]
    },
    {
      "cell_type": "markdown",
      "source": [
        "Mảng đa chiều cũng có thể được định hình lại:"
      ],
      "metadata": {
        "id": "3u7AQYLXXlop"
      }
    },
    {
      "cell_type": "code",
      "source": [
        "arr.reshape((4, 2)).reshape((2, 4))"
      ],
      "metadata": {
        "colab": {
          "base_uri": "https://localhost:8080/"
        },
        "id": "6gp4tkz0QDYt",
        "outputId": "661f3a4a-12af-4c0b-d4d2-a6751f317b39"
      },
      "execution_count": 11,
      "outputs": [
        {
          "output_type": "execute_result",
          "data": {
            "text/plain": [
              "array([[0, 1, 2, 3],\n",
              "       [4, 5, 6, 7]])"
            ]
          },
          "metadata": {},
          "execution_count": 11
        }
      ]
    },
    {
      "cell_type": "markdown",
      "source": [
        "Một trong các chiều được truyền có thể là -1"
      ],
      "metadata": {
        "id": "OU1fd8qUQEvu"
      }
    },
    {
      "cell_type": "code",
      "source": [
        "arr = np.arange(15)\n",
        "arr.reshape((5, -1))"
      ],
      "metadata": {
        "colab": {
          "base_uri": "https://localhost:8080/"
        },
        "id": "GMu4YqabQE8v",
        "outputId": "d2b7a5eb-2302-4dff-b8ff-620e438264d8"
      },
      "execution_count": 12,
      "outputs": [
        {
          "output_type": "execute_result",
          "data": {
            "text/plain": [
              "array([[ 0,  1,  2],\n",
              "       [ 3,  4,  5],\n",
              "       [ 6,  7,  8],\n",
              "       [ 9, 10, 11],\n",
              "       [12, 13, 14]])"
            ]
          },
          "metadata": {},
          "execution_count": 12
        }
      ]
    },
    {
      "cell_type": "markdown",
      "source": [
        "Vì thuộc tính `shape` của mảng là một `tuple` nên nó cũng có thể được truyền vào `reshape`:"
      ],
      "metadata": {
        "id": "8jsmxPn5QIak"
      }
    },
    {
      "cell_type": "code",
      "source": [
        "other_arr = np.ones((3, 5))\n",
        "other_arr.shape"
      ],
      "metadata": {
        "colab": {
          "base_uri": "https://localhost:8080/"
        },
        "id": "cveOnSMKQIn6",
        "outputId": "c7bc7eb9-0f7c-4686-fa74-f4470633d306"
      },
      "execution_count": 13,
      "outputs": [
        {
          "output_type": "execute_result",
          "data": {
            "text/plain": [
              "(3, 5)"
            ]
          },
          "metadata": {},
          "execution_count": 13
        }
      ]
    },
    {
      "cell_type": "code",
      "source": [
        "arr.reshape(other_arr.shape)"
      ],
      "metadata": {
        "colab": {
          "base_uri": "https://localhost:8080/"
        },
        "id": "7rc2Sq6sQKQ-",
        "outputId": "16581b2b-2cb5-4fb6-9307-951add97a3b1"
      },
      "execution_count": 14,
      "outputs": [
        {
          "output_type": "execute_result",
          "data": {
            "text/plain": [
              "array([[ 0,  1,  2,  3,  4],\n",
              "       [ 5,  6,  7,  8,  9],\n",
              "       [10, 11, 12, 13, 14]])"
            ]
          },
          "metadata": {},
          "execution_count": 14
        }
      ]
    },
    {
      "cell_type": "markdown",
      "source": [
        "Hoạt động ngược lại của việc reshape từ một chiều sang một chiều cao hơn thường được gọi là `flattening` hoặc `raveling`"
      ],
      "metadata": {
        "id": "0WpsBBKbQMUx"
      }
    },
    {
      "cell_type": "code",
      "source": [
        "arr = np.arange(15).reshape((5, 3))\n",
        "arr"
      ],
      "metadata": {
        "colab": {
          "base_uri": "https://localhost:8080/"
        },
        "id": "CykhYuQSQMkR",
        "outputId": "d5549039-088c-4aa8-e683-b1aecdfc9f1b"
      },
      "execution_count": 15,
      "outputs": [
        {
          "output_type": "execute_result",
          "data": {
            "text/plain": [
              "array([[ 0,  1,  2],\n",
              "       [ 3,  4,  5],\n",
              "       [ 6,  7,  8],\n",
              "       [ 9, 10, 11],\n",
              "       [12, 13, 14]])"
            ]
          },
          "metadata": {},
          "execution_count": 15
        }
      ]
    },
    {
      "cell_type": "code",
      "source": [
        "arr.ravel()"
      ],
      "metadata": {
        "colab": {
          "base_uri": "https://localhost:8080/"
        },
        "id": "YMsuhgq2QO0j",
        "outputId": "bcbde30e-1447-4a3f-f521-7d5bfcbc8a5a"
      },
      "execution_count": 16,
      "outputs": [
        {
          "output_type": "execute_result",
          "data": {
            "text/plain": [
              "array([ 0,  1,  2,  3,  4,  5,  6,  7,  8,  9, 10, 11, 12, 13, 14])"
            ]
          },
          "metadata": {},
          "execution_count": 16
        }
      ]
    },
    {
      "cell_type": "markdown",
      "source": [
        "`ravel` không tạo ra bản sao của các giá trị cơ bản nếu các giá trị trong kết quả nằm liền kề trong mảng gốc."
      ],
      "metadata": {
        "id": "C-d1ScpVQQUK"
      }
    },
    {
      "cell_type": "markdown",
      "source": [
        "Phương thức `flatten` hoạt động giống như ravel ngoại trừ việc nó luôn trả về bản sao của dữ liệu:"
      ],
      "metadata": {
        "id": "JPlfsynQQSYE"
      }
    },
    {
      "cell_type": "code",
      "source": [
        "arr.flatten()"
      ],
      "metadata": {
        "colab": {
          "base_uri": "https://localhost:8080/"
        },
        "id": "Y1dwJnnhQQiE",
        "outputId": "1af669af-f909-4dd4-eb69-b01592ff212e"
      },
      "execution_count": 17,
      "outputs": [
        {
          "output_type": "execute_result",
          "data": {
            "text/plain": [
              "array([ 0,  1,  2,  3,  4,  5,  6,  7,  8,  9, 10, 11, 12, 13, 14])"
            ]
          },
          "metadata": {},
          "execution_count": 17
        }
      ]
    },
    {
      "cell_type": "markdown",
      "source": [
        "### 2. Thứ tự bộ nhớ: C (row-major) và Fortran (column-major)\n",
        "\n",
        "Mảng NumPy mặc định lưu theo **C order** (theo hàng).\n",
        "`order='F'` sẽ lưu theo **Fortran order** (theo cột).\n",
        "Ảnh hưởng đến hiệu năng khi tính toán và reshape.\n",
        "\n",
        "Các hàm như `reshape` và `ravel` chấp nhận một đối số thứ tự cho biết thứ tự sử dụng dữ liệu trong mảng. Đối số này thường được đặt thành 'C' hoặc 'F' trong hầu hết các trường hợp (cũng có các tùy chọn ít được sử dụng hơn là 'A' và 'K')."
      ],
      "metadata": {
        "id": "RpjZdbOmQSlU"
      }
    },
    {
      "cell_type": "code",
      "source": [
        "arr = np.arange(12).reshape((3, 4))\n",
        "arr"
      ],
      "metadata": {
        "colab": {
          "base_uri": "https://localhost:8080/"
        },
        "id": "z7CWiJh1QSwR",
        "outputId": "6daa96f6-8d7a-40f4-e7aa-283b2f625b09"
      },
      "execution_count": 18,
      "outputs": [
        {
          "output_type": "execute_result",
          "data": {
            "text/plain": [
              "array([[ 0,  1,  2,  3],\n",
              "       [ 4,  5,  6,  7],\n",
              "       [ 8,  9, 10, 11]])"
            ]
          },
          "metadata": {},
          "execution_count": 18
        }
      ]
    },
    {
      "cell_type": "code",
      "source": [
        "arr.ravel()"
      ],
      "metadata": {
        "colab": {
          "base_uri": "https://localhost:8080/"
        },
        "id": "Jr7mRUocQVlN",
        "outputId": "a6a3d7d9-2da3-47ad-b3f6-b63e76ce10c8"
      },
      "execution_count": 19,
      "outputs": [
        {
          "output_type": "execute_result",
          "data": {
            "text/plain": [
              "array([ 0,  1,  2,  3,  4,  5,  6,  7,  8,  9, 10, 11])"
            ]
          },
          "metadata": {},
          "execution_count": 19
        }
      ]
    },
    {
      "cell_type": "code",
      "source": [
        "arr.ravel('F')"
      ],
      "metadata": {
        "colab": {
          "base_uri": "https://localhost:8080/"
        },
        "id": "mx2jO0MVQW2f",
        "outputId": "f299e47c-d20d-44e7-b0eb-706150db8511"
      },
      "execution_count": 20,
      "outputs": [
        {
          "output_type": "execute_result",
          "data": {
            "text/plain": [
              "array([ 0,  4,  8,  1,  5,  9,  2,  6, 10,  3,  7, 11])"
            ]
          },
          "metadata": {},
          "execution_count": 20
        }
      ]
    },
    {
      "cell_type": "markdown",
      "source": [
        "Sự khác biệt chính giữa thứ tự C và FORTRAN là cách\n",
        "duyệt các chiều:\n",
        "\n",
        "* **Thứ tự C/hàng chính**: Duyệt các chiều cao hơn trước (ví dụ: trục 1 trước khi tiến lên trục 0).\n",
        "* **Thứ tự FORTRAN/cột chính**:\n",
        "Duyệt các chiều cao hơn sau cùng (ví dụ: trục 0 trước khi tiến lên trục 1)."
      ],
      "metadata": {
        "id": "hB2PzctnQUAw"
      }
    },
    {
      "cell_type": "markdown",
      "source": [
        "### 3. Nối và tách mảng (Concatenation & Splitting)\n",
        "\n",
        "* `np.concatenate()` dùng để ghép nhiều mảng lại với nhau.\n",
        "\n",
        "* `np.vstack()` và `np.hstack()` là các hàm tiện dụng cho việc nối theo hàng hoặc cột.\n",
        "\n",
        "* `np.split(arr, [1,3])` tách mảng tại các chỉ số đã cho.\n",
        "\n",
        "Ngoài ra có các đối tượng đặc biệt:\n",
        "\n",
        "* `np.r_[]` – nối theo chiều dọc (row).\n",
        "\n",
        "* `np.c_[]` – nối theo chiều ngang (column)."
      ],
      "metadata": {
        "id": "WorQXmUAZpHQ"
      }
    },
    {
      "cell_type": "markdown",
      "source": [
        "`numpy.concatenate` lấy một chuỗi (bộ, danh sách, v.v.) các mảng và nối chúng theo thứ tự dọc theo trục đầu vào:"
      ],
      "metadata": {
        "id": "wuHZJUnRZutz"
      }
    },
    {
      "cell_type": "code",
      "source": [
        "arr1 = np.array([[1, 2, 3], [4, 5, 6]])\n",
        "arr2 = np.array([[7, 8, 9], [10, 11, 12]])\n",
        "np.concatenate([arr1, arr2], axis=0)"
      ],
      "metadata": {
        "colab": {
          "base_uri": "https://localhost:8080/"
        },
        "id": "CIyI_G66QaQq",
        "outputId": "45e2cab5-7e30-45da-e0e2-a3641a91cad2"
      },
      "execution_count": 21,
      "outputs": [
        {
          "output_type": "execute_result",
          "data": {
            "text/plain": [
              "array([[ 1,  2,  3],\n",
              "       [ 4,  5,  6],\n",
              "       [ 7,  8,  9],\n",
              "       [10, 11, 12]])"
            ]
          },
          "metadata": {},
          "execution_count": 21
        }
      ]
    },
    {
      "cell_type": "code",
      "source": [
        "np.concatenate([arr1, arr2], axis=1)"
      ],
      "metadata": {
        "colab": {
          "base_uri": "https://localhost:8080/"
        },
        "id": "EYIjfW3YQfT9",
        "outputId": "f0559b7f-5f6b-40c6-ce89-f7700e170b24"
      },
      "execution_count": 22,
      "outputs": [
        {
          "output_type": "execute_result",
          "data": {
            "text/plain": [
              "array([[ 1,  2,  3,  7,  8,  9],\n",
              "       [ 4,  5,  6, 10, 11, 12]])"
            ]
          },
          "metadata": {},
          "execution_count": 22
        }
      ]
    },
    {
      "cell_type": "markdown",
      "source": [
        "`vstack` và `hstack`, dành cho các kiểu ghép mảng thông dụng. Các phép toán trước đó có thể được biểu diễn như sau:"
      ],
      "metadata": {
        "id": "qA6Q2UwzQhCn"
      }
    },
    {
      "cell_type": "code",
      "source": [
        "np.vstack((arr1, arr2))"
      ],
      "metadata": {
        "colab": {
          "base_uri": "https://localhost:8080/"
        },
        "id": "ErXjR2uyQhS9",
        "outputId": "54031fc3-bbf8-4b31-c2ea-0ee3fa23dbb8"
      },
      "execution_count": 23,
      "outputs": [
        {
          "output_type": "execute_result",
          "data": {
            "text/plain": [
              "array([[ 1,  2,  3],\n",
              "       [ 4,  5,  6],\n",
              "       [ 7,  8,  9],\n",
              "       [10, 11, 12]])"
            ]
          },
          "metadata": {},
          "execution_count": 23
        }
      ]
    },
    {
      "cell_type": "code",
      "source": [
        "np.hstack((arr1, arr2))"
      ],
      "metadata": {
        "colab": {
          "base_uri": "https://localhost:8080/"
        },
        "id": "66Ng7CUUQi7c",
        "outputId": "cc103c44-c386-462a-dab2-b4455ea745f3"
      },
      "execution_count": 24,
      "outputs": [
        {
          "output_type": "execute_result",
          "data": {
            "text/plain": [
              "array([[ 1,  2,  3,  7,  8,  9],\n",
              "       [ 4,  5,  6, 10, 11, 12]])"
            ]
          },
          "metadata": {},
          "execution_count": 24
        }
      ]
    },
    {
      "cell_type": "markdown",
      "source": [
        "`split` chia một mảng thành nhiều mảng dọc theo một trục:"
      ],
      "metadata": {
        "id": "bmWUnTh2QkOc"
      }
    },
    {
      "cell_type": "code",
      "source": [
        "arr = rng.standard_normal((5, 2))\n",
        "arr"
      ],
      "metadata": {
        "colab": {
          "base_uri": "https://localhost:8080/"
        },
        "id": "Wqpq7oVRQkan",
        "outputId": "d3b63bce-7a15-4b4f-c1ae-9efd8855c205"
      },
      "execution_count": 25,
      "outputs": [
        {
          "output_type": "execute_result",
          "data": {
            "text/plain": [
              "array([[-1.42382504,  1.26372846],\n",
              "       [-0.87066174, -0.25917323],\n",
              "       [-0.07534331, -0.74088465],\n",
              "       [-1.3677927 ,  0.6488928 ],\n",
              "       [ 0.36105811, -1.95286306]])"
            ]
          },
          "metadata": {},
          "execution_count": 25
        }
      ]
    },
    {
      "cell_type": "code",
      "source": [
        "first, second, third = np.split(arr, [1, 3])\n",
        "first"
      ],
      "metadata": {
        "colab": {
          "base_uri": "https://localhost:8080/"
        },
        "id": "zZQtN50UQnJA",
        "outputId": "508da0d4-54ab-4f6e-b83f-cdcdc3c0f711"
      },
      "execution_count": 26,
      "outputs": [
        {
          "output_type": "execute_result",
          "data": {
            "text/plain": [
              "array([[-1.42382504,  1.26372846]])"
            ]
          },
          "metadata": {},
          "execution_count": 26
        }
      ]
    },
    {
      "cell_type": "code",
      "source": [
        "second"
      ],
      "metadata": {
        "colab": {
          "base_uri": "https://localhost:8080/"
        },
        "id": "YMdgrC9TQo7S",
        "outputId": "af0e9ba5-361e-40c0-e5ad-abf3617926ed"
      },
      "execution_count": 27,
      "outputs": [
        {
          "output_type": "execute_result",
          "data": {
            "text/plain": [
              "array([[-0.87066174, -0.25917323],\n",
              "       [-0.07534331, -0.74088465]])"
            ]
          },
          "metadata": {},
          "execution_count": 27
        }
      ]
    },
    {
      "cell_type": "code",
      "source": [
        "third"
      ],
      "metadata": {
        "colab": {
          "base_uri": "https://localhost:8080/"
        },
        "id": "ZaEM7GY4Qp-k",
        "outputId": "d053c355-dc92-4418-a5f0-4e41295bcc4e"
      },
      "execution_count": 28,
      "outputs": [
        {
          "output_type": "execute_result",
          "data": {
            "text/plain": [
              "array([[-1.3677927 ,  0.6488928 ],\n",
              "       [ 0.36105811, -1.95286306]])"
            ]
          },
          "metadata": {},
          "execution_count": 28
        }
      ]
    },
    {
      "cell_type": "markdown",
      "source": [
        "Giá trị [1, 3] được truyền vào `np.split` biểu thị các chỉ số để chia mảng\n",
        "thành các phần."
      ],
      "metadata": {
        "id": "xjVModVwQrJ5"
      }
    },
    {
      "cell_type": "markdown",
      "source": [
        "| Function | Description |\n",
        "|-----------|-------------|\n",
        "| `concatenate` | Most general function, concatenate collection of arrays along one axis |\n",
        "| `vstack`, `row_stack` | Stack arrays by rows (along axis 0) |\n",
        "| `hstack` | Stack arrays by columns (along axis 1) |\n",
        "| `column_stack` | Like `hstack`, but convert 1D arrays to 2D column vectors first |\n",
        "| `dstack` | Stack arrays by “depth” (along axis 2) |\n",
        "| `split` | Split array at passed locations along a particular axis |\n",
        "| `hsplit` / `vsplit` | Convenience functions for splitting on axis 0 and 1, respectively |\n"
      ],
      "metadata": {
        "id": "YL3mHM44cv6-"
      }
    },
    {
      "cell_type": "markdown",
      "source": [
        "### 4. Trình trợ giúp xếp chồng: r_ và c_\n",
        "\n",
        "Có hai đối tượng đặc biệt trong NumPy, *r_* và *c_*, giúp việc xếp chồng các mảng trở nên ngắn gọn hơn:"
      ],
      "metadata": {
        "id": "l7cMJpP5a43P"
      }
    },
    {
      "cell_type": "code",
      "source": [
        "arr = np.arange(6)\n",
        "arr1 = arr.reshape((3, 2))\n",
        "arr2 = rng.standard_normal((3, 2))\n",
        "np.r_[arr1, arr2]"
      ],
      "metadata": {
        "colab": {
          "base_uri": "https://localhost:8080/"
        },
        "id": "LbzxgfBQQrXk",
        "outputId": "d443e2fe-9baa-4bbe-cd80-d5f9cbec88aa"
      },
      "execution_count": 29,
      "outputs": [
        {
          "output_type": "execute_result",
          "data": {
            "text/plain": [
              "array([[ 0.        ,  1.        ],\n",
              "       [ 2.        ,  3.        ],\n",
              "       [ 4.        ,  5.        ],\n",
              "       [ 2.34740965,  0.96849691],\n",
              "       [-0.75938718,  0.90219827],\n",
              "       [-0.46695317, -0.06068952]])"
            ]
          },
          "metadata": {},
          "execution_count": 29
        }
      ]
    },
    {
      "cell_type": "code",
      "source": [
        "np.c_[np.r_[arr1, arr2], arr]"
      ],
      "metadata": {
        "colab": {
          "base_uri": "https://localhost:8080/"
        },
        "id": "3TNomzuLQynU",
        "outputId": "13ec6c3e-ae26-4827-c829-90b6be5ce55b"
      },
      "execution_count": 30,
      "outputs": [
        {
          "output_type": "execute_result",
          "data": {
            "text/plain": [
              "array([[ 0.        ,  1.        ,  0.        ],\n",
              "       [ 2.        ,  3.        ,  1.        ],\n",
              "       [ 4.        ,  5.        ,  2.        ],\n",
              "       [ 2.34740965,  0.96849691,  3.        ],\n",
              "       [-0.75938718,  0.90219827,  4.        ],\n",
              "       [-0.46695317, -0.06068952,  5.        ]])"
            ]
          },
          "metadata": {},
          "execution_count": 30
        }
      ]
    },
    {
      "cell_type": "markdown",
      "source": [
        "Ngoài ra, chúng có thể dịch các lát cắt thành mảng:"
      ],
      "metadata": {
        "id": "6twttQoZQ0My"
      }
    },
    {
      "cell_type": "code",
      "source": [
        "np.c_[1:6, -10:-5]"
      ],
      "metadata": {
        "colab": {
          "base_uri": "https://localhost:8080/"
        },
        "id": "2ivmBekyQ0Wt",
        "outputId": "6fc1e1c9-fe5b-445c-d178-21c4b6a6ec87"
      },
      "execution_count": 31,
      "outputs": [
        {
          "output_type": "execute_result",
          "data": {
            "text/plain": [
              "array([[  1, -10],\n",
              "       [  2,  -9],\n",
              "       [  3,  -8],\n",
              "       [  4,  -7],\n",
              "       [  5,  -6]])"
            ]
          },
          "metadata": {},
          "execution_count": 31
        }
      ]
    },
    {
      "cell_type": "markdown",
      "source": [
        "### 5. Lặp lại phần tử (Repeat & Tile)"
      ],
      "metadata": {
        "id": "b4eYlX8oQ2BB"
      }
    },
    {
      "cell_type": "markdown",
      "source": [
        "`repeat` sao chép từng phần tử trong một mảng nhiều lần, tạo ra một mảng lớn hơn:"
      ],
      "metadata": {
        "id": "xLgzwQBzf_3p"
      }
    },
    {
      "cell_type": "code",
      "source": [
        "arr = np.arange(3)\n",
        "arr"
      ],
      "metadata": {
        "colab": {
          "base_uri": "https://localhost:8080/"
        },
        "id": "AniBxcRbQ2Lh",
        "outputId": "10e40d05-ad40-4d0b-a1a6-78eb45efea14"
      },
      "execution_count": 32,
      "outputs": [
        {
          "output_type": "execute_result",
          "data": {
            "text/plain": [
              "array([0, 1, 2])"
            ]
          },
          "metadata": {},
          "execution_count": 32
        }
      ]
    },
    {
      "cell_type": "code",
      "source": [
        "arr.repeat(3)"
      ],
      "metadata": {
        "colab": {
          "base_uri": "https://localhost:8080/"
        },
        "id": "-RY-alMpQ4Y2",
        "outputId": "21d9d219-c263-4fd8-e2b7-e5831b5d8274"
      },
      "execution_count": 33,
      "outputs": [
        {
          "output_type": "execute_result",
          "data": {
            "text/plain": [
              "array([0, 0, 0, 1, 1, 1, 2, 2, 2])"
            ]
          },
          "metadata": {},
          "execution_count": 33
        }
      ]
    },
    {
      "cell_type": "markdown",
      "source": [
        "Nếu bạn truyền một mảng số nguyên, mỗi phần tử có thể được lặp lại với số lần khác nhau:"
      ],
      "metadata": {
        "id": "zG8F6y_9Q6Ie"
      }
    },
    {
      "cell_type": "code",
      "source": [
        "arr.repeat([2, 3, 4])"
      ],
      "metadata": {
        "colab": {
          "base_uri": "https://localhost:8080/"
        },
        "id": "nSYvWj6WQ6Sg",
        "outputId": "d7a7365a-6877-41c6-eebe-1fbef7725a95"
      },
      "execution_count": 34,
      "outputs": [
        {
          "output_type": "execute_result",
          "data": {
            "text/plain": [
              "array([0, 0, 1, 1, 1, 2, 2, 2, 2])"
            ]
          },
          "metadata": {},
          "execution_count": 34
        }
      ]
    },
    {
      "cell_type": "markdown",
      "source": [
        "Mảng đa chiều có thể có các phần tử được lặp lại dọc theo một trục cụ thể:"
      ],
      "metadata": {
        "id": "2ntjJR1VQ7u9"
      }
    },
    {
      "cell_type": "code",
      "source": [
        "arr = rng.standard_normal((2, 2))\n",
        "arr"
      ],
      "metadata": {
        "colab": {
          "base_uri": "https://localhost:8080/"
        },
        "id": "vfO1I_WQQ745",
        "outputId": "e877bf45-9b22-443b-aeb5-bceca3ed50d2"
      },
      "execution_count": 35,
      "outputs": [
        {
          "output_type": "execute_result",
          "data": {
            "text/plain": [
              "array([[ 0.78884434, -1.25666813],\n",
              "       [ 0.57585751,  1.39897899]])"
            ]
          },
          "metadata": {},
          "execution_count": 35
        }
      ]
    },
    {
      "cell_type": "code",
      "source": [
        "arr.repeat(2, axis=0)"
      ],
      "metadata": {
        "colab": {
          "base_uri": "https://localhost:8080/"
        },
        "id": "c-MkoIpDQ-Ev",
        "outputId": "e02d4af7-4961-467d-b8c7-b1ee9c7846ea"
      },
      "execution_count": 36,
      "outputs": [
        {
          "output_type": "execute_result",
          "data": {
            "text/plain": [
              "array([[ 0.78884434, -1.25666813],\n",
              "       [ 0.78884434, -1.25666813],\n",
              "       [ 0.57585751,  1.39897899],\n",
              "       [ 0.57585751,  1.39897899]])"
            ]
          },
          "metadata": {},
          "execution_count": 36
        }
      ]
    },
    {
      "cell_type": "markdown",
      "source": [
        "Tương tự, ta có thể truyền một mảng số nguyên khi lặp lại một mảng đa chiều để lặp lại một lát cắt nhất định với số lần khác nhau:"
      ],
      "metadata": {
        "id": "7mxq1HaPQ_kw"
      }
    },
    {
      "cell_type": "code",
      "source": [
        "arr.repeat([2, 3], axis=0)"
      ],
      "metadata": {
        "colab": {
          "base_uri": "https://localhost:8080/"
        },
        "id": "e-5ClIoyQ_xU",
        "outputId": "d3c9f19b-8cf1-4199-f3a0-4146e4dd880c"
      },
      "execution_count": 37,
      "outputs": [
        {
          "output_type": "execute_result",
          "data": {
            "text/plain": [
              "array([[ 0.78884434, -1.25666813],\n",
              "       [ 0.78884434, -1.25666813],\n",
              "       [ 0.57585751,  1.39897899],\n",
              "       [ 0.57585751,  1.39897899],\n",
              "       [ 0.57585751,  1.39897899]])"
            ]
          },
          "metadata": {},
          "execution_count": 37
        }
      ]
    },
    {
      "cell_type": "code",
      "source": [
        "arr.repeat([2, 3], axis=1)"
      ],
      "metadata": {
        "colab": {
          "base_uri": "https://localhost:8080/"
        },
        "id": "yd2pYZdmRBFV",
        "outputId": "cb29325b-c916-44e4-b397-827abe3662fb"
      },
      "execution_count": 38,
      "outputs": [
        {
          "output_type": "execute_result",
          "data": {
            "text/plain": [
              "array([[ 0.78884434,  0.78884434, -1.25666813, -1.25666813, -1.25666813],\n",
              "       [ 0.57585751,  0.57585751,  1.39897899,  1.39897899,  1.39897899]])"
            ]
          },
          "metadata": {},
          "execution_count": 38
        }
      ]
    },
    {
      "cell_type": "markdown",
      "source": [
        "`np.tile()` lặp toàn bộ mảng theo hàng hoặc cột."
      ],
      "metadata": {
        "id": "lYTjIMwhRCQb"
      }
    },
    {
      "cell_type": "code",
      "source": [
        "arr"
      ],
      "metadata": {
        "colab": {
          "base_uri": "https://localhost:8080/"
        },
        "id": "AMrvBNY7RCdb",
        "outputId": "3254c9da-9999-4879-e684-dd7deb451ac2"
      },
      "execution_count": 39,
      "outputs": [
        {
          "output_type": "execute_result",
          "data": {
            "text/plain": [
              "array([[ 0.78884434, -1.25666813],\n",
              "       [ 0.57585751,  1.39897899]])"
            ]
          },
          "metadata": {},
          "execution_count": 39
        }
      ]
    },
    {
      "cell_type": "code",
      "source": [
        "np.tile(arr, 2)"
      ],
      "metadata": {
        "colab": {
          "base_uri": "https://localhost:8080/"
        },
        "id": "LQ-Fju1RRDny",
        "outputId": "61403d9c-9e22-45f6-c80d-d260483b4103"
      },
      "execution_count": 40,
      "outputs": [
        {
          "output_type": "execute_result",
          "data": {
            "text/plain": [
              "array([[ 0.78884434, -1.25666813,  0.78884434, -1.25666813],\n",
              "       [ 0.57585751,  1.39897899,  0.57585751,  1.39897899]])"
            ]
          },
          "metadata": {},
          "execution_count": 40
        }
      ]
    },
    {
      "cell_type": "markdown",
      "source": [
        "Đối số thứ hai là số lần lặp (số “ô gạch” – tiles).\n",
        "Khi đối số này là một giá trị vô hướng (scalar), việc lặp (tiling) sẽ được thực hiện theo từng hàng (row by row) thay vì theo cột.\n",
        "\n",
        "Ngoài ra, đối số thứ hai của hàm `tile` cũng có thể là một tuple, dùng để chỉ định cách bố trí (layout) của các lần lặp — tức là số lần lặp theo chiều hàng và chiều cột tương ứng."
      ],
      "metadata": {
        "id": "8ExMTOTXREu-"
      }
    },
    {
      "cell_type": "code",
      "source": [
        "arr"
      ],
      "metadata": {
        "colab": {
          "base_uri": "https://localhost:8080/"
        },
        "id": "y5-lxh0DRE9n",
        "outputId": "07a262f1-7878-42cf-94c6-2c11181ce002"
      },
      "execution_count": 41,
      "outputs": [
        {
          "output_type": "execute_result",
          "data": {
            "text/plain": [
              "array([[ 0.78884434, -1.25666813],\n",
              "       [ 0.57585751,  1.39897899]])"
            ]
          },
          "metadata": {},
          "execution_count": 41
        }
      ]
    },
    {
      "cell_type": "code",
      "source": [
        "np.tile(arr, (2, 1))"
      ],
      "metadata": {
        "colab": {
          "base_uri": "https://localhost:8080/"
        },
        "id": "3J6RaYEGRGw_",
        "outputId": "35be8c57-eb81-4048-c3a3-d3b2f9aefd73"
      },
      "execution_count": 42,
      "outputs": [
        {
          "output_type": "execute_result",
          "data": {
            "text/plain": [
              "array([[ 0.78884434, -1.25666813],\n",
              "       [ 0.57585751,  1.39897899],\n",
              "       [ 0.78884434, -1.25666813],\n",
              "       [ 0.57585751,  1.39897899]])"
            ]
          },
          "metadata": {},
          "execution_count": 42
        }
      ]
    },
    {
      "cell_type": "code",
      "source": [
        "np.tile(arr, (3, 2))"
      ],
      "metadata": {
        "colab": {
          "base_uri": "https://localhost:8080/"
        },
        "id": "PahQWnnqRIqo",
        "outputId": "db1b5e17-dbcf-4afb-ab66-373f47c0d54d"
      },
      "execution_count": 43,
      "outputs": [
        {
          "output_type": "execute_result",
          "data": {
            "text/plain": [
              "array([[ 0.78884434, -1.25666813,  0.78884434, -1.25666813],\n",
              "       [ 0.57585751,  1.39897899,  0.57585751,  1.39897899],\n",
              "       [ 0.78884434, -1.25666813,  0.78884434, -1.25666813],\n",
              "       [ 0.57585751,  1.39897899,  0.57585751,  1.39897899],\n",
              "       [ 0.78884434, -1.25666813,  0.78884434, -1.25666813],\n",
              "       [ 0.57585751,  1.39897899,  0.57585751,  1.39897899]])"
            ]
          },
          "metadata": {},
          "execution_count": 43
        }
      ]
    },
    {
      "cell_type": "markdown",
      "source": [
        "### 6. Truy xuất nâng cao (Take & Put)"
      ],
      "metadata": {
        "id": "VuMNE6yURJKM"
      }
    },
    {
      "cell_type": "code",
      "source": [
        "arr = np.arange(10) * 100\n",
        "inds = [7, 1, 2, 6]\n",
        "arr[inds]"
      ],
      "metadata": {
        "colab": {
          "base_uri": "https://localhost:8080/"
        },
        "id": "HKSWvl1wRJVo",
        "outputId": "a5df26bf-08f4-4adf-e8cd-d32e46a203f9"
      },
      "execution_count": 44,
      "outputs": [
        {
          "output_type": "execute_result",
          "data": {
            "text/plain": [
              "array([700, 100, 200, 600])"
            ]
          },
          "metadata": {},
          "execution_count": 44
        }
      ]
    },
    {
      "cell_type": "markdown",
      "source": [
        "`take()` chọn phần tử theo chỉ số:"
      ],
      "metadata": {
        "id": "xWCHjp94RN9s"
      }
    },
    {
      "cell_type": "code",
      "source": [
        "arr.take(inds)"
      ],
      "metadata": {
        "colab": {
          "base_uri": "https://localhost:8080/"
        },
        "id": "PzE7IHF6ROMr",
        "outputId": "61c2fee5-48fb-45d5-fe5f-7c7f82ee9a5b"
      },
      "execution_count": 45,
      "outputs": [
        {
          "output_type": "execute_result",
          "data": {
            "text/plain": [
              "array([700, 100, 200, 600])"
            ]
          },
          "metadata": {},
          "execution_count": 45
        }
      ]
    },
    {
      "cell_type": "code",
      "source": [
        "arr.put(inds, 42)\n",
        "arr"
      ],
      "metadata": {
        "colab": {
          "base_uri": "https://localhost:8080/"
        },
        "id": "3qQDFlEIRQYd",
        "outputId": "0c272339-c06a-4b30-e0b0-423504b553a3"
      },
      "execution_count": 46,
      "outputs": [
        {
          "output_type": "execute_result",
          "data": {
            "text/plain": [
              "array([  0,  42,  42, 300, 400, 500,  42,  42, 800, 900])"
            ]
          },
          "metadata": {},
          "execution_count": 46
        }
      ]
    },
    {
      "cell_type": "code",
      "source": [
        "arr.put(inds, [40, 41, 42, 43])\n",
        "arr"
      ],
      "metadata": {
        "colab": {
          "base_uri": "https://localhost:8080/"
        },
        "id": "qGB4wnK4RSrI",
        "outputId": "2aaa3015-0024-4e1a-8868-143d31561986"
      },
      "execution_count": 47,
      "outputs": [
        {
          "output_type": "execute_result",
          "data": {
            "text/plain": [
              "array([  0,  41,  42, 300, 400, 500,  43,  40, 800, 900])"
            ]
          },
          "metadata": {},
          "execution_count": 47
        }
      ]
    },
    {
      "cell_type": "markdown",
      "source": [
        "`put()` gán giá trị theo chỉ số (làm việc trên mảng phẳng 1D):"
      ],
      "metadata": {
        "id": "CdQUIH3KRVec"
      }
    },
    {
      "cell_type": "code",
      "source": [
        "inds = [2, 0, 2, 1]\n",
        "arr = rng.standard_normal((2, 4))\n",
        "arr"
      ],
      "metadata": {
        "colab": {
          "base_uri": "https://localhost:8080/"
        },
        "id": "sj-vRzIbRVsu",
        "outputId": "7ef2a7e2-afb9-445f-95e5-1490da57849e"
      },
      "execution_count": 48,
      "outputs": [
        {
          "output_type": "execute_result",
          "data": {
            "text/plain": [
              "array([[ 1.32229806, -0.29969852,  0.90291934, -1.62158273],\n",
              "       [-0.15818926,  0.44948393, -1.34360107, -0.08168759]])"
            ]
          },
          "metadata": {},
          "execution_count": 48
        }
      ]
    },
    {
      "cell_type": "code",
      "source": [
        "arr.take(inds, axis=1)"
      ],
      "metadata": {
        "colab": {
          "base_uri": "https://localhost:8080/"
        },
        "id": "9DmWgP2ERZ1C",
        "outputId": "95369209-d903-4cfc-df76-3bed84dc0a07"
      },
      "execution_count": 49,
      "outputs": [
        {
          "output_type": "execute_result",
          "data": {
            "text/plain": [
              "array([[ 0.90291934,  1.32229806,  0.90291934, -0.29969852],\n",
              "       [-1.34360107, -0.15818926, -1.34360107,  0.44948393]])"
            ]
          },
          "metadata": {},
          "execution_count": 49
        }
      ]
    },
    {
      "cell_type": "markdown",
      "source": [
        "Hàm `put` không chấp nhận đối số axis, mà thay vào đó chỉ đánh chỉ số (indexing) trên phiên bản phẳng một chiều (flattened, theo thứ tự C – C order) của mảng.\n",
        "\n",
        "Vì vậy, khi bạn cần gán giá trị cho các phần tử bằng một mảng chỉ số (index array) trên các trục khác (không phải dạng phẳng), thì tốt nhất nên sử dụng cú pháp truy cập bằng dấu ngoặc vuông [] để đảm bảo đúng vị trí và cấu trúc của dữ liệu."
      ],
      "metadata": {
        "id": "gLRISo7XRa_M"
      }
    }
  ]
}
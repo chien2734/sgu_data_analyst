{
  "nbformat": 4,
  "nbformat_minor": 0,
  "metadata": {
    "colab": {
      "provenance": [],
      "authorship_tag": "ABX9TyMD94+g7VRT27kobUYQVhB6",
      "include_colab_link": true
    },
    "kernelspec": {
      "name": "python3",
      "display_name": "Python 3"
    },
    "language_info": {
      "name": "python"
    }
  },
  "cells": [
    {
      "cell_type": "markdown",
      "metadata": {
        "id": "view-in-github",
        "colab_type": "text"
      },
      "source": [
        "<a href=\"https://colab.research.google.com/github/chien2734/sgu_data_analyst/blob/anh/A_3_v%C3%A0_A_4.ipynb\" target=\"_parent\"><img src=\"https://colab.research.google.com/assets/colab-badge.svg\" alt=\"Open In Colab\"/></a>"
      ]
    },
    {
      "cell_type": "code",
      "execution_count": null,
      "metadata": {
        "colab": {
          "base_uri": "https://localhost:8080/"
        },
        "id": "jM2AecUivCI1",
        "outputId": "ee3b9108-08cd-4668-a304-fd2a7d5d71c3"
      },
      "outputs": [
        {
          "output_type": "stream",
          "name": "stdout",
          "text": [
            "Mảng Gốc:\n",
            " [[10. 15. 20.]\n",
            " [ 2.  4.  6.]\n",
            " [ 7.  8.  9.]\n",
            " [ 1.  3.  5.]]\n",
            "\n",
            "Trung bình Hàng (Reshaped):\n",
            " [[15.]\n",
            " [ 4.]\n",
            " [ 8.]\n",
            " [ 3.]]\n",
            "\n",
            "Kết quả Demeaning (Kiểm tra: Tổng trung bình mỗi hàng = 0):\n",
            " [[-5.  0.  5.]\n",
            " [-2.  0.  2.]\n",
            " [-1.  0.  1.]\n",
            " [-2.  0.  2.]]\n",
            "\n",
            "Kiểm tra trung bình hàng mới:\n",
            " [0. 0. 0. 0.]\n"
          ]
        }
      ],
      "source": [
        "import numpy as np\n",
        "\n",
        "# TẠO MẢNG DỮ LIỆU VÍ DỤ 4x3\n",
        "arr = np.array([\n",
        "    [10., 15., 20.],\n",
        "    [ 2.,  4.,  6.],\n",
        "    [ 7.,  8.,  9.],\n",
        "    [ 1.,  3.,  5.]\n",
        "])\n",
        "\n",
        "# BƯỚC 1: TÍNH TRUNG BÌNH THEO HÀNG (AXIS=1)\n",
        "row_means = arr.mean(axis=1) # [15., 4., 8., 3.]\n",
        "\n",
        "# BƯỚC 2: CHÈN TRỤC MỚI (RESHAPE) ĐỂ BROADCAST\n",
        "row_means_reshaped = row_means.reshape((4, 1))\n",
        "\n",
        "# BƯỚC 3: TRỪ VÀ THỰC HIỆN DEMEANING\n",
        "demeaned_rows = arr - row_means_reshaped\n",
        "\n",
        "print(\"Mảng Gốc:\\n\", arr)\n",
        "print(\"\\nTrung bình Hàng (Reshaped):\\n\", row_means_reshaped)\n",
        "print(\"\\nKết quả Demeaning (Kiểm tra: Tổng trung bình mỗi hàng = 0):\\n\", demeaned_rows)\n",
        "print(\"\\nKiểm tra trung bình hàng mới:\\n\", demeaned_rows.mean(axis=1))"
      ]
    },
    {
      "cell_type": "code",
      "source": [
        "# MẢNG VÍ DỤ\n",
        "sequence = np.arange(1, 6) # [1, 2, 3, 4, 5]\n",
        "\n",
        "# 1. reduce (Tổng hợp cuối cùng)\n",
        "sum_reduce = np.add.reduce(sequence)\n",
        "\n",
        "# 2. accumulate (Tổng hợp tích lũy)\n",
        "sum_accumulate = np.add.accumulate(sequence)\n",
        "\n",
        "print(\"np.add.reduce (Tổng):\", sum_reduce)\n",
        "print(\"np.add.accumulate (Tổng tích lũy):\", sum_accumulate)"
      ],
      "metadata": {
        "colab": {
          "base_uri": "https://localhost:8080/"
        },
        "id": "cgtGsggLibjU",
        "outputId": "69eeb11a-276c-485e-b7ba-0b092d5bf46c"
      },
      "execution_count": null,
      "outputs": [
        {
          "output_type": "stream",
          "name": "stdout",
          "text": [
            "np.add.reduce (Tổng): 15\n",
            "np.add.accumulate (Tổng tích lũy): [ 1  3  6 10 15]\n"
          ]
        }
      ]
    },
    {
      "cell_type": "code",
      "source": [
        "# MẢNG VÍ DỤ\n",
        "arr_a = np.array([2, 5])\n",
        "arr_b = np.array([10, 20, 30])\n",
        "\n",
        "# 1. outer (Tích Ngoài)\n",
        "# Kết quả: arr_a[i] * arr_b[j]\n",
        "cross_product_outer = np.multiply.outer(arr_a, arr_b)\n",
        "\n",
        "print(\"\\nTích Ngoài (Outer Product):\\n\", cross_product_outer)\n",
        "\n",
        "# 2. reduceat (Tổng hợp cục bộ/Group By)\n",
        "arr_data = np.arange(10)\n",
        "# Điểm cắt: [0, 5, 8] -> Tổng trên các đoạn [0:5], [5:8], [8:]\n",
        "bins = [0, 5, 8]\n",
        "local_sum = np.add.reduceat(arr_data, bins)\n",
        "\n",
        "print(\"\\nKết quả reduceat (Tổng cục bộ):\", local_sum)"
      ],
      "metadata": {
        "id": "E9dWrFO4jLcL",
        "outputId": "fe5ff4e2-59d1-4181-a4a7-c4cb809faa62",
        "colab": {
          "base_uri": "https://localhost:8080/"
        }
      },
      "execution_count": null,
      "outputs": [
        {
          "output_type": "stream",
          "name": "stdout",
          "text": [
            "\n",
            "Tích Ngoài (Outer Product):\n",
            " [[ 20  40  60]\n",
            " [ 50 100 150]]\n",
            "\n",
            "Kết quả reduceat (Tổng cục bộ): [10 18 17]\n"
          ]
        }
      ]
    }
  ]
}
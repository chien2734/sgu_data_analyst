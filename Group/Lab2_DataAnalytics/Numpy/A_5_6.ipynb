{
 "cells": [
  {
   "cell_type": "markdown",
   "id": "e5f80af2",
   "metadata": {},
   "source": [
    "# Advanced NumPy\n"
   ]
  },
  {
   "cell_type": "markdown",
   "id": "80a442c3",
   "metadata": {},
   "source": [
    "## A.5 Structured and Record Arrays\n"
   ]
  },
  {
   "cell_type": "markdown",
   "id": "98b9764d",
   "metadata": {},
   "source": [
    "### 1. Giới thiệu\n",
    "\n",
    "Notebook này dùng để tìm hiểu và thực hành về `Structured Arrays` trong NumPy. Đây là một kiểu mảng đặc biệt cho phép lưu trữ các loại dữ liệu không đồng nhất (heterogeneous), tương tự như một `struct` trong ngôn ngữ C hay một dòng trong bảng SQL.\n",
    "\n",
    "Chúng ta sẽ khám phá:\n",
    "\n",
    "1.  Cách tạo và truy cập một mảng có cấu trúc cơ bản.\n",
    "2.  Cách làm việc với các kiểu dữ liệu lồng nhau và các trường đa chiều.\n",
    "3.  Ưu điểm và trường hợp sử dụng của `Structured Arrays`.\n"
   ]
  },
  {
   "cell_type": "markdown",
   "id": "434739f0",
   "metadata": {},
   "source": [
    "#### Nạp thư viện\n"
   ]
  },
  {
   "cell_type": "code",
   "execution_count": 1,
   "id": "c3591376",
   "metadata": {},
   "outputs": [
    {
     "name": "stdout",
     "output_type": "stream",
     "text": [
      "NumPy version: 1.23.5\n"
     ]
    }
   ],
   "source": [
    "import numpy as np\n",
    "print(f\"NumPy version: {np.__version__}\")"
   ]
  },
  {
   "cell_type": "markdown",
   "id": "9f8837b6",
   "metadata": {},
   "source": [
    "### 2. Mảng có cấu trúc cơ bản\n",
    "\n",
    "`Structured Array` là một `ndarray` mà mỗi phần tử của nó bao gồm nhiều trường (fields), mỗi trường có một tên và một kiểu dữ liệu riêng.\n",
    "\n",
    "Để tạo, chúng ta cần định nghĩa một `dtype` đặc biệt, thường là một danh sách các tuple `(tên_trường, kiểu_dữ_liệu)`.\n"
   ]
  },
  {
   "cell_type": "markdown",
   "id": "490af8e0",
   "metadata": {},
   "source": [
    "**Định nghĩa dtype và tạo mảng**\n"
   ]
  },
  {
   "cell_type": "code",
   "execution_count": 6,
   "id": "33dfc7bb",
   "metadata": {},
   "outputs": [],
   "source": [
    "# Định nghĩa kiểu dữ liệu có cấu trúc với hai trường: 'x' và 'y'\n",
    "dtype_basic = [('x', np.float64), ('y', np.int32)]\n",
    "\n",
    "# Tạo mảng với dữ liệu và kiểu dữ liệu đã định nghĩa\n",
    "sarr = np.array([(1.5, 6), (np.pi, -2)], dtype=dtype_basic)"
   ]
  },
  {
   "cell_type": "markdown",
   "id": "0eba882c",
   "metadata": {},
   "source": [
    "**Hiển thị mảng**\n"
   ]
  },
  {
   "cell_type": "code",
   "execution_count": 8,
   "id": "d6c046b9",
   "metadata": {},
   "outputs": [
    {
     "name": "stdout",
     "output_type": "stream",
     "text": [
      "Mảng có cấu trúc sarr:\n",
      "[(1.5       ,  6) (3.14159265, -2)]\n",
      "\n",
      "Kiểu dữ liệu của sarr:\n",
      "[('x', '<f8'), ('y', '<i4')]\n"
     ]
    }
   ],
   "source": [
    "# In mảng để xem kết quả\n",
    "print(\"Mảng có cấu trúc sarr:\")\n",
    "print(sarr)\n",
    "print(\"\\nKiểu dữ liệu của sarr:\")\n",
    "print(sarr.dtype)"
   ]
  },
  {
   "cell_type": "markdown",
   "id": "448d38b7",
   "metadata": {},
   "source": [
    "#### 3. Truy cập dữ liệu\n",
    "\n",
    "Chúng ta có thể truy cập dữ liệu theo từng phần tử (record) hoặc theo từng trường (field).\n",
    "\n",
    "- **Truy cập theo record**: Giống như mảng NumPy thông thường.\n",
    "- **Truy cập theo field**: Sử dụng tên trường như một key của dictionary.\n"
   ]
  },
  {
   "cell_type": "markdown",
   "id": "ed9e593f",
   "metadata": {},
   "source": [
    "**Truy cập record và field**\n"
   ]
  },
  {
   "cell_type": "code",
   "execution_count": 9,
   "id": "470d7cbb",
   "metadata": {},
   "outputs": [
    {
     "name": "stdout",
     "output_type": "stream",
     "text": [
      "\n",
      "Phần tử đầu tiên sarr[0]: (1.5, 6)\n",
      "Giá trị trường 'y' của phần tử đầu tiên sarr[0]['y']: 6\n",
      "\n",
      "Tất cả giá trị của trường 'x' sarr['x']:\n",
      "[1.5        3.14159265]\n"
     ]
    }
   ],
   "source": [
    "# Truy cập phần tử đầu tiên (record/hàng đầu tiên)\n",
    "print(f\"\\nPhần tử đầu tiên sarr[0]: {sarr[0]}\")\n",
    "\n",
    "# Truy cập trường 'y' của phần tử đầu tiên\n",
    "print(f\"Giá trị trường 'y' của phần tử đầu tiên sarr[0]['y']: {sarr[0]['y']}\")\n",
    "\n",
    "# Truy cập tất cả giá trị của trường 'x' (truy cập theo cột)\n",
    "# Kết quả trả về là một view, không phải bản sao (copy)\n",
    "print(\"\\nTất cả giá trị của trường 'x' sarr['x']:\")\n",
    "print(sarr['x'])"
   ]
  },
  {
   "cell_type": "markdown",
   "id": "beed93e3",
   "metadata": {},
   "source": [
    "### 4. Kiểu dữ liệu lồng nhau và Trường đa chiều\n",
    "\n",
    "`Structured Arrays` còn mạnh mẽ hơn khi cho phép định nghĩa các trường là mảng đa chiều hoặc thậm chí là một cấu trúc lồng nhau khác.\n",
    "\n",
    "**Trường đa chiều**:\n",
    "Ta có thể thêm một shape (dạng tuple) vào định nghĩa `dtype` để mỗi record chứa một mảng.\n"
   ]
  },
  {
   "cell_type": "code",
   "execution_count": 10,
   "id": "2c063368",
   "metadata": {},
   "outputs": [
    {
     "name": "stdout",
     "output_type": "stream",
     "text": [
      "\n",
      "## 2. Mảng có cấu trúc với trường đa chiều ##\n",
      "\n",
      "Mảng arr với trường 'x' là mảng 3 chiều:\n",
      "[([0, 0, 0], 0) ([0, 0, 0], 0) ([0, 0, 0], 0) ([0, 0, 0], 0)]\n",
      "\n",
      "Giá trị trường 'x' của phần tử đầu tiên arr[0]['x']: [0 0 0]\n",
      "\n",
      "Tất cả giá trị của trường 'x' arr['x']:\n",
      "[[0 0 0]\n",
      " [0 0 0]\n",
      " [0 0 0]\n",
      " [0 0 0]]\n"
     ]
    }
   ],
   "source": [
    "print(\"\\n## 2. Mảng có cấu trúc với trường đa chiều ##\")\n",
    "\n",
    "# Định nghĩa kiểu dữ liệu mà trường 'x' là một mảng 1D có 3 phần tử\n",
    "dtype_multi = [('x', np.int64, 3), ('y', np.int32)]\n",
    "\n",
    "# Tạo một mảng gồm 4 phần tử với toàn số 0 theo cấu trúc trên\n",
    "arr = np.zeros(4, dtype=dtype_multi)\n",
    "\n",
    "print(\"\\nMảng arr với trường 'x' là mảng 3 chiều:\")\n",
    "print(arr)\n",
    "\n",
    "# Truy cập trường 'x' của phần tử đầu tiên\n",
    "print(f\"\\nGiá trị trường 'x' của phần tử đầu tiên arr[0]['x']: {arr[0]['x']}\")\n",
    "\n",
    "# Truy cập tất cả các giá trị của trường 'x' sẽ trả về một mảng 2D\n",
    "print(\"\\nTất cả giá trị của trường 'x' arr['x']:\")\n",
    "print(arr['x'])"
   ]
  },
  {
   "cell_type": "markdown",
   "id": "7a0e685f",
   "metadata": {},
   "source": [
    "**Kiểu dữ liệu lồng nhau (Nested Data Types)**\n"
   ]
  },
  {
   "cell_type": "code",
   "execution_count": 11,
   "id": "8223df78",
   "metadata": {},
   "outputs": [
    {
     "name": "stdout",
     "output_type": "stream",
     "text": [
      "\n",
      "## 3. Mảng có cấu trúc với kiểu dữ liệu lồng nhau ##\n",
      "\n",
      "Mảng data với cấu trúc lồng nhau:\n",
      "[((1., 2.), 5) ((3., 4.), 6)]\n",
      "\n",
      "Truy cập trường 'x':\n",
      "[(1., 2.) (3., 4.)]\n",
      "\n",
      "Truy cập trường 'y':\n",
      "[5 6]\n",
      "\n",
      "Truy cập trường 'a' bên trong 'x' (data['x']['a']):\n",
      "[1. 3.]\n"
     ]
    }
   ],
   "source": [
    "print(\"\\n## 3. Mảng có cấu trúc với kiểu dữ liệu lồng nhau ##\")\n",
    "\n",
    "# Định nghĩa kiểu dữ liệu lồng nhau: trường 'x' lại là một cấu trúc khác\n",
    "dtype_nested = [('x', [('a', 'f8'), ('b', 'f4')]), ('y', np.int32)]\n",
    "\n",
    "# Tạo mảng với dữ liệu tương ứng\n",
    "data = np.array([((1, 2), 5), ((3, 4), 6)], dtype=dtype_nested)\n",
    "\n",
    "print(\"\\nMảng data với cấu trúc lồng nhau:\")\n",
    "print(data)\n",
    "\n",
    "# Truy cập trường cấp 1 ('x' và 'y')\n",
    "print(\"\\nTruy cập trường 'x':\")\n",
    "print(data['x'])\n",
    "\n",
    "print(\"\\nTruy cập trường 'y':\")\n",
    "print(data['y'])\n",
    "\n",
    "# Truy cập trường cấp 2 ('a' bên trong 'x')\n",
    "print(\"\\nTruy cập trường 'a' bên trong 'x' (data['x']['a']):\")\n",
    "print(data['x']['a'])"
   ]
  },
  {
   "cell_type": "markdown",
   "id": "03dff699",
   "metadata": {},
   "source": [
    "### 5. Tại sao nên sử dụng Structured Arrays?\n",
    "\n",
    "So với `pandas.DataFrame`, `Structured Arrays` là một công cụ ở cấp thấp hơn. Ưu điểm chính của nó nằm ở hiệu năng và cách biểu diễn dữ liệu trong bộ nhớ:\n",
    "\n",
    "- **Hiệu quả bộ nhớ**: Mỗi phần tử trong mảng được biểu diễn dưới dạng một khối byte cố định, giúp việc đọc/ghi dữ liệu từ đĩa (disk), gửi qua mạng (network) rất hiệu quả.\n",
    "- **Tương thích với C/C++**: Cấu trúc bộ nhớ của nó tương tự như `struct` trong C. Điều này rất hữu ích khi làm việc với các thư viện C hoặc đọc các file nhị phân (binary files) được tạo từ các hệ thống cũ.\n"
   ]
  },
  {
   "cell_type": "markdown",
   "id": "a3a52da8",
   "metadata": {},
   "source": [
    "## A.6 More About Sorting\n",
    "\n",
    "Notebook này minh họa các phương pháp sắp xếp mảng (array) trong NumPy. Chúng ta sẽ tìm hiểu sự khác biệt cốt lõi giữa:\n",
    "\n",
    "- **Sắp xếp tại chỗ (in-place)** với phương thức `arr.sort()`\n",
    "- **Sắp xếp tạo bản sao (out-of-place)** với hàm `np.sort(arr)`\n",
    "- Sắp xếp mảng đa chiều theo **trục (axis)**\n",
    "- Mẹo để **sắp xếp giảm dần**\n"
   ]
  },
  {
   "cell_type": "markdown",
   "id": "2690deca",
   "metadata": {},
   "source": [
    "**Nạp thư viện và khởi tạo ngẫu nhiên**\n"
   ]
  },
  {
   "cell_type": "code",
   "execution_count": 12,
   "id": "5b54b713",
   "metadata": {},
   "outputs": [
    {
     "name": "stdout",
     "output_type": "stream",
     "text": [
      "NumPy version: 1.23.5\n"
     ]
    }
   ],
   "source": [
    "import numpy as np\n",
    "\n",
    "# Khởi tạo bộ sinh số ngẫu nhiên (Random Number Generator)\n",
    "# Đây là cách làm hiện đại và được khuyến nghị trong NumPy\n",
    "rng = np.random.default_rng()\n",
    "\n",
    "print(f\"NumPy version: {np.__version__}\")"
   ]
  },
  {
   "cell_type": "markdown",
   "id": "82d9a38f",
   "metadata": {},
   "source": [
    "### 1. Sắp xếp tại chỗ (In-place) với `arr.sort()`\n",
    "\n",
    "Phương thức `.sort()` được gọi trực tiếp từ một đối tượng `ndarray`. Nó sẽ sắp xếp và **thay đổi vĩnh viễn** dữ liệu bên trong mảng gốc.\n"
   ]
  },
  {
   "cell_type": "code",
   "execution_count": 13,
   "id": "8654753e",
   "metadata": {},
   "outputs": [
    {
     "name": "stdout",
     "output_type": "stream",
     "text": [
      "Mảng ban đầu: [ 0.36009701  1.95291121  0.34066975 -0.12261662  1.02687093 -1.07001222]\n",
      "Mảng sau khi sắp xếp: [-1.07001222 -0.12261662  0.34066975  0.36009701  1.02687093  1.95291121]\n"
     ]
    }
   ],
   "source": [
    "# Tạo một mảng ngẫu nhiên\n",
    "arr_inplace = rng.standard_normal(6)\n",
    "print(\"Mảng ban đầu:\", arr_inplace)\n",
    "\n",
    "# Sắp xếp tại chỗ\n",
    "arr_inplace.sort() \n",
    "print(\"Mảng sau khi sắp xếp:\", arr_inplace)"
   ]
  },
  {
   "cell_type": "markdown",
   "id": "db25652d",
   "metadata": {},
   "source": [
    "**Chú ý**: Sắp xếp trên một \"View\" sẽ thay đổi mảng gốc\n",
    "\n",
    "Khi bạn lấy một lát cắt (slice) của mảng, NumPy thường trả về một \"view\" chứ không phải một bản sao. \"View\" này trỏ đến vùng nhớ của mảng gốc. Do đó, nếu bạn sắp xếp \"view\" này tại chỗ, mảng gốc cũng sẽ bị thay đổi theo.\n"
   ]
  },
  {
   "cell_type": "code",
   "execution_count": 14,
   "id": "5c832215",
   "metadata": {},
   "outputs": [
    {
     "name": "stdout",
     "output_type": "stream",
     "text": [
      "Mảng gốc ban đầu:\n",
      " [[ 0.1997401   0.29471387 -1.10915511 -0.62614298 -2.31793807]\n",
      " [ 2.2113833  -1.03346402 -1.35021532 -0.73989496 -0.677089  ]\n",
      " [-2.00535526  0.21102371 -0.21703376  0.98224644  0.07948854]]\n",
      "\n",
      "Mảng gốc sau khi sắp xếp cột đầu tiên:\n",
      " [[-2.00535526  0.29471387 -1.10915511 -0.62614298 -2.31793807]\n",
      " [ 0.1997401  -1.03346402 -1.35021532 -0.73989496 -0.677089  ]\n",
      " [ 2.2113833   0.21102371 -0.21703376  0.98224644  0.07948854]]\n"
     ]
    }
   ],
   "source": [
    "arr_original = rng.standard_normal((3, 5))\n",
    "print(\"Mảng gốc ban đầu:\\n\", arr_original)\n",
    "\n",
    "# Lấy view của cột đầu tiên (arr_original[:, 0]) và sắp xếp nó\n",
    "first_column_view = arr_original[:, 0]\n",
    "first_column_view.sort()\n",
    "\n",
    "print(\"\\nMảng gốc sau khi sắp xếp cột đầu tiên:\\n\", arr_original)"
   ]
  },
  {
   "cell_type": "markdown",
   "id": "1bf0da98",
   "metadata": {},
   "source": [
    "### 2. Sắp xếp tạo bản sao với `np.sort()`\n",
    "\n",
    "Hàm `np.sort()` của thư viện NumPy sẽ trả về một **bản sao (copy)** mới của mảng đã được sắp xếp. Mảng gốc sẽ **không bị thay đổi**.\n"
   ]
  },
  {
   "cell_type": "code",
   "execution_count": 15,
   "id": "c46f0d5a",
   "metadata": {},
   "outputs": [
    {
     "name": "stdout",
     "output_type": "stream",
     "text": [
      "Mảng gốc: [ 0.84961047  0.80706123 -0.28794717 -0.20197991 -0.54492885]\n",
      "Bản sao đã được sắp xếp: [-0.54492885 -0.28794717 -0.20197991  0.80706123  0.84961047]\n",
      "Mảng gốc sau khi gọi np.sort(): [ 0.84961047  0.80706123 -0.28794717 -0.20197991 -0.54492885]\n"
     ]
    }
   ],
   "source": [
    "arr_copy = rng.standard_normal(5)\n",
    "print(\"Mảng gốc:\", arr_copy)\n",
    "\n",
    "# Gọi hàm np.sort()\n",
    "sorted_arr = np.sort(arr_copy)\n",
    "print(\"Bản sao đã được sắp xếp:\", sorted_arr)\n",
    "\n",
    "# Kiểm tra lại mảng gốc\n",
    "print(\"Mảng gốc sau khi gọi np.sort():\", arr_copy)"
   ]
  },
  {
   "cell_type": "markdown",
   "id": "f9bb5241",
   "metadata": {},
   "source": [
    "### 3. Sắp xếp theo trục (Sorting Along an Axis)\n",
    "\n",
    "Với mảng đa chiều, bạn có thể chỉ định trục để sắp xếp bằng tham số `axis`.\n",
    "\n",
    "- `axis=1`: Sắp xếp các phần tử trên **từng hàng**.\n",
    "- `axis=0`: Sắp xếp các phần tử trên **từng cột**.\n"
   ]
  },
  {
   "cell_type": "code",
   "execution_count": 16,
   "id": "ba13892a",
   "metadata": {},
   "outputs": [
    {
     "name": "stdout",
     "output_type": "stream",
     "text": [
      "Mảng đa chiều ban đầu:\n",
      " [[-0.69213856 -0.83097068  0.79844201  0.60803362 -0.04653087]\n",
      " [ 0.52478846 -3.36912958  0.94493549  1.18538202  0.52224066]\n",
      " [-0.68978245 -1.11171541  0.81575813 -0.13502659  0.93307333]]\n",
      "\n",
      "Mảng sau khi sắp xếp theo hàng (axis=1):\n",
      " [[-0.83097068 -0.69213856 -0.04653087  0.60803362  0.79844201]\n",
      " [-3.36912958  0.52224066  0.52478846  0.94493549  1.18538202]\n",
      " [-1.11171541 -0.68978245 -0.13502659  0.81575813  0.93307333]]\n"
     ]
    }
   ],
   "source": [
    "arr_axis = rng.standard_normal((3, 5))\n",
    "print(\"Mảng đa chiều ban đầu:\\n\", arr_axis)\n",
    "\n",
    "# Sắp xếp tại chỗ theo hàng (axis=1)\n",
    "arr_axis.sort(axis=1)\n",
    "print(\"\\nMảng sau khi sắp xếp theo hàng (axis=1):\\n\", arr_axis)"
   ]
  },
  {
   "cell_type": "markdown",
   "id": "5626dcfe",
   "metadata": {},
   "source": [
    "### 4. Sắp xếp giảm dần (Descending Sort)\n",
    "\n",
    "NumPy không có tham số `reverse=True` như list của Python. Mẹo phổ biến là **sắp xếp tăng dần trước, sau đó đảo ngược mảng** bằng kỹ thuật slicing `[::-1]`.\n"
   ]
  },
  {
   "cell_type": "code",
   "execution_count": 17,
   "id": "647a7d0f",
   "metadata": {},
   "outputs": [
    {
     "name": "stdout",
     "output_type": "stream",
     "text": [
      "Mảng đã sắp xếp tăng dần theo hàng:\n",
      " [[-0.83097068 -0.69213856 -0.04653087  0.60803362  0.79844201]\n",
      " [-3.36912958  0.52224066  0.52478846  0.94493549  1.18538202]\n",
      " [-1.11171541 -0.68978245 -0.13502659  0.81575813  0.93307333]]\n",
      "\n",
      "Mảng sau khi đảo ngược để có thứ tự giảm dần:\n",
      " [[ 0.79844201  0.60803362 -0.04653087 -0.69213856 -0.83097068]\n",
      " [ 1.18538202  0.94493549  0.52478846  0.52224066 -3.36912958]\n",
      " [ 0.93307333  0.81575813 -0.13502659 -0.68978245 -1.11171541]]\n"
     ]
    }
   ],
   "source": [
    "# Tận dụng mảng arr_axis đã được sắp xếp tăng dần ở bước trên\n",
    "print(\"Mảng đã sắp xếp tăng dần theo hàng:\\n\", arr_axis)\n",
    "\n",
    "# Dùng slicing [:, ::-1] để đảo ngược thứ tự các cột trên mỗi hàng\n",
    "arr_descending = arr_axis[:, ::-1]\n",
    "print(\"\\nMảng sau khi đảo ngược để có thứ tự giảm dần:\\n\", arr_descending)"
   ]
  },
  {
   "cell_type": "markdown",
   "id": "17ede21c",
   "metadata": {},
   "source": [
    "### 5. Sắp xếp gián tiếp (Indirect Sorts): `argsort` và `lexsort`\n",
    "\n",
    "Đôi khi, thay vì sắp xếp trực tiếp giá trị của một mảng, chúng ta lại cần tìm ra **thứ tự chỉ số (indices)** để có thể sắp xếp mảng đó. Kết quả này được gọi là \"sắp xếp gián tiếp\". Các chỉ số này sau đó có thể được dùng để sắp xếp đồng bộ nhiều mảng khác nhau.\n"
   ]
  },
  {
   "cell_type": "markdown",
   "id": "bada95c5",
   "metadata": {},
   "source": [
    "#### `argsort`: Sắp xếp trên một mảng duy nhất\n",
    "\n",
    "Phương thức `argsort` trả về một mảng chứa các chỉ số (indexer) mà theo đó mảng gốc sẽ được sắp xếp theo thứ tự tăng dần.\n"
   ]
  },
  {
   "cell_type": "code",
   "execution_count": 18,
   "id": "48565f5e",
   "metadata": {},
   "outputs": [
    {
     "name": "stdout",
     "output_type": "stream",
     "text": [
      "Mảng gốc: [5 0 1 3 2]\n",
      "Chỉ số sắp xếp (indexer): [1 2 4 3 0]\n",
      "Mảng sau khi sắp xếp bằng indexer: [0 1 2 3 5]\n"
     ]
    }
   ],
   "source": [
    "values = np.array([5, 0, 1, 3, 2])\n",
    "indexer = values.argsort()\n",
    "\n",
    "print(f\"Mảng gốc: {values}\")\n",
    "print(f\"Chỉ số sắp xếp (indexer): {indexer}\")\n",
    "\n",
    "# Dùng indexer để truy cập mảng gốc theo thứ tự đã sắp xếp\n",
    "print(f\"Mảng sau khi sắp xếp bằng indexer: {values[indexer]}\")"
   ]
  },
  {
   "cell_type": "markdown",
   "id": "7dc55192",
   "metadata": {},
   "source": [
    "Ứng dụng `argsort` rất hữu ích khi bạn muốn sắp xếp lại các cột của một mảng 2D dựa trên giá trị của một hàng cụ thể.\n"
   ]
  },
  {
   "cell_type": "code",
   "execution_count": 19,
   "id": "a4fd392b",
   "metadata": {},
   "outputs": [
    {
     "name": "stdout",
     "output_type": "stream",
     "text": [
      "Mảng 2D ban đầu:\n",
      " [[ 5.          0.          1.          3.          2.        ]\n",
      " [ 0.89690726 -0.50633349  0.10618985  0.26087189  1.38950148]\n",
      " [-0.03002971  1.98663892 -0.5277864  -0.20758013  0.06218009]]\n",
      "\n",
      "Mảng 2D sau khi sắp xếp các cột theo hàng đầu tiên:\n",
      " [[ 0.          1.          2.          3.          5.        ]\n",
      " [-0.50633349  0.10618985  1.38950148  0.26087189  0.89690726]\n",
      " [ 1.98663892 -0.5277864   0.06218009 -0.20758013 -0.03002971]]\n"
     ]
    }
   ],
   "source": [
    "# Tạo một mảng 2D ngẫu nhiên\n",
    "arr_2d = rng.standard_normal((3, 5))\n",
    "\n",
    "# Gán hàng đầu tiên bằng mảng `values` ở trên\n",
    "arr_2d[0] = values\n",
    "print(\"Mảng 2D ban đầu:\\n\", arr_2d)\n",
    "\n",
    "# Sắp xếp lại các cột của arr_2d dựa trên thứ tự của hàng đầu tiên\n",
    "sorted_by_row0 = arr_2d[:, arr_2d[0].argsort()]\n",
    "print(\"\\nMảng 2D sau khi sắp xếp các cột theo hàng đầu tiên:\\n\", sorted_by_row0)"
   ]
  },
  {
   "cell_type": "markdown",
   "id": "259da99e",
   "metadata": {},
   "source": [
    "#### `lexsort`: Sắp xếp từ điển trên nhiều mảng\n",
    "\n",
    "`numpy.lexsort` thực hiện sắp xếp gián tiếp dựa trên nhiều mảng khóa (key arrays), tương tự như việc bạn sort trong Excel theo nhiều cột.\n",
    "\n",
    "**Lưu ý quan trọng:** Thứ tự sắp xếp được ưu tiên từ **key cuối cùng** đến key đầu tiên được truyền vào. Tức là, mảng cuối cùng trong tuple bạn truyền vào sẽ là khóa sắp xếp chính (primary key).\n"
   ]
  },
  {
   "cell_type": "code",
   "execution_count": 20,
   "id": "71b700a4",
   "metadata": {},
   "outputs": [
    {
     "name": "stdout",
     "output_type": "stream",
     "text": [
      "Các khóa sắp xếp (keys):\n",
      "- last_name: ['Jones' 'Arnold' 'Arnold' 'Jones' 'Walters']\n",
      "- first_name: ['Bob' 'Jane' 'Steve' 'Bill' 'Barbara']\n",
      "\n",
      "Indexer trả về từ lexsort: [1 2 3 0 4]\n",
      "\n",
      "Danh sách đã được sắp xếp:\n",
      "- Arnold, Jane\n",
      "- Arnold, Steve\n",
      "- Jones, Bill\n",
      "- Jones, Bob\n",
      "- Walters, Barbara\n"
     ]
    }
   ],
   "source": [
    "first_name = np.array(['Bob', 'Jane', 'Steve', 'Bill', 'Barbara'])\n",
    "last_name = np.array(['Jones', 'Arnold', 'Arnold', 'Jones', 'Walters'])\n",
    "\n",
    "# Sắp xếp theo last_name (khóa chính), sau đó theo first_name (khóa phụ)\n",
    "# Do đó, last_name phải được đặt ở cuối trong tuple\n",
    "sorter = np.lexsort((first_name, last_name))\n",
    "\n",
    "print(f\"Các khóa sắp xếp (keys):\\n- last_name: {last_name}\\n- first_name: {first_name}\")\n",
    "print(f\"\\nIndexer trả về từ lexsort: {sorter}\")\n",
    "\n",
    "# Dùng indexer để hiển thị kết quả đã sắp xếp\n",
    "sorted_full_names = list(zip(last_name[sorter], first_name[sorter]))\n",
    "\n",
    "print(\"\\nDanh sách đã được sắp xếp:\")\n",
    "for last, first in sorted_full_names:\n",
    "    print(f\"- {last}, {first}\")"
   ]
  },
  {
   "cell_type": "markdown",
   "id": "1f0aac67",
   "metadata": {},
   "source": [
    "### 6. Các Thuật toán Sắp xếp Thay thế (Alternative Sort Algorithms)\n",
    "\n",
    "#### Sắp xếp Ổn định (Stable Sort)\n",
    "\n",
    "Một thuật toán sắp xếp được gọi là **ổn định (stable)** nếu nó giữ nguyên thứ tự tương đối của các phần tử có giá trị bằng nhau. Điều này đặc biệt quan trọng trong các phép sắp xếp gián tiếp.\n",
    "\n",
    "Trong NumPy, `mergesort` là thuật toán sắp xếp ổn định duy nhất. Mặc dù nó được đảm bảo có hiệu năng O(n log n), nhưng trong thực tế thường chậm hơn so với `quicksort` (thuật toán mặc định).\n"
   ]
  },
  {
   "cell_type": "code",
   "execution_count": 21,
   "id": "5715048e",
   "metadata": {},
   "outputs": [
    {
     "name": "stdout",
     "output_type": "stream",
     "text": [
      "Key để sắp xếp: [2 2 1 1 1]\n",
      "Indexer (dùng mergesort): [2 3 4 0 1]\n",
      "\n",
      "Kết quả sau khi sắp xếp ổn định:\n",
      "['1:first' '1:second' '1:third' '2:first' '2:second']\n"
     ]
    }
   ],
   "source": [
    "# Ví dụ về sắp xếp ổn định\n",
    "values = np.array(['2:first', '2:second', '1:first', '1:second', '1:third'])\n",
    "key = np.array([2, 2, 1, 1, 1])\n",
    "\n",
    "# Dùng 'mergesort' để đảm bảo tính ổn định\n",
    "# Thứ tự của các phần tử '1:...' và '2:...' sẽ được giữ nguyên\n",
    "indexer = key.argsort(kind='mergesort')\n",
    "\n",
    "print(f\"Key để sắp xếp: {key}\")\n",
    "print(f\"Indexer (dùng mergesort): {indexer}\")\n",
    "\n",
    "# values.take(indexer) tương đương với values[indexer]\n",
    "print(\"\\nKết quả sau khi sắp xếp ổn định:\")\n",
    "print(values.take(indexer))"
   ]
  },
  {
   "cell_type": "markdown",
   "id": "96d842ea",
   "metadata": {},
   "source": [
    "Bảng dưới đây tóm tắt các thuật toán sắp xếp có sẵn trong NumPy:\n",
    "\n",
    "| Kind (`loại`) | Tốc độ (trung bình) | Ổn định (Stable) | Bộ nhớ phụ (Work space) | Trường hợp tệ nhất (Worst case) |\n",
    "| :------------ | :-----------------: | :--------------: | :---------------------: | :-----------------------------: |\n",
    "| `'quicksort'` |   1 (Nhanh nhất)    |      Không       |            0            |              O(n²)              |\n",
    "| `'mergesort'` |   2 (Trung bình)    |        Có        |          n / 2          |           O(n log n)            |\n",
    "| `'heapsort'`  |    3 (Chậm nhất)    |      Không       |            0            |           O(n log n)            |\n"
   ]
  },
  {
   "cell_type": "markdown",
   "id": "4002bfbc",
   "metadata": {},
   "source": [
    "### 7. Sắp xếp một phần (Partially Sorting Arrays)\n",
    "\n",
    "Đôi khi, mục tiêu của bạn không phải là sắp xếp toàn bộ mảng mà chỉ là tìm ra _k_ phần tử nhỏ nhất hoặc lớn nhất. NumPy cung cấp các hàm `numpy.partition` và `numpy.argpartition` rất nhanh cho việc này.\n",
    "\n",
    "Hàm này sẽ \"phân hoạch\" mảng xung quanh phần tử nhỏ thứ _k_. Kết quả là:\n",
    "\n",
    "- Phần tử tại vị trí _k_ sẽ đúng là phần tử nhỏ thứ _k_.\n",
    "- Tất cả các phần tử trước vị trí _k_ đều nhỏ hơn hoặc bằng nó.\n",
    "- Tất cả các phần tử sau vị trí _k_ đều lớn hơn hoặc bằng nó.\n",
    "- Các phần tử trong hai nhóm trước và sau _k_ không được sắp xếp.\n"
   ]
  },
  {
   "cell_type": "code",
   "execution_count": 22,
   "id": "e62861a7",
   "metadata": {},
   "outputs": [
    {
     "name": "stdout",
     "output_type": "stream",
     "text": [
      "Mảng ban đầu:\n",
      " [-1.42382504  1.26372846 -0.87066174 -0.25917323 -0.07534331 -0.74088465\n",
      " -1.3677927   0.6488928   0.36105811 -1.95286306  2.34740965  0.96849691\n",
      " -0.75938718  0.90219827 -0.46695317 -0.06068952  0.78884434 -1.25666813\n",
      "  0.57585751  1.39897899]\n",
      "\n",
      "Mảng sau khi partition tại vị trí 3:\n",
      " [-1.95286306 -1.42382504 -1.3677927  -1.25666813 -0.87066174 -0.75938718\n",
      " -0.74088465 -0.06068952  0.36105811 -0.07534331 -0.25917323 -0.46695317\n",
      "  0.57585751  0.90219827  0.96849691  0.6488928   0.78884434  1.26372846\n",
      "  1.39897899  2.34740965]\n",
      "-> Bốn phần tử đầu tiên là 4 giá trị nhỏ nhất (thứ tự ngẫu nhiên).\n",
      "\n",
      "Các chỉ số (indices) từ argpartition:\n",
      " [ 9  0  6 17  2 12  5 15  8  4  3 14 18 13 11  7 16  1 19 10]\n",
      "\n",
      "Áp dụng indices vào mảng gốc sẽ cho kết quả tương tự:\n",
      " [-1.95286306 -1.42382504 -1.3677927  -1.25666813 -0.87066174 -0.75938718\n",
      " -0.74088465 -0.06068952  0.36105811 -0.07534331 -0.25917323 -0.46695317\n",
      "  0.57585751  0.90219827  0.96849691  0.6488928   0.78884434  1.26372846\n",
      "  1.39897899  2.34740965]\n"
     ]
    }
   ],
   "source": [
    "# Khởi tạo rng với một seed để kết quả có thể tái lập\n",
    "rng = np.random.default_rng(12345)\n",
    "arr_part = rng.standard_normal(20)\n",
    "print(\"Mảng ban đầu:\\n\", arr_part)\n",
    "\n",
    "# Tìm 4 phần tử nhỏ nhất (k=3, vì index bắt đầu từ 0)\n",
    "# Kết quả là 4 phần tử nhỏ nhất sẽ nằm ở 4 vị trí đầu tiên\n",
    "partitioned_arr = np.partition(arr_part, 3)\n",
    "print(\"\\nMảng sau khi partition tại vị trí 3:\\n\", partitioned_arr)\n",
    "print(\"-> Bốn phần tử đầu tiên là 4 giá trị nhỏ nhất (thứ tự ngẫu nhiên).\")\n",
    "\n",
    "# np.argpartition hoạt động tương tự nhưng trả về chỉ số (indexer)\n",
    "indices = np.argpartition(arr_part, 3)\n",
    "print(\"\\nCác chỉ số (indices) từ argpartition:\\n\", indices)\n",
    "print(\"\\nÁp dụng indices vào mảng gốc sẽ cho kết quả tương tự:\\n\", arr_part.take(indices))"
   ]
  },
  {
   "cell_type": "markdown",
   "id": "f0c1ae56",
   "metadata": {},
   "source": [
    "### 8. `numpy.searchsorted`: Tìm vị trí chèn trong mảng đã sắp xếp\n",
    "\n",
    "`searchsorted` là một phương thức cực kỳ hiệu quả để tìm kiếm trong một mảng **đã được sắp xếp**. Nó sử dụng thuật toán **tìm kiếm nhị phân (binary search)** để trả về vị trí (chỉ số) mà một giá trị mới có thể được chèn vào mà vẫn duy trì được thứ tự của mảng.\n",
    "\n",
    "[Image of a binary search algorithm visualization]\n",
    "\n",
    "**Điều kiện tiên quyết:** Mảng bạn tìm kiếm trên đó **bắt buộc** phải được sắp xếp từ trước.\n"
   ]
  },
  {
   "cell_type": "code",
   "execution_count": 23,
   "id": "5530f664",
   "metadata": {},
   "outputs": [
    {
     "name": "stdout",
     "output_type": "stream",
     "text": [
      "Mảng đã sắp xếp: [ 0  1  7 12 15]\n",
      "Vị trí để chèn số 9 là: 3\n",
      "Vị trí để chèn các số [0, 8, 11, 16] lần lượt là: [0 3 3 5]\n"
     ]
    }
   ],
   "source": [
    "arr_sorted = np.array([0, 1, 7, 12, 15])\n",
    "print(f\"Mảng đã sắp xếp: {arr_sorted}\")\n",
    "\n",
    "# Tìm vị trí nên chèn số 9 để giữ nguyên thứ tự\n",
    "position = arr_sorted.searchsorted(9)\n",
    "print(f\"Vị trí để chèn số 9 là: {position}\")\n",
    "\n",
    "# Bạn cũng có thể truyền vào một mảng các giá trị cần tìm\n",
    "positions = arr_sorted.searchsorted([0, 8, 11, 16])\n",
    "print(f\"Vị trí để chèn các số [0, 8, 11, 16] lần lượt là: {positions}\")"
   ]
  },
  {
   "cell_type": "markdown",
   "id": "48a9805a",
   "metadata": {},
   "source": [
    "#### Tham số `side`: 'left' và 'right'\n",
    "\n",
    "Khi giá trị tìm kiếm đã tồn tại trong mảng, `searchsorted` có hai cách xử lý:\n",
    "\n",
    "- `side='left'` (mặc định): Trả về chỉ số ở **bên trái nhất** của nhóm các giá trị bằng nhau.\n",
    "- `side='right'`: Trả về chỉ số ở **bên phải nhất** (ngay sau nhóm giá trị bằng nhau).\n"
   ]
  },
  {
   "cell_type": "code",
   "execution_count": 24,
   "id": "63c7e885",
   "metadata": {},
   "outputs": [
    {
     "name": "stdout",
     "output_type": "stream",
     "text": [
      "Mảng có các giá trị trùng lặp: [0 0 0 1 1 1 1]\n",
      "Tìm [0, 1] với side='left': [0 3]\n",
      "Tìm [0, 1] với side='right': [3 7]\n"
     ]
    }
   ],
   "source": [
    "arr_duplicates = np.array([0, 0, 0, 1, 1, 1, 1])\n",
    "print(f\"Mảng có các giá trị trùng lặp: {arr_duplicates}\")\n",
    "\n",
    "# Mặc định side='left'\n",
    "print(f\"Tìm [0, 1] với side='left': {arr_duplicates.searchsorted([0, 1])}\")\n",
    "\n",
    "# Dùng side='right'\n",
    "print(f\"Tìm [0, 1] với side='right': {arr_duplicates.searchsorted([0, 1], side='right')}\")"
   ]
  },
  {
   "cell_type": "markdown",
   "id": "858f5931",
   "metadata": {},
   "source": [
    "#### Ứng dụng thực tế: Phân loại dữ liệu (Binning)\n",
    "\n",
    "Một trong những ứng dụng mạnh mẽ nhất của `searchsorted` là để phân loại (hay \"bin\") một tập dữ liệu lớn vào các khoảng đã được định nghĩa trước.\n"
   ]
  },
  {
   "cell_type": "code",
   "execution_count": 25,
   "id": "c1b1e848",
   "metadata": {},
   "outputs": [
    {
     "name": "stdout",
     "output_type": "stream",
     "text": [
      "Các thùng chứa (bins): [    0   100  1000  5000 10000]\n",
      "10 điểm dữ liệu đầu tiên: [ 815 1598 3401 4651 2664 8157 1932 1294  916 5985]\n",
      "Nhãn (chỉ số thùng) của 10 điểm dữ liệu đầu tiên: [2 3 3 3 3 4 3 3 2 4]\n",
      "\n",
      "Giá trị trung bình của dữ liệu trong mỗi thùng:\n",
      "1      50.000000\n",
      "2     803.666667\n",
      "3    3079.741935\n",
      "4    7635.200000\n",
      "dtype: float64\n"
     ]
    }
   ],
   "source": [
    "import pandas as pd\n",
    "\n",
    "# Giả lập 50 điểm dữ liệu từ 0 đến 10000\n",
    "data = np.floor(rng.uniform(0, 10000, size=50))\n",
    "\n",
    "# Định nghĩa các \"cạnh\" của thùng chứa (bins)\n",
    "bins = np.array([0, 100, 1000, 5000, 10000])\n",
    "\n",
    "print(\"Các thùng chứa (bins):\", bins)\n",
    "print(\"10 điểm dữ liệu đầu tiên:\", data[:10].astype(int))\n",
    "\n",
    "# Tìm xem mỗi điểm dữ liệu thuộc về thùng nào\n",
    "labels = bins.searchsorted(data)\n",
    "print(\"Nhãn (chỉ số thùng) của 10 điểm dữ liệu đầu tiên:\", labels[:10])\n",
    "\n",
    "# Kết hợp với Pandas để tính giá trị trung bình cho mỗi thùng\n",
    "print(\"\\nGiá trị trung bình của dữ liệu trong mỗi thùng:\")\n",
    "series_data = pd.Series(data)\n",
    "print(series_data.groupby(labels).mean())"
   ]
  },
  {
   "cell_type": "markdown",
   "id": "4124f023",
   "metadata": {},
   "source": [
    "## Tổng kết: NumPy Nâng cao (A.5 & A.6)\n",
    "\n",
    "**A.5: Mảng có cấu trúc (Structured Arrays)**\n",
    "\n",
    "Mảng có cấu trúc là công cụ cho phép bạn lưu trữ các loại dữ liệu không đồng nhất (heterogeneous) trong một mảng NumPy duy nhất, tương tự như một `struct` trong C hay một bảng dữ liệu.\n",
    "\n",
    "* **Mục đích**: Để xử lý dữ liệu dạng bảng hoặc các bản ghi phức tạp.\n",
    "* **Cách tạo**: Định nghĩa một `dtype` đặc biệt, là một danh sách các tuple `(tên_trường, kiểu_dữ_liệu)`.\n",
    "    * Ví dụ: `dtype = [('product_id', 'i4'), ('price', 'f8'), ('name', 'U20')]`\n",
    "* **Truy cập dữ liệu**:\n",
    "    * Theo **record (hàng)**: Giống mảng thường, ví dụ `data[0]`.\n",
    "    * Theo **field (cột)**: Dùng tên trường như key, ví dụ `data['price']`.\n",
    "* **Tính năng nâng cao**: Hỗ trợ các trường đa chiều và các cấu trúc lồng nhau.\n",
    "* **Khi nào nên dùng**: Khi cần hiệu suất bộ nhớ cao, đọc/ghi dữ liệu nhị phân, hoặc tương tác với các thư viện C/C++.\n",
    "\n",
    "---\n",
    "\n",
    "**A.6: Các kỹ thuật Sắp xếp (More About Sorting)**\n",
    "\n",
    "Phần này bao gồm các phương pháp sắp xếp và tìm kiếm hiệu quả trong NumPy.\n",
    "\n",
    "**Sắp xếp trực tiếp**:\n",
    "* `arr.sort()`: Sắp xếp **tại chỗ (in-place)**, làm thay đổi mảng gốc.\n",
    "* `np.sort(arr)`: Trả về một **bản sao (copy)** đã được sắp xếp, mảng gốc không đổi.\n",
    "\n",
    "**Sắp xếp gián tiếp (Lấy chỉ số)**:\n",
    "* `arr.argsort()`: Trả về **chỉ số (indices)** để sắp xếp một mảng.\n",
    "* `np.lexsort((key_phu, key_chinh))`: Sắp xếp theo nhiều khóa, với khóa chính là mảng **cuối cùng**.\n",
    "\n",
    "**Các tùy chọn và kỹ thuật khác**:\n",
    "* **Sắp xếp Ổn định**: Dùng `kind='mergesort'` để giữ nguyên thứ tự tương đối của các phần tử bằng nhau.\n",
    "* **Sắp xếp một phần**: `np.partition(arr, k)` giúp tìm `k+1` phần tử nhỏ nhất một cách nhanh chóng mà không cần sắp xếp toàn bộ mảng.\n",
    "* **Sắp xếp giảm dần**: Sắp xếp tăng dần rồi đảo ngược với slicing `[::-1]`.\n",
    "\n",
    "**Tìm kiếm trong mảng đã sắp xếp**:\n",
    "* `arr.searchsorted(value)`: Dùng **tìm kiếm nhị phân** để tìm vị trí chèn một giá trị mới. Cực kỳ hữu ích cho việc **phân loại (binning)** dữ liệu."
   ]
  }
 ],
 "metadata": {
  "kernelspec": {
   "display_name": "py39_env",
   "language": "python",
   "name": "python3"
  },
  "language_info": {
   "codemirror_mode": {
    "name": "ipython",
    "version": 3
   },
   "file_extension": ".py",
   "mimetype": "text/x-python",
   "name": "python",
   "nbconvert_exporter": "python",
   "pygments_lexer": "ipython3",
   "version": "3.9.23"
  }
 },
 "nbformat": 4,
 "nbformat_minor": 5
}

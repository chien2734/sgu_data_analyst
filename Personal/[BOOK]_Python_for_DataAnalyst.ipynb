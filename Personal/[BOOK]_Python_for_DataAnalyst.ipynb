{
  "nbformat": 4,
  "nbformat_minor": 0,
  "metadata": {
    "colab": {
      "provenance": [],
      "authorship_tag": "ABX9TyNVa+y3UksIlau9x2OmWQqx",
      "include_colab_link": true
    },
    "kernelspec": {
      "name": "python3",
      "display_name": "Python 3"
    },
    "language_info": {
      "name": "python"
    }
  },
  "cells": [
    {
      "cell_type": "markdown",
      "metadata": {
        "id": "view-in-github",
        "colab_type": "text"
      },
      "source": [
        "<a href=\"https://colab.research.google.com/github/chien2734/sgu_data_analyst/blob/main/Personal/%5BBOOK%5D_Python_for_DataAnalyst.ipynb\" target=\"_parent\"><img src=\"https://colab.research.google.com/assets/colab-badge.svg\" alt=\"Open In Colab\"/></a>"
      ]
    },
    {
      "cell_type": "markdown",
      "source": [
        "<h1> CHAPTER 1: Prelininaries\n"
      ],
      "metadata": {
        "id": "O3J0YDOpZoiI"
      }
    },
    {
      "cell_type": "markdown",
      "source": [
        "## 1.1 What Is This Book About?\n",
        "\n"
      ],
      "metadata": {
        "id": "z0KIveNCaHvW"
      }
    },
    {
      "cell_type": "markdown",
      "source": [
        "## 1.2 Why Python for Data Analysis?"
      ],
      "metadata": {
        "id": "W-DI4f_gaHyf"
      }
    },
    {
      "cell_type": "markdown",
      "source": [
        "## 1.3 Essential Python Libraries"
      ],
      "metadata": {
        "id": "GF48SSFbaH1f"
      }
    },
    {
      "cell_type": "markdown",
      "source": [
        "## 1.4 Installation and Setup"
      ],
      "metadata": {
        "id": "UMCeAWUfaH4r"
      }
    },
    {
      "cell_type": "markdown",
      "source": [
        "## 1.5 Community and Conferences"
      ],
      "metadata": {
        "id": "r2hbOOv7aH8M"
      }
    },
    {
      "cell_type": "markdown",
      "source": [
        "## 1.6 Navigating This Book"
      ],
      "metadata": {
        "id": "_9LlZ5OUa41x"
      }
    },
    {
      "cell_type": "code",
      "execution_count": null,
      "metadata": {
        "id": "bv4ODptGZTs0"
      },
      "outputs": [],
      "source": [
        "import numpy as np\n",
        "import pandas as pd\n",
        "pd.options.display.max_columns = 20\n",
        "pd.options.display.max_rows = 20\n",
        "pd.options.display.max_colwidth = 80\n",
        "np.set_printoptions(precision=4, suppress=True)"
      ]
    },
    {
      "cell_type": "code",
      "source": [
        "#Import Conventions\n",
        "import numpy as np\n",
        "import matplotlib.pyplot as plt\n",
        "import pandas as pd\n",
        "import seaborn as sns\n",
        "import statsmodels as sm"
      ],
      "metadata": {
        "id": "7YPXR52ObetB"
      },
      "execution_count": null,
      "outputs": []
    },
    {
      "cell_type": "markdown",
      "source": [
        "<h1> CHAPTER 2:\n",
        "Python Language Basics, IPython,\n",
        "and Jupyter Notebooks"
      ],
      "metadata": {
        "id": "SKe809Y-a473"
      }
    },
    {
      "cell_type": "markdown",
      "source": [
        "## 2.1 The Python Interpreter"
      ],
      "metadata": {
        "id": "Tt8BAxKsbxeZ"
      }
    },
    {
      "cell_type": "code",
      "source": [
        "a = 5\n",
        "print(a)\n",
        "\n",
        "print(\"Hello world\")"
      ],
      "metadata": {
        "id": "MSVp1xm9btmV",
        "colab": {
          "base_uri": "https://localhost:8080/"
        },
        "outputId": "7604ab59-621e-4017-90c9-0fbab29746fd"
      },
      "execution_count": null,
      "outputs": [
        {
          "output_type": "stream",
          "name": "stdout",
          "text": [
            "5\n",
            "Hello world\n"
          ]
        }
      ]
    },
    {
      "cell_type": "markdown",
      "source": [
        "## 2.2 IPython Basics"
      ],
      "metadata": {
        "id": "4vYrvO5-D3lv"
      }
    },
    {
      "cell_type": "markdown",
      "source": [
        "### Running the IPython Shell"
      ],
      "metadata": {
        "id": "72vE9bzbD8B2"
      }
    },
    {
      "cell_type": "code",
      "source": [
        "a = 5\n",
        "a #print 5"
      ],
      "metadata": {
        "colab": {
          "base_uri": "https://localhost:8080/"
        },
        "id": "5FxgH3zHD4UC",
        "outputId": "b08988b1-293e-4120-f856-fa3cbcd3e5c4"
      },
      "execution_count": null,
      "outputs": [
        {
          "output_type": "execute_result",
          "data": {
            "text/plain": [
              "5"
            ]
          },
          "metadata": {},
          "execution_count": 5
        }
      ]
    },
    {
      "cell_type": "code",
      "source": [
        "import numpy as np\n",
        "data = [np.random.standard_normal() for i in range(8)]\n",
        "data #print(data)"
      ],
      "metadata": {
        "colab": {
          "base_uri": "https://localhost:8080/"
        },
        "id": "AGC-RGIYETEf",
        "outputId": "1c7ff46f-5e1b-493c-e93a-f4969dc31c89"
      },
      "execution_count": null,
      "outputs": [
        {
          "output_type": "execute_result",
          "data": {
            "text/plain": [
              "[-0.04664350085945034,\n",
              " 0.08334126223593778,\n",
              " 0.044577390567203785,\n",
              " -0.07512381189122282,\n",
              " -2.538163815938322,\n",
              " 0.3652711235795394,\n",
              " -1.6728013983197745,\n",
              " 1.6451020548688982]"
            ]
          },
          "metadata": {},
          "execution_count": 6
        }
      ]
    },
    {
      "cell_type": "markdown",
      "source": [
        "### Running the Jupyter Notebook"
      ],
      "metadata": {
        "id": "XRjnYEpkE9d2"
      }
    },
    {
      "cell_type": "markdown",
      "source": [
        "### Tab Completion"
      ],
      "metadata": {
        "id": "AhsZOKUVFAj1"
      }
    },
    {
      "cell_type": "code",
      "source": [
        "an_apple = 27\n",
        "an_example = 42\n",
        "an_apple\n",
        "\n",
        "b = [1, 2, 3]\n",
        "b.append\n",
        "\n",
        "import datetime\n",
        "datetime.datetime.now()\n"
      ],
      "metadata": {
        "colab": {
          "base_uri": "https://localhost:8080/"
        },
        "id": "VCiVKbooFAAk",
        "outputId": "7bdfef67-62cd-418c-ff70-e60d70bb2d9f"
      },
      "execution_count": null,
      "outputs": [
        {
          "output_type": "stream",
          "name": "stdout",
          "text": [
            "None\n"
          ]
        },
        {
          "output_type": "execute_result",
          "data": {
            "text/plain": [
              "datetime.datetime(2025, 10, 13, 5, 43, 16, 140007)"
            ]
          },
          "metadata": {},
          "execution_count": 12
        }
      ]
    },
    {
      "cell_type": "markdown",
      "source": [
        "### Introspection\n",
        "\n",
        "Using a question mark (?) before or after a variable will display some general infor‐\n",
        "mation about the object:"
      ],
      "metadata": {
        "id": "0YuAFmtbGNYA"
      }
    },
    {
      "cell_type": "code",
      "source": [
        "b = [1, 2, 3]\n",
        "b?\n",
        "\n",
        "print?\n",
        "# Signature: print(*args, sep=' ', end='\\n', file=None, flush=False)\n",
        "# Docstring:\n",
        "# Prints the values to a stream, or to sys.stdout by default."
      ],
      "metadata": {
        "id": "BAuHARY6GODt"
      },
      "execution_count": null,
      "outputs": []
    },
    {
      "cell_type": "code",
      "source": [
        "def add_numbers(a, b):\n",
        "  \"\"\"\n",
        "  Add two numbers together\n",
        "  Returns\n",
        "  -------\n",
        "  the_sum : type of arguments\n",
        "  \"\"\"\n",
        "  return a + b\n",
        "\n",
        "add_numbers?\n",
        "# Signature: add_numbers(a, b)\n",
        "# Docstring:\n",
        "# Add two numbers together\n",
        "# Returns"
      ],
      "metadata": {
        "id": "ZkfFFpRmGj1Z"
      },
      "execution_count": null,
      "outputs": []
    },
    {
      "cell_type": "code",
      "source": [
        "import numpy as np\n",
        "np.*load*?\n",
        "# np.__loader__\n",
        "# np.load\n",
        "# np.loadtxt"
      ],
      "metadata": {
        "id": "nC1p6fvwH1m5"
      },
      "execution_count": null,
      "outputs": []
    },
    {
      "cell_type": "markdown",
      "source": [
        "## 2.3 Python Language Basics"
      ],
      "metadata": {
        "id": "isiydrBJIH5H"
      }
    },
    {
      "cell_type": "markdown",
      "source": [
        "### Language Semantics"
      ],
      "metadata": {
        "id": "-RyLyXzpINlo"
      }
    },
    {
      "cell_type": "markdown",
      "source": [
        "#### Indentation, not braces"
      ],
      "metadata": {
        "id": "fti43LSHKIlo"
      }
    },
    {
      "cell_type": "code",
      "source": [
        "for x in array:\n",
        "  if x < pivot:\n",
        "    less.append(x)\n",
        "  else:\n",
        "    greater.append(x)\n",
        "\n",
        "a = 5; b = 6; c = 7"
      ],
      "metadata": {
        "id": "Fe4gVCjMIKZa"
      },
      "execution_count": null,
      "outputs": []
    },
    {
      "cell_type": "markdown",
      "source": [
        "#### Comment"
      ],
      "metadata": {
        "id": "ruNeCMgGKM_g"
      }
    },
    {
      "cell_type": "code",
      "source": [
        "results = []\n",
        "for line in file_handle:\n",
        "  # keep the empty lines for now\n",
        "  # if len(line) == 0:\n",
        "  # continue\n",
        "  results.append(line.replace(\"foo\", \"bar\"))\n",
        "\n",
        "print(\"Reached this line\") # Simple status report"
      ],
      "metadata": {
        "id": "smFXHpLPIhb3"
      },
      "execution_count": null,
      "outputs": []
    },
    {
      "cell_type": "markdown",
      "source": [
        "#### Function and object method calls"
      ],
      "metadata": {
        "id": "10-SekUPKQhg"
      }
    },
    {
      "cell_type": "code",
      "source": [
        "result = f(x, y, z)\n",
        "g()\n",
        "\n",
        "obj.some_method(x, y, z)\n",
        "\n",
        "result = f(a, b, c, d=5, e=\"foo\")"
      ],
      "metadata": {
        "id": "LJOlSKyDI0kA"
      },
      "execution_count": null,
      "outputs": []
    },
    {
      "cell_type": "markdown",
      "source": [
        "#### Variables and argument passing"
      ],
      "metadata": {
        "id": "3fz2LkMJKUJ4"
      }
    },
    {
      "cell_type": "code",
      "source": [
        "a = [1, 2, 3]\n",
        "b = a\n",
        "a.append(4)\n",
        "print(b)\n",
        "\n",
        "def append_element(some_list, element):\n",
        "  some_list.append(element)\n",
        "#Then we have:\n",
        "data = [1, 2, 3]\n",
        "append_element(data, 4)\n",
        "data\n"
      ],
      "metadata": {
        "colab": {
          "base_uri": "https://localhost:8080/"
        },
        "id": "EKo0TuMbJKtf",
        "outputId": "8ec41c4e-10fe-4d3e-eed0-aa2d8eb0ff51"
      },
      "execution_count": null,
      "outputs": [
        {
          "output_type": "stream",
          "name": "stdout",
          "text": [
            "[1, 2, 3, 4]\n"
          ]
        },
        {
          "output_type": "execute_result",
          "data": {
            "text/plain": [
              "[1, 2, 3, 4]"
            ]
          },
          "metadata": {},
          "execution_count": 26
        }
      ]
    },
    {
      "cell_type": "markdown",
      "source": [
        "#### Dynamic references, strong types"
      ],
      "metadata": {
        "id": "QeXXgvCyJMCX"
      }
    },
    {
      "cell_type": "code",
      "source": [
        "a = 5\n",
        "print(type(a)) # int\n",
        "a = \"foo\"\n",
        "print(type(a)) # str\n",
        "\n",
        "#\"5\" + 5 # Error\n",
        "\n",
        "a = 4.5\n",
        "b = 2\n",
        "# String formatting, to be visited later\n",
        "print(f\"a is {type(a)}, b is {type(b)}\")\n",
        "a / b"
      ],
      "metadata": {
        "colab": {
          "base_uri": "https://localhost:8080/"
        },
        "id": "umaKbscJKCeA",
        "outputId": "e3626929-8ffd-41eb-b995-3c41d9304e1c"
      },
      "execution_count": null,
      "outputs": [
        {
          "output_type": "stream",
          "name": "stdout",
          "text": [
            "<class 'int'>\n",
            "<class 'str'>\n",
            "a is <class 'float'>, b is <class 'int'>\n"
          ]
        },
        {
          "output_type": "execute_result",
          "data": {
            "text/plain": [
              "2.25"
            ]
          },
          "metadata": {},
          "execution_count": 31
        }
      ]
    },
    {
      "cell_type": "code",
      "source": [
        "a = 5\n",
        "print(isinstance(a, int))\n",
        "\n",
        "a = 5; b = 4.5\n",
        "print(isinstance(a, (int, float)))\n",
        "print(isinstance(b, (int, float)))"
      ],
      "metadata": {
        "colab": {
          "base_uri": "https://localhost:8080/"
        },
        "id": "VGJy4hKAMbLq",
        "outputId": "dc40f4b3-5f06-4b68-cdc0-23bea5101c13"
      },
      "execution_count": null,
      "outputs": [
        {
          "output_type": "stream",
          "name": "stdout",
          "text": [
            "True\n",
            "True\n",
            "True\n"
          ]
        }
      ]
    },
    {
      "cell_type": "markdown",
      "source": [
        "#### Attributes and methods"
      ],
      "metadata": {
        "id": "T-yRm59CMyOg"
      }
    },
    {
      "cell_type": "code",
      "source": [
        "a = \"foo\"\n",
        "getattr(a, \"split\")"
      ],
      "metadata": {
        "colab": {
          "base_uri": "https://localhost:8080/"
        },
        "id": "fbwzAM1UMzHu",
        "outputId": "85c9f8d6-ce9d-4cf2-cd26-f3dbec5957a2"
      },
      "execution_count": null,
      "outputs": [
        {
          "output_type": "execute_result",
          "data": {
            "text/plain": [
              "<function str.split(sep=None, maxsplit=-1)>"
            ]
          },
          "metadata": {},
          "execution_count": 35
        }
      ]
    },
    {
      "cell_type": "markdown",
      "source": [
        "#### Duck typing"
      ],
      "metadata": {
        "id": "uxZQtSzDvjZO"
      }
    },
    {
      "cell_type": "code",
      "source": [
        "def isiterable(obj):\n",
        "  try:\n",
        "    iter(obj)\n",
        "    return True\n",
        "  except TypeError: # not iterable\n",
        "    return False"
      ],
      "metadata": {
        "id": "_kVqHD5svo38"
      },
      "execution_count": null,
      "outputs": []
    },
    {
      "cell_type": "code",
      "source": [
        "isiterable(\"a string\") #True\n",
        "isiterable([1, 2, 3]) #True\n",
        "isiterable(5) #False"
      ],
      "metadata": {
        "colab": {
          "base_uri": "https://localhost:8080/"
        },
        "id": "w66c7CXov7gW",
        "outputId": "1ecc9528-7f07-449e-cbae-f4734c7cfa2d"
      },
      "execution_count": null,
      "outputs": [
        {
          "output_type": "execute_result",
          "data": {
            "text/plain": [
              "False"
            ]
          },
          "metadata": {},
          "execution_count": 3
        }
      ]
    },
    {
      "cell_type": "markdown",
      "source": [
        "#### Imports"
      ],
      "metadata": {
        "id": "pW2U3a0TwPt-"
      }
    },
    {
      "cell_type": "code",
      "source": [
        "import some_module\n",
        "result = some_module.f(5)\n",
        "pi = some_module.PI\n",
        "#Or alternately:\n",
        "from some_module import g, PI\n",
        "result = g(5, PI)\n",
        "#By using the as keyword, you can give imports different variable names:\n",
        "import some_module as sm\n",
        "from some_module import PI as pi, g as gf\n",
        "r1 = sm.f(pi)\n",
        "r2 = gf(6, pi)"
      ],
      "metadata": {
        "id": "C_OlFC2UwRPj"
      },
      "execution_count": null,
      "outputs": []
    },
    {
      "cell_type": "markdown",
      "source": [
        "#### Binary operators and comparisons"
      ],
      "metadata": {
        "id": "RMI88iJp0rmw"
      }
    },
    {
      "cell_type": "code",
      "source": [
        "print(5 - 7)\n",
        "print(12 + 21.5)\n",
        "print(5 <= 2)\n",
        "a = [1, 2, 3]\n",
        "b = a\n",
        "c = list(a)\n",
        "print(a is b)\n",
        "print(a is not c)\n",
        "print(a==c)\n",
        "a = None\n",
        "print(a is None)"
      ],
      "metadata": {
        "colab": {
          "base_uri": "https://localhost:8080/"
        },
        "id": "pcNH0s_A0t-a",
        "outputId": "c489928b-f312-4350-9267-e5f85366c8c0"
      },
      "execution_count": null,
      "outputs": [
        {
          "output_type": "stream",
          "name": "stdout",
          "text": [
            "-2\n",
            "33.5\n",
            "False\n",
            "True\n",
            "True\n",
            "True\n",
            "True\n"
          ]
        }
      ]
    },
    {
      "cell_type": "markdown",
      "source": [
        "#### Mutable and immutable objects"
      ],
      "metadata": {
        "id": "yb7LBuAD1hL-"
      }
    },
    {
      "cell_type": "code",
      "source": [
        "a_list = [\"foo\", 2, [4, 5]]\n",
        "a_list[2] = (3, 4)\n",
        "a_list\n",
        "a_tuple = (3, 5, (4, 5))\n",
        "a_tuple[1] = \"four\"\n",
        "#'tuple' object does not support item assignment"
      ],
      "metadata": {
        "colab": {
          "base_uri": "https://localhost:8080/"
        },
        "id": "cLlD9fZr1jJ_",
        "outputId": "fa23641a-87dc-47ad-8a3d-b859888b3e6d"
      },
      "execution_count": null,
      "outputs": [
        {
          "output_type": "execute_result",
          "data": {
            "text/plain": [
              "['foo', 2, (3, 4)]"
            ]
          },
          "metadata": {},
          "execution_count": 16
        }
      ]
    },
    {
      "cell_type": "markdown",
      "source": [
        "### Scalar Types"
      ],
      "metadata": {
        "id": "M9YeFk3p2Fot"
      }
    },
    {
      "cell_type": "markdown",
      "source": [
        "#### Numeric types"
      ],
      "metadata": {
        "id": "3xVrsHbB2Lk-"
      }
    },
    {
      "cell_type": "code",
      "source": [
        "ival = 17239871\n",
        "print(ival**6)\n",
        "\n",
        "fval = 7.243\n",
        "fval2 = 6.78e-5\n",
        "\n",
        "print(3/2)\n",
        "print(3//2)"
      ],
      "metadata": {
        "colab": {
          "base_uri": "https://localhost:8080/"
        },
        "id": "PulXvwfX2H2Q",
        "outputId": "b2c13613-ad4f-4035-d058-2d9064b9baa4"
      },
      "execution_count": null,
      "outputs": [
        {
          "output_type": "stream",
          "name": "stdout",
          "text": [
            "26254519291092456596965462913230729701102721\n",
            "1.5\n",
            "1\n"
          ]
        }
      ]
    },
    {
      "cell_type": "markdown",
      "source": [
        "#### Strings"
      ],
      "metadata": {
        "id": "mkzgeQO22maH"
      }
    },
    {
      "cell_type": "code",
      "source": [
        "a = 'this is a string'\n",
        "b = \"another way\"\n",
        "c = \"\"\"\n",
        "This is a longer string that\n",
        "spans multiple lines\n",
        "\"\"\"\n",
        "\n",
        "print(c.count(\"\\n\"))\n",
        "\n",
        "#a[10] =\"f\"\n",
        "#'str' object does not support item assignment\n",
        "\n",
        "b = a.replace(\"string\", \"longer string\")\n",
        "print(b)\n",
        "print(a)\n",
        "\n",
        "a = 5.6\n",
        "s=str(a)\n",
        "print(s)\n",
        "\n",
        "s = \"python\"\n",
        "print(list(s))\n",
        "print(s[:3])\n",
        "\n",
        "s = \"12\\\\34\"\n",
        "print(s)\n",
        "\n",
        "s = r\"this\\has\\no\\special\\characters\"\n",
        "print(s)\n",
        "\n",
        "a = \"this is the first half \"\n",
        "b = \"and this is the second half\"\n",
        "print(a + b)\n",
        "\n",
        "template = \"{0:.2f} {1:s} are worth US${2:d}\"\n",
        "\n",
        "print(template.format(88.46, \"Argentine Pesos\", 1))\n",
        "\n",
        "amount = 10\n",
        "rate = 88.46\n",
        "currency = \"Pesos\"\n",
        "result = f\"{amount} {currency} is worth US${amount / rate}\"\n",
        "f\"{amount} {currency} is worth US${amount / rate:.2f}\""
      ],
      "metadata": {
        "colab": {
          "base_uri": "https://localhost:8080/",
          "height": 218
        },
        "id": "c4n34MPU2oKZ",
        "outputId": "9013c910-e8f5-483a-d60c-a159d04f5ca4"
      },
      "execution_count": null,
      "outputs": [
        {
          "output_type": "stream",
          "name": "stdout",
          "text": [
            "3\n",
            "this is a longer string\n",
            "this is a string\n",
            "5.6\n",
            "['p', 'y', 't', 'h', 'o', 'n']\n",
            "pyt\n",
            "12\\34\n",
            "this\\has\\no\\special\\characters\n",
            "this is the first half and this is the second half\n",
            "88.46 Argentine Pesos are worth US$1\n"
          ]
        },
        {
          "output_type": "execute_result",
          "data": {
            "text/plain": [
              "'10 Pesos is worth US$0.11'"
            ],
            "application/vnd.google.colaboratory.intrinsic+json": {
              "type": "string"
            }
          },
          "metadata": {},
          "execution_count": 28
        }
      ]
    },
    {
      "cell_type": "markdown",
      "source": [
        "#### Bytes and Unicode\n"
      ],
      "metadata": {
        "id": "O57k6qjk4ee-"
      }
    },
    {
      "cell_type": "code",
      "source": [
        "val = \"español\"\n",
        "print(val)\n",
        "\n",
        "val_utf8 = val.encode(\"utf-8\")\n",
        "print(val_utf8)\n",
        "\n",
        "print(type(val_utf8))\n",
        "print(val_utf8.decode(\"utf-8\"))\n",
        "\n",
        "print(val.encode(\"latin1\"))\n",
        "print(val.encode(\"utf-16\"))\n",
        "print(val.encode(\"utf-16le\"))"
      ],
      "metadata": {
        "colab": {
          "base_uri": "https://localhost:8080/"
        },
        "id": "VAm_m6qB4eAA",
        "outputId": "95319e4e-f667-44b3-93ff-ba4490647998"
      },
      "execution_count": null,
      "outputs": [
        {
          "output_type": "stream",
          "name": "stdout",
          "text": [
            "español\n",
            "b'espa\\xc3\\xb1ol'\n",
            "<class 'bytes'>\n",
            "español\n",
            "b'espa\\xf1ol'\n",
            "b'\\xff\\xfee\\x00s\\x00p\\x00a\\x00\\xf1\\x00o\\x00l\\x00'\n",
            "b'e\\x00s\\x00p\\x00a\\x00\\xf1\\x00o\\x00l\\x00'\n"
          ]
        }
      ]
    },
    {
      "cell_type": "markdown",
      "source": [
        "#### Booleans"
      ],
      "metadata": {
        "id": "bqCR-VMo5DAA"
      }
    },
    {
      "cell_type": "code",
      "source": [
        "print(True and True)\n",
        "print(False or True)\n",
        "print(int(False))\n",
        "print(int(True))\n",
        "a = True\n",
        "b = False\n",
        "print(not a)\n",
        "print( not b)"
      ],
      "metadata": {
        "colab": {
          "base_uri": "https://localhost:8080/"
        },
        "id": "b0xnQL4K5FTu",
        "outputId": "74db1bde-6ae3-482e-a2fa-5f3343f09fbc"
      },
      "execution_count": null,
      "outputs": [
        {
          "output_type": "stream",
          "name": "stdout",
          "text": [
            "True\n",
            "True\n",
            "0\n",
            "1\n",
            "False\n",
            "True\n"
          ]
        }
      ]
    },
    {
      "cell_type": "markdown",
      "source": [
        "#### Type casting"
      ],
      "metadata": {
        "id": "Ml_mjUCp5prP"
      }
    },
    {
      "cell_type": "code",
      "source": [
        "s = \"3.14159\"\n",
        "fval = float(s)\n",
        "print(type(fval))\n",
        "print(int(fval))\n",
        "print(bool(fval))\n",
        "print(bool(0))"
      ],
      "metadata": {
        "colab": {
          "base_uri": "https://localhost:8080/"
        },
        "id": "ZVBRcfIv5rh9",
        "outputId": "aade60a7-fd95-449f-c774-3ae5bbcd47fe"
      },
      "execution_count": null,
      "outputs": [
        {
          "output_type": "stream",
          "name": "stdout",
          "text": [
            "<class 'float'>\n",
            "3\n",
            "True\n",
            "False\n"
          ]
        }
      ]
    },
    {
      "cell_type": "markdown",
      "source": [
        "#### None"
      ],
      "metadata": {
        "id": "3MU9vVzY5_bA"
      }
    },
    {
      "cell_type": "code",
      "source": [
        "a = None\n",
        "print(a is None)\n",
        "b = 5\n",
        "print(b is not None)"
      ],
      "metadata": {
        "colab": {
          "base_uri": "https://localhost:8080/"
        },
        "id": "mFiOvX1q6AZE",
        "outputId": "f0542858-b79a-471b-837b-2cd4be027be0"
      },
      "execution_count": null,
      "outputs": [
        {
          "output_type": "stream",
          "name": "stdout",
          "text": [
            "True\n",
            "True\n"
          ]
        }
      ]
    },
    {
      "cell_type": "code",
      "source": [
        "def add_and_maybe_multiply(a, b, c=None):\n",
        "  result = a + b\n",
        "  if c is not None:\n",
        "    result = result * c\n",
        "  return result\n",
        "print(add_and_maybe_multiply(1, 2))\n",
        "add_and_maybe_multiply(1, 2, 3)\n"
      ],
      "metadata": {
        "colab": {
          "base_uri": "https://localhost:8080/"
        },
        "id": "UFk3mXjV6NQ4",
        "outputId": "2658cbf2-0d10-4543-dfd0-9fd28e784067"
      },
      "execution_count": null,
      "outputs": [
        {
          "output_type": "stream",
          "name": "stdout",
          "text": [
            "3\n"
          ]
        },
        {
          "output_type": "execute_result",
          "data": {
            "text/plain": [
              "9"
            ]
          },
          "metadata": {},
          "execution_count": 37
        }
      ]
    },
    {
      "cell_type": "markdown",
      "source": [
        "#### Dates and times"
      ],
      "metadata": {
        "id": "uUOo9gIM6dlf"
      }
    },
    {
      "cell_type": "code",
      "source": [
        "from datetime import datetime, date, time\n",
        "dt = datetime(2011, 10, 29, 20, 30, 21)\n",
        "print(dt.day)\n",
        "print(dt.minute)\n",
        "\n",
        "print(dt.date())\n",
        "print(dt.time())\n",
        "\n",
        "print(dt.strftime(\"%Y-%m-%d %H:%M\"))\n",
        "print(datetime.strptime(\"20091031\", \"%Y%m%d\"))\n",
        "\n",
        "dt_hour = dt.replace(minute=0, second=0)\n",
        "print(dt_hour)\n",
        "print(dt)"
      ],
      "metadata": {
        "colab": {
          "base_uri": "https://localhost:8080/"
        },
        "id": "m5bW25i46fwM",
        "outputId": "5311e38c-272a-415a-d7f7-8ec1e802f9a1"
      },
      "execution_count": null,
      "outputs": [
        {
          "output_type": "stream",
          "name": "stdout",
          "text": [
            "29\n",
            "30\n",
            "2011-10-29\n",
            "20:30:21\n",
            "2011-10-29 20:30\n",
            "2009-10-31 00:00:00\n",
            "2011-10-29 20:00:00\n",
            "2011-10-29 20:30:21\n"
          ]
        }
      ]
    },
    {
      "cell_type": "code",
      "source": [
        "dt2 = datetime(2011, 11, 15, 22, 30)\n",
        "delta = dt2 - dt\n",
        "print(delta)\n",
        "print(type(delta))\n",
        "print(dt)\n",
        "print(dt + delta)"
      ],
      "metadata": {
        "colab": {
          "base_uri": "https://localhost:8080/"
        },
        "id": "FM9ksAdC7Nzo",
        "outputId": "7e2e1d48-3a1d-424b-f219-a3b5aff2f57b"
      },
      "execution_count": null,
      "outputs": [
        {
          "output_type": "stream",
          "name": "stdout",
          "text": [
            "17 days, 1:59:39\n",
            "<class 'datetime.timedelta'>\n",
            "2011-10-29 20:30:21\n",
            "2011-11-15 22:30:00\n"
          ]
        }
      ]
    },
    {
      "cell_type": "markdown",
      "source": [
        "### Control Flow"
      ],
      "metadata": {
        "id": "FOYQwZvg7d_g"
      }
    },
    {
      "cell_type": "markdown",
      "source": [
        "#### if, elif, and else"
      ],
      "metadata": {
        "id": "NO4mucqq7g4o"
      }
    },
    {
      "cell_type": "code",
      "source": [
        "x = -5\n",
        "if x < 0:\n",
        "  print(\"It's negative\")"
      ],
      "metadata": {
        "colab": {
          "base_uri": "https://localhost:8080/"
        },
        "id": "Ng_3GZvA7fEl",
        "outputId": "b0ff33c8-6241-4d96-e054-bd417ef7af2f"
      },
      "execution_count": null,
      "outputs": [
        {
          "output_type": "stream",
          "name": "stdout",
          "text": [
            "It's negative\n"
          ]
        }
      ]
    },
    {
      "cell_type": "code",
      "source": [
        "if x < 0:\n",
        "  print(\"It's negative\")\n",
        "elif x == 0:\n",
        "  print(\"Equal to zero\")\n",
        "elif 0 < x < 5:\n",
        "  print(\"Positive but smaller than 5\")\n",
        "else:\n",
        "  print(\"Positive and larger than or equal to 5\")"
      ],
      "metadata": {
        "colab": {
          "base_uri": "https://localhost:8080/"
        },
        "id": "eS5kQctL7mkW",
        "outputId": "90fafe9c-5d3d-4dbf-ec3c-20f1ce22b644"
      },
      "execution_count": null,
      "outputs": [
        {
          "output_type": "stream",
          "name": "stdout",
          "text": [
            "It's negative\n"
          ]
        }
      ]
    },
    {
      "cell_type": "code",
      "source": [
        "a = 5; b = 7\n",
        "c = 8; d = 4\n",
        "if a < b or c > d:\n",
        "  print(\"Made it\")"
      ],
      "metadata": {
        "colab": {
          "base_uri": "https://localhost:8080/"
        },
        "id": "cJYYDbPr7vNA",
        "outputId": "dafd2ff6-392a-4624-c1ff-df6e5d4be7b6"
      },
      "execution_count": null,
      "outputs": [
        {
          "output_type": "stream",
          "name": "stdout",
          "text": [
            "Made it\n"
          ]
        }
      ]
    },
    {
      "cell_type": "code",
      "source": [
        "4 > 3 > 2 < 1"
      ],
      "metadata": {
        "colab": {
          "base_uri": "https://localhost:8080/"
        },
        "id": "ISJNP8yR71c4",
        "outputId": "ef9bf0f3-1e73-4735-8c4e-c041b8f99134"
      },
      "execution_count": null,
      "outputs": [
        {
          "output_type": "execute_result",
          "data": {
            "text/plain": [
              "False"
            ]
          },
          "metadata": {},
          "execution_count": 48
        }
      ]
    },
    {
      "cell_type": "markdown",
      "source": [
        "#### for loops"
      ],
      "metadata": {
        "id": "f8v2EvZZ75JQ"
      }
    },
    {
      "cell_type": "code",
      "source": [
        "sequence = [1, 2, None, 4, None, 5]\n",
        "total = 0\n",
        "for value in sequence:\n",
        "  if value is None:\n",
        "    continue\n",
        "  total += value\n",
        "print(total)"
      ],
      "metadata": {
        "colab": {
          "base_uri": "https://localhost:8080/"
        },
        "id": "e3fLSQfW76sk",
        "outputId": "338d4e28-3646-4d2b-ae04-8d4f76ebf336"
      },
      "execution_count": null,
      "outputs": [
        {
          "output_type": "stream",
          "name": "stdout",
          "text": [
            "12\n"
          ]
        }
      ]
    },
    {
      "cell_type": "code",
      "source": [
        "sequence = [1, 2, 0, 4, 6, 5, 2, 1]\n",
        "total_until_5 = 0\n",
        "for value in sequence:\n",
        "  if value == 5:\n",
        "    break\n",
        "  total_until_5 += value\n",
        "print(total_until_5)"
      ],
      "metadata": {
        "colab": {
          "base_uri": "https://localhost:8080/"
        },
        "id": "McjbwTVH8I65",
        "outputId": "7b710012-bce2-4c26-ccc6-ba9759e5f958"
      },
      "execution_count": null,
      "outputs": [
        {
          "output_type": "stream",
          "name": "stdout",
          "text": [
            "13\n"
          ]
        }
      ]
    },
    {
      "cell_type": "code",
      "source": [
        "for i in range(4):\n",
        "   for j in range(4):\n",
        "    if j > i:\n",
        "      break\n",
        "    print((i, j))"
      ],
      "metadata": {
        "colab": {
          "base_uri": "https://localhost:8080/"
        },
        "id": "w85dkG4a8QWI",
        "outputId": "c15536e2-6cc5-4048-e6b6-7ecd14ebf8a7"
      },
      "execution_count": null,
      "outputs": [
        {
          "output_type": "stream",
          "name": "stdout",
          "text": [
            "(0, 0)\n",
            "(1, 0)\n",
            "(1, 1)\n",
            "(2, 0)\n",
            "(2, 1)\n",
            "(2, 2)\n",
            "(3, 0)\n",
            "(3, 1)\n",
            "(3, 2)\n",
            "(3, 3)\n"
          ]
        }
      ]
    },
    {
      "cell_type": "markdown",
      "source": [
        "#### while loops"
      ],
      "metadata": {
        "id": "Us4Qa_wD8YkI"
      }
    },
    {
      "cell_type": "code",
      "source": [
        "x = 256\n",
        "total = 0\n",
        "while x > 0:\n",
        "  if total > 500:\n",
        "    break\n",
        "  total += x\n",
        "  x = x // 2\n",
        "print(total)"
      ],
      "metadata": {
        "colab": {
          "base_uri": "https://localhost:8080/"
        },
        "id": "mnmg5yIx8aKu",
        "outputId": "04bd9548-0be0-47bb-afde-e53a858c46ee"
      },
      "execution_count": null,
      "outputs": [
        {
          "output_type": "stream",
          "name": "stdout",
          "text": [
            "504\n"
          ]
        }
      ]
    },
    {
      "cell_type": "markdown",
      "source": [
        "#### pass"
      ],
      "metadata": {
        "id": "Ds294jom80Aw"
      }
    },
    {
      "cell_type": "code",
      "source": [
        "if x < 0:\n",
        "  print(\"negative!\")\n",
        "elif x == 0:\n",
        "# TODO: put something smart here\n",
        "  pass\n",
        "else:\n",
        "  print(\"positive!\")"
      ],
      "metadata": {
        "colab": {
          "base_uri": "https://localhost:8080/"
        },
        "id": "6kb4Qv6N8hgo",
        "outputId": "c3e8fdc8-0472-4971-c68f-d5e933997c6d"
      },
      "execution_count": null,
      "outputs": [
        {
          "output_type": "stream",
          "name": "stdout",
          "text": [
            "positive!\n"
          ]
        }
      ]
    },
    {
      "cell_type": "markdown",
      "source": [
        "#### range"
      ],
      "metadata": {
        "id": "A2C4JBc988bA"
      }
    },
    {
      "cell_type": "code",
      "source": [
        "print(range(10))\n",
        "print(list(range(10)))\n",
        "print(list(range(0, 20, 2)))\n",
        "print(list(range(5, 0, -1)))\n",
        "\n",
        "seq = [1, 2, 3, 4]\n",
        "for i in range(len(seq)):\n",
        "  print(f\"element {i}: {seq[i]}\")\n",
        "\n",
        "total = 0\n",
        "for i in range(100_000):\n",
        "   # % is the modulo operator\n",
        "   if i % 3 == 0 or i % 5 == 0:\n",
        "    total += i\n",
        "print(total)"
      ],
      "metadata": {
        "colab": {
          "base_uri": "https://localhost:8080/"
        },
        "id": "w3G4ey-f89pU",
        "outputId": "9c61cf18-1a77-4b1f-dd62-47f27b2064b0"
      },
      "execution_count": null,
      "outputs": [
        {
          "output_type": "stream",
          "name": "stdout",
          "text": [
            "range(0, 10)\n",
            "[0, 1, 2, 3, 4, 5, 6, 7, 8, 9]\n",
            "[0, 2, 4, 6, 8, 10, 12, 14, 16, 18]\n",
            "[5, 4, 3, 2, 1]\n",
            "element 0: 1\n",
            "element 1: 2\n",
            "element 2: 3\n",
            "element 3: 4\n",
            "2333316668\n"
          ]
        }
      ]
    },
    {
      "cell_type": "markdown",
      "source": [
        "## 2.4 Conclusion"
      ],
      "metadata": {
        "id": "4lbljptv9eNo"
      }
    },
    {
      "cell_type": "markdown",
      "source": [
        "# CHAPTER 3: Built-In Data Structures Functions, and Files"
      ],
      "metadata": {
        "id": "2EwiRZO8PSSa"
      }
    },
    {
      "cell_type": "markdown",
      "source": [
        "## 3.1 Data Structures and Sequences"
      ],
      "metadata": {
        "id": "nlc_TngDPduT"
      }
    },
    {
      "cell_type": "markdown",
      "source": [
        "### Tuple\n",
        "A tuple is a fixed-length, immutable sequence of Python objects which, once assigned,\n",
        "cannot be changed."
      ],
      "metadata": {
        "id": "lajwGx_-PhZJ"
      }
    },
    {
      "cell_type": "code",
      "source": [
        "tup = (4, 5, 6)\n",
        "print(tup)"
      ],
      "metadata": {
        "id": "IZLLNGwq9k7L",
        "colab": {
          "base_uri": "https://localhost:8080/"
        },
        "outputId": "b27b9f0c-2acf-4a6c-ee22-da447280af17"
      },
      "execution_count": 1,
      "outputs": [
        {
          "output_type": "stream",
          "name": "stdout",
          "text": [
            "(4, 5, 6)\n"
          ]
        }
      ]
    },
    {
      "cell_type": "code",
      "source": [
        "tup = 1, 2, 3\n",
        "tup"
      ],
      "metadata": {
        "colab": {
          "base_uri": "https://localhost:8080/"
        },
        "id": "aoTBX8hRQvS8",
        "outputId": "58ae453a-1f12-49b6-81e0-f98ef42ccb7e"
      },
      "execution_count": 2,
      "outputs": [
        {
          "output_type": "execute_result",
          "data": {
            "text/plain": [
              "(1, 2, 3)"
            ]
          },
          "metadata": {},
          "execution_count": 2
        }
      ]
    },
    {
      "cell_type": "code",
      "source": [
        "tuple([4, 0, 3])"
      ],
      "metadata": {
        "colab": {
          "base_uri": "https://localhost:8080/"
        },
        "id": "MXMP163WQ4Qt",
        "outputId": "bcd1a4ee-3d08-41bd-b643-a9b5ef6d5f92"
      },
      "execution_count": 5,
      "outputs": [
        {
          "output_type": "execute_result",
          "data": {
            "text/plain": [
              "(4, 0, 3)"
            ]
          },
          "metadata": {},
          "execution_count": 5
        }
      ]
    },
    {
      "cell_type": "code",
      "source": [
        "tup = tuple('Bui Duc Chien')\n",
        "tup"
      ],
      "metadata": {
        "colab": {
          "base_uri": "https://localhost:8080/"
        },
        "id": "6UIIT7HARLnY",
        "outputId": "252fa7f7-c486-4446-8d3b-ca70a3303a8a"
      },
      "execution_count": 7,
      "outputs": [
        {
          "output_type": "execute_result",
          "data": {
            "text/plain": [
              "('B', 'u', 'i', ' ', 'D', 'u', 'c', ' ', 'C', 'h', 'i', 'e', 'n')"
            ]
          },
          "metadata": {},
          "execution_count": 7
        }
      ]
    },
    {
      "cell_type": "code",
      "source": [
        "tup[0]"
      ],
      "metadata": {
        "colab": {
          "base_uri": "https://localhost:8080/",
          "height": 36
        },
        "id": "i2qbsR5uRVA5",
        "outputId": "6740bd35-22b2-4aca-f0ce-43a23606d1ee"
      },
      "execution_count": 8,
      "outputs": [
        {
          "output_type": "execute_result",
          "data": {
            "text/plain": [
              "'B'"
            ],
            "application/vnd.google.colaboratory.intrinsic+json": {
              "type": "string"
            }
          },
          "metadata": {},
          "execution_count": 8
        }
      ]
    },
    {
      "cell_type": "code",
      "source": [
        "nested_tup = (4, 5, 6), (7, 8)\n",
        "nested_tup"
      ],
      "metadata": {
        "colab": {
          "base_uri": "https://localhost:8080/"
        },
        "id": "VSxQ7obHRbNX",
        "outputId": "d9dab5cd-11a7-4614-a483-6e85d4fa48ad"
      },
      "execution_count": 9,
      "outputs": [
        {
          "output_type": "execute_result",
          "data": {
            "text/plain": [
              "((4, 5, 6), (7, 8))"
            ]
          },
          "metadata": {},
          "execution_count": 9
        }
      ]
    },
    {
      "cell_type": "code",
      "source": [
        "print(nested_tup[0])\n",
        "print(nested_tup[1])"
      ],
      "metadata": {
        "colab": {
          "base_uri": "https://localhost:8080/"
        },
        "id": "u9wk3lkpRf6z",
        "outputId": "b43b0017-f0ee-40fc-a1fb-0fa2e1c11b9e"
      },
      "execution_count": 11,
      "outputs": [
        {
          "output_type": "stream",
          "name": "stdout",
          "text": [
            "(4, 5, 6)\n",
            "(7, 8)\n"
          ]
        }
      ]
    },
    {
      "cell_type": "code",
      "source": [
        "tup = tuple(['foo', [1, 2], True])\n",
        "tup[2] = False"
      ],
      "metadata": {
        "colab": {
          "base_uri": "https://localhost:8080/",
          "height": 165
        },
        "id": "sLmCuPAwRpSp",
        "outputId": "9855e142-260b-41de-eafa-394c8fd42d9b"
      },
      "execution_count": 16,
      "outputs": [
        {
          "output_type": "error",
          "ename": "TypeError",
          "evalue": "'tuple' object does not support item assignment",
          "traceback": [
            "\u001b[0;31m---------------------------------------------------------------------------\u001b[0m",
            "\u001b[0;31mTypeError\u001b[0m                                 Traceback (most recent call last)",
            "\u001b[0;32m/tmp/ipython-input-211141333.py\u001b[0m in \u001b[0;36m<cell line: 0>\u001b[0;34m()\u001b[0m\n\u001b[1;32m      1\u001b[0m \u001b[0mtup\u001b[0m \u001b[0;34m=\u001b[0m \u001b[0mtuple\u001b[0m\u001b[0;34m(\u001b[0m\u001b[0;34m[\u001b[0m\u001b[0;34m'foo'\u001b[0m\u001b[0;34m,\u001b[0m \u001b[0;34m[\u001b[0m\u001b[0;36m1\u001b[0m\u001b[0;34m,\u001b[0m \u001b[0;36m2\u001b[0m\u001b[0;34m]\u001b[0m\u001b[0;34m,\u001b[0m \u001b[0;32mTrue\u001b[0m\u001b[0;34m]\u001b[0m\u001b[0;34m)\u001b[0m\u001b[0;34m\u001b[0m\u001b[0;34m\u001b[0m\u001b[0m\n\u001b[0;32m----> 2\u001b[0;31m \u001b[0mtup\u001b[0m\u001b[0;34m[\u001b[0m\u001b[0;36m2\u001b[0m\u001b[0;34m]\u001b[0m \u001b[0;34m=\u001b[0m \u001b[0;32mFalse\u001b[0m\u001b[0;34m\u001b[0m\u001b[0;34m\u001b[0m\u001b[0m\n\u001b[0m",
            "\u001b[0;31mTypeError\u001b[0m: 'tuple' object does not support item assignment"
          ]
        }
      ]
    },
    {
      "cell_type": "code",
      "source": [
        "tup[1].append(3)\n",
        "tup"
      ],
      "metadata": {
        "colab": {
          "base_uri": "https://localhost:8080/"
        },
        "id": "MbY733pPR0tH",
        "outputId": "cd40f0a1-d6c4-4f0e-8e5c-5b4835234586"
      },
      "execution_count": 17,
      "outputs": [
        {
          "output_type": "execute_result",
          "data": {
            "text/plain": [
              "('foo', [1, 2, 3], True)"
            ]
          },
          "metadata": {},
          "execution_count": 17
        }
      ]
    },
    {
      "cell_type": "code",
      "source": [
        "(4, None, 'foo') + (6, 0) + ('bar',)"
      ],
      "metadata": {
        "colab": {
          "base_uri": "https://localhost:8080/"
        },
        "id": "48bW4PFISNl4",
        "outputId": "850a9b17-2ff2-4046-fd00-4cc9db5f7ed8"
      },
      "execution_count": 18,
      "outputs": [
        {
          "output_type": "execute_result",
          "data": {
            "text/plain": [
              "(4, None, 'foo', 6, 0, 'bar')"
            ]
          },
          "metadata": {},
          "execution_count": 18
        }
      ]
    },
    {
      "cell_type": "code",
      "source": [
        "('foo', 'bar') * 4"
      ],
      "metadata": {
        "colab": {
          "base_uri": "https://localhost:8080/"
        },
        "id": "ahT_WFfFSRSy",
        "outputId": "8f769158-dcc5-44cc-87b3-090cb6e6c780"
      },
      "execution_count": 19,
      "outputs": [
        {
          "output_type": "execute_result",
          "data": {
            "text/plain": [
              "('foo', 'bar', 'foo', 'bar', 'foo', 'bar', 'foo', 'bar')"
            ]
          },
          "metadata": {},
          "execution_count": 19
        }
      ]
    },
    {
      "cell_type": "markdown",
      "source": [
        "#### Unpacking tuples\n",
        "If you try to assign to a tuple-like expression of variables, Python will attempt to\n",
        "unpack the value on the righthand side of the equals sign:"
      ],
      "metadata": {
        "id": "rwZ_OgybSTcS"
      }
    },
    {
      "cell_type": "code",
      "source": [
        "tup = (4, 5, 6)\n",
        "a, b, c = tup\n",
        "c"
      ],
      "metadata": {
        "colab": {
          "base_uri": "https://localhost:8080/"
        },
        "id": "LOkfn6-8SRnR",
        "outputId": "655aee14-3355-44cc-8cb6-554731410476"
      },
      "execution_count": 21,
      "outputs": [
        {
          "output_type": "execute_result",
          "data": {
            "text/plain": [
              "6"
            ]
          },
          "metadata": {},
          "execution_count": 21
        }
      ]
    },
    {
      "cell_type": "code",
      "source": [
        "tup = 4, 5, (6, 7)\n",
        "a, b, (c, d) = tup\n",
        "d"
      ],
      "metadata": {
        "colab": {
          "base_uri": "https://localhost:8080/"
        },
        "id": "ucCPhIobSiFL",
        "outputId": "2037287a-4952-445d-a789-7259616b42d4"
      },
      "execution_count": 22,
      "outputs": [
        {
          "output_type": "execute_result",
          "data": {
            "text/plain": [
              "7"
            ]
          },
          "metadata": {},
          "execution_count": 22
        }
      ]
    },
    {
      "cell_type": "code",
      "source": [
        "a, b = 1, 2\n",
        "print(\"Before: a = \", a)\n",
        "print(\"Before: b = \", b)\n",
        "#swap\n",
        "b, a = a, b\n",
        "print(\"After: a = \", a)\n",
        "print(\"After: b = \", b)"
      ],
      "metadata": {
        "colab": {
          "base_uri": "https://localhost:8080/"
        },
        "id": "TFrV_wOaSlo3",
        "outputId": "d0fa1331-cdab-46da-f23f-d900153144cd"
      },
      "execution_count": 24,
      "outputs": [
        {
          "output_type": "stream",
          "name": "stdout",
          "text": [
            "Before: a =  1\n",
            "Before: b =  2\n",
            "After: a =  2\n",
            "After: b =  1\n"
          ]
        }
      ]
    },
    {
      "cell_type": "code",
      "source": [
        "seq = [(1, 2, 3), (4, 5, 6), (7, 8, 9)]\n",
        "for a, b, c in seq:\n",
        "  print(f\"a={a}, b={b}, c={c}\")\n",
        "#"
      ],
      "metadata": {
        "colab": {
          "base_uri": "https://localhost:8080/"
        },
        "id": "YLIF6tlgZkBU",
        "outputId": "5afaaa3e-9350-404a-c3a5-4a9dad2847a0"
      },
      "execution_count": 25,
      "outputs": [
        {
          "output_type": "stream",
          "name": "stdout",
          "text": [
            "a=1, b=2, c=3\n",
            "a=4, b=5, c=6\n",
            "a=7, b=8, c=9\n"
          ]
        }
      ]
    },
    {
      "cell_type": "code",
      "source": [
        "values = 1, 2, 3, 4, 5\n",
        "a, b, *rest = values\n",
        "print(a, b)\n",
        "print(rest)"
      ],
      "metadata": {
        "colab": {
          "base_uri": "https://localhost:8080/"
        },
        "id": "AHOgxTFRaRD1",
        "outputId": "a98efd99-9e6b-4b5d-f69e-df3fcf4f9183"
      },
      "execution_count": 26,
      "outputs": [
        {
          "output_type": "stream",
          "name": "stdout",
          "text": [
            "1 2\n",
            "[3, 4, 5]\n"
          ]
        }
      ]
    },
    {
      "cell_type": "code",
      "source": [
        "a, b, *_ = values\n",
        "_"
      ],
      "metadata": {
        "colab": {
          "base_uri": "https://localhost:8080/"
        },
        "id": "5fiI43TsaaGo",
        "outputId": "e6d4111f-cfc5-4327-8b8c-25fd66a43a00"
      },
      "execution_count": 29,
      "outputs": [
        {
          "output_type": "execute_result",
          "data": {
            "text/plain": [
              "[3, 4, 5]"
            ]
          },
          "metadata": {},
          "execution_count": 29
        }
      ]
    },
    {
      "cell_type": "markdown",
      "source": [
        "#### Tuple methods\n",
        "Since the size and contents of a tuple cannot be modified, it is very light on instance\n",
        "methods."
      ],
      "metadata": {
        "id": "pbSGbb6gamBT"
      }
    },
    {
      "cell_type": "code",
      "source": [
        "a = (1, 2, 2, 2, 3, 4, 2)\n",
        "a.count(2)"
      ],
      "metadata": {
        "colab": {
          "base_uri": "https://localhost:8080/"
        },
        "id": "Ipjpjw8RanuZ",
        "outputId": "02d37d07-c55a-4ca1-ad6d-0d95aa4623ae"
      },
      "execution_count": 30,
      "outputs": [
        {
          "output_type": "execute_result",
          "data": {
            "text/plain": [
              "4"
            ]
          },
          "metadata": {},
          "execution_count": 30
        }
      ]
    },
    {
      "cell_type": "markdown",
      "source": [
        "### List\n",
        "In contrast with tuples, lists are variable length and their contents can be modified in\n",
        "place. Lists are mutable. You can define them using square brackets [] or using the\n",
        "list type function:"
      ],
      "metadata": {
        "id": "nM6CXorIa0e9"
      }
    },
    {
      "cell_type": "code",
      "source": [
        "a_list = [2, 3, 7, None]\n",
        "tup = (\"foo\", \"bar\", \"baz\")\n",
        "b_list = list(tup)\n",
        "b_list"
      ],
      "metadata": {
        "colab": {
          "base_uri": "https://localhost:8080/"
        },
        "id": "If59daoIa5F8",
        "outputId": "513b5e26-31ed-47c0-fec6-64a074c5df84"
      },
      "execution_count": 40,
      "outputs": [
        {
          "output_type": "execute_result",
          "data": {
            "text/plain": [
              "['foo', 'bar', 'baz']"
            ]
          },
          "metadata": {},
          "execution_count": 40
        }
      ]
    },
    {
      "cell_type": "code",
      "source": [
        "b_list[1] = \"peekaboo\"\n",
        "b_list"
      ],
      "metadata": {
        "colab": {
          "base_uri": "https://localhost:8080/"
        },
        "id": "e2QR1n2IbNAT",
        "outputId": "6511fd8b-ce64-4bc2-841d-b9ed3cf72ace"
      },
      "execution_count": 41,
      "outputs": [
        {
          "output_type": "execute_result",
          "data": {
            "text/plain": [
              "['foo', 'peekaboo', 'baz']"
            ]
          },
          "metadata": {},
          "execution_count": 41
        }
      ]
    },
    {
      "cell_type": "code",
      "source": [
        "gen = range(10)\n",
        "print(gen)\n",
        "list(gen)"
      ],
      "metadata": {
        "colab": {
          "base_uri": "https://localhost:8080/"
        },
        "id": "YcUIX98UbUBL",
        "outputId": "6288937f-6e71-46a4-bf6a-7ebe20efd65c"
      },
      "execution_count": 42,
      "outputs": [
        {
          "output_type": "stream",
          "name": "stdout",
          "text": [
            "range(0, 10)\n"
          ]
        },
        {
          "output_type": "execute_result",
          "data": {
            "text/plain": [
              "[0, 1, 2, 3, 4, 5, 6, 7, 8, 9]"
            ]
          },
          "metadata": {},
          "execution_count": 42
        }
      ]
    },
    {
      "cell_type": "markdown",
      "source": [
        "#### Adding and removing elements"
      ],
      "metadata": {
        "id": "9aeR7vSwbeED"
      }
    },
    {
      "cell_type": "code",
      "source": [
        "b_list.append(\"dwarf\")\n",
        "b_list"
      ],
      "metadata": {
        "colab": {
          "base_uri": "https://localhost:8080/"
        },
        "id": "ye0oi2yDbdKQ",
        "outputId": "d66b64ad-0e3f-42d8-c4dd-6142c9753af9"
      },
      "execution_count": 43,
      "outputs": [
        {
          "output_type": "execute_result",
          "data": {
            "text/plain": [
              "['foo', 'peekaboo', 'baz', 'dwarf']"
            ]
          },
          "metadata": {},
          "execution_count": 43
        }
      ]
    },
    {
      "cell_type": "code",
      "source": [
        "b_list.insert(1, \"red\")\n",
        "b_list"
      ],
      "metadata": {
        "colab": {
          "base_uri": "https://localhost:8080/"
        },
        "id": "4kNxsC7vbmpP",
        "outputId": "ab33d8e4-cefe-4c6e-d622-4f266a320022"
      },
      "execution_count": 44,
      "outputs": [
        {
          "output_type": "execute_result",
          "data": {
            "text/plain": [
              "['foo', 'red', 'peekaboo', 'baz', 'dwarf']"
            ]
          },
          "metadata": {},
          "execution_count": 44
        }
      ]
    },
    {
      "cell_type": "code",
      "source": [
        "print(b_list.pop(2))\n",
        "b_list"
      ],
      "metadata": {
        "colab": {
          "base_uri": "https://localhost:8080/"
        },
        "id": "Yy81beyybrm4",
        "outputId": "cbd33016-79e8-4b12-e954-9fe92ce5ff04"
      },
      "execution_count": 45,
      "outputs": [
        {
          "output_type": "stream",
          "name": "stdout",
          "text": [
            "peekaboo\n"
          ]
        },
        {
          "output_type": "execute_result",
          "data": {
            "text/plain": [
              "['foo', 'red', 'baz', 'dwarf']"
            ]
          },
          "metadata": {},
          "execution_count": 45
        }
      ]
    },
    {
      "cell_type": "code",
      "source": [
        "b_list.append(\"foo\")\n",
        "b_list"
      ],
      "metadata": {
        "colab": {
          "base_uri": "https://localhost:8080/"
        },
        "id": "bC1Qo1mnbw0b",
        "outputId": "68aa2a75-60f8-46fd-b8ad-cb8d465bb6a2"
      },
      "execution_count": 46,
      "outputs": [
        {
          "output_type": "execute_result",
          "data": {
            "text/plain": [
              "['foo', 'red', 'baz', 'dwarf', 'foo']"
            ]
          },
          "metadata": {},
          "execution_count": 46
        }
      ]
    },
    {
      "cell_type": "code",
      "source": [
        "b_list.remove(\"foo\")\n",
        "b_list"
      ],
      "metadata": {
        "colab": {
          "base_uri": "https://localhost:8080/"
        },
        "id": "Ln6hFsLGcHLi",
        "outputId": "dae0462e-348f-4d02-8547-c82624af8ee4"
      },
      "execution_count": 47,
      "outputs": [
        {
          "output_type": "execute_result",
          "data": {
            "text/plain": [
              "['red', 'baz', 'dwarf', 'foo']"
            ]
          },
          "metadata": {},
          "execution_count": 47
        }
      ]
    },
    {
      "cell_type": "markdown",
      "source": [
        "Check if a list contains a value"
      ],
      "metadata": {
        "id": "6pjGEpxNcbdi"
      }
    },
    {
      "cell_type": "code",
      "source": [
        "\"dwarf\" in b_list"
      ],
      "metadata": {
        "colab": {
          "base_uri": "https://localhost:8080/"
        },
        "id": "f4VCDEVDcg9T",
        "outputId": "484da038-66f2-4369-acc0-fe232d7be02b"
      },
      "execution_count": 48,
      "outputs": [
        {
          "output_type": "execute_result",
          "data": {
            "text/plain": [
              "True"
            ]
          },
          "metadata": {},
          "execution_count": 48
        }
      ]
    },
    {
      "cell_type": "code",
      "source": [
        "\"dwarf\" not in b_list"
      ],
      "metadata": {
        "colab": {
          "base_uri": "https://localhost:8080/"
        },
        "id": "RuVAfKtVcnXt",
        "outputId": "d5b04239-8060-4bfe-a910-1f5fcc1c32ed"
      },
      "execution_count": 50,
      "outputs": [
        {
          "output_type": "execute_result",
          "data": {
            "text/plain": [
              "False"
            ]
          },
          "metadata": {},
          "execution_count": 50
        }
      ]
    },
    {
      "cell_type": "markdown",
      "source": [
        "#### Concatenating and combining lists"
      ],
      "metadata": {
        "id": "1oElqy1qcvUs"
      }
    },
    {
      "cell_type": "code",
      "source": [
        "#Similar to tuples, adding two lists together with + concatenates them:\n",
        "[4, None, \"foo\"] + [7, 8, (2, 3)]"
      ],
      "metadata": {
        "colab": {
          "base_uri": "https://localhost:8080/"
        },
        "id": "-530ui4OcrCU",
        "outputId": "7893a46b-c3f6-45b4-8dd6-df9ab5728a0c"
      },
      "execution_count": 51,
      "outputs": [
        {
          "output_type": "execute_result",
          "data": {
            "text/plain": [
              "[4, None, 'foo', 7, 8, (2, 3)]"
            ]
          },
          "metadata": {},
          "execution_count": 51
        }
      ]
    },
    {
      "cell_type": "code",
      "source": [
        "#If you have a list already defined, you can append multiple elements to it using theextend method:\n",
        "x = [4, None, \"foo\"]\n",
        "x.extend([7, 8, (2, 3)])\n",
        "x"
      ],
      "metadata": {
        "colab": {
          "base_uri": "https://localhost:8080/"
        },
        "id": "BrRG4jnUdHNu",
        "outputId": "2d221d21-4334-4db2-dc66-e513905daf9e"
      },
      "execution_count": 52,
      "outputs": [
        {
          "output_type": "execute_result",
          "data": {
            "text/plain": [
              "[4, None, 'foo', 7, 8, (2, 3)]"
            ]
          },
          "metadata": {},
          "execution_count": 52
        }
      ]
    },
    {
      "cell_type": "markdown",
      "source": [
        "#### Sort\n",
        "You can sort a list in place (without creating a new object) by calling its sort\n",
        "function:\n"
      ],
      "metadata": {
        "id": "niqNc9DgdfnY"
      }
    },
    {
      "cell_type": "code",
      "source": [
        "a = [7, 2, 5, 1, 3]\n",
        "a.sort()\n",
        "a"
      ],
      "metadata": {
        "colab": {
          "base_uri": "https://localhost:8080/"
        },
        "id": "8b3oRHHPdi92",
        "outputId": "113b523f-5ab9-4b7e-b645-7b368d874894"
      },
      "execution_count": 53,
      "outputs": [
        {
          "output_type": "execute_result",
          "data": {
            "text/plain": [
              "[1, 2, 3, 5, 7]"
            ]
          },
          "metadata": {},
          "execution_count": 53
        }
      ]
    },
    {
      "cell_type": "code",
      "source": [
        "b = [\"saw\", \"small\", \"He\", \"foxes\", \"six\"]\n",
        "b.sort(key=len)\n",
        "b"
      ],
      "metadata": {
        "colab": {
          "base_uri": "https://localhost:8080/"
        },
        "id": "5xCDEptOdso_",
        "outputId": "51968adc-7f61-4c87-a3f9-7c45d689bed8"
      },
      "execution_count": 56,
      "outputs": [
        {
          "output_type": "execute_result",
          "data": {
            "text/plain": [
              "['He', 'saw', 'six', 'small', 'foxes']"
            ]
          },
          "metadata": {},
          "execution_count": 56
        }
      ]
    },
    {
      "cell_type": "markdown",
      "source": [
        "#### Slicing\n",
        "You can select sections of most sequence types by using slice notation, which in its\n",
        "basic form consists of start:stop passed to the indexing operator []:"
      ],
      "metadata": {
        "id": "apzUAwO2d9E6"
      }
    },
    {
      "cell_type": "code",
      "source": [
        "seq = [7, 2, 3, 7, 5, 6, 0, 1]\n",
        "seq[2:6]"
      ],
      "metadata": {
        "colab": {
          "base_uri": "https://localhost:8080/"
        },
        "id": "eLxxjzKfeAAg",
        "outputId": "d7a324ed-ec9e-4395-a782-555f10569e22"
      },
      "execution_count": 58,
      "outputs": [
        {
          "output_type": "execute_result",
          "data": {
            "text/plain": [
              "[3, 7, 5, 6]"
            ]
          },
          "metadata": {},
          "execution_count": 58
        }
      ]
    },
    {
      "cell_type": "code",
      "source": [
        "seq[3:5] = [7,1]\n",
        "seq"
      ],
      "metadata": {
        "colab": {
          "base_uri": "https://localhost:8080/"
        },
        "id": "B4hwycGfeDiS",
        "outputId": "9b30c4ad-8943-4f84-d630-9e6f6c3e6c45"
      },
      "execution_count": 60,
      "outputs": [
        {
          "output_type": "execute_result",
          "data": {
            "text/plain": [
              "[7, 2, 3, 7, 1, 6, 0, 1]"
            ]
          },
          "metadata": {},
          "execution_count": 60
        }
      ]
    },
    {
      "cell_type": "code",
      "source": [
        "print(seq[:3])\n",
        "print(seq[-4:])\n",
        "print(seq[-6:-2])"
      ],
      "metadata": {
        "colab": {
          "base_uri": "https://localhost:8080/"
        },
        "id": "dfNydtlVeQQm",
        "outputId": "484e9a9e-78db-4d1e-dc83-26a0128934a1"
      },
      "execution_count": 62,
      "outputs": [
        {
          "output_type": "stream",
          "name": "stdout",
          "text": [
            "[7, 2, 3]\n",
            "[1, 6, 0, 1]\n",
            "[3, 7, 1, 6]\n"
          ]
        }
      ]
    },
    {
      "cell_type": "code",
      "source": [
        "#A step can also be used after a second colon to, say, take every other element:\n",
        "print(seq[::3])\n",
        "#A clever use of this is to pass -1, which has the useful effect of reversing a list or tuple:\n",
        "seq[::-1]"
      ],
      "metadata": {
        "colab": {
          "base_uri": "https://localhost:8080/"
        },
        "id": "MORc8zWmflbT",
        "outputId": "ed907d86-c597-4511-f6be-843122021a90"
      },
      "execution_count": 65,
      "outputs": [
        {
          "output_type": "stream",
          "name": "stdout",
          "text": [
            "[7, 7, 0]\n"
          ]
        },
        {
          "output_type": "execute_result",
          "data": {
            "text/plain": [
              "[1, 0, 6, 1, 7, 3, 2, 7]"
            ]
          },
          "metadata": {},
          "execution_count": 65
        }
      ]
    },
    {
      "cell_type": "markdown",
      "source": [
        "### Dictionary\n",
        "The dictionary or dict may be the most important built-in Python data structure.\n",
        "In other programming languages, dictionaries are sometimes called hash maps or\n",
        "associative arrays. A dictionary stores a collection of key-value pairs, where key and\n",
        "value are Python objects. Each key is associated with a value so that a value can\n",
        "be conveniently retrieved, inserted, modified, or deleted given a particular key. One\n",
        "approach for creating a dictionary is to use curly braces {} and colons to separate\n",
        "keys and values:"
      ],
      "metadata": {
        "id": "c2jwu9a3gX9f"
      }
    },
    {
      "cell_type": "code",
      "source": [
        "empty_dict = {}\n",
        "d1 = {\"a\": \"some value\", \"b\": [1, 2, 3, 4]}\n",
        "d1"
      ],
      "metadata": {
        "colab": {
          "base_uri": "https://localhost:8080/"
        },
        "id": "oAqJwvaEgSsH",
        "outputId": "e0452dcb-9424-4f58-c4f7-855cee39f5c6"
      },
      "execution_count": 67,
      "outputs": [
        {
          "output_type": "execute_result",
          "data": {
            "text/plain": [
              "{'a': 'some value', 'b': [1, 2, 3, 4]}"
            ]
          },
          "metadata": {},
          "execution_count": 67
        }
      ]
    },
    {
      "cell_type": "code",
      "source": [
        "#You can access, insert, or set elements using the same syntax\n",
        "d1[7] = \"an integer\"\n",
        "print(d1)\n",
        "d1[\"b\"]"
      ],
      "metadata": {
        "colab": {
          "base_uri": "https://localhost:8080/"
        },
        "id": "aRj5OR9XgVoi",
        "outputId": "ac614a1f-852c-410d-eff3-fa9faac2259c"
      },
      "execution_count": 68,
      "outputs": [
        {
          "output_type": "stream",
          "name": "stdout",
          "text": [
            "{'a': 'some value', 'b': [1, 2, 3, 4], 7: 'an integer'}\n"
          ]
        },
        {
          "output_type": "execute_result",
          "data": {
            "text/plain": [
              "[1, 2, 3, 4]"
            ]
          },
          "metadata": {},
          "execution_count": 68
        }
      ]
    },
    {
      "cell_type": "code",
      "source": [
        "#You can check if a dictionary contains a key using the same syntax\n",
        "\"b\" in d1"
      ],
      "metadata": {
        "colab": {
          "base_uri": "https://localhost:8080/"
        },
        "id": "Vw_aRfnFhGBk",
        "outputId": "d2e1ec9f-cfbc-4e5f-f517-ead2c0813a54"
      },
      "execution_count": 69,
      "outputs": [
        {
          "output_type": "execute_result",
          "data": {
            "text/plain": [
              "True"
            ]
          },
          "metadata": {},
          "execution_count": 69
        }
      ]
    },
    {
      "cell_type": "code",
      "source": [
        "d1[5] = \"some value\"\n",
        "d1"
      ],
      "metadata": {
        "colab": {
          "base_uri": "https://localhost:8080/"
        },
        "id": "IusgTNCVhKy4",
        "outputId": "34e8451a-ecea-4d67-d5a5-2f70804ff26c"
      },
      "execution_count": 71,
      "outputs": [
        {
          "output_type": "execute_result",
          "data": {
            "text/plain": [
              "{'a': 'some value', 'b': [1, 2, 3, 4], 7: 'an integer', 5: 'some value'}"
            ]
          },
          "metadata": {},
          "execution_count": 71
        }
      ]
    },
    {
      "cell_type": "code",
      "source": [
        "d1[\"dummy\"] = \"another value\"\n",
        "d1"
      ],
      "metadata": {
        "colab": {
          "base_uri": "https://localhost:8080/"
        },
        "id": "KzFQQimmhNwD",
        "outputId": "dddda690-a670-42f0-9621-e1aabb551e00"
      },
      "execution_count": 72,
      "outputs": [
        {
          "output_type": "execute_result",
          "data": {
            "text/plain": [
              "{'a': 'some value',\n",
              " 'b': [1, 2, 3, 4],\n",
              " 7: 'an integer',\n",
              " 5: 'some value',\n",
              " 'dummy': 'another value'}"
            ]
          },
          "metadata": {},
          "execution_count": 72
        }
      ]
    },
    {
      "cell_type": "code",
      "source": [
        "#You can delete values using either the del keyword or the pop method\n",
        "del d1[5]\n",
        "print(d1)\n",
        "ret = d1.pop(\"dummy\")\n",
        "print(ret)\n",
        "d1"
      ],
      "metadata": {
        "colab": {
          "base_uri": "https://localhost:8080/"
        },
        "id": "fH7YPPfThTxZ",
        "outputId": "6cd0acec-66be-4037-8a32-e0d8d71dfa3f"
      },
      "execution_count": 73,
      "outputs": [
        {
          "output_type": "stream",
          "name": "stdout",
          "text": [
            "{'a': 'some value', 'b': [1, 2, 3, 4], 7: 'an integer', 'dummy': 'another value'}\n",
            "another value\n"
          ]
        },
        {
          "output_type": "execute_result",
          "data": {
            "text/plain": [
              "{'a': 'some value', 'b': [1, 2, 3, 4], 7: 'an integer'}"
            ]
          },
          "metadata": {},
          "execution_count": 73
        }
      ]
    },
    {
      "cell_type": "code",
      "source": [
        "print(\"Keys of dictionary d1: \", list(d1.keys()))\n",
        "print(\"Values of dictionary d1: \", list(d1.values()))"
      ],
      "metadata": {
        "colab": {
          "base_uri": "https://localhost:8080/"
        },
        "id": "j10tZrL7h9us",
        "outputId": "542e2dc6-480f-4c77-8cb8-d2c1888c3dcc"
      },
      "execution_count": 76,
      "outputs": [
        {
          "output_type": "stream",
          "name": "stdout",
          "text": [
            "Keys of dictionary d1:  ['a', 'b', 7]\n",
            "Values of dictionary d1:  ['some value', [1, 2, 3, 4], 'an integer']\n"
          ]
        }
      ]
    },
    {
      "cell_type": "code",
      "source": [
        "#If you need to iterate over both the keys and values, you can use the items method to\n",
        "#iterate over the keys and values as 2-tuples:\n",
        "list(d1.items())"
      ],
      "metadata": {
        "colab": {
          "base_uri": "https://localhost:8080/"
        },
        "id": "rQWPlWmXiAR3",
        "outputId": "ad403ddc-f9ce-48d4-f268-3660e898ffcb"
      },
      "execution_count": 77,
      "outputs": [
        {
          "output_type": "execute_result",
          "data": {
            "text/plain": [
              "[('a', 'some value'), ('b', [1, 2, 3, 4]), (7, 'an integer')]"
            ]
          },
          "metadata": {},
          "execution_count": 77
        }
      ]
    },
    {
      "cell_type": "code",
      "source": [
        "# You can merge one dictionary into another using the update method:\n",
        "d1.update({\"b\": \"foo\", \"c\": 12})\n",
        "d1"
      ],
      "metadata": {
        "colab": {
          "base_uri": "https://localhost:8080/"
        },
        "id": "-Y3KuBfyif1r",
        "outputId": "9fb8cbb2-ae68-4660-b1a3-eee46d7194f9"
      },
      "execution_count": 78,
      "outputs": [
        {
          "output_type": "execute_result",
          "data": {
            "text/plain": [
              "{'a': 'some value', 'b': 'foo', 7: 'an integer', 'c': 12}"
            ]
          },
          "metadata": {},
          "execution_count": 78
        }
      ]
    },
    {
      "cell_type": "markdown",
      "source": [
        "#### Creating dictionaries from sequences"
      ],
      "metadata": {
        "id": "8dZRRPw9i6ID"
      }
    },
    {
      "cell_type": "code",
      "source": [
        "#Code that you want to pair up element-wise in a dictionary.\n",
        "mapping = {}\n",
        "for key, value in zip(key_list, value_list):\n",
        "  mapping[key] = value"
      ],
      "metadata": {
        "id": "eQ4VR23gi5Kl"
      },
      "execution_count": 81,
      "outputs": []
    },
    {
      "cell_type": "code",
      "source": [
        "tuples = zip(range(5), reversed(range(5)))\n",
        "tuples"
      ],
      "metadata": {
        "colab": {
          "base_uri": "https://localhost:8080/"
        },
        "id": "E_TlzvggjTvp",
        "outputId": "03b8c24d-1340-4f15-e6e1-626aceb76d46"
      },
      "execution_count": 80,
      "outputs": [
        {
          "output_type": "execute_result",
          "data": {
            "text/plain": [
              "<zip at 0x7fc03dc40080>"
            ]
          },
          "metadata": {},
          "execution_count": 80
        }
      ]
    },
    {
      "cell_type": "code",
      "source": [
        "mapping = dict(tuples)\n",
        "mapping"
      ],
      "metadata": {
        "colab": {
          "base_uri": "https://localhost:8080/"
        },
        "id": "JSi4IO7gjbT9",
        "outputId": "909aab91-0e35-405b-d7bb-c9a0996a7237"
      },
      "execution_count": 81,
      "outputs": [
        {
          "output_type": "execute_result",
          "data": {
            "text/plain": [
              "{0: 4, 1: 3, 2: 2, 3: 1, 4: 0}"
            ]
          },
          "metadata": {},
          "execution_count": 81
        }
      ]
    },
    {
      "cell_type": "markdown",
      "source": [
        "#### Default values"
      ],
      "metadata": {
        "id": "e6PFWMNPj46k"
      }
    },
    {
      "cell_type": "code",
      "source": [
        "#It’s common to have logic like:\n",
        "if key in some_dict:\n",
        "  value = some_dict[key]\n",
        "else:\n",
        "  value = default_value\n",
        "#Thus, the dictionary methods get and pop can take a default value to be returned,\n",
        "value = some_dict.get(key, default_value)"
      ],
      "metadata": {
        "id": "1V6M-2Haj6th"
      },
      "execution_count": null,
      "outputs": []
    },
    {
      "cell_type": "code",
      "source": [
        "#You could imagine categorizing a list of\n",
        "#words by their first letters as a dictionary of lists:\n",
        "words = [\"apple\", \"bat\", \"bar\", \"atom\", \"book\"]\n",
        "by_letter = {}\n",
        "for word in words:\n",
        "  letter = word[0]\n",
        "  if letter not in by_letter:\n",
        "    by_letter[letter] = [word]\n",
        "  else:\n",
        "    by_letter[letter].append(word)\n",
        "\n",
        "by_letter"
      ],
      "metadata": {
        "colab": {
          "base_uri": "https://localhost:8080/"
        },
        "id": "ePJUEdywkJh8",
        "outputId": "15f7ebd5-85c1-4771-f6f7-8c86d3ccaf1e"
      },
      "execution_count": 82,
      "outputs": [
        {
          "output_type": "execute_result",
          "data": {
            "text/plain": [
              "{'a': ['apple', 'atom'], 'b': ['bat', 'bar', 'book']}"
            ]
          },
          "metadata": {},
          "execution_count": 82
        }
      ]
    },
    {
      "cell_type": "code",
      "source": [
        "#The setdefault dictionary method can be used to simplify this workflow.\n",
        "by_letter = {}\n",
        "for word in words:\n",
        "  letter = word[0]\n",
        "  by_letter.setdefault(letter, []).append(word)\n",
        "by_letter"
      ],
      "metadata": {
        "colab": {
          "base_uri": "https://localhost:8080/"
        },
        "id": "WWBcRyLDkrxn",
        "outputId": "d0c56c6f-3bb4-4fa0-ab49-046876fab42c"
      },
      "execution_count": 84,
      "outputs": [
        {
          "output_type": "execute_result",
          "data": {
            "text/plain": [
              "{'a': ['apple', 'atom'], 'b': ['bat', 'bar', 'book']}"
            ]
          },
          "metadata": {},
          "execution_count": 84
        }
      ]
    },
    {
      "cell_type": "code",
      "source": [
        "#The built-in collections module has a useful class, defaultdict,\n",
        "from collections import defaultdict\n",
        "by_letter = defaultdict(list)\n",
        "for word in words:\n",
        "  by_letter[word[0]].append(word)\n",
        "by_letter"
      ],
      "metadata": {
        "colab": {
          "base_uri": "https://localhost:8080/"
        },
        "id": "sMUYGwguk92g",
        "outputId": "77886ba7-b78a-4dd1-9cd9-057dbef6804d"
      },
      "execution_count": 85,
      "outputs": [
        {
          "output_type": "execute_result",
          "data": {
            "text/plain": [
              "defaultdict(list, {'a': ['apple', 'atom'], 'b': ['bat', 'bar', 'book']})"
            ]
          },
          "metadata": {},
          "execution_count": 85
        }
      ]
    },
    {
      "cell_type": "markdown",
      "source": [
        "#### Valid dictionary key types\n",
        "While the values of a dictionary can be any Python object, the keys generally have to\n",
        "be immutable objects like scalar types (int, float, string) or tuples (all the objects in\n",
        "the tuple need to be immutable, too). The technical term here is hashability. You can\n",
        "check whether an object is hashable (can be used as a key in a dictionary) with the\n",
        "hash function:"
      ],
      "metadata": {
        "id": "jBaqAg1FlnBA"
      }
    },
    {
      "cell_type": "code",
      "source": [
        "print(hash(\"string\"))\n",
        "print(hash((1, 2, (2, 3))))\n",
        "print(hash((1, 2, [2, 3])))"
      ],
      "metadata": {
        "colab": {
          "base_uri": "https://localhost:8080/",
          "height": 220
        },
        "id": "fYLk7zeYlulk",
        "outputId": "02116bb0-93a0-427a-9c45-209bb9566aa7"
      },
      "execution_count": 86,
      "outputs": [
        {
          "output_type": "stream",
          "name": "stdout",
          "text": [
            "7018702852872777500\n",
            "-9209053662355515447\n"
          ]
        },
        {
          "output_type": "error",
          "ename": "TypeError",
          "evalue": "unhashable type: 'list'",
          "traceback": [
            "\u001b[0;31m---------------------------------------------------------------------------\u001b[0m",
            "\u001b[0;31mTypeError\u001b[0m                                 Traceback (most recent call last)",
            "\u001b[0;32m/tmp/ipython-input-899347595.py\u001b[0m in \u001b[0;36m<cell line: 0>\u001b[0;34m()\u001b[0m\n\u001b[1;32m      1\u001b[0m \u001b[0mprint\u001b[0m\u001b[0;34m(\u001b[0m\u001b[0mhash\u001b[0m\u001b[0;34m(\u001b[0m\u001b[0;34m\"string\"\u001b[0m\u001b[0;34m)\u001b[0m\u001b[0;34m)\u001b[0m\u001b[0;34m\u001b[0m\u001b[0;34m\u001b[0m\u001b[0m\n\u001b[1;32m      2\u001b[0m \u001b[0mprint\u001b[0m\u001b[0;34m(\u001b[0m\u001b[0mhash\u001b[0m\u001b[0;34m(\u001b[0m\u001b[0;34m(\u001b[0m\u001b[0;36m1\u001b[0m\u001b[0;34m,\u001b[0m \u001b[0;36m2\u001b[0m\u001b[0;34m,\u001b[0m \u001b[0;34m(\u001b[0m\u001b[0;36m2\u001b[0m\u001b[0;34m,\u001b[0m \u001b[0;36m3\u001b[0m\u001b[0;34m)\u001b[0m\u001b[0;34m)\u001b[0m\u001b[0;34m)\u001b[0m\u001b[0;34m)\u001b[0m\u001b[0;34m\u001b[0m\u001b[0;34m\u001b[0m\u001b[0m\n\u001b[0;32m----> 3\u001b[0;31m \u001b[0mprint\u001b[0m\u001b[0;34m(\u001b[0m\u001b[0mhash\u001b[0m\u001b[0;34m(\u001b[0m\u001b[0;34m(\u001b[0m\u001b[0;36m1\u001b[0m\u001b[0;34m,\u001b[0m \u001b[0;36m2\u001b[0m\u001b[0;34m,\u001b[0m \u001b[0;34m[\u001b[0m\u001b[0;36m2\u001b[0m\u001b[0;34m,\u001b[0m \u001b[0;36m3\u001b[0m\u001b[0;34m]\u001b[0m\u001b[0;34m)\u001b[0m\u001b[0;34m)\u001b[0m\u001b[0;34m)\u001b[0m\u001b[0;34m\u001b[0m\u001b[0;34m\u001b[0m\u001b[0m\n\u001b[0m",
            "\u001b[0;31mTypeError\u001b[0m: unhashable type: 'list'"
          ]
        }
      ]
    },
    {
      "cell_type": "code",
      "source": [
        "#To use a list as a key, one option is to convert it to a tuple, which can be hashed as\n",
        "#long as its elements also can be:\n",
        "d = {}\n",
        "d[tuple([1, 2, 3])] = 5\n",
        "d"
      ],
      "metadata": {
        "colab": {
          "base_uri": "https://localhost:8080/"
        },
        "id": "_yp5xSX7l7Qt",
        "outputId": "73bc38da-c9cb-4a6c-976d-37a4d208bace"
      },
      "execution_count": 87,
      "outputs": [
        {
          "output_type": "execute_result",
          "data": {
            "text/plain": [
              "{(1, 2, 3): 5}"
            ]
          },
          "metadata": {},
          "execution_count": 87
        }
      ]
    },
    {
      "cell_type": "markdown",
      "source": [
        "### Set\n",
        "A set is an unordered collection of unique elements."
      ],
      "metadata": {
        "id": "P1JjqEsPmHe4"
      }
    },
    {
      "cell_type": "code",
      "source": [
        "print(set([2, 2, 2, 1, 3, 3]))\n",
        "{2, 2, 2, 1, 3, 3}"
      ],
      "metadata": {
        "colab": {
          "base_uri": "https://localhost:8080/"
        },
        "id": "BNBLeMMMmIRn",
        "outputId": "e7c7b62a-1be8-408a-a131-597ae8a97574"
      },
      "execution_count": 88,
      "outputs": [
        {
          "output_type": "stream",
          "name": "stdout",
          "text": [
            "{1, 2, 3}\n"
          ]
        },
        {
          "output_type": "execute_result",
          "data": {
            "text/plain": [
              "{1, 2, 3}"
            ]
          },
          "metadata": {},
          "execution_count": 88
        }
      ]
    },
    {
      "cell_type": "code",
      "source": [
        "#Sets support mathematical set operations like union, intersection, difference, and symmetric difference.\n",
        "a = {1, 2, 3, 4, 5}\n",
        "b = {3, 4, 5, 6, 7, 8}\n",
        "#union\n",
        "print(a.union(b))\n",
        "print(a | b)\n",
        "#intersection\n",
        "print(a.intersection(b))\n",
        "print(a & b)"
      ],
      "metadata": {
        "colab": {
          "base_uri": "https://localhost:8080/"
        },
        "id": "X4PFtM3ymg-H",
        "outputId": "c42aa583-6ddf-489a-f93b-a0136245afed"
      },
      "execution_count": 90,
      "outputs": [
        {
          "output_type": "stream",
          "name": "stdout",
          "text": [
            "{1, 2, 3, 4, 5, 6, 7, 8}\n",
            "{1, 2, 3, 4, 5, 6, 7, 8}\n",
            "{3, 4, 5}\n",
            "{3, 4, 5}\n"
          ]
        }
      ]
    },
    {
      "cell_type": "code",
      "source": [
        "# For very large sets, this may be more efficient:\n",
        "c = a.copy()\n",
        "c |= b\n",
        "print(c)\n",
        "d = a.copy()\n",
        "d &= b\n",
        "print(d)"
      ],
      "metadata": {
        "colab": {
          "base_uri": "https://localhost:8080/"
        },
        "id": "iOfbE6MLmr38",
        "outputId": "9326b33d-87b0-4efb-d2bf-6f889b151031"
      },
      "execution_count": 92,
      "outputs": [
        {
          "output_type": "stream",
          "name": "stdout",
          "text": [
            "{1, 2, 3, 4, 5, 6, 7, 8}\n",
            "{3, 4, 5}\n"
          ]
        }
      ]
    },
    {
      "cell_type": "code",
      "source": [
        "#Like dictionary keys, set elements generally must be immutable, and they must be\n",
        "# hashable. In order to store list-like elements (or other mutable sequences) in a set, you can convert\n",
        "# them to tuples:\n",
        "my_data = [1, 2, 3, 4]\n",
        "my_set = {tuple(my_data)}\n",
        "my_set"
      ],
      "metadata": {
        "colab": {
          "base_uri": "https://localhost:8080/"
        },
        "id": "Id_MApkzoTcj",
        "outputId": "76bf658d-7c73-4dfd-96dc-30b91044fe0d"
      },
      "execution_count": 93,
      "outputs": [
        {
          "output_type": "execute_result",
          "data": {
            "text/plain": [
              "{(1, 2, 3, 4)}"
            ]
          },
          "metadata": {},
          "execution_count": 93
        }
      ]
    },
    {
      "cell_type": "code",
      "source": [
        "# also check if a set is a subset of (is contained in) or a superset of (contains all\n",
        "# elements of) another set:\n",
        "a_set = {1, 2, 3, 4, 5}\n",
        "print({1, 2, 3}.issubset(a_set))\n",
        "a_set.issuperset({1, 2, 3})"
      ],
      "metadata": {
        "colab": {
          "base_uri": "https://localhost:8080/"
        },
        "id": "Vj88oHOEouv9",
        "outputId": "0cd74a86-8060-446a-8085-471ca9ef7467"
      },
      "execution_count": 94,
      "outputs": [
        {
          "output_type": "stream",
          "name": "stdout",
          "text": [
            "True\n"
          ]
        },
        {
          "output_type": "execute_result",
          "data": {
            "text/plain": [
              "True"
            ]
          },
          "metadata": {},
          "execution_count": 94
        }
      ]
    },
    {
      "cell_type": "code",
      "source": [
        "# Sets are equal if and only if their contents are equal:\n",
        "{1, 3, 2} == {2, 1, 3}"
      ],
      "metadata": {
        "colab": {
          "base_uri": "https://localhost:8080/"
        },
        "id": "dl78oWR_pCON",
        "outputId": "84360d6a-69f5-4f5a-9c29-d9c7898877ea"
      },
      "execution_count": 96,
      "outputs": [
        {
          "output_type": "execute_result",
          "data": {
            "text/plain": [
              "True"
            ]
          },
          "metadata": {},
          "execution_count": 96
        }
      ]
    },
    {
      "cell_type": "markdown",
      "source": [
        "### Built-In Sequence Functions\n",
        "Python has a handful of useful sequence functions that you should familiarize your‐\n",
        "self with and use at any opportunity."
      ],
      "metadata": {
        "id": "B0zaeRAApOPk"
      }
    },
    {
      "cell_type": "markdown",
      "source": [
        "#### enumerate\n",
        "It’s common when iterating over a sequence to want to keep track of the index of the\n",
        "current item."
      ],
      "metadata": {
        "id": "w0PLkjuWpSwo"
      }
    },
    {
      "cell_type": "code",
      "source": [
        "index = 0\n",
        "for value in collection:\n",
        "# do something with value\n",
        "  index += 1"
      ],
      "metadata": {
        "id": "I0sT-VZApJuu"
      },
      "execution_count": null,
      "outputs": []
    },
    {
      "cell_type": "code",
      "source": [
        "# Python has a built-in function, enumerate, which returns a\n",
        "# sequence of (i, value) tuples:\n",
        "for index, value in enumerate(collection):\n",
        "# do something with value"
      ],
      "metadata": {
        "id": "YjspwtBLpdd9"
      },
      "execution_count": null,
      "outputs": []
    },
    {
      "cell_type": "markdown",
      "source": [
        "#### sorted"
      ],
      "metadata": {
        "id": "ILzTdcn2pvFr"
      }
    },
    {
      "cell_type": "code",
      "source": [
        "print(sorted([7, 1, 2, 6, 0, 3, 2]))\n",
        "print(sorted(\"horse race\"))"
      ],
      "metadata": {
        "colab": {
          "base_uri": "https://localhost:8080/"
        },
        "id": "aqw-Sva7pzFK",
        "outputId": "5787098d-74f8-41ff-8ca3-11f2d2ec6dfe"
      },
      "execution_count": 97,
      "outputs": [
        {
          "output_type": "stream",
          "name": "stdout",
          "text": [
            "[0, 1, 2, 2, 3, 6, 7]\n",
            "[' ', 'a', 'c', 'e', 'e', 'h', 'o', 'r', 'r', 's']\n"
          ]
        }
      ]
    },
    {
      "cell_type": "markdown",
      "source": [
        "#### zip\n",
        "zip “pairs” up the elements of a number of lists, tuples, or other sequences to create a\n",
        "list of tuples:"
      ],
      "metadata": {
        "id": "VkEQZi2RqBN9"
      }
    },
    {
      "cell_type": "code",
      "source": [
        "seq1 = [\"foo\", \"bar\", \"baz\"]\n",
        "seq2 = [\"one\", \"two\", \"three\"]\n",
        "zipped = zip(seq1, seq2)\n",
        "list(zipped)"
      ],
      "metadata": {
        "colab": {
          "base_uri": "https://localhost:8080/"
        },
        "id": "JdJ8dA29qOE2",
        "outputId": "db2545e0-c362-4422-b342-4c3eb275a1b1"
      },
      "execution_count": 98,
      "outputs": [
        {
          "output_type": "execute_result",
          "data": {
            "text/plain": [
              "[('foo', 'one'), ('bar', 'two'), ('baz', 'three')]"
            ]
          },
          "metadata": {},
          "execution_count": 98
        }
      ]
    },
    {
      "cell_type": "code",
      "source": [
        "# zip can take an arbitrary number of sequences, and the number of elements it\n",
        "# produces is determined by the shortest sequence:\n",
        "seq3 = [False, True]\n",
        "list(zip(seq1, seq2, seq3))"
      ],
      "metadata": {
        "colab": {
          "base_uri": "https://localhost:8080/"
        },
        "id": "4Cgk6C3NrK1o",
        "outputId": "a09c2097-a86b-4c71-9cf9-3c9b4979f84b"
      },
      "execution_count": 99,
      "outputs": [
        {
          "output_type": "execute_result",
          "data": {
            "text/plain": [
              "[('foo', 'one', False), ('bar', 'two', True)]"
            ]
          },
          "metadata": {},
          "execution_count": 99
        }
      ]
    },
    {
      "cell_type": "code",
      "source": [
        "for index, (a, b) in enumerate(zip(seq1, seq2)):\n",
        "  print(f\"{index}: {a}, {b}\")"
      ],
      "metadata": {
        "colab": {
          "base_uri": "https://localhost:8080/"
        },
        "id": "N4wGKVRyrcWV",
        "outputId": "9e9a7b82-0821-4bae-90e8-689632e93912"
      },
      "execution_count": 101,
      "outputs": [
        {
          "output_type": "stream",
          "name": "stdout",
          "text": [
            "0: foo, one\n",
            "1: bar, two\n",
            "2: baz, three\n"
          ]
        }
      ]
    },
    {
      "cell_type": "markdown",
      "source": [
        "#### reversed"
      ],
      "metadata": {
        "id": "rbaccURDrksX"
      }
    },
    {
      "cell_type": "code",
      "source": [
        "list(reversed(range(10)))"
      ],
      "metadata": {
        "colab": {
          "base_uri": "https://localhost:8080/"
        },
        "id": "h-qA4kCKrc5G",
        "outputId": "11cab63b-f646-400a-9a6d-16affc9fb425"
      },
      "execution_count": 102,
      "outputs": [
        {
          "output_type": "execute_result",
          "data": {
            "text/plain": [
              "[9, 8, 7, 6, 5, 4, 3, 2, 1, 0]"
            ]
          },
          "metadata": {},
          "execution_count": 102
        }
      ]
    },
    {
      "cell_type": "markdown",
      "source": [
        "### List, Set, and Dictionary Comprehensions\n",
        "List comprehensions are a convenient and widely used Python language feature. They\n",
        "allow you to concisely form a new list by filtering the elements of a collection,\n",
        "transforming the elements passing the filter into one concise expression. They takethe basic form:\n",
        "\n",
        "*[expr for value in collection if condition]*\n",
        "\n",
        "the following for loop:\n",
        "\n",
        "    result = []\n",
        "    for value in collection:\n",
        "      if condition:\n",
        "        result.append(expr)"
      ],
      "metadata": {
        "id": "2qdJRgYbrsIm"
      }
    },
    {
      "cell_type": "code",
      "source": [
        "strings = [\"a\", \"as\", \"bat\", \"car\", \"dove\", \"python\"]\n",
        "[x.upper() for x in strings if len(x) > 3]"
      ],
      "metadata": {
        "colab": {
          "base_uri": "https://localhost:8080/"
        },
        "id": "yjzDL6r_rogK",
        "outputId": "8c741034-d751-48da-9749-908e1cd573ce"
      },
      "execution_count": 104,
      "outputs": [
        {
          "output_type": "execute_result",
          "data": {
            "text/plain": [
              "['DOVE', 'PYTHON']"
            ]
          },
          "metadata": {},
          "execution_count": 104
        }
      ]
    },
    {
      "cell_type": "markdown",
      "source": [
        "A dictionary comprehension looks like this:\n",
        "\n",
        "    dict_comp = {key-expr: value-expr for value in collection if condition}\n",
        "\n",
        "A set comprehension looks like the equivalent list comprehension except with curly\n",
        "braces instead of square brackets:\n",
        "\n",
        "    set_comp = {expr for value in collection if condition}"
      ],
      "metadata": {
        "id": "fDnouP-FswT2"
      }
    },
    {
      "cell_type": "code",
      "source": [
        "# set comprehension\n",
        "unique_lengths = {len(x) for x in strings}\n",
        "print(unique_lengths)\n",
        "# using map function\n",
        "set(map(len, strings))"
      ],
      "metadata": {
        "colab": {
          "base_uri": "https://localhost:8080/"
        },
        "id": "gQ2mscz6s9KG",
        "outputId": "5d1cb145-c9eb-4dbd-b325-4e915df0d20d"
      },
      "execution_count": 106,
      "outputs": [
        {
          "output_type": "stream",
          "name": "stdout",
          "text": [
            "{1, 2, 3, 4, 6}\n"
          ]
        },
        {
          "output_type": "execute_result",
          "data": {
            "text/plain": [
              "{1, 2, 3, 4, 6}"
            ]
          },
          "metadata": {},
          "execution_count": 106
        }
      ]
    },
    {
      "cell_type": "code",
      "source": [],
      "metadata": {
        "id": "CIfatAgJt086"
      },
      "execution_count": null,
      "outputs": []
    }
  ]
}
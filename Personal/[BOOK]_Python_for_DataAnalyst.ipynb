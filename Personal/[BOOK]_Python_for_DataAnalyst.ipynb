{
  "cells": [
    {
      "cell_type": "markdown",
      "metadata": {
        "id": "view-in-github",
        "colab_type": "text"
      },
      "source": [
        "<a href=\"https://colab.research.google.com/github/chien2734/sgu_data_analyst/blob/main/Personal/%5BBOOK%5D_Python_for_DataAnalyst.ipynb\" target=\"_parent\"><img src=\"https://colab.research.google.com/assets/colab-badge.svg\" alt=\"Open In Colab\"/></a>"
      ]
    },
    {
      "cell_type": "markdown",
      "metadata": {
        "id": "O3J0YDOpZoiI"
      },
      "source": [
        "<h1> CHAPTER 1: Prelininaries\n"
      ]
    },
    {
      "cell_type": "markdown",
      "metadata": {
        "id": "z0KIveNCaHvW"
      },
      "source": [
        "## 1.1 What Is This Book About?\n",
        "\n"
      ]
    },
    {
      "cell_type": "markdown",
      "metadata": {
        "id": "W-DI4f_gaHyf"
      },
      "source": [
        "## 1.2 Why Python for Data Analysis?"
      ]
    },
    {
      "cell_type": "markdown",
      "metadata": {
        "id": "GF48SSFbaH1f"
      },
      "source": [
        "## 1.3 Essential Python Libraries"
      ]
    },
    {
      "cell_type": "markdown",
      "metadata": {
        "id": "UMCeAWUfaH4r"
      },
      "source": [
        "## 1.4 Installation and Setup"
      ]
    },
    {
      "cell_type": "markdown",
      "metadata": {
        "id": "r2hbOOv7aH8M"
      },
      "source": [
        "## 1.5 Community and Conferences"
      ]
    },
    {
      "cell_type": "markdown",
      "metadata": {
        "id": "_9LlZ5OUa41x"
      },
      "source": [
        "## 1.6 Navigating This Book"
      ]
    },
    {
      "cell_type": "code",
      "execution_count": null,
      "metadata": {
        "id": "bv4ODptGZTs0"
      },
      "outputs": [],
      "source": [
        "import numpy as np\n",
        "import pandas as pd\n",
        "pd.options.display.max_columns = 20\n",
        "pd.options.display.max_rows = 20\n",
        "pd.options.display.max_colwidth = 80\n",
        "np.set_printoptions(precision=4, suppress=True)"
      ]
    },
    {
      "cell_type": "code",
      "execution_count": null,
      "metadata": {
        "id": "7YPXR52ObetB"
      },
      "outputs": [],
      "source": [
        "#Import Conventions\n",
        "import numpy as np\n",
        "import matplotlib.pyplot as plt\n",
        "import pandas as pd\n",
        "import seaborn as sns\n",
        "import statsmodels as sm"
      ]
    },
    {
      "cell_type": "markdown",
      "metadata": {
        "id": "SKe809Y-a473"
      },
      "source": [
        "<h1> CHAPTER 2:\n",
        "Python Language Basics, IPython,\n",
        "and Jupyter Notebooks"
      ]
    },
    {
      "cell_type": "markdown",
      "metadata": {
        "id": "Tt8BAxKsbxeZ"
      },
      "source": [
        "## 2.1 The Python Interpreter"
      ]
    },
    {
      "cell_type": "code",
      "execution_count": null,
      "metadata": {
        "colab": {
          "base_uri": "https://localhost:8080/"
        },
        "id": "MSVp1xm9btmV",
        "outputId": "7604ab59-621e-4017-90c9-0fbab29746fd"
      },
      "outputs": [
        {
          "name": "stdout",
          "output_type": "stream",
          "text": [
            "5\n",
            "Hello world\n"
          ]
        }
      ],
      "source": [
        "a = 5\n",
        "print(a)\n",
        "\n",
        "print(\"Hello world\")"
      ]
    },
    {
      "cell_type": "markdown",
      "metadata": {
        "id": "4vYrvO5-D3lv"
      },
      "source": [
        "## 2.2 IPython Basics"
      ]
    },
    {
      "cell_type": "markdown",
      "metadata": {
        "id": "72vE9bzbD8B2"
      },
      "source": [
        "### Running the IPython Shell"
      ]
    },
    {
      "cell_type": "code",
      "execution_count": null,
      "metadata": {
        "colab": {
          "base_uri": "https://localhost:8080/"
        },
        "id": "5FxgH3zHD4UC",
        "outputId": "b08988b1-293e-4120-f856-fa3cbcd3e5c4"
      },
      "outputs": [
        {
          "data": {
            "text/plain": [
              "5"
            ]
          },
          "execution_count": 5,
          "metadata": {},
          "output_type": "execute_result"
        }
      ],
      "source": [
        "a = 5\n",
        "a #print 5"
      ]
    },
    {
      "cell_type": "code",
      "execution_count": null,
      "metadata": {
        "colab": {
          "base_uri": "https://localhost:8080/"
        },
        "id": "AGC-RGIYETEf",
        "outputId": "1c7ff46f-5e1b-493c-e93a-f4969dc31c89"
      },
      "outputs": [
        {
          "data": {
            "text/plain": [
              "[-0.04664350085945034,\n",
              " 0.08334126223593778,\n",
              " 0.044577390567203785,\n",
              " -0.07512381189122282,\n",
              " -2.538163815938322,\n",
              " 0.3652711235795394,\n",
              " -1.6728013983197745,\n",
              " 1.6451020548688982]"
            ]
          },
          "execution_count": 6,
          "metadata": {},
          "output_type": "execute_result"
        }
      ],
      "source": [
        "import numpy as np\n",
        "data = [np.random.standard_normal() for i in range(8)]\n",
        "data #print(data)"
      ]
    },
    {
      "cell_type": "markdown",
      "metadata": {
        "id": "XRjnYEpkE9d2"
      },
      "source": [
        "### Running the Jupyter Notebook"
      ]
    },
    {
      "cell_type": "markdown",
      "metadata": {
        "id": "AhsZOKUVFAj1"
      },
      "source": [
        "### Tab Completion"
      ]
    },
    {
      "cell_type": "code",
      "execution_count": null,
      "metadata": {
        "colab": {
          "base_uri": "https://localhost:8080/"
        },
        "id": "VCiVKbooFAAk",
        "outputId": "7bdfef67-62cd-418c-ff70-e60d70bb2d9f"
      },
      "outputs": [
        {
          "name": "stdout",
          "output_type": "stream",
          "text": [
            "None\n"
          ]
        },
        {
          "data": {
            "text/plain": [
              "datetime.datetime(2025, 10, 13, 5, 43, 16, 140007)"
            ]
          },
          "execution_count": 12,
          "metadata": {},
          "output_type": "execute_result"
        }
      ],
      "source": [
        "an_apple = 27\n",
        "an_example = 42\n",
        "an_apple\n",
        "\n",
        "b = [1, 2, 3]\n",
        "b.append\n",
        "\n",
        "import datetime\n",
        "datetime.datetime.now()\n"
      ]
    },
    {
      "cell_type": "markdown",
      "metadata": {
        "id": "0YuAFmtbGNYA"
      },
      "source": [
        "### Introspection\n",
        "\n",
        "Using a question mark (?) before or after a variable will display some general infor‐\n",
        "mation about the object:"
      ]
    },
    {
      "cell_type": "code",
      "execution_count": null,
      "metadata": {
        "id": "BAuHARY6GODt"
      },
      "outputs": [],
      "source": [
        "b = [1, 2, 3]\n",
        "b?\n",
        "\n",
        "print?\n",
        "# Signature: print(*args, sep=' ', end='\\n', file=None, flush=False)\n",
        "# Docstring:\n",
        "# Prints the values to a stream, or to sys.stdout by default."
      ]
    },
    {
      "cell_type": "code",
      "execution_count": null,
      "metadata": {
        "id": "ZkfFFpRmGj1Z"
      },
      "outputs": [],
      "source": [
        "def add_numbers(a, b):\n",
        "  \"\"\"\n",
        "  Add two numbers together\n",
        "  Returns\n",
        "  -------\n",
        "  the_sum : type of arguments\n",
        "  \"\"\"\n",
        "  return a + b\n",
        "\n",
        "add_numbers?\n",
        "# Signature: add_numbers(a, b)\n",
        "# Docstring:\n",
        "# Add two numbers together\n",
        "# Returns"
      ]
    },
    {
      "cell_type": "code",
      "execution_count": null,
      "metadata": {
        "id": "nC1p6fvwH1m5"
      },
      "outputs": [],
      "source": [
        "import numpy as np\n",
        "np.*load*?\n",
        "# np.__loader__\n",
        "# np.load\n",
        "# np.loadtxt"
      ]
    },
    {
      "cell_type": "markdown",
      "metadata": {
        "id": "isiydrBJIH5H"
      },
      "source": [
        "## 2.3 Python Language Basics"
      ]
    },
    {
      "cell_type": "markdown",
      "metadata": {
        "id": "-RyLyXzpINlo"
      },
      "source": [
        "### Language Semantics"
      ]
    },
    {
      "cell_type": "markdown",
      "metadata": {
        "id": "fti43LSHKIlo"
      },
      "source": [
        "#### Indentation, not braces"
      ]
    },
    {
      "cell_type": "code",
      "execution_count": null,
      "metadata": {
        "id": "Fe4gVCjMIKZa"
      },
      "outputs": [],
      "source": [
        "for x in array:\n",
        "  if x < pivot:\n",
        "    less.append(x)\n",
        "  else:\n",
        "    greater.append(x)\n",
        "\n",
        "a = 5; b = 6; c = 7"
      ]
    },
    {
      "cell_type": "markdown",
      "metadata": {
        "id": "ruNeCMgGKM_g"
      },
      "source": [
        "#### Comment"
      ]
    },
    {
      "cell_type": "code",
      "execution_count": null,
      "metadata": {
        "id": "smFXHpLPIhb3"
      },
      "outputs": [],
      "source": [
        "results = []\n",
        "for line in file_handle:\n",
        "  # keep the empty lines for now\n",
        "  # if len(line) == 0:\n",
        "  # continue\n",
        "  results.append(line.replace(\"foo\", \"bar\"))\n",
        "\n",
        "print(\"Reached this line\") # Simple status report"
      ]
    },
    {
      "cell_type": "markdown",
      "metadata": {
        "id": "10-SekUPKQhg"
      },
      "source": [
        "#### Function and object method calls"
      ]
    },
    {
      "cell_type": "code",
      "execution_count": null,
      "metadata": {
        "id": "LJOlSKyDI0kA"
      },
      "outputs": [],
      "source": [
        "result = f(x, y, z)\n",
        "g()\n",
        "\n",
        "obj.some_method(x, y, z)\n",
        "\n",
        "result = f(a, b, c, d=5, e=\"foo\")"
      ]
    },
    {
      "cell_type": "markdown",
      "metadata": {
        "id": "3fz2LkMJKUJ4"
      },
      "source": [
        "#### Variables and argument passing"
      ]
    },
    {
      "cell_type": "code",
      "execution_count": null,
      "metadata": {
        "colab": {
          "base_uri": "https://localhost:8080/"
        },
        "id": "EKo0TuMbJKtf",
        "outputId": "8ec41c4e-10fe-4d3e-eed0-aa2d8eb0ff51"
      },
      "outputs": [
        {
          "name": "stdout",
          "output_type": "stream",
          "text": [
            "[1, 2, 3, 4]\n"
          ]
        },
        {
          "data": {
            "text/plain": [
              "[1, 2, 3, 4]"
            ]
          },
          "execution_count": 26,
          "metadata": {},
          "output_type": "execute_result"
        }
      ],
      "source": [
        "a = [1, 2, 3]\n",
        "b = a\n",
        "a.append(4)\n",
        "print(b)\n",
        "\n",
        "def append_element(some_list, element):\n",
        "  some_list.append(element)\n",
        "#Then we have:\n",
        "data = [1, 2, 3]\n",
        "append_element(data, 4)\n",
        "data\n"
      ]
    },
    {
      "cell_type": "markdown",
      "metadata": {
        "id": "QeXXgvCyJMCX"
      },
      "source": [
        "#### Dynamic references, strong types"
      ]
    },
    {
      "cell_type": "code",
      "execution_count": null,
      "metadata": {
        "colab": {
          "base_uri": "https://localhost:8080/"
        },
        "id": "umaKbscJKCeA",
        "outputId": "e3626929-8ffd-41eb-b995-3c41d9304e1c"
      },
      "outputs": [
        {
          "name": "stdout",
          "output_type": "stream",
          "text": [
            "<class 'int'>\n",
            "<class 'str'>\n",
            "a is <class 'float'>, b is <class 'int'>\n"
          ]
        },
        {
          "data": {
            "text/plain": [
              "2.25"
            ]
          },
          "execution_count": 31,
          "metadata": {},
          "output_type": "execute_result"
        }
      ],
      "source": [
        "a = 5\n",
        "print(type(a)) # int\n",
        "a = \"foo\"\n",
        "print(type(a)) # str\n",
        "\n",
        "#\"5\" + 5 # Error\n",
        "\n",
        "a = 4.5\n",
        "b = 2\n",
        "# String formatting, to be visited later\n",
        "print(f\"a is {type(a)}, b is {type(b)}\")\n",
        "a / b"
      ]
    },
    {
      "cell_type": "code",
      "execution_count": null,
      "metadata": {
        "colab": {
          "base_uri": "https://localhost:8080/"
        },
        "id": "VGJy4hKAMbLq",
        "outputId": "dc40f4b3-5f06-4b68-cdc0-23bea5101c13"
      },
      "outputs": [
        {
          "name": "stdout",
          "output_type": "stream",
          "text": [
            "True\n",
            "True\n",
            "True\n"
          ]
        }
      ],
      "source": [
        "a = 5\n",
        "print(isinstance(a, int))\n",
        "\n",
        "a = 5; b = 4.5\n",
        "print(isinstance(a, (int, float)))\n",
        "print(isinstance(b, (int, float)))"
      ]
    },
    {
      "cell_type": "markdown",
      "metadata": {
        "id": "T-yRm59CMyOg"
      },
      "source": [
        "#### Attributes and methods"
      ]
    },
    {
      "cell_type": "code",
      "execution_count": null,
      "metadata": {
        "colab": {
          "base_uri": "https://localhost:8080/"
        },
        "id": "fbwzAM1UMzHu",
        "outputId": "85c9f8d6-ce9d-4cf2-cd26-f3dbec5957a2"
      },
      "outputs": [
        {
          "data": {
            "text/plain": [
              "<function str.split(sep=None, maxsplit=-1)>"
            ]
          },
          "execution_count": 35,
          "metadata": {},
          "output_type": "execute_result"
        }
      ],
      "source": [
        "a = \"foo\"\n",
        "getattr(a, \"split\")"
      ]
    },
    {
      "cell_type": "markdown",
      "metadata": {
        "id": "uxZQtSzDvjZO"
      },
      "source": [
        "#### Duck typing"
      ]
    },
    {
      "cell_type": "code",
      "execution_count": null,
      "metadata": {
        "id": "_kVqHD5svo38"
      },
      "outputs": [],
      "source": [
        "def isiterable(obj):\n",
        "  try:\n",
        "    iter(obj)\n",
        "    return True\n",
        "  except TypeError: # not iterable\n",
        "    return False"
      ]
    },
    {
      "cell_type": "code",
      "execution_count": null,
      "metadata": {
        "colab": {
          "base_uri": "https://localhost:8080/"
        },
        "id": "w66c7CXov7gW",
        "outputId": "1ecc9528-7f07-449e-cbae-f4734c7cfa2d"
      },
      "outputs": [
        {
          "data": {
            "text/plain": [
              "False"
            ]
          },
          "execution_count": 3,
          "metadata": {},
          "output_type": "execute_result"
        }
      ],
      "source": [
        "isiterable(\"a string\") #True\n",
        "isiterable([1, 2, 3]) #True\n",
        "isiterable(5) #False"
      ]
    },
    {
      "cell_type": "markdown",
      "metadata": {
        "id": "pW2U3a0TwPt-"
      },
      "source": [
        "#### Imports"
      ]
    },
    {
      "cell_type": "code",
      "execution_count": null,
      "metadata": {
        "id": "C_OlFC2UwRPj"
      },
      "outputs": [],
      "source": [
        "import some_module\n",
        "result = some_module.f(5)\n",
        "pi = some_module.PI\n",
        "#Or alternately:\n",
        "from some_module import g, PI\n",
        "result = g(5, PI)\n",
        "#By using the as keyword, you can give imports different variable names:\n",
        "import some_module as sm\n",
        "from some_module import PI as pi, g as gf\n",
        "r1 = sm.f(pi)\n",
        "r2 = gf(6, pi)"
      ]
    },
    {
      "cell_type": "markdown",
      "metadata": {
        "id": "RMI88iJp0rmw"
      },
      "source": [
        "#### Binary operators and comparisons"
      ]
    },
    {
      "cell_type": "code",
      "execution_count": null,
      "metadata": {
        "colab": {
          "base_uri": "https://localhost:8080/"
        },
        "id": "pcNH0s_A0t-a",
        "outputId": "c489928b-f312-4350-9267-e5f85366c8c0"
      },
      "outputs": [
        {
          "name": "stdout",
          "output_type": "stream",
          "text": [
            "-2\n",
            "33.5\n",
            "False\n",
            "True\n",
            "True\n",
            "True\n",
            "True\n"
          ]
        }
      ],
      "source": [
        "print(5 - 7)\n",
        "print(12 + 21.5)\n",
        "print(5 <= 2)\n",
        "a = [1, 2, 3]\n",
        "b = a\n",
        "c = list(a)\n",
        "print(a is b)\n",
        "print(a is not c)\n",
        "print(a==c)\n",
        "a = None\n",
        "print(a is None)"
      ]
    },
    {
      "cell_type": "markdown",
      "metadata": {
        "id": "yb7LBuAD1hL-"
      },
      "source": [
        "#### Mutable and immutable objects"
      ]
    },
    {
      "cell_type": "code",
      "execution_count": null,
      "metadata": {
        "colab": {
          "base_uri": "https://localhost:8080/"
        },
        "id": "cLlD9fZr1jJ_",
        "outputId": "fa23641a-87dc-47ad-8a3d-b859888b3e6d"
      },
      "outputs": [
        {
          "data": {
            "text/plain": [
              "['foo', 2, (3, 4)]"
            ]
          },
          "execution_count": 16,
          "metadata": {},
          "output_type": "execute_result"
        }
      ],
      "source": [
        "a_list = [\"foo\", 2, [4, 5]]\n",
        "a_list[2] = (3, 4)\n",
        "a_list\n",
        "a_tuple = (3, 5, (4, 5))\n",
        "a_tuple[1] = \"four\"\n",
        "#'tuple' object does not support item assignment"
      ]
    },
    {
      "cell_type": "markdown",
      "metadata": {
        "id": "M9YeFk3p2Fot"
      },
      "source": [
        "### Scalar Types"
      ]
    },
    {
      "cell_type": "markdown",
      "metadata": {
        "id": "3xVrsHbB2Lk-"
      },
      "source": [
        "#### Numeric types"
      ]
    },
    {
      "cell_type": "code",
      "execution_count": null,
      "metadata": {
        "colab": {
          "base_uri": "https://localhost:8080/"
        },
        "id": "PulXvwfX2H2Q",
        "outputId": "b2c13613-ad4f-4035-d058-2d9064b9baa4"
      },
      "outputs": [
        {
          "name": "stdout",
          "output_type": "stream",
          "text": [
            "26254519291092456596965462913230729701102721\n",
            "1.5\n",
            "1\n"
          ]
        }
      ],
      "source": [
        "ival = 17239871\n",
        "print(ival**6)\n",
        "\n",
        "fval = 7.243\n",
        "fval2 = 6.78e-5\n",
        "\n",
        "print(3/2)\n",
        "print(3//2)"
      ]
    },
    {
      "cell_type": "markdown",
      "metadata": {
        "id": "mkzgeQO22maH"
      },
      "source": [
        "#### Strings"
      ]
    },
    {
      "cell_type": "code",
      "execution_count": null,
      "metadata": {
        "colab": {
          "base_uri": "https://localhost:8080/",
          "height": 218
        },
        "id": "c4n34MPU2oKZ",
        "outputId": "9013c910-e8f5-483a-d60c-a159d04f5ca4"
      },
      "outputs": [
        {
          "name": "stdout",
          "output_type": "stream",
          "text": [
            "3\n",
            "this is a longer string\n",
            "this is a string\n",
            "5.6\n",
            "['p', 'y', 't', 'h', 'o', 'n']\n",
            "pyt\n",
            "12\\34\n",
            "this\\has\\no\\special\\characters\n",
            "this is the first half and this is the second half\n",
            "88.46 Argentine Pesos are worth US$1\n"
          ]
        },
        {
          "data": {
            "application/vnd.google.colaboratory.intrinsic+json": {
              "type": "string"
            },
            "text/plain": [
              "'10 Pesos is worth US$0.11'"
            ]
          },
          "execution_count": 28,
          "metadata": {},
          "output_type": "execute_result"
        }
      ],
      "source": [
        "a = 'this is a string'\n",
        "b = \"another way\"\n",
        "c = \"\"\"\n",
        "This is a longer string that\n",
        "spans multiple lines\n",
        "\"\"\"\n",
        "\n",
        "print(c.count(\"\\n\"))\n",
        "\n",
        "#a[10] =\"f\"\n",
        "#'str' object does not support item assignment\n",
        "\n",
        "b = a.replace(\"string\", \"longer string\")\n",
        "print(b)\n",
        "print(a)\n",
        "\n",
        "a = 5.6\n",
        "s=str(a)\n",
        "print(s)\n",
        "\n",
        "s = \"python\"\n",
        "print(list(s))\n",
        "print(s[:3])\n",
        "\n",
        "s = \"12\\\\34\"\n",
        "print(s)\n",
        "\n",
        "s = r\"this\\has\\no\\special\\characters\"\n",
        "print(s)\n",
        "\n",
        "a = \"this is the first half \"\n",
        "b = \"and this is the second half\"\n",
        "print(a + b)\n",
        "\n",
        "template = \"{0:.2f} {1:s} are worth US${2:d}\"\n",
        "\n",
        "print(template.format(88.46, \"Argentine Pesos\", 1))\n",
        "\n",
        "amount = 10\n",
        "rate = 88.46\n",
        "currency = \"Pesos\"\n",
        "result = f\"{amount} {currency} is worth US${amount / rate}\"\n",
        "f\"{amount} {currency} is worth US${amount / rate:.2f}\""
      ]
    },
    {
      "cell_type": "markdown",
      "metadata": {
        "id": "O57k6qjk4ee-"
      },
      "source": [
        "#### Bytes and Unicode\n"
      ]
    },
    {
      "cell_type": "code",
      "execution_count": null,
      "metadata": {
        "colab": {
          "base_uri": "https://localhost:8080/"
        },
        "id": "VAm_m6qB4eAA",
        "outputId": "95319e4e-f667-44b3-93ff-ba4490647998"
      },
      "outputs": [
        {
          "name": "stdout",
          "output_type": "stream",
          "text": [
            "español\n",
            "b'espa\\xc3\\xb1ol'\n",
            "<class 'bytes'>\n",
            "español\n",
            "b'espa\\xf1ol'\n",
            "b'\\xff\\xfee\\x00s\\x00p\\x00a\\x00\\xf1\\x00o\\x00l\\x00'\n",
            "b'e\\x00s\\x00p\\x00a\\x00\\xf1\\x00o\\x00l\\x00'\n"
          ]
        }
      ],
      "source": [
        "val = \"español\"\n",
        "print(val)\n",
        "\n",
        "val_utf8 = val.encode(\"utf-8\")\n",
        "print(val_utf8)\n",
        "\n",
        "print(type(val_utf8))\n",
        "print(val_utf8.decode(\"utf-8\"))\n",
        "\n",
        "print(val.encode(\"latin1\"))\n",
        "print(val.encode(\"utf-16\"))\n",
        "print(val.encode(\"utf-16le\"))"
      ]
    },
    {
      "cell_type": "markdown",
      "metadata": {
        "id": "bqCR-VMo5DAA"
      },
      "source": [
        "#### Booleans"
      ]
    },
    {
      "cell_type": "code",
      "execution_count": null,
      "metadata": {
        "colab": {
          "base_uri": "https://localhost:8080/"
        },
        "id": "b0xnQL4K5FTu",
        "outputId": "74db1bde-6ae3-482e-a2fa-5f3343f09fbc"
      },
      "outputs": [
        {
          "name": "stdout",
          "output_type": "stream",
          "text": [
            "True\n",
            "True\n",
            "0\n",
            "1\n",
            "False\n",
            "True\n"
          ]
        }
      ],
      "source": [
        "print(True and True)\n",
        "print(False or True)\n",
        "print(int(False))\n",
        "print(int(True))\n",
        "a = True\n",
        "b = False\n",
        "print(not a)\n",
        "print( not b)"
      ]
    },
    {
      "cell_type": "markdown",
      "metadata": {
        "id": "Ml_mjUCp5prP"
      },
      "source": [
        "#### Type casting"
      ]
    },
    {
      "cell_type": "code",
      "execution_count": null,
      "metadata": {
        "colab": {
          "base_uri": "https://localhost:8080/"
        },
        "id": "ZVBRcfIv5rh9",
        "outputId": "aade60a7-fd95-449f-c774-3ae5bbcd47fe"
      },
      "outputs": [
        {
          "name": "stdout",
          "output_type": "stream",
          "text": [
            "<class 'float'>\n",
            "3\n",
            "True\n",
            "False\n"
          ]
        }
      ],
      "source": [
        "s = \"3.14159\"\n",
        "fval = float(s)\n",
        "print(type(fval))\n",
        "print(int(fval))\n",
        "print(bool(fval))\n",
        "print(bool(0))"
      ]
    },
    {
      "cell_type": "markdown",
      "metadata": {
        "id": "3MU9vVzY5_bA"
      },
      "source": [
        "#### None"
      ]
    },
    {
      "cell_type": "code",
      "execution_count": null,
      "metadata": {
        "colab": {
          "base_uri": "https://localhost:8080/"
        },
        "id": "mFiOvX1q6AZE",
        "outputId": "f0542858-b79a-471b-837b-2cd4be027be0"
      },
      "outputs": [
        {
          "name": "stdout",
          "output_type": "stream",
          "text": [
            "True\n",
            "True\n"
          ]
        }
      ],
      "source": [
        "a = None\n",
        "print(a is None)\n",
        "b = 5\n",
        "print(b is not None)"
      ]
    },
    {
      "cell_type": "code",
      "execution_count": null,
      "metadata": {
        "colab": {
          "base_uri": "https://localhost:8080/"
        },
        "id": "UFk3mXjV6NQ4",
        "outputId": "2658cbf2-0d10-4543-dfd0-9fd28e784067"
      },
      "outputs": [
        {
          "name": "stdout",
          "output_type": "stream",
          "text": [
            "3\n"
          ]
        },
        {
          "data": {
            "text/plain": [
              "9"
            ]
          },
          "execution_count": 37,
          "metadata": {},
          "output_type": "execute_result"
        }
      ],
      "source": [
        "def add_and_maybe_multiply(a, b, c=None):\n",
        "  result = a + b\n",
        "  if c is not None:\n",
        "    result = result * c\n",
        "  return result\n",
        "print(add_and_maybe_multiply(1, 2))\n",
        "add_and_maybe_multiply(1, 2, 3)\n"
      ]
    },
    {
      "cell_type": "markdown",
      "metadata": {
        "id": "uUOo9gIM6dlf"
      },
      "source": [
        "#### Dates and times"
      ]
    },
    {
      "cell_type": "code",
      "execution_count": null,
      "metadata": {
        "colab": {
          "base_uri": "https://localhost:8080/"
        },
        "id": "m5bW25i46fwM",
        "outputId": "5311e38c-272a-415a-d7f7-8ec1e802f9a1"
      },
      "outputs": [
        {
          "name": "stdout",
          "output_type": "stream",
          "text": [
            "29\n",
            "30\n",
            "2011-10-29\n",
            "20:30:21\n",
            "2011-10-29 20:30\n",
            "2009-10-31 00:00:00\n",
            "2011-10-29 20:00:00\n",
            "2011-10-29 20:30:21\n"
          ]
        }
      ],
      "source": [
        "from datetime import datetime, date, time\n",
        "dt = datetime(2011, 10, 29, 20, 30, 21)\n",
        "print(dt.day)\n",
        "print(dt.minute)\n",
        "\n",
        "print(dt.date())\n",
        "print(dt.time())\n",
        "\n",
        "print(dt.strftime(\"%Y-%m-%d %H:%M\"))\n",
        "print(datetime.strptime(\"20091031\", \"%Y%m%d\"))\n",
        "\n",
        "dt_hour = dt.replace(minute=0, second=0)\n",
        "print(dt_hour)\n",
        "print(dt)"
      ]
    },
    {
      "cell_type": "code",
      "execution_count": null,
      "metadata": {
        "colab": {
          "base_uri": "https://localhost:8080/"
        },
        "id": "FM9ksAdC7Nzo",
        "outputId": "7e2e1d48-3a1d-424b-f219-a3b5aff2f57b"
      },
      "outputs": [
        {
          "name": "stdout",
          "output_type": "stream",
          "text": [
            "17 days, 1:59:39\n",
            "<class 'datetime.timedelta'>\n",
            "2011-10-29 20:30:21\n",
            "2011-11-15 22:30:00\n"
          ]
        }
      ],
      "source": [
        "dt2 = datetime(2011, 11, 15, 22, 30)\n",
        "delta = dt2 - dt\n",
        "print(delta)\n",
        "print(type(delta))\n",
        "print(dt)\n",
        "print(dt + delta)"
      ]
    },
    {
      "cell_type": "markdown",
      "metadata": {
        "id": "FOYQwZvg7d_g"
      },
      "source": [
        "### Control Flow"
      ]
    },
    {
      "cell_type": "markdown",
      "metadata": {
        "id": "NO4mucqq7g4o"
      },
      "source": [
        "#### if, elif, and else"
      ]
    },
    {
      "cell_type": "code",
      "execution_count": null,
      "metadata": {
        "colab": {
          "base_uri": "https://localhost:8080/"
        },
        "id": "Ng_3GZvA7fEl",
        "outputId": "b0ff33c8-6241-4d96-e054-bd417ef7af2f"
      },
      "outputs": [
        {
          "name": "stdout",
          "output_type": "stream",
          "text": [
            "It's negative\n"
          ]
        }
      ],
      "source": [
        "x = -5\n",
        "if x < 0:\n",
        "  print(\"It's negative\")"
      ]
    },
    {
      "cell_type": "code",
      "execution_count": null,
      "metadata": {
        "colab": {
          "base_uri": "https://localhost:8080/"
        },
        "id": "eS5kQctL7mkW",
        "outputId": "90fafe9c-5d3d-4dbf-ec3c-20f1ce22b644"
      },
      "outputs": [
        {
          "name": "stdout",
          "output_type": "stream",
          "text": [
            "It's negative\n"
          ]
        }
      ],
      "source": [
        "if x < 0:\n",
        "  print(\"It's negative\")\n",
        "elif x == 0:\n",
        "  print(\"Equal to zero\")\n",
        "elif 0 < x < 5:\n",
        "  print(\"Positive but smaller than 5\")\n",
        "else:\n",
        "  print(\"Positive and larger than or equal to 5\")"
      ]
    },
    {
      "cell_type": "code",
      "execution_count": null,
      "metadata": {
        "colab": {
          "base_uri": "https://localhost:8080/"
        },
        "id": "cJYYDbPr7vNA",
        "outputId": "dafd2ff6-392a-4624-c1ff-df6e5d4be7b6"
      },
      "outputs": [
        {
          "name": "stdout",
          "output_type": "stream",
          "text": [
            "Made it\n"
          ]
        }
      ],
      "source": [
        "a = 5; b = 7\n",
        "c = 8; d = 4\n",
        "if a < b or c > d:\n",
        "  print(\"Made it\")"
      ]
    },
    {
      "cell_type": "code",
      "execution_count": null,
      "metadata": {
        "colab": {
          "base_uri": "https://localhost:8080/"
        },
        "id": "ISJNP8yR71c4",
        "outputId": "ef9bf0f3-1e73-4735-8c4e-c041b8f99134"
      },
      "outputs": [
        {
          "data": {
            "text/plain": [
              "False"
            ]
          },
          "execution_count": 48,
          "metadata": {},
          "output_type": "execute_result"
        }
      ],
      "source": [
        "4 > 3 > 2 < 1"
      ]
    },
    {
      "cell_type": "markdown",
      "metadata": {
        "id": "f8v2EvZZ75JQ"
      },
      "source": [
        "#### for loops"
      ]
    },
    {
      "cell_type": "code",
      "execution_count": null,
      "metadata": {
        "colab": {
          "base_uri": "https://localhost:8080/"
        },
        "id": "e3fLSQfW76sk",
        "outputId": "338d4e28-3646-4d2b-ae04-8d4f76ebf336"
      },
      "outputs": [
        {
          "name": "stdout",
          "output_type": "stream",
          "text": [
            "12\n"
          ]
        }
      ],
      "source": [
        "sequence = [1, 2, None, 4, None, 5]\n",
        "total = 0\n",
        "for value in sequence:\n",
        "  if value is None:\n",
        "    continue\n",
        "  total += value\n",
        "print(total)"
      ]
    },
    {
      "cell_type": "code",
      "execution_count": null,
      "metadata": {
        "colab": {
          "base_uri": "https://localhost:8080/"
        },
        "id": "McjbwTVH8I65",
        "outputId": "7b710012-bce2-4c26-ccc6-ba9759e5f958"
      },
      "outputs": [
        {
          "name": "stdout",
          "output_type": "stream",
          "text": [
            "13\n"
          ]
        }
      ],
      "source": [
        "sequence = [1, 2, 0, 4, 6, 5, 2, 1]\n",
        "total_until_5 = 0\n",
        "for value in sequence:\n",
        "  if value == 5:\n",
        "    break\n",
        "  total_until_5 += value\n",
        "print(total_until_5)"
      ]
    },
    {
      "cell_type": "code",
      "execution_count": null,
      "metadata": {
        "colab": {
          "base_uri": "https://localhost:8080/"
        },
        "id": "w85dkG4a8QWI",
        "outputId": "c15536e2-6cc5-4048-e6b6-7ecd14ebf8a7"
      },
      "outputs": [
        {
          "name": "stdout",
          "output_type": "stream",
          "text": [
            "(0, 0)\n",
            "(1, 0)\n",
            "(1, 1)\n",
            "(2, 0)\n",
            "(2, 1)\n",
            "(2, 2)\n",
            "(3, 0)\n",
            "(3, 1)\n",
            "(3, 2)\n",
            "(3, 3)\n"
          ]
        }
      ],
      "source": [
        "for i in range(4):\n",
        "   for j in range(4):\n",
        "    if j > i:\n",
        "      break\n",
        "    print((i, j))"
      ]
    },
    {
      "cell_type": "markdown",
      "metadata": {
        "id": "Us4Qa_wD8YkI"
      },
      "source": [
        "#### while loops"
      ]
    },
    {
      "cell_type": "code",
      "execution_count": null,
      "metadata": {
        "colab": {
          "base_uri": "https://localhost:8080/"
        },
        "id": "mnmg5yIx8aKu",
        "outputId": "04bd9548-0be0-47bb-afde-e53a858c46ee"
      },
      "outputs": [
        {
          "name": "stdout",
          "output_type": "stream",
          "text": [
            "504\n"
          ]
        }
      ],
      "source": [
        "x = 256\n",
        "total = 0\n",
        "while x > 0:\n",
        "  if total > 500:\n",
        "    break\n",
        "  total += x\n",
        "  x = x // 2\n",
        "print(total)"
      ]
    },
    {
      "cell_type": "markdown",
      "metadata": {
        "id": "Ds294jom80Aw"
      },
      "source": [
        "#### pass"
      ]
    },
    {
      "cell_type": "code",
      "execution_count": null,
      "metadata": {
        "colab": {
          "base_uri": "https://localhost:8080/"
        },
        "id": "6kb4Qv6N8hgo",
        "outputId": "c3e8fdc8-0472-4971-c68f-d5e933997c6d"
      },
      "outputs": [
        {
          "name": "stdout",
          "output_type": "stream",
          "text": [
            "positive!\n"
          ]
        }
      ],
      "source": [
        "if x < 0:\n",
        "  print(\"negative!\")\n",
        "elif x == 0:\n",
        "# TODO: put something smart here\n",
        "  pass\n",
        "else:\n",
        "  print(\"positive!\")"
      ]
    },
    {
      "cell_type": "markdown",
      "metadata": {
        "id": "A2C4JBc988bA"
      },
      "source": [
        "#### range"
      ]
    },
    {
      "cell_type": "code",
      "execution_count": null,
      "metadata": {
        "colab": {
          "base_uri": "https://localhost:8080/"
        },
        "id": "w3G4ey-f89pU",
        "outputId": "9c61cf18-1a77-4b1f-dd62-47f27b2064b0"
      },
      "outputs": [
        {
          "name": "stdout",
          "output_type": "stream",
          "text": [
            "range(0, 10)\n",
            "[0, 1, 2, 3, 4, 5, 6, 7, 8, 9]\n",
            "[0, 2, 4, 6, 8, 10, 12, 14, 16, 18]\n",
            "[5, 4, 3, 2, 1]\n",
            "element 0: 1\n",
            "element 1: 2\n",
            "element 2: 3\n",
            "element 3: 4\n",
            "2333316668\n"
          ]
        }
      ],
      "source": [
        "print(range(10))\n",
        "print(list(range(10)))\n",
        "print(list(range(0, 20, 2)))\n",
        "print(list(range(5, 0, -1)))\n",
        "\n",
        "seq = [1, 2, 3, 4]\n",
        "for i in range(len(seq)):\n",
        "  print(f\"element {i}: {seq[i]}\")\n",
        "\n",
        "total = 0\n",
        "for i in range(100_000):\n",
        "   # % is the modulo operator\n",
        "   if i % 3 == 0 or i % 5 == 0:\n",
        "    total += i\n",
        "print(total)"
      ]
    },
    {
      "cell_type": "markdown",
      "metadata": {
        "id": "4lbljptv9eNo"
      },
      "source": [
        "## 2.4 Conclusion"
      ]
    },
    {
      "cell_type": "markdown",
      "metadata": {
        "id": "2EwiRZO8PSSa"
      },
      "source": [
        "# CHAPTER 3: Built-In Data Structures Functions, and Files"
      ]
    },
    {
      "cell_type": "markdown",
      "metadata": {
        "id": "nlc_TngDPduT"
      },
      "source": [
        "## 3.1 Data Structures and Sequences"
      ]
    },
    {
      "cell_type": "markdown",
      "metadata": {
        "id": "lajwGx_-PhZJ"
      },
      "source": [
        "### Tuple\n",
        "A tuple is a fixed-length, immutable sequence of Python objects which, once assigned,\n",
        "cannot be changed."
      ]
    },
    {
      "cell_type": "code",
      "execution_count": null,
      "metadata": {
        "colab": {
          "base_uri": "https://localhost:8080/"
        },
        "id": "IZLLNGwq9k7L",
        "outputId": "b27b9f0c-2acf-4a6c-ee22-da447280af17"
      },
      "outputs": [
        {
          "name": "stdout",
          "output_type": "stream",
          "text": [
            "(4, 5, 6)\n"
          ]
        }
      ],
      "source": [
        "tup = (4, 5, 6)\n",
        "print(tup)"
      ]
    },
    {
      "cell_type": "code",
      "execution_count": null,
      "metadata": {
        "colab": {
          "base_uri": "https://localhost:8080/"
        },
        "id": "aoTBX8hRQvS8",
        "outputId": "58ae453a-1f12-49b6-81e0-f98ef42ccb7e"
      },
      "outputs": [
        {
          "data": {
            "text/plain": [
              "(1, 2, 3)"
            ]
          },
          "execution_count": 2,
          "metadata": {},
          "output_type": "execute_result"
        }
      ],
      "source": [
        "tup = 1, 2, 3\n",
        "tup"
      ]
    },
    {
      "cell_type": "code",
      "execution_count": null,
      "metadata": {
        "colab": {
          "base_uri": "https://localhost:8080/"
        },
        "id": "MXMP163WQ4Qt",
        "outputId": "bcd1a4ee-3d08-41bd-b643-a9b5ef6d5f92"
      },
      "outputs": [
        {
          "data": {
            "text/plain": [
              "(4, 0, 3)"
            ]
          },
          "execution_count": 5,
          "metadata": {},
          "output_type": "execute_result"
        }
      ],
      "source": [
        "tuple([4, 0, 3])"
      ]
    },
    {
      "cell_type": "code",
      "execution_count": null,
      "metadata": {
        "colab": {
          "base_uri": "https://localhost:8080/"
        },
        "id": "6UIIT7HARLnY",
        "outputId": "252fa7f7-c486-4446-8d3b-ca70a3303a8a"
      },
      "outputs": [
        {
          "data": {
            "text/plain": [
              "('B', 'u', 'i', ' ', 'D', 'u', 'c', ' ', 'C', 'h', 'i', 'e', 'n')"
            ]
          },
          "execution_count": 7,
          "metadata": {},
          "output_type": "execute_result"
        }
      ],
      "source": [
        "tup = tuple('Bui Duc Chien')\n",
        "tup"
      ]
    },
    {
      "cell_type": "code",
      "execution_count": null,
      "metadata": {
        "colab": {
          "base_uri": "https://localhost:8080/",
          "height": 36
        },
        "id": "i2qbsR5uRVA5",
        "outputId": "6740bd35-22b2-4aca-f0ce-43a23606d1ee"
      },
      "outputs": [
        {
          "data": {
            "application/vnd.google.colaboratory.intrinsic+json": {
              "type": "string"
            },
            "text/plain": [
              "'B'"
            ]
          },
          "execution_count": 8,
          "metadata": {},
          "output_type": "execute_result"
        }
      ],
      "source": [
        "tup[0]"
      ]
    },
    {
      "cell_type": "code",
      "execution_count": null,
      "metadata": {
        "colab": {
          "base_uri": "https://localhost:8080/"
        },
        "id": "VSxQ7obHRbNX",
        "outputId": "d9dab5cd-11a7-4614-a483-6e85d4fa48ad"
      },
      "outputs": [
        {
          "data": {
            "text/plain": [
              "((4, 5, 6), (7, 8))"
            ]
          },
          "execution_count": 9,
          "metadata": {},
          "output_type": "execute_result"
        }
      ],
      "source": [
        "nested_tup = (4, 5, 6), (7, 8)\n",
        "nested_tup"
      ]
    },
    {
      "cell_type": "code",
      "execution_count": null,
      "metadata": {
        "colab": {
          "base_uri": "https://localhost:8080/"
        },
        "id": "u9wk3lkpRf6z",
        "outputId": "b43b0017-f0ee-40fc-a1fb-0fa2e1c11b9e"
      },
      "outputs": [
        {
          "name": "stdout",
          "output_type": "stream",
          "text": [
            "(4, 5, 6)\n",
            "(7, 8)\n"
          ]
        }
      ],
      "source": [
        "print(nested_tup[0])\n",
        "print(nested_tup[1])"
      ]
    },
    {
      "cell_type": "code",
      "execution_count": null,
      "metadata": {
        "colab": {
          "base_uri": "https://localhost:8080/",
          "height": 165
        },
        "id": "sLmCuPAwRpSp",
        "outputId": "9855e142-260b-41de-eafa-394c8fd42d9b"
      },
      "outputs": [
        {
          "ename": "TypeError",
          "evalue": "'tuple' object does not support item assignment",
          "output_type": "error",
          "traceback": [
            "\u001b[0;31m---------------------------------------------------------------------------\u001b[0m",
            "\u001b[0;31mTypeError\u001b[0m                                 Traceback (most recent call last)",
            "\u001b[0;32m/tmp/ipython-input-211141333.py\u001b[0m in \u001b[0;36m<cell line: 0>\u001b[0;34m()\u001b[0m\n\u001b[1;32m      1\u001b[0m \u001b[0mtup\u001b[0m \u001b[0;34m=\u001b[0m \u001b[0mtuple\u001b[0m\u001b[0;34m(\u001b[0m\u001b[0;34m[\u001b[0m\u001b[0;34m'foo'\u001b[0m\u001b[0;34m,\u001b[0m \u001b[0;34m[\u001b[0m\u001b[0;36m1\u001b[0m\u001b[0;34m,\u001b[0m \u001b[0;36m2\u001b[0m\u001b[0;34m]\u001b[0m\u001b[0;34m,\u001b[0m \u001b[0;32mTrue\u001b[0m\u001b[0;34m]\u001b[0m\u001b[0;34m)\u001b[0m\u001b[0;34m\u001b[0m\u001b[0;34m\u001b[0m\u001b[0m\n\u001b[0;32m----> 2\u001b[0;31m \u001b[0mtup\u001b[0m\u001b[0;34m[\u001b[0m\u001b[0;36m2\u001b[0m\u001b[0;34m]\u001b[0m \u001b[0;34m=\u001b[0m \u001b[0;32mFalse\u001b[0m\u001b[0;34m\u001b[0m\u001b[0;34m\u001b[0m\u001b[0m\n\u001b[0m",
            "\u001b[0;31mTypeError\u001b[0m: 'tuple' object does not support item assignment"
          ]
        }
      ],
      "source": [
        "tup = tuple(['foo', [1, 2], True])\n",
        "tup[2] = False"
      ]
    },
    {
      "cell_type": "code",
      "execution_count": null,
      "metadata": {
        "colab": {
          "base_uri": "https://localhost:8080/"
        },
        "id": "MbY733pPR0tH",
        "outputId": "cd40f0a1-d6c4-4f0e-8e5c-5b4835234586"
      },
      "outputs": [
        {
          "data": {
            "text/plain": [
              "('foo', [1, 2, 3], True)"
            ]
          },
          "execution_count": 17,
          "metadata": {},
          "output_type": "execute_result"
        }
      ],
      "source": [
        "tup[1].append(3)\n",
        "tup"
      ]
    },
    {
      "cell_type": "code",
      "execution_count": null,
      "metadata": {
        "colab": {
          "base_uri": "https://localhost:8080/"
        },
        "id": "48bW4PFISNl4",
        "outputId": "850a9b17-2ff2-4046-fd00-4cc9db5f7ed8"
      },
      "outputs": [
        {
          "data": {
            "text/plain": [
              "(4, None, 'foo', 6, 0, 'bar')"
            ]
          },
          "execution_count": 18,
          "metadata": {},
          "output_type": "execute_result"
        }
      ],
      "source": [
        "(4, None, 'foo') + (6, 0) + ('bar',)"
      ]
    },
    {
      "cell_type": "code",
      "execution_count": null,
      "metadata": {
        "colab": {
          "base_uri": "https://localhost:8080/"
        },
        "id": "ahT_WFfFSRSy",
        "outputId": "8f769158-dcc5-44cc-87b3-090cb6e6c780"
      },
      "outputs": [
        {
          "data": {
            "text/plain": [
              "('foo', 'bar', 'foo', 'bar', 'foo', 'bar', 'foo', 'bar')"
            ]
          },
          "execution_count": 19,
          "metadata": {},
          "output_type": "execute_result"
        }
      ],
      "source": [
        "('foo', 'bar') * 4"
      ]
    },
    {
      "cell_type": "markdown",
      "metadata": {
        "id": "rwZ_OgybSTcS"
      },
      "source": [
        "#### Unpacking tuples\n",
        "If you try to assign to a tuple-like expression of variables, Python will attempt to\n",
        "unpack the value on the righthand side of the equals sign:"
      ]
    },
    {
      "cell_type": "code",
      "execution_count": null,
      "metadata": {
        "colab": {
          "base_uri": "https://localhost:8080/"
        },
        "id": "LOkfn6-8SRnR",
        "outputId": "655aee14-3355-44cc-8cb6-554731410476"
      },
      "outputs": [
        {
          "data": {
            "text/plain": [
              "6"
            ]
          },
          "execution_count": 21,
          "metadata": {},
          "output_type": "execute_result"
        }
      ],
      "source": [
        "tup = (4, 5, 6)\n",
        "a, b, c = tup\n",
        "c"
      ]
    },
    {
      "cell_type": "code",
      "execution_count": null,
      "metadata": {
        "colab": {
          "base_uri": "https://localhost:8080/"
        },
        "id": "ucCPhIobSiFL",
        "outputId": "2037287a-4952-445d-a789-7259616b42d4"
      },
      "outputs": [
        {
          "data": {
            "text/plain": [
              "7"
            ]
          },
          "execution_count": 22,
          "metadata": {},
          "output_type": "execute_result"
        }
      ],
      "source": [
        "tup = 4, 5, (6, 7)\n",
        "a, b, (c, d) = tup\n",
        "d"
      ]
    },
    {
      "cell_type": "code",
      "execution_count": null,
      "metadata": {
        "colab": {
          "base_uri": "https://localhost:8080/"
        },
        "id": "TFrV_wOaSlo3",
        "outputId": "d0fa1331-cdab-46da-f23f-d900153144cd"
      },
      "outputs": [
        {
          "name": "stdout",
          "output_type": "stream",
          "text": [
            "Before: a =  1\n",
            "Before: b =  2\n",
            "After: a =  2\n",
            "After: b =  1\n"
          ]
        }
      ],
      "source": [
        "a, b = 1, 2\n",
        "print(\"Before: a = \", a)\n",
        "print(\"Before: b = \", b)\n",
        "#swap\n",
        "b, a = a, b\n",
        "print(\"After: a = \", a)\n",
        "print(\"After: b = \", b)"
      ]
    },
    {
      "cell_type": "code",
      "execution_count": null,
      "metadata": {
        "colab": {
          "base_uri": "https://localhost:8080/"
        },
        "id": "YLIF6tlgZkBU",
        "outputId": "5afaaa3e-9350-404a-c3a5-4a9dad2847a0"
      },
      "outputs": [
        {
          "name": "stdout",
          "output_type": "stream",
          "text": [
            "a=1, b=2, c=3\n",
            "a=4, b=5, c=6\n",
            "a=7, b=8, c=9\n"
          ]
        }
      ],
      "source": [
        "seq = [(1, 2, 3), (4, 5, 6), (7, 8, 9)]\n",
        "for a, b, c in seq:\n",
        "  print(f\"a={a}, b={b}, c={c}\")\n",
        "#"
      ]
    },
    {
      "cell_type": "code",
      "execution_count": null,
      "metadata": {
        "colab": {
          "base_uri": "https://localhost:8080/"
        },
        "id": "AHOgxTFRaRD1",
        "outputId": "a98efd99-9e6b-4b5d-f69e-df3fcf4f9183"
      },
      "outputs": [
        {
          "name": "stdout",
          "output_type": "stream",
          "text": [
            "1 2\n",
            "[3, 4, 5]\n"
          ]
        }
      ],
      "source": [
        "values = 1, 2, 3, 4, 5\n",
        "a, b, *rest = values\n",
        "print(a, b)\n",
        "print(rest)"
      ]
    },
    {
      "cell_type": "code",
      "execution_count": null,
      "metadata": {
        "colab": {
          "base_uri": "https://localhost:8080/"
        },
        "id": "5fiI43TsaaGo",
        "outputId": "e6d4111f-cfc5-4327-8b8c-25fd66a43a00"
      },
      "outputs": [
        {
          "data": {
            "text/plain": [
              "[3, 4, 5]"
            ]
          },
          "execution_count": 29,
          "metadata": {},
          "output_type": "execute_result"
        }
      ],
      "source": [
        "a, b, *_ = values\n",
        "_"
      ]
    },
    {
      "cell_type": "markdown",
      "metadata": {
        "id": "pbSGbb6gamBT"
      },
      "source": [
        "#### Tuple methods\n",
        "Since the size and contents of a tuple cannot be modified, it is very light on instance\n",
        "methods."
      ]
    },
    {
      "cell_type": "code",
      "execution_count": null,
      "metadata": {
        "colab": {
          "base_uri": "https://localhost:8080/"
        },
        "id": "Ipjpjw8RanuZ",
        "outputId": "02d37d07-c55a-4ca1-ad6d-0d95aa4623ae"
      },
      "outputs": [
        {
          "data": {
            "text/plain": [
              "4"
            ]
          },
          "execution_count": 30,
          "metadata": {},
          "output_type": "execute_result"
        }
      ],
      "source": [
        "a = (1, 2, 2, 2, 3, 4, 2)\n",
        "a.count(2)"
      ]
    },
    {
      "cell_type": "markdown",
      "metadata": {
        "id": "nM6CXorIa0e9"
      },
      "source": [
        "### List\n",
        "In contrast with tuples, lists are variable length and their contents can be modified in\n",
        "place. Lists are mutable. You can define them using square brackets [] or using the\n",
        "list type function:"
      ]
    },
    {
      "cell_type": "code",
      "execution_count": null,
      "metadata": {
        "colab": {
          "base_uri": "https://localhost:8080/"
        },
        "id": "If59daoIa5F8",
        "outputId": "513b5e26-31ed-47c0-fec6-64a074c5df84"
      },
      "outputs": [
        {
          "data": {
            "text/plain": [
              "['foo', 'bar', 'baz']"
            ]
          },
          "execution_count": 40,
          "metadata": {},
          "output_type": "execute_result"
        }
      ],
      "source": [
        "a_list = [2, 3, 7, None]\n",
        "tup = (\"foo\", \"bar\", \"baz\")\n",
        "b_list = list(tup)\n",
        "b_list"
      ]
    },
    {
      "cell_type": "code",
      "execution_count": null,
      "metadata": {
        "colab": {
          "base_uri": "https://localhost:8080/"
        },
        "id": "e2QR1n2IbNAT",
        "outputId": "6511fd8b-ce64-4bc2-841d-b9ed3cf72ace"
      },
      "outputs": [
        {
          "data": {
            "text/plain": [
              "['foo', 'peekaboo', 'baz']"
            ]
          },
          "execution_count": 41,
          "metadata": {},
          "output_type": "execute_result"
        }
      ],
      "source": [
        "b_list[1] = \"peekaboo\"\n",
        "b_list"
      ]
    },
    {
      "cell_type": "code",
      "execution_count": null,
      "metadata": {
        "colab": {
          "base_uri": "https://localhost:8080/"
        },
        "id": "YcUIX98UbUBL",
        "outputId": "6288937f-6e71-46a4-bf6a-7ebe20efd65c"
      },
      "outputs": [
        {
          "name": "stdout",
          "output_type": "stream",
          "text": [
            "range(0, 10)\n"
          ]
        },
        {
          "data": {
            "text/plain": [
              "[0, 1, 2, 3, 4, 5, 6, 7, 8, 9]"
            ]
          },
          "execution_count": 42,
          "metadata": {},
          "output_type": "execute_result"
        }
      ],
      "source": [
        "gen = range(10)\n",
        "print(gen)\n",
        "list(gen)"
      ]
    },
    {
      "cell_type": "markdown",
      "metadata": {
        "id": "9aeR7vSwbeED"
      },
      "source": [
        "#### Adding and removing elements"
      ]
    },
    {
      "cell_type": "code",
      "execution_count": null,
      "metadata": {
        "colab": {
          "base_uri": "https://localhost:8080/"
        },
        "id": "ye0oi2yDbdKQ",
        "outputId": "d66b64ad-0e3f-42d8-c4dd-6142c9753af9"
      },
      "outputs": [
        {
          "data": {
            "text/plain": [
              "['foo', 'peekaboo', 'baz', 'dwarf']"
            ]
          },
          "execution_count": 43,
          "metadata": {},
          "output_type": "execute_result"
        }
      ],
      "source": [
        "b_list.append(\"dwarf\")\n",
        "b_list"
      ]
    },
    {
      "cell_type": "code",
      "execution_count": null,
      "metadata": {
        "colab": {
          "base_uri": "https://localhost:8080/"
        },
        "id": "4kNxsC7vbmpP",
        "outputId": "ab33d8e4-cefe-4c6e-d622-4f266a320022"
      },
      "outputs": [
        {
          "data": {
            "text/plain": [
              "['foo', 'red', 'peekaboo', 'baz', 'dwarf']"
            ]
          },
          "execution_count": 44,
          "metadata": {},
          "output_type": "execute_result"
        }
      ],
      "source": [
        "b_list.insert(1, \"red\")\n",
        "b_list"
      ]
    },
    {
      "cell_type": "code",
      "execution_count": null,
      "metadata": {
        "colab": {
          "base_uri": "https://localhost:8080/"
        },
        "id": "Yy81beyybrm4",
        "outputId": "cbd33016-79e8-4b12-e954-9fe92ce5ff04"
      },
      "outputs": [
        {
          "name": "stdout",
          "output_type": "stream",
          "text": [
            "peekaboo\n"
          ]
        },
        {
          "data": {
            "text/plain": [
              "['foo', 'red', 'baz', 'dwarf']"
            ]
          },
          "execution_count": 45,
          "metadata": {},
          "output_type": "execute_result"
        }
      ],
      "source": [
        "print(b_list.pop(2))\n",
        "b_list"
      ]
    },
    {
      "cell_type": "code",
      "execution_count": null,
      "metadata": {
        "colab": {
          "base_uri": "https://localhost:8080/"
        },
        "id": "bC1Qo1mnbw0b",
        "outputId": "68aa2a75-60f8-46fd-b8ad-cb8d465bb6a2"
      },
      "outputs": [
        {
          "data": {
            "text/plain": [
              "['foo', 'red', 'baz', 'dwarf', 'foo']"
            ]
          },
          "execution_count": 46,
          "metadata": {},
          "output_type": "execute_result"
        }
      ],
      "source": [
        "b_list.append(\"foo\")\n",
        "b_list"
      ]
    },
    {
      "cell_type": "code",
      "execution_count": null,
      "metadata": {
        "colab": {
          "base_uri": "https://localhost:8080/"
        },
        "id": "Ln6hFsLGcHLi",
        "outputId": "dae0462e-348f-4d02-8547-c82624af8ee4"
      },
      "outputs": [
        {
          "data": {
            "text/plain": [
              "['red', 'baz', 'dwarf', 'foo']"
            ]
          },
          "execution_count": 47,
          "metadata": {},
          "output_type": "execute_result"
        }
      ],
      "source": [
        "b_list.remove(\"foo\")\n",
        "b_list"
      ]
    },
    {
      "cell_type": "markdown",
      "metadata": {
        "id": "6pjGEpxNcbdi"
      },
      "source": [
        "Check if a list contains a value"
      ]
    },
    {
      "cell_type": "code",
      "execution_count": null,
      "metadata": {
        "colab": {
          "base_uri": "https://localhost:8080/"
        },
        "id": "f4VCDEVDcg9T",
        "outputId": "484da038-66f2-4369-acc0-fe232d7be02b"
      },
      "outputs": [
        {
          "data": {
            "text/plain": [
              "True"
            ]
          },
          "execution_count": 48,
          "metadata": {},
          "output_type": "execute_result"
        }
      ],
      "source": [
        "\"dwarf\" in b_list"
      ]
    },
    {
      "cell_type": "code",
      "execution_count": null,
      "metadata": {
        "colab": {
          "base_uri": "https://localhost:8080/"
        },
        "id": "RuVAfKtVcnXt",
        "outputId": "d5b04239-8060-4bfe-a910-1f5fcc1c32ed"
      },
      "outputs": [
        {
          "data": {
            "text/plain": [
              "False"
            ]
          },
          "execution_count": 50,
          "metadata": {},
          "output_type": "execute_result"
        }
      ],
      "source": [
        "\"dwarf\" not in b_list"
      ]
    },
    {
      "cell_type": "markdown",
      "metadata": {
        "id": "1oElqy1qcvUs"
      },
      "source": [
        "#### Concatenating and combining lists"
      ]
    },
    {
      "cell_type": "code",
      "execution_count": null,
      "metadata": {
        "colab": {
          "base_uri": "https://localhost:8080/"
        },
        "id": "-530ui4OcrCU",
        "outputId": "7893a46b-c3f6-45b4-8dd6-df9ab5728a0c"
      },
      "outputs": [
        {
          "data": {
            "text/plain": [
              "[4, None, 'foo', 7, 8, (2, 3)]"
            ]
          },
          "execution_count": 51,
          "metadata": {},
          "output_type": "execute_result"
        }
      ],
      "source": [
        "#Similar to tuples, adding two lists together with + concatenates them:\n",
        "[4, None, \"foo\"] + [7, 8, (2, 3)]"
      ]
    },
    {
      "cell_type": "code",
      "execution_count": null,
      "metadata": {
        "colab": {
          "base_uri": "https://localhost:8080/"
        },
        "id": "BrRG4jnUdHNu",
        "outputId": "2d221d21-4334-4db2-dc66-e513905daf9e"
      },
      "outputs": [
        {
          "data": {
            "text/plain": [
              "[4, None, 'foo', 7, 8, (2, 3)]"
            ]
          },
          "execution_count": 52,
          "metadata": {},
          "output_type": "execute_result"
        }
      ],
      "source": [
        "#If you have a list already defined, you can append multiple elements to it using theextend method:\n",
        "x = [4, None, \"foo\"]\n",
        "x.extend([7, 8, (2, 3)])\n",
        "x"
      ]
    },
    {
      "cell_type": "markdown",
      "metadata": {
        "id": "niqNc9DgdfnY"
      },
      "source": [
        "#### Sort\n",
        "You can sort a list in place (without creating a new object) by calling its sort\n",
        "function:\n"
      ]
    },
    {
      "cell_type": "code",
      "execution_count": null,
      "metadata": {
        "colab": {
          "base_uri": "https://localhost:8080/"
        },
        "id": "8b3oRHHPdi92",
        "outputId": "113b523f-5ab9-4b7e-b645-7b368d874894"
      },
      "outputs": [
        {
          "data": {
            "text/plain": [
              "[1, 2, 3, 5, 7]"
            ]
          },
          "execution_count": 53,
          "metadata": {},
          "output_type": "execute_result"
        }
      ],
      "source": [
        "a = [7, 2, 5, 1, 3]\n",
        "a.sort()\n",
        "a"
      ]
    },
    {
      "cell_type": "code",
      "execution_count": null,
      "metadata": {
        "colab": {
          "base_uri": "https://localhost:8080/"
        },
        "id": "5xCDEptOdso_",
        "outputId": "51968adc-7f61-4c87-a3f9-7c45d689bed8"
      },
      "outputs": [
        {
          "data": {
            "text/plain": [
              "['He', 'saw', 'six', 'small', 'foxes']"
            ]
          },
          "execution_count": 56,
          "metadata": {},
          "output_type": "execute_result"
        }
      ],
      "source": [
        "b = [\"saw\", \"small\", \"He\", \"foxes\", \"six\"]\n",
        "b.sort(key=len)\n",
        "b"
      ]
    },
    {
      "cell_type": "markdown",
      "metadata": {
        "id": "apzUAwO2d9E6"
      },
      "source": [
        "#### Slicing\n",
        "You can select sections of most sequence types by using slice notation, which in its\n",
        "basic form consists of start:stop passed to the indexing operator []:"
      ]
    },
    {
      "cell_type": "code",
      "execution_count": null,
      "metadata": {
        "colab": {
          "base_uri": "https://localhost:8080/"
        },
        "id": "eLxxjzKfeAAg",
        "outputId": "d7a324ed-ec9e-4395-a782-555f10569e22"
      },
      "outputs": [
        {
          "data": {
            "text/plain": [
              "[3, 7, 5, 6]"
            ]
          },
          "execution_count": 58,
          "metadata": {},
          "output_type": "execute_result"
        }
      ],
      "source": [
        "seq = [7, 2, 3, 7, 5, 6, 0, 1]\n",
        "seq[2:6]"
      ]
    },
    {
      "cell_type": "code",
      "execution_count": null,
      "metadata": {
        "colab": {
          "base_uri": "https://localhost:8080/"
        },
        "id": "B4hwycGfeDiS",
        "outputId": "9b30c4ad-8943-4f84-d630-9e6f6c3e6c45"
      },
      "outputs": [
        {
          "data": {
            "text/plain": [
              "[7, 2, 3, 7, 1, 6, 0, 1]"
            ]
          },
          "execution_count": 60,
          "metadata": {},
          "output_type": "execute_result"
        }
      ],
      "source": [
        "seq[3:5] = [7,1]\n",
        "seq"
      ]
    },
    {
      "cell_type": "code",
      "execution_count": null,
      "metadata": {
        "colab": {
          "base_uri": "https://localhost:8080/"
        },
        "id": "dfNydtlVeQQm",
        "outputId": "484e9a9e-78db-4d1e-dc83-26a0128934a1"
      },
      "outputs": [
        {
          "name": "stdout",
          "output_type": "stream",
          "text": [
            "[7, 2, 3]\n",
            "[1, 6, 0, 1]\n",
            "[3, 7, 1, 6]\n"
          ]
        }
      ],
      "source": [
        "print(seq[:3])\n",
        "print(seq[-4:])\n",
        "print(seq[-6:-2])"
      ]
    },
    {
      "cell_type": "code",
      "execution_count": null,
      "metadata": {
        "colab": {
          "base_uri": "https://localhost:8080/"
        },
        "id": "MORc8zWmflbT",
        "outputId": "ed907d86-c597-4511-f6be-843122021a90"
      },
      "outputs": [
        {
          "name": "stdout",
          "output_type": "stream",
          "text": [
            "[7, 7, 0]\n"
          ]
        },
        {
          "data": {
            "text/plain": [
              "[1, 0, 6, 1, 7, 3, 2, 7]"
            ]
          },
          "execution_count": 65,
          "metadata": {},
          "output_type": "execute_result"
        }
      ],
      "source": [
        "#A step can also be used after a second colon to, say, take every other element:\n",
        "print(seq[::3])\n",
        "#A clever use of this is to pass -1, which has the useful effect of reversing a list or tuple:\n",
        "seq[::-1]"
      ]
    },
    {
      "cell_type": "markdown",
      "metadata": {
        "id": "c2jwu9a3gX9f"
      },
      "source": [
        "### Dictionary\n",
        "The dictionary or dict may be the most important built-in Python data structure.\n",
        "In other programming languages, dictionaries are sometimes called hash maps or\n",
        "associative arrays. A dictionary stores a collection of key-value pairs, where key and\n",
        "value are Python objects. Each key is associated with a value so that a value can\n",
        "be conveniently retrieved, inserted, modified, or deleted given a particular key. One\n",
        "approach for creating a dictionary is to use curly braces {} and colons to separate\n",
        "keys and values:"
      ]
    },
    {
      "cell_type": "code",
      "execution_count": null,
      "metadata": {
        "colab": {
          "base_uri": "https://localhost:8080/"
        },
        "id": "oAqJwvaEgSsH",
        "outputId": "e0452dcb-9424-4f58-c4f7-855cee39f5c6"
      },
      "outputs": [
        {
          "data": {
            "text/plain": [
              "{'a': 'some value', 'b': [1, 2, 3, 4]}"
            ]
          },
          "execution_count": 67,
          "metadata": {},
          "output_type": "execute_result"
        }
      ],
      "source": [
        "empty_dict = {}\n",
        "d1 = {\"a\": \"some value\", \"b\": [1, 2, 3, 4]}\n",
        "d1"
      ]
    },
    {
      "cell_type": "code",
      "execution_count": null,
      "metadata": {
        "colab": {
          "base_uri": "https://localhost:8080/"
        },
        "id": "aRj5OR9XgVoi",
        "outputId": "ac614a1f-852c-410d-eff3-fa9faac2259c"
      },
      "outputs": [
        {
          "name": "stdout",
          "output_type": "stream",
          "text": [
            "{'a': 'some value', 'b': [1, 2, 3, 4], 7: 'an integer'}\n"
          ]
        },
        {
          "data": {
            "text/plain": [
              "[1, 2, 3, 4]"
            ]
          },
          "execution_count": 68,
          "metadata": {},
          "output_type": "execute_result"
        }
      ],
      "source": [
        "#You can access, insert, or set elements using the same syntax\n",
        "d1[7] = \"an integer\"\n",
        "print(d1)\n",
        "d1[\"b\"]"
      ]
    },
    {
      "cell_type": "code",
      "execution_count": null,
      "metadata": {
        "colab": {
          "base_uri": "https://localhost:8080/"
        },
        "id": "Vw_aRfnFhGBk",
        "outputId": "d2e1ec9f-cfbc-4e5f-f517-ead2c0813a54"
      },
      "outputs": [
        {
          "data": {
            "text/plain": [
              "True"
            ]
          },
          "execution_count": 69,
          "metadata": {},
          "output_type": "execute_result"
        }
      ],
      "source": [
        "#You can check if a dictionary contains a key using the same syntax\n",
        "\"b\" in d1"
      ]
    },
    {
      "cell_type": "code",
      "execution_count": null,
      "metadata": {
        "colab": {
          "base_uri": "https://localhost:8080/"
        },
        "id": "IusgTNCVhKy4",
        "outputId": "34e8451a-ecea-4d67-d5a5-2f70804ff26c"
      },
      "outputs": [
        {
          "data": {
            "text/plain": [
              "{'a': 'some value', 'b': [1, 2, 3, 4], 7: 'an integer', 5: 'some value'}"
            ]
          },
          "execution_count": 71,
          "metadata": {},
          "output_type": "execute_result"
        }
      ],
      "source": [
        "d1[5] = \"some value\"\n",
        "d1"
      ]
    },
    {
      "cell_type": "code",
      "execution_count": null,
      "metadata": {
        "colab": {
          "base_uri": "https://localhost:8080/"
        },
        "id": "KzFQQimmhNwD",
        "outputId": "dddda690-a670-42f0-9621-e1aabb551e00"
      },
      "outputs": [
        {
          "data": {
            "text/plain": [
              "{'a': 'some value',\n",
              " 'b': [1, 2, 3, 4],\n",
              " 7: 'an integer',\n",
              " 5: 'some value',\n",
              " 'dummy': 'another value'}"
            ]
          },
          "execution_count": 72,
          "metadata": {},
          "output_type": "execute_result"
        }
      ],
      "source": [
        "d1[\"dummy\"] = \"another value\"\n",
        "d1"
      ]
    },
    {
      "cell_type": "code",
      "execution_count": null,
      "metadata": {
        "colab": {
          "base_uri": "https://localhost:8080/"
        },
        "id": "fH7YPPfThTxZ",
        "outputId": "6cd0acec-66be-4037-8a32-e0d8d71dfa3f"
      },
      "outputs": [
        {
          "name": "stdout",
          "output_type": "stream",
          "text": [
            "{'a': 'some value', 'b': [1, 2, 3, 4], 7: 'an integer', 'dummy': 'another value'}\n",
            "another value\n"
          ]
        },
        {
          "data": {
            "text/plain": [
              "{'a': 'some value', 'b': [1, 2, 3, 4], 7: 'an integer'}"
            ]
          },
          "execution_count": 73,
          "metadata": {},
          "output_type": "execute_result"
        }
      ],
      "source": [
        "#You can delete values using either the del keyword or the pop method\n",
        "del d1[5]\n",
        "print(d1)\n",
        "ret = d1.pop(\"dummy\")\n",
        "print(ret)\n",
        "d1"
      ]
    },
    {
      "cell_type": "code",
      "execution_count": null,
      "metadata": {
        "colab": {
          "base_uri": "https://localhost:8080/"
        },
        "id": "j10tZrL7h9us",
        "outputId": "542e2dc6-480f-4c77-8cb8-d2c1888c3dcc"
      },
      "outputs": [
        {
          "name": "stdout",
          "output_type": "stream",
          "text": [
            "Keys of dictionary d1:  ['a', 'b', 7]\n",
            "Values of dictionary d1:  ['some value', [1, 2, 3, 4], 'an integer']\n"
          ]
        }
      ],
      "source": [
        "print(\"Keys of dictionary d1: \", list(d1.keys()))\n",
        "print(\"Values of dictionary d1: \", list(d1.values()))"
      ]
    },
    {
      "cell_type": "code",
      "execution_count": null,
      "metadata": {
        "colab": {
          "base_uri": "https://localhost:8080/"
        },
        "id": "rQWPlWmXiAR3",
        "outputId": "ad403ddc-f9ce-48d4-f268-3660e898ffcb"
      },
      "outputs": [
        {
          "data": {
            "text/plain": [
              "[('a', 'some value'), ('b', [1, 2, 3, 4]), (7, 'an integer')]"
            ]
          },
          "execution_count": 77,
          "metadata": {},
          "output_type": "execute_result"
        }
      ],
      "source": [
        "#If you need to iterate over both the keys and values, you can use the items method to\n",
        "#iterate over the keys and values as 2-tuples:\n",
        "list(d1.items())"
      ]
    },
    {
      "cell_type": "code",
      "execution_count": null,
      "metadata": {
        "colab": {
          "base_uri": "https://localhost:8080/"
        },
        "id": "-Y3KuBfyif1r",
        "outputId": "9fb8cbb2-ae68-4660-b1a3-eee46d7194f9"
      },
      "outputs": [
        {
          "data": {
            "text/plain": [
              "{'a': 'some value', 'b': 'foo', 7: 'an integer', 'c': 12}"
            ]
          },
          "execution_count": 78,
          "metadata": {},
          "output_type": "execute_result"
        }
      ],
      "source": [
        "# You can merge one dictionary into another using the update method:\n",
        "d1.update({\"b\": \"foo\", \"c\": 12})\n",
        "d1"
      ]
    },
    {
      "cell_type": "markdown",
      "metadata": {
        "id": "8dZRRPw9i6ID"
      },
      "source": [
        "#### Creating dictionaries from sequences"
      ]
    },
    {
      "cell_type": "code",
      "execution_count": null,
      "metadata": {
        "id": "eQ4VR23gi5Kl"
      },
      "outputs": [],
      "source": [
        "#Code that you want to pair up element-wise in a dictionary.\n",
        "mapping = {}\n",
        "for key, value in zip(key_list, value_list):\n",
        "  mapping[key] = value"
      ]
    },
    {
      "cell_type": "code",
      "execution_count": null,
      "metadata": {
        "colab": {
          "base_uri": "https://localhost:8080/"
        },
        "id": "E_TlzvggjTvp",
        "outputId": "03b8c24d-1340-4f15-e6e1-626aceb76d46"
      },
      "outputs": [
        {
          "data": {
            "text/plain": [
              "<zip at 0x7fc03dc40080>"
            ]
          },
          "execution_count": 80,
          "metadata": {},
          "output_type": "execute_result"
        }
      ],
      "source": [
        "tuples = zip(range(5), reversed(range(5)))\n",
        "tuples"
      ]
    },
    {
      "cell_type": "code",
      "execution_count": null,
      "metadata": {
        "colab": {
          "base_uri": "https://localhost:8080/"
        },
        "id": "JSi4IO7gjbT9",
        "outputId": "909aab91-0e35-405b-d7bb-c9a0996a7237"
      },
      "outputs": [
        {
          "data": {
            "text/plain": [
              "{0: 4, 1: 3, 2: 2, 3: 1, 4: 0}"
            ]
          },
          "execution_count": 81,
          "metadata": {},
          "output_type": "execute_result"
        }
      ],
      "source": [
        "mapping = dict(tuples)\n",
        "mapping"
      ]
    },
    {
      "cell_type": "markdown",
      "metadata": {
        "id": "e6PFWMNPj46k"
      },
      "source": [
        "#### Default values"
      ]
    },
    {
      "cell_type": "code",
      "execution_count": null,
      "metadata": {
        "id": "1V6M-2Haj6th"
      },
      "outputs": [],
      "source": [
        "#It’s common to have logic like:\n",
        "if key in some_dict:\n",
        "  value = some_dict[key]\n",
        "else:\n",
        "  value = default_value\n",
        "#Thus, the dictionary methods get and pop can take a default value to be returned,\n",
        "value = some_dict.get(key, default_value)"
      ]
    },
    {
      "cell_type": "code",
      "execution_count": null,
      "metadata": {
        "colab": {
          "base_uri": "https://localhost:8080/"
        },
        "id": "ePJUEdywkJh8",
        "outputId": "15f7ebd5-85c1-4771-f6f7-8c86d3ccaf1e"
      },
      "outputs": [
        {
          "data": {
            "text/plain": [
              "{'a': ['apple', 'atom'], 'b': ['bat', 'bar', 'book']}"
            ]
          },
          "execution_count": 82,
          "metadata": {},
          "output_type": "execute_result"
        }
      ],
      "source": [
        "#You could imagine categorizing a list of\n",
        "#words by their first letters as a dictionary of lists:\n",
        "words = [\"apple\", \"bat\", \"bar\", \"atom\", \"book\"]\n",
        "by_letter = {}\n",
        "for word in words:\n",
        "  letter = word[0]\n",
        "  if letter not in by_letter:\n",
        "    by_letter[letter] = [word]\n",
        "  else:\n",
        "    by_letter[letter].append(word)\n",
        "\n",
        "by_letter"
      ]
    },
    {
      "cell_type": "code",
      "execution_count": null,
      "metadata": {
        "colab": {
          "base_uri": "https://localhost:8080/"
        },
        "id": "WWBcRyLDkrxn",
        "outputId": "d0c56c6f-3bb4-4fa0-ab49-046876fab42c"
      },
      "outputs": [
        {
          "data": {
            "text/plain": [
              "{'a': ['apple', 'atom'], 'b': ['bat', 'bar', 'book']}"
            ]
          },
          "execution_count": 84,
          "metadata": {},
          "output_type": "execute_result"
        }
      ],
      "source": [
        "#The setdefault dictionary method can be used to simplify this workflow.\n",
        "by_letter = {}\n",
        "for word in words:\n",
        "  letter = word[0]\n",
        "  by_letter.setdefault(letter, []).append(word)\n",
        "by_letter"
      ]
    },
    {
      "cell_type": "code",
      "execution_count": null,
      "metadata": {
        "colab": {
          "base_uri": "https://localhost:8080/"
        },
        "id": "sMUYGwguk92g",
        "outputId": "77886ba7-b78a-4dd1-9cd9-057dbef6804d"
      },
      "outputs": [
        {
          "data": {
            "text/plain": [
              "defaultdict(list, {'a': ['apple', 'atom'], 'b': ['bat', 'bar', 'book']})"
            ]
          },
          "execution_count": 85,
          "metadata": {},
          "output_type": "execute_result"
        }
      ],
      "source": [
        "#The built-in collections module has a useful class, defaultdict,\n",
        "from collections import defaultdict\n",
        "by_letter = defaultdict(list)\n",
        "for word in words:\n",
        "  by_letter[word[0]].append(word)\n",
        "by_letter"
      ]
    },
    {
      "cell_type": "markdown",
      "metadata": {
        "id": "jBaqAg1FlnBA"
      },
      "source": [
        "#### Valid dictionary key types\n",
        "While the values of a dictionary can be any Python object, the keys generally have to\n",
        "be immutable objects like scalar types (int, float, string) or tuples (all the objects in\n",
        "the tuple need to be immutable, too). The technical term here is hashability. You can\n",
        "check whether an object is hashable (can be used as a key in a dictionary) with the\n",
        "hash function:"
      ]
    },
    {
      "cell_type": "code",
      "execution_count": null,
      "metadata": {
        "colab": {
          "base_uri": "https://localhost:8080/",
          "height": 220
        },
        "id": "fYLk7zeYlulk",
        "outputId": "02116bb0-93a0-427a-9c45-209bb9566aa7"
      },
      "outputs": [
        {
          "name": "stdout",
          "output_type": "stream",
          "text": [
            "7018702852872777500\n",
            "-9209053662355515447\n"
          ]
        },
        {
          "ename": "TypeError",
          "evalue": "unhashable type: 'list'",
          "output_type": "error",
          "traceback": [
            "\u001b[0;31m---------------------------------------------------------------------------\u001b[0m",
            "\u001b[0;31mTypeError\u001b[0m                                 Traceback (most recent call last)",
            "\u001b[0;32m/tmp/ipython-input-899347595.py\u001b[0m in \u001b[0;36m<cell line: 0>\u001b[0;34m()\u001b[0m\n\u001b[1;32m      1\u001b[0m \u001b[0mprint\u001b[0m\u001b[0;34m(\u001b[0m\u001b[0mhash\u001b[0m\u001b[0;34m(\u001b[0m\u001b[0;34m\"string\"\u001b[0m\u001b[0;34m)\u001b[0m\u001b[0;34m)\u001b[0m\u001b[0;34m\u001b[0m\u001b[0;34m\u001b[0m\u001b[0m\n\u001b[1;32m      2\u001b[0m \u001b[0mprint\u001b[0m\u001b[0;34m(\u001b[0m\u001b[0mhash\u001b[0m\u001b[0;34m(\u001b[0m\u001b[0;34m(\u001b[0m\u001b[0;36m1\u001b[0m\u001b[0;34m,\u001b[0m \u001b[0;36m2\u001b[0m\u001b[0;34m,\u001b[0m \u001b[0;34m(\u001b[0m\u001b[0;36m2\u001b[0m\u001b[0;34m,\u001b[0m \u001b[0;36m3\u001b[0m\u001b[0;34m)\u001b[0m\u001b[0;34m)\u001b[0m\u001b[0;34m)\u001b[0m\u001b[0;34m)\u001b[0m\u001b[0;34m\u001b[0m\u001b[0;34m\u001b[0m\u001b[0m\n\u001b[0;32m----> 3\u001b[0;31m \u001b[0mprint\u001b[0m\u001b[0;34m(\u001b[0m\u001b[0mhash\u001b[0m\u001b[0;34m(\u001b[0m\u001b[0;34m(\u001b[0m\u001b[0;36m1\u001b[0m\u001b[0;34m,\u001b[0m \u001b[0;36m2\u001b[0m\u001b[0;34m,\u001b[0m \u001b[0;34m[\u001b[0m\u001b[0;36m2\u001b[0m\u001b[0;34m,\u001b[0m \u001b[0;36m3\u001b[0m\u001b[0;34m]\u001b[0m\u001b[0;34m)\u001b[0m\u001b[0;34m)\u001b[0m\u001b[0;34m)\u001b[0m\u001b[0;34m\u001b[0m\u001b[0;34m\u001b[0m\u001b[0m\n\u001b[0m",
            "\u001b[0;31mTypeError\u001b[0m: unhashable type: 'list'"
          ]
        }
      ],
      "source": [
        "print(hash(\"string\"))\n",
        "print(hash((1, 2, (2, 3))))\n",
        "print(hash((1, 2, [2, 3])))"
      ]
    },
    {
      "cell_type": "code",
      "execution_count": null,
      "metadata": {
        "colab": {
          "base_uri": "https://localhost:8080/"
        },
        "id": "_yp5xSX7l7Qt",
        "outputId": "73bc38da-c9cb-4a6c-976d-37a4d208bace"
      },
      "outputs": [
        {
          "data": {
            "text/plain": [
              "{(1, 2, 3): 5}"
            ]
          },
          "execution_count": 87,
          "metadata": {},
          "output_type": "execute_result"
        }
      ],
      "source": [
        "#To use a list as a key, one option is to convert it to a tuple, which can be hashed as\n",
        "#long as its elements also can be:\n",
        "d = {}\n",
        "d[tuple([1, 2, 3])] = 5\n",
        "d"
      ]
    },
    {
      "cell_type": "markdown",
      "metadata": {
        "id": "P1JjqEsPmHe4"
      },
      "source": [
        "### Set\n",
        "A set is an unordered collection of unique elements."
      ]
    },
    {
      "cell_type": "code",
      "execution_count": null,
      "metadata": {
        "colab": {
          "base_uri": "https://localhost:8080/"
        },
        "id": "BNBLeMMMmIRn",
        "outputId": "e7c7b62a-1be8-408a-a131-597ae8a97574"
      },
      "outputs": [
        {
          "name": "stdout",
          "output_type": "stream",
          "text": [
            "{1, 2, 3}\n"
          ]
        },
        {
          "data": {
            "text/plain": [
              "{1, 2, 3}"
            ]
          },
          "execution_count": 88,
          "metadata": {},
          "output_type": "execute_result"
        }
      ],
      "source": [
        "print(set([2, 2, 2, 1, 3, 3]))\n",
        "{2, 2, 2, 1, 3, 3}"
      ]
    },
    {
      "cell_type": "code",
      "execution_count": null,
      "metadata": {
        "colab": {
          "base_uri": "https://localhost:8080/"
        },
        "id": "X4PFtM3ymg-H",
        "outputId": "c42aa583-6ddf-489a-f93b-a0136245afed"
      },
      "outputs": [
        {
          "name": "stdout",
          "output_type": "stream",
          "text": [
            "{1, 2, 3, 4, 5, 6, 7, 8}\n",
            "{1, 2, 3, 4, 5, 6, 7, 8}\n",
            "{3, 4, 5}\n",
            "{3, 4, 5}\n"
          ]
        }
      ],
      "source": [
        "#Sets support mathematical set operations like union, intersection, difference, and symmetric difference.\n",
        "a = {1, 2, 3, 4, 5}\n",
        "b = {3, 4, 5, 6, 7, 8}\n",
        "#union\n",
        "print(a.union(b))\n",
        "print(a | b)\n",
        "#intersection\n",
        "print(a.intersection(b))\n",
        "print(a & b)"
      ]
    },
    {
      "cell_type": "code",
      "execution_count": null,
      "metadata": {
        "colab": {
          "base_uri": "https://localhost:8080/"
        },
        "id": "iOfbE6MLmr38",
        "outputId": "9326b33d-87b0-4efb-d2bf-6f889b151031"
      },
      "outputs": [
        {
          "name": "stdout",
          "output_type": "stream",
          "text": [
            "{1, 2, 3, 4, 5, 6, 7, 8}\n",
            "{3, 4, 5}\n"
          ]
        }
      ],
      "source": [
        "# For very large sets, this may be more efficient:\n",
        "c = a.copy()\n",
        "c |= b\n",
        "print(c)\n",
        "d = a.copy()\n",
        "d &= b\n",
        "print(d)"
      ]
    },
    {
      "cell_type": "code",
      "execution_count": null,
      "metadata": {
        "colab": {
          "base_uri": "https://localhost:8080/"
        },
        "id": "Id_MApkzoTcj",
        "outputId": "76bf658d-7c73-4dfd-96dc-30b91044fe0d"
      },
      "outputs": [
        {
          "data": {
            "text/plain": [
              "{(1, 2, 3, 4)}"
            ]
          },
          "execution_count": 93,
          "metadata": {},
          "output_type": "execute_result"
        }
      ],
      "source": [
        "#Like dictionary keys, set elements generally must be immutable, and they must be\n",
        "# hashable. In order to store list-like elements (or other mutable sequences) in a set, you can convert\n",
        "# them to tuples:\n",
        "my_data = [1, 2, 3, 4]\n",
        "my_set = {tuple(my_data)}\n",
        "my_set"
      ]
    },
    {
      "cell_type": "code",
      "execution_count": null,
      "metadata": {
        "colab": {
          "base_uri": "https://localhost:8080/"
        },
        "id": "Vj88oHOEouv9",
        "outputId": "0cd74a86-8060-446a-8085-471ca9ef7467"
      },
      "outputs": [
        {
          "name": "stdout",
          "output_type": "stream",
          "text": [
            "True\n"
          ]
        },
        {
          "data": {
            "text/plain": [
              "True"
            ]
          },
          "execution_count": 94,
          "metadata": {},
          "output_type": "execute_result"
        }
      ],
      "source": [
        "# also check if a set is a subset of (is contained in) or a superset of (contains all\n",
        "# elements of) another set:\n",
        "a_set = {1, 2, 3, 4, 5}\n",
        "print({1, 2, 3}.issubset(a_set))\n",
        "a_set.issuperset({1, 2, 3})"
      ]
    },
    {
      "cell_type": "code",
      "execution_count": null,
      "metadata": {
        "colab": {
          "base_uri": "https://localhost:8080/"
        },
        "id": "dl78oWR_pCON",
        "outputId": "84360d6a-69f5-4f5a-9c29-d9c7898877ea"
      },
      "outputs": [
        {
          "data": {
            "text/plain": [
              "True"
            ]
          },
          "execution_count": 96,
          "metadata": {},
          "output_type": "execute_result"
        }
      ],
      "source": [
        "# Sets are equal if and only if their contents are equal:\n",
        "{1, 3, 2} == {2, 1, 3}"
      ]
    },
    {
      "cell_type": "markdown",
      "metadata": {
        "id": "B0zaeRAApOPk"
      },
      "source": [
        "### Built-In Sequence Functions\n",
        "Python has a handful of useful sequence functions that you should familiarize your‐\n",
        "self with and use at any opportunity."
      ]
    },
    {
      "cell_type": "markdown",
      "metadata": {
        "id": "w0PLkjuWpSwo"
      },
      "source": [
        "#### enumerate\n",
        "It’s common when iterating over a sequence to want to keep track of the index of the\n",
        "current item."
      ]
    },
    {
      "cell_type": "code",
      "execution_count": null,
      "metadata": {
        "id": "I0sT-VZApJuu"
      },
      "outputs": [],
      "source": [
        "index = 0\n",
        "for value in collection:\n",
        "# do something with value\n",
        "  index += 1"
      ]
    },
    {
      "cell_type": "code",
      "execution_count": null,
      "metadata": {
        "id": "YjspwtBLpdd9"
      },
      "outputs": [],
      "source": [
        "# Python has a built-in function, enumerate, which returns a\n",
        "# sequence of (i, value) tuples:\n",
        "for index, value in enumerate(collection):\n",
        "# do something with value"
      ]
    },
    {
      "cell_type": "markdown",
      "metadata": {
        "id": "ILzTdcn2pvFr"
      },
      "source": [
        "#### sorted"
      ]
    },
    {
      "cell_type": "code",
      "execution_count": null,
      "metadata": {
        "colab": {
          "base_uri": "https://localhost:8080/"
        },
        "id": "aqw-Sva7pzFK",
        "outputId": "5787098d-74f8-41ff-8ca3-11f2d2ec6dfe"
      },
      "outputs": [
        {
          "name": "stdout",
          "output_type": "stream",
          "text": [
            "[0, 1, 2, 2, 3, 6, 7]\n",
            "[' ', 'a', 'c', 'e', 'e', 'h', 'o', 'r', 'r', 's']\n"
          ]
        }
      ],
      "source": [
        "print(sorted([7, 1, 2, 6, 0, 3, 2]))\n",
        "print(sorted(\"horse race\"))"
      ]
    },
    {
      "cell_type": "markdown",
      "metadata": {
        "id": "VkEQZi2RqBN9"
      },
      "source": [
        "#### zip\n",
        "zip “pairs” up the elements of a number of lists, tuples, or other sequences to create a\n",
        "list of tuples:"
      ]
    },
    {
      "cell_type": "code",
      "execution_count": null,
      "metadata": {
        "colab": {
          "base_uri": "https://localhost:8080/"
        },
        "id": "JdJ8dA29qOE2",
        "outputId": "db2545e0-c362-4422-b342-4c3eb275a1b1"
      },
      "outputs": [
        {
          "data": {
            "text/plain": [
              "[('foo', 'one'), ('bar', 'two'), ('baz', 'three')]"
            ]
          },
          "execution_count": 98,
          "metadata": {},
          "output_type": "execute_result"
        }
      ],
      "source": [
        "seq1 = [\"foo\", \"bar\", \"baz\"]\n",
        "seq2 = [\"one\", \"two\", \"three\"]\n",
        "zipped = zip(seq1, seq2)\n",
        "list(zipped)"
      ]
    },
    {
      "cell_type": "code",
      "execution_count": null,
      "metadata": {
        "colab": {
          "base_uri": "https://localhost:8080/"
        },
        "id": "4Cgk6C3NrK1o",
        "outputId": "a09c2097-a86b-4c71-9cf9-3c9b4979f84b"
      },
      "outputs": [
        {
          "data": {
            "text/plain": [
              "[('foo', 'one', False), ('bar', 'two', True)]"
            ]
          },
          "execution_count": 99,
          "metadata": {},
          "output_type": "execute_result"
        }
      ],
      "source": [
        "# zip can take an arbitrary number of sequences, and the number of elements it\n",
        "# produces is determined by the shortest sequence:\n",
        "seq3 = [False, True]\n",
        "list(zip(seq1, seq2, seq3))"
      ]
    },
    {
      "cell_type": "code",
      "execution_count": null,
      "metadata": {
        "colab": {
          "base_uri": "https://localhost:8080/"
        },
        "id": "N4wGKVRyrcWV",
        "outputId": "9e9a7b82-0821-4bae-90e8-689632e93912"
      },
      "outputs": [
        {
          "name": "stdout",
          "output_type": "stream",
          "text": [
            "0: foo, one\n",
            "1: bar, two\n",
            "2: baz, three\n"
          ]
        }
      ],
      "source": [
        "for index, (a, b) in enumerate(zip(seq1, seq2)):\n",
        "  print(f\"{index}: {a}, {b}\")"
      ]
    },
    {
      "cell_type": "markdown",
      "metadata": {
        "id": "rbaccURDrksX"
      },
      "source": [
        "#### reversed"
      ]
    },
    {
      "cell_type": "code",
      "execution_count": null,
      "metadata": {
        "colab": {
          "base_uri": "https://localhost:8080/"
        },
        "id": "h-qA4kCKrc5G",
        "outputId": "11cab63b-f646-400a-9a6d-16affc9fb425"
      },
      "outputs": [
        {
          "data": {
            "text/plain": [
              "[9, 8, 7, 6, 5, 4, 3, 2, 1, 0]"
            ]
          },
          "execution_count": 102,
          "metadata": {},
          "output_type": "execute_result"
        }
      ],
      "source": [
        "list(reversed(range(10)))"
      ]
    },
    {
      "cell_type": "markdown",
      "metadata": {
        "id": "2qdJRgYbrsIm"
      },
      "source": [
        "### List, Set, and Dictionary Comprehensions\n",
        "List comprehensions are a convenient and widely used Python language feature. They\n",
        "allow you to concisely form a new list by filtering the elements of a collection,\n",
        "transforming the elements passing the filter into one concise expression. They takethe basic form:\n",
        "\n",
        "*[expr for value in collection if condition]*\n",
        "\n",
        "the following for loop:\n",
        "\n",
        "    result = []\n",
        "    for value in collection:\n",
        "      if condition:\n",
        "        result.append(expr)"
      ]
    },
    {
      "cell_type": "code",
      "execution_count": null,
      "metadata": {
        "colab": {
          "base_uri": "https://localhost:8080/"
        },
        "id": "yjzDL6r_rogK",
        "outputId": "8c741034-d751-48da-9749-908e1cd573ce"
      },
      "outputs": [
        {
          "data": {
            "text/plain": [
              "['DOVE', 'PYTHON']"
            ]
          },
          "execution_count": 2,
          "metadata": {},
          "output_type": "execute_result"
        }
      ],
      "source": [
        "strings = [\"a\", \"as\", \"bat\", \"car\", \"dove\", \"python\"]\n",
        "[x.upper() for x in strings if len(x) > 3]"
      ]
    },
    {
      "cell_type": "markdown",
      "metadata": {
        "id": "fDnouP-FswT2"
      },
      "source": [
        "A dictionary comprehension looks like this:\n",
        "\n",
        "    dict_comp = {key-expr: value-expr for value in collection if condition}\n",
        "\n",
        "A set comprehension looks like the equivalent list comprehension except with curly\n",
        "braces instead of square brackets:\n",
        "\n",
        "    set_comp = {expr for value in collection if condition}"
      ]
    },
    {
      "cell_type": "code",
      "execution_count": null,
      "metadata": {
        "colab": {
          "base_uri": "https://localhost:8080/"
        },
        "id": "gQ2mscz6s9KG",
        "outputId": "5d1cb145-c9eb-4dbd-b325-4e915df0d20d"
      },
      "outputs": [
        {
          "name": "stdout",
          "output_type": "stream",
          "text": [
            "{1, 2, 3, 4, 6}\n"
          ]
        },
        {
          "data": {
            "text/plain": [
              "{1, 2, 3, 4, 6}"
            ]
          },
          "execution_count": 3,
          "metadata": {},
          "output_type": "execute_result"
        }
      ],
      "source": [
        "# set comprehension\n",
        "unique_lengths = {len(x) for x in strings}\n",
        "print(unique_lengths)\n",
        "# using map function\n",
        "set(map(len, strings))"
      ]
    },
    {
      "cell_type": "code",
      "execution_count": null,
      "metadata": {
        "id": "CIfatAgJt086",
        "outputId": "9700d89e-e515-4db4-d554-5f2b23e52022"
      },
      "outputs": [
        {
          "data": {
            "text/plain": [
              "{'a': 0, 'as': 1, 'bat': 2, 'car': 3, 'dove': 4, 'python': 5}"
            ]
          },
          "execution_count": 4,
          "metadata": {},
          "output_type": "execute_result"
        }
      ],
      "source": [
        "loc_mapping = {value: index for index, value in enumerate(strings)}\n",
        "loc_mapping"
      ]
    },
    {
      "cell_type": "markdown",
      "metadata": {
        "id": "-F6pm_bBjpCe"
      },
      "source": [
        "#### Nested list comprehensions"
      ]
    },
    {
      "cell_type": "code",
      "execution_count": null,
      "metadata": {
        "id": "PB1Dr2tdjpCf",
        "outputId": "e2efc671-2288-4e79-f12d-bf2cbf823126"
      },
      "outputs": [
        {
          "data": {
            "text/plain": [
              "['Maria', 'Natalia']"
            ]
          },
          "execution_count": 5,
          "metadata": {},
          "output_type": "execute_result"
        }
      ],
      "source": [
        "all_data = [[\"John\", \"Emily\", \"Michael\", \"Mary\", \"Steven\"],\n",
        "            [\"Maria\", \"Juan\", \"Javier\", \"Natalia\", \"Pilar\"]]\n",
        "\n",
        "names_of_interest = []\n",
        "for names in all_data:\n",
        "    enough_as = [name for name in names if name.count(\"a\") >= 2]\n",
        "    names_of_interest.extend(enough_as)\n",
        "\n",
        "names_of_interest"
      ]
    },
    {
      "cell_type": "code",
      "execution_count": null,
      "metadata": {
        "id": "XmM7DvvAjpCf",
        "outputId": "2bbe38ed-41eb-44ec-ecee-3f78d90579ce"
      },
      "outputs": [
        {
          "data": {
            "text/plain": [
              "['Maria', 'Natalia']"
            ]
          },
          "execution_count": 6,
          "metadata": {},
          "output_type": "execute_result"
        }
      ],
      "source": [
        "result = [name for names in all_data for name in names\n",
        "                    if name.count(\"a\") >= 2]\n",
        "result"
      ]
    },
    {
      "cell_type": "markdown",
      "metadata": {
        "id": "_eB4OIb6jpCf"
      },
      "source": [
        "Here is another example where we\n",
        "“flatten” a list of tuples of integers into a simple list of integers:"
      ]
    },
    {
      "cell_type": "code",
      "execution_count": null,
      "metadata": {
        "id": "-q54V6b0jpCf",
        "outputId": "bebe79fa-3470-4fbf-8d32-b3d3a49530b2"
      },
      "outputs": [
        {
          "data": {
            "text/plain": [
              "[1, 2, 3, 4, 5, 6, 7, 8, 9]"
            ]
          },
          "execution_count": 7,
          "metadata": {},
          "output_type": "execute_result"
        }
      ],
      "source": [
        "some_tuples = [(1, 2, 3), (4, 5, 6), (7, 8, 9)]\n",
        "flattened = [x for tup in some_tuples for x in tup]\n",
        "flattened"
      ]
    },
    {
      "cell_type": "markdown",
      "metadata": {
        "id": "k2RtykCijpCf"
      },
      "source": [
        "        flattened = []\n",
        "        for tup in some_tuples:\n",
        "            for x in tup:\n",
        "                flattened.append(x)"
      ]
    },
    {
      "cell_type": "code",
      "execution_count": null,
      "metadata": {
        "id": "MivB1jmxjpCf",
        "outputId": "40dea187-3783-4874-eb95-fb87a8bbb68a"
      },
      "outputs": [
        {
          "data": {
            "text/plain": [
              "[[1, 2, 3], [4, 5, 6], [7, 8, 9]]"
            ]
          },
          "execution_count": 8,
          "metadata": {},
          "output_type": "execute_result"
        }
      ],
      "source": [
        "[[x for x in tup] for tup in some_tuples]"
      ]
    },
    {
      "cell_type": "markdown",
      "metadata": {
        "id": "h6O-KIytjpCf"
      },
      "source": [
        "## 3.2 Functions"
      ]
    },
    {
      "cell_type": "markdown",
      "metadata": {
        "id": "mwV8GgUEjpCf"
      },
      "source": [
        "Functions are the primary and most important method of code organization and reuse in Python. As a rule of thumb, if you anticipate needing to repeat the same or very similar code more than once, it may be worth writing a reusable function."
      ]
    },
    {
      "cell_type": "code",
      "execution_count": null,
      "metadata": {
        "id": "wcyXwKN-jpCf"
      },
      "outputs": [],
      "source": [
        "def my_function(x, y):\n",
        "    return x + y"
      ]
    },
    {
      "cell_type": "code",
      "execution_count": null,
      "metadata": {
        "id": "SAPf6MDHjpCf",
        "outputId": "a7192377-95fc-4907-cb4a-6b104ff7dc36"
      },
      "outputs": [
        {
          "data": {
            "text/plain": [
              "8"
            ]
          },
          "execution_count": 10,
          "metadata": {},
          "output_type": "execute_result"
        }
      ],
      "source": [
        "my_function(3, 5)"
      ]
    },
    {
      "cell_type": "code",
      "execution_count": null,
      "metadata": {
        "id": "QOf96jLKjpCf",
        "outputId": "cd147ece-736a-462a-88ca-9b0b9db4a186"
      },
      "outputs": [
        {
          "data": {
            "text/plain": [
              "8"
            ]
          },
          "execution_count": 11,
          "metadata": {},
          "output_type": "execute_result"
        }
      ],
      "source": [
        "result = my_function(3, 5)\n",
        "result"
      ]
    },
    {
      "cell_type": "markdown",
      "metadata": {
        "id": "ooq7na7vjpCf"
      },
      "source": [
        "There is no issue with having multiple return statements. If Python reaches the end of a function without encountering a return statement, None is returned automati‐\n",
        "cally."
      ]
    },
    {
      "cell_type": "code",
      "execution_count": null,
      "metadata": {
        "id": "QEy9-7PnjpCg",
        "outputId": "44674daa-7a5f-4311-fb51-e3e4f15fc590"
      },
      "outputs": [
        {
          "name": "stdout",
          "output_type": "stream",
          "text": [
            "hello!\n"
          ]
        }
      ],
      "source": [
        "def function_without_return(x):\n",
        "    print(x)\n",
        "result = function_without_return(\"hello!\")"
      ]
    },
    {
      "cell_type": "code",
      "execution_count": null,
      "metadata": {
        "id": "iFG0rP6ljpCg",
        "outputId": "2c259488-b314-48c5-cdb6-65371a981ec9"
      },
      "outputs": [
        {
          "name": "stdout",
          "output_type": "stream",
          "text": [
            "None\n"
          ]
        }
      ],
      "source": [
        "print(result)"
      ]
    },
    {
      "cell_type": "markdown",
      "metadata": {
        "id": "d7mjznRCjpCg"
      },
      "source": [
        "Each function can have positional arguments and keyword arguments. Keyword argu‐ments are most commonly used to specify default values or optional arguments."
      ]
    },
    {
      "cell_type": "code",
      "execution_count": null,
      "metadata": {
        "id": "4lANEY91jpCg"
      },
      "outputs": [],
      "source": [
        "def my_function2(x, y, z=1.5):\n",
        "    if z > 1:\n",
        "        return z * (x + y)\n",
        "    else:\n",
        "        return z / (x + y)"
      ]
    },
    {
      "cell_type": "code",
      "execution_count": null,
      "metadata": {
        "id": "xTyoK_CLjpCg",
        "outputId": "d3dc3986-7b5e-4e98-cc03-ba634408edae"
      },
      "outputs": [
        {
          "name": "stdout",
          "output_type": "stream",
          "text": [
            "0.0875\n",
            "35.49\n"
          ]
        }
      ],
      "source": [
        "print(my_function2(3, 5, z=0.7))\n",
        "print(my_function2(3.14, 7, 3.5))"
      ]
    },
    {
      "cell_type": "code",
      "execution_count": null,
      "metadata": {
        "id": "kdoevZzTjpCg",
        "outputId": "53bbedfe-b381-45e8-8639-71f093369d6d"
      },
      "outputs": [
        {
          "data": {
            "text/plain": [
              "45.0"
            ]
          },
          "execution_count": 17,
          "metadata": {},
          "output_type": "execute_result"
        }
      ],
      "source": [
        "my_function2(10, 20)"
      ]
    },
    {
      "cell_type": "markdown",
      "metadata": {
        "id": "rIQwXeODjpCg"
      },
      "source": [
        "### Namespaces, Scope, and Local Functions"
      ]
    },
    {
      "cell_type": "markdown",
      "metadata": {
        "id": "l0NcazQMjpCg"
      },
      "source": [
        "the function in higher (or even global) scopes. An alternative and more descriptive name describing a variable scope in Python is a namespace. Any variables that are assigned within a function by default are assigned to the local namespace. The local namespace is created when the function is called and is immediately populated by the function’s arguments. After the function is finished, the local namespace is destroyed"
      ]
    },
    {
      "cell_type": "code",
      "execution_count": null,
      "metadata": {
        "id": "PtVOpmTsjpCg"
      },
      "outputs": [],
      "source": [
        "def func():\n",
        "    a = []\n",
        "    for i in range(5):\n",
        "        a.append(i)"
      ]
    },
    {
      "cell_type": "markdown",
      "metadata": {
        "id": "wfDqmuIZjpCg"
      },
      "source": [
        "When func() is called, the empty list a is created, five elements are appended, and then a is destroyed when the function exits."
      ]
    },
    {
      "cell_type": "code",
      "execution_count": null,
      "metadata": {
        "id": "3yAompM5jpCi"
      },
      "outputs": [],
      "source": [
        "a = []\n",
        "def func():\n",
        "    for i in range(5):\n",
        "        a.append(i)"
      ]
    },
    {
      "cell_type": "code",
      "execution_count": null,
      "metadata": {
        "id": "ISsUNYLxjpCi",
        "outputId": "c6acc27c-3afe-4380-e94f-90f1977e53e8"
      },
      "outputs": [
        {
          "data": {
            "text/plain": [
              "[0, 1, 2, 3, 4, 0, 1, 2, 3, 4, 0, 1, 2, 3, 4]"
            ]
          },
          "execution_count": 26,
          "metadata": {},
          "output_type": "execute_result"
        }
      ],
      "source": [
        "#Each call to func will modify list a:\n",
        "func()\n",
        "a\n",
        "\n",
        "func()\n",
        "a"
      ]
    },
    {
      "cell_type": "code",
      "execution_count": null,
      "metadata": {
        "id": "f1fIKuzSjpCi",
        "outputId": "ea6ee7fa-ebb1-4864-b3fd-eb539d9c1e14"
      },
      "outputs": [
        {
          "name": "stdout",
          "output_type": "stream",
          "text": [
            "[]\n"
          ]
        }
      ],
      "source": [
        "a = None\n",
        "\n",
        "def bind_a_variable():\n",
        "    global a\n",
        "    a = []\n",
        "bind_a_variable()\n",
        "\n",
        "\n",
        "print(a)"
      ]
    },
    {
      "cell_type": "markdown",
      "metadata": {
        "id": "dxDJZ6YtjpCi"
      },
      "source": [
        "### Returning Multiple Values"
      ]
    },
    {
      "cell_type": "code",
      "execution_count": null,
      "metadata": {
        "id": "ptJ1rnxMjpCi"
      },
      "outputs": [],
      "source": [
        "def f():\n",
        "    a = 5\n",
        "    b = 6\n",
        "    c = 7\n",
        "    return a, b, c\n",
        "\n",
        "a, b, c = f()"
      ]
    },
    {
      "cell_type": "markdown",
      "metadata": {
        "id": "KU4gpOZ5jpCi"
      },
      "source": [
        "What’s happening here is that the function is actually just returning one object, a tuple, which is then being unpacked into the result variables."
      ]
    },
    {
      "cell_type": "code",
      "execution_count": null,
      "metadata": {
        "id": "hNh-fNpWjpCi",
        "outputId": "dbae928c-fb7d-4eb9-81cd-f1c07ffcace8"
      },
      "outputs": [
        {
          "name": "stdout",
          "output_type": "stream",
          "text": [
            "(5, 6, 7)\n"
          ]
        }
      ],
      "source": [
        "return_value = f()\n",
        "print(return_value)"
      ]
    },
    {
      "cell_type": "code",
      "execution_count": null,
      "metadata": {
        "id": "jyt-tD0vjpCi"
      },
      "outputs": [],
      "source": [
        "def f():\n",
        "    a = 5\n",
        "    b = 6\n",
        "    c = 7\n",
        "    return {\"a\" : a, \"b\" : b, \"c\" : c}"
      ]
    },
    {
      "cell_type": "markdown",
      "metadata": {
        "id": "6jWvpBuyjpCj"
      },
      "source": [
        "### Functions Are Objects"
      ]
    },
    {
      "cell_type": "markdown",
      "metadata": {
        "id": "qGUdSrRqjpCj"
      },
      "source": [
        "Since Python functions are objects, many constructs can be easily expressed that are difficult to do in other languages."
      ]
    },
    {
      "cell_type": "code",
      "execution_count": null,
      "metadata": {
        "id": "WtovxY6HjpCj"
      },
      "outputs": [],
      "source": [
        "states = [\" Alabama \", \"Georgia!\", \"Georgia\", \"georgia\", \"FlOrIda\",\n",
        "            \"south carolina##\", \"West virginia?\"]"
      ]
    },
    {
      "cell_type": "markdown",
      "metadata": {
        "id": "RYUJjt71jpCj"
      },
      "source": [
        "One way to do this is to use built-in string methods\n",
        "along with the re standard library module for regular expressions:"
      ]
    },
    {
      "cell_type": "code",
      "execution_count": null,
      "metadata": {
        "id": "ct8o42xwjpCj",
        "outputId": "4af74e5b-2bdd-4859-8171-28ddd752c033"
      },
      "outputs": [
        {
          "name": "stdout",
          "output_type": "stream",
          "text": [
            "['Alabama', 'Georgia', 'Georgia', 'Georgia', 'Florida', 'South Carolina', 'West Virginia']\n"
          ]
        }
      ],
      "source": [
        "import re\n",
        "def clean_strings(strings):\n",
        "    result = []\n",
        "    for value in strings:\n",
        "        value = value.strip()\n",
        "        value = re.sub(\"[!#?]\", \"\", value)\n",
        "        value = value.title()\n",
        "        result.append(value)\n",
        "    return result\n",
        "result = clean_strings(states)\n",
        "print(result)"
      ]
    },
    {
      "cell_type": "markdown",
      "metadata": {
        "id": "eTu9XGVRjpCj"
      },
      "source": [
        "An alternative approach that you may find useful is to make a list of the operations you want to apply to a particular set of strings:"
      ]
    },
    {
      "cell_type": "code",
      "execution_count": null,
      "metadata": {
        "id": "gSRzSf9SjpCj"
      },
      "outputs": [],
      "source": [
        "def remove_punctuation(value):\n",
        "    return re.sub(\"[!#?]\", \"\", value)\n",
        "\n",
        "clean_ops = [str.strip, remove_punctuation, str.title]\n",
        "\n",
        "def clean_strings(strings, ops):\n",
        "    result = []\n",
        "    for value in strings:\n",
        "        for func in ops:\n",
        "            value = func(value)\n",
        "        result.append(value)\n",
        "    return result"
      ]
    },
    {
      "cell_type": "markdown",
      "metadata": {
        "id": "I3FexGYCjpCj"
      },
      "source": [
        "Then we have the following:"
      ]
    },
    {
      "cell_type": "code",
      "execution_count": null,
      "metadata": {
        "id": "cklVRM_pjpCj",
        "outputId": "047ad5a4-06c2-431b-bd71-f905a8c03425"
      },
      "outputs": [
        {
          "data": {
            "text/plain": [
              "['Alabama',\n",
              " 'Georgia',\n",
              " 'Georgia',\n",
              " 'Georgia',\n",
              " 'Florida',\n",
              " 'South Carolina',\n",
              " 'West Virginia']"
            ]
          },
          "execution_count": 38,
          "metadata": {},
          "output_type": "execute_result"
        }
      ],
      "source": [
        "clean_strings(states, clean_ops)"
      ]
    },
    {
      "cell_type": "markdown",
      "metadata": {
        "id": "SJRqbHZSjpCj"
      },
      "source": [
        "You can use functions as arguments to other functions like the built-in map function, which applies a function to a sequence of some kind:"
      ]
    },
    {
      "cell_type": "code",
      "execution_count": null,
      "metadata": {
        "id": "NG44DGu0jpCj",
        "outputId": "985a536b-d4ce-4bc5-a06a-dc8865a7bd2c"
      },
      "outputs": [
        {
          "name": "stdout",
          "output_type": "stream",
          "text": [
            " Alabama \n",
            "Georgia\n",
            "Georgia\n",
            "georgia\n",
            "FlOrIda\n",
            "south carolina\n",
            "West virginia\n"
          ]
        }
      ],
      "source": [
        "for x in map(remove_punctuation, states):\n",
        "    print(x)"
      ]
    },
    {
      "cell_type": "markdown",
      "metadata": {
        "id": "ftacfUcgjpCj"
      },
      "source": [
        "### Anonymous (Lambda) Functions"
      ]
    },
    {
      "cell_type": "code",
      "execution_count": null,
      "metadata": {
        "id": "uNgLOWqRjpCj",
        "outputId": "882a4d5f-ca69-43d4-fef9-82466f386be5"
      },
      "outputs": [
        {
          "data": {
            "text/plain": [
              "[8, 0, 2, 10, 12]"
            ]
          },
          "execution_count": 40,
          "metadata": {},
          "output_type": "execute_result"
        }
      ],
      "source": [
        "#option 1\n",
        "def short_function(x):\n",
        "    return x * 2\n",
        "#option 2\n",
        "equiv_anon = lambda x: x * 2\n",
        "#option 3\n",
        "def apply_to_list(some_list, f):\n",
        "    return [f(x) for x in some_list]\n",
        "\n",
        "ints = [4, 0, 1, 5, 6]\n",
        "apply_to_list(ints, lambda x: x * 2)"
      ]
    },
    {
      "cell_type": "markdown",
      "metadata": {
        "id": "n_cpvfBvjpCk"
      },
      "source": [
        "You could also have written *[x * 2 for x in ints]*, but here we were able to succinctly pass a custom operator to the apply_to_list function."
      ]
    },
    {
      "cell_type": "code",
      "execution_count": null,
      "metadata": {
        "id": "Br3Aq9ijjpCk",
        "outputId": "f0f978f5-7c1e-404f-b7f9-184e5557ee19"
      },
      "outputs": [
        {
          "data": {
            "text/plain": [
              "['aaaa', 'foo', 'abab', 'bar', 'card']"
            ]
          },
          "execution_count": 41,
          "metadata": {},
          "output_type": "execute_result"
        }
      ],
      "source": [
        "strings = [\"foo\", \"card\", \"bar\", \"aaaa\", \"abab\"]\n",
        "strings.sort(key=lambda x: len(set(x)))\n",
        "strings"
      ]
    },
    {
      "cell_type": "markdown",
      "metadata": {
        "id": "So-MNsxKjpCk"
      },
      "source": [
        "### Generators\n",
        "Many objects in Python support iteration, such as over objects in a list or lines in a\n",
        "file. This is accomplished by means of the iterator protocol, a generic way to make\n",
        "objects iterable."
      ]
    },
    {
      "cell_type": "code",
      "execution_count": null,
      "metadata": {
        "id": "GHowA7lZjpCk",
        "outputId": "d4ab0fdb-a763-4544-c62e-166a379b5c28"
      },
      "outputs": [
        {
          "name": "stdout",
          "output_type": "stream",
          "text": [
            "a\n",
            "b\n",
            "c\n"
          ]
        }
      ],
      "source": [
        "some_dict = {\"a\": 1, \"b\": 2, \"c\": 3}\n",
        "for key in some_dict:\n",
        "    print(key)"
      ]
    },
    {
      "cell_type": "code",
      "execution_count": null,
      "metadata": {
        "id": "m1duhrj9jpCk",
        "outputId": "9055a758-7d0f-4b92-f8e3-d005313573e2"
      },
      "outputs": [
        {
          "data": {
            "text/plain": [
              "<dict_keyiterator at 0x1d1f560eac0>"
            ]
          },
          "execution_count": 43,
          "metadata": {},
          "output_type": "execute_result"
        }
      ],
      "source": [
        "dict_iterator = iter(some_dict)\n",
        "dict_iterator"
      ]
    },
    {
      "cell_type": "code",
      "execution_count": null,
      "metadata": {
        "id": "_Ds9wupCjpCk",
        "outputId": "3ae62b15-e724-41d1-acef-6ae968a8d520"
      },
      "outputs": [
        {
          "data": {
            "text/plain": [
              "['a', 'b', 'c']"
            ]
          },
          "execution_count": 44,
          "metadata": {},
          "output_type": "execute_result"
        }
      ],
      "source": [
        "list(dict_iterator)"
      ]
    },
    {
      "cell_type": "markdown",
      "metadata": {
        "id": "UushQO1QjpCk"
      },
      "source": [
        "To create a generator, use the yield\n",
        "keyword instead of return in a function:"
      ]
    },
    {
      "cell_type": "code",
      "execution_count": null,
      "metadata": {
        "id": "KWKqVkA8jpCk",
        "outputId": "1d429930-4741-4074-a2f0-de684c69488a"
      },
      "outputs": [
        {
          "data": {
            "text/plain": [
              "<generator object squares at 0x000001D1F5619460>"
            ]
          },
          "execution_count": 46,
          "metadata": {},
          "output_type": "execute_result"
        }
      ],
      "source": [
        "def squares(n=10):\n",
        "    print(f\"Generating squares from 1 to {n ** 2}\")\n",
        "    for i in range(1, n + 1):\n",
        "        yield i ** 2\n",
        "\n",
        "gen = squares()\n",
        "gen"
      ]
    },
    {
      "cell_type": "code",
      "execution_count": null,
      "metadata": {
        "id": "z-seh4CKjpCk",
        "outputId": "4f2449e4-df1e-4a0e-f4ae-ef7fe720a8f4"
      },
      "outputs": [
        {
          "name": "stdout",
          "output_type": "stream",
          "text": [
            "Generating squares from 1 to 100\n",
            "1 4 9 16 25 36 49 64 81 100 "
          ]
        }
      ],
      "source": [
        "for x in gen:\n",
        "    print(x, end=\" \")\n",
        "#Generating squares from 1 to 100"
      ]
    },
    {
      "cell_type": "markdown",
      "metadata": {
        "id": "NQ9JWHXvjpCk"
      },
      "source": [
        "#### Generator expressions\n",
        "Another way to make a generator is by using a generator expression. This is a genera‐\n",
        "tor analogue to list, dictionary, and set comprehensions."
      ]
    },
    {
      "cell_type": "code",
      "execution_count": null,
      "metadata": {
        "id": "iQ_v55hUjpCk",
        "outputId": "eb37d648-b9bd-42fc-9d0a-529a395257c9"
      },
      "outputs": [
        {
          "data": {
            "text/plain": [
              "<generator object <genexpr> at 0x000001D1F55A2DC0>"
            ]
          },
          "execution_count": 49,
          "metadata": {},
          "output_type": "execute_result"
        }
      ],
      "source": [
        "gen = (x ** 2 for x in range(100))\n",
        "gen"
      ]
    },
    {
      "cell_type": "code",
      "execution_count": null,
      "metadata": {
        "id": "aWTni0FPjpCk",
        "outputId": "136f268f-9941-4299-9d0b-aab472b4183b"
      },
      "outputs": [
        {
          "data": {
            "text/plain": [
              "<generator object _make_gen at 0x000001D1F4EBF640>"
            ]
          },
          "execution_count": 51,
          "metadata": {},
          "output_type": "execute_result"
        }
      ],
      "source": [
        "def _make_gen():\n",
        "    for x in range(100):\n",
        "        yield x ** 2\n",
        "gen = _make_gen()\n",
        "gen"
      ]
    },
    {
      "cell_type": "code",
      "execution_count": null,
      "metadata": {
        "id": "GxyNese_jpCk",
        "outputId": "2676e0bb-f9a7-44d7-ed4d-147a1dc00b3a"
      },
      "outputs": [
        {
          "name": "stdout",
          "output_type": "stream",
          "text": [
            "328350\n"
          ]
        },
        {
          "data": {
            "text/plain": [
              "{0: 0, 1: 1, 2: 4, 3: 9, 4: 16}"
            ]
          },
          "execution_count": 54,
          "metadata": {},
          "output_type": "execute_result"
        }
      ],
      "source": [
        "print(sum(x ** 2 for x in range(100)))\n",
        "dict((i, i ** 2) for i in range(5))"
      ]
    },
    {
      "cell_type": "markdown",
      "metadata": {
        "id": "vKrqtkQrjpCl"
      },
      "source": [
        "#### itertools module\n",
        "The standard library itertools module has a collection of generators for many\n",
        "common data algorithms. For example, groupby takes any sequence and a function,\n",
        "grouping consecutive elements in the sequence by return value of the function."
      ]
    },
    {
      "cell_type": "code",
      "execution_count": null,
      "metadata": {
        "id": "I9TmKfMgjpCl",
        "outputId": "2ec760ed-cee0-486c-b502-7c1dc15282e1"
      },
      "outputs": [
        {
          "name": "stdout",
          "output_type": "stream",
          "text": [
            "A ['Alan', 'Adam']\n",
            "W ['Wes', 'Will']\n",
            "A ['Albert']\n",
            "S ['Steven']\n"
          ]
        }
      ],
      "source": [
        "import itertools\n",
        "def first_letter(x):\n",
        "    return x[0]\n",
        "names = [\"Alan\", \"Adam\", \"Wes\", \"Will\", \"Albert\", \"Steven\"]\n",
        "\n",
        "for letter, names in itertools.groupby(names, first_letter):\n",
        "    print(letter, list(names)) # names is a generator"
      ]
    },
    {
      "cell_type": "markdown",
      "metadata": {
        "id": "J47tEM8yjpCl"
      },
      "source": [
        "### Errors and Exception Handling\n",
        "Handling Python errors or exceptions gracefully is an important part of building\n",
        "robust programs. In data analysis applications, many functions work only on certain\n",
        "kinds of input."
      ]
    },
    {
      "cell_type": "code",
      "execution_count": null,
      "metadata": {
        "id": "4UqPwoVcjpCl",
        "outputId": "76a7ff9c-1846-4944-acb2-bb6ce21f0519"
      },
      "outputs": [
        {
          "data": {
            "text/plain": [
              "1.2345"
            ]
          },
          "execution_count": 56,
          "metadata": {},
          "output_type": "execute_result"
        }
      ],
      "source": [
        "float(\"1.2345\")"
      ]
    },
    {
      "cell_type": "code",
      "execution_count": null,
      "metadata": {
        "id": "E7SJp0uPjpCl",
        "outputId": "9fe3b5ec-2edb-4a1c-dcb3-a8a377f11e60"
      },
      "outputs": [
        {
          "ename": "ValueError",
          "evalue": "could not convert string to float: 'hello'",
          "output_type": "error",
          "traceback": [
            "\u001b[1;31m---------------------------------------------------------------------------\u001b[0m",
            "\u001b[1;31mValueError\u001b[0m                                Traceback (most recent call last)",
            "Cell \u001b[1;32mIn[57], line 1\u001b[0m\n\u001b[1;32m----> 1\u001b[0m \u001b[38;5;28;43mfloat\u001b[39;49m\u001b[43m(\u001b[49m\u001b[38;5;124;43m\"\u001b[39;49m\u001b[38;5;124;43mhello\u001b[39;49m\u001b[38;5;124;43m\"\u001b[39;49m\u001b[43m)\u001b[49m\n",
            "\u001b[1;31mValueError\u001b[0m: could not convert string to float: 'hello'"
          ]
        }
      ],
      "source": [
        "float(\"hello\")"
      ]
    },
    {
      "cell_type": "markdown",
      "metadata": {
        "id": "YRVLlHVKjpCl"
      },
      "source": [
        "Suppose we wanted a version of float that fails gracefully, returning the input\n",
        "argument."
      ]
    },
    {
      "cell_type": "code",
      "execution_count": null,
      "metadata": {
        "id": "Co4SLKSTjpCl"
      },
      "outputs": [],
      "source": [
        "def attempt_float(x):\n",
        "    try:\n",
        "        return float(x)\n",
        "    except:\n",
        "        return x"
      ]
    },
    {
      "cell_type": "code",
      "execution_count": null,
      "metadata": {
        "id": "YdhONHR6jpCl",
        "outputId": "7d9aaef0-8ea3-4bde-ef9c-4a0380d99112"
      },
      "outputs": [
        {
          "name": "stdout",
          "output_type": "stream",
          "text": [
            "1.2345\n",
            "hello\n"
          ]
        }
      ],
      "source": [
        "print(attempt_float(\"1.2345\"))\n",
        "print(attempt_float(\"hello\"))"
      ]
    },
    {
      "cell_type": "code",
      "execution_count": null,
      "metadata": {
        "id": "QBCNmmuHjpCl",
        "outputId": "9bf3d986-b510-48e4-ab75-2e400bdc506e"
      },
      "outputs": [
        {
          "ename": "TypeError",
          "evalue": "float() argument must be a string or a real number, not 'tuple'",
          "output_type": "error",
          "traceback": [
            "\u001b[1;31m---------------------------------------------------------------------------\u001b[0m",
            "\u001b[1;31mTypeError\u001b[0m                                 Traceback (most recent call last)",
            "Cell \u001b[1;32mIn[60], line 1\u001b[0m\n\u001b[1;32m----> 1\u001b[0m \u001b[38;5;28;43mfloat\u001b[39;49m\u001b[43m(\u001b[49m\u001b[43m(\u001b[49m\u001b[38;5;241;43m1\u001b[39;49m\u001b[43m,\u001b[49m\u001b[43m \u001b[49m\u001b[38;5;241;43m2\u001b[39;49m\u001b[43m)\u001b[49m\u001b[43m)\u001b[49m\n",
            "\u001b[1;31mTypeError\u001b[0m: float() argument must be a string or a real number, not 'tuple'"
          ]
        }
      ],
      "source": [
        "float((1, 2))"
      ]
    },
    {
      "cell_type": "markdown",
      "metadata": {
        "id": "Z6h0eSLEjpCl"
      },
      "source": [
        "You might want to suppress only ValueError, since a TypeError (the input was not a\n",
        "string or numeric value) might indicate a legitimate bug in your program. To do that,\n",
        "write the exception type after except:"
      ]
    },
    {
      "cell_type": "code",
      "execution_count": null,
      "metadata": {
        "id": "3AK1DDPMjpCl",
        "outputId": "578c557a-f1c3-4212-c100-9213be238401"
      },
      "outputs": [
        {
          "ename": "TypeError",
          "evalue": "float() argument must be a string or a real number, not 'tuple'",
          "output_type": "error",
          "traceback": [
            "\u001b[1;31m---------------------------------------------------------------------------\u001b[0m",
            "\u001b[1;31mTypeError\u001b[0m                                 Traceback (most recent call last)",
            "Cell \u001b[1;32mIn[61], line 7\u001b[0m\n\u001b[0;32m      4\u001b[0m     \u001b[38;5;28;01mexcept\u001b[39;00m \u001b[38;5;167;01mValueError\u001b[39;00m:\n\u001b[0;32m      5\u001b[0m         \u001b[38;5;28;01mreturn\u001b[39;00m x\n\u001b[1;32m----> 7\u001b[0m \u001b[43mattempt_float\u001b[49m\u001b[43m(\u001b[49m\u001b[43m(\u001b[49m\u001b[38;5;241;43m1\u001b[39;49m\u001b[43m,\u001b[49m\u001b[43m \u001b[49m\u001b[38;5;241;43m2\u001b[39;49m\u001b[43m)\u001b[49m\u001b[43m)\u001b[49m\n",
            "Cell \u001b[1;32mIn[61], line 3\u001b[0m, in \u001b[0;36mattempt_float\u001b[1;34m(x)\u001b[0m\n\u001b[0;32m      1\u001b[0m \u001b[38;5;28;01mdef\u001b[39;00m \u001b[38;5;21mattempt_float\u001b[39m(x):\n\u001b[0;32m      2\u001b[0m     \u001b[38;5;28;01mtry\u001b[39;00m:\n\u001b[1;32m----> 3\u001b[0m         \u001b[38;5;28;01mreturn\u001b[39;00m \u001b[38;5;28;43mfloat\u001b[39;49m\u001b[43m(\u001b[49m\u001b[43mx\u001b[49m\u001b[43m)\u001b[49m\n\u001b[0;32m      4\u001b[0m     \u001b[38;5;28;01mexcept\u001b[39;00m \u001b[38;5;167;01mValueError\u001b[39;00m:\n\u001b[0;32m      5\u001b[0m         \u001b[38;5;28;01mreturn\u001b[39;00m x\n",
            "\u001b[1;31mTypeError\u001b[0m: float() argument must be a string or a real number, not 'tuple'"
          ]
        }
      ],
      "source": [
        "def attempt_float(x):\n",
        "    try:\n",
        "        return float(x)\n",
        "    except ValueError:\n",
        "        return x\n",
        "\n",
        "attempt_float((1, 2))"
      ]
    },
    {
      "cell_type": "markdown",
      "metadata": {
        "id": "sO7T8V2djpCl"
      },
      "source": [
        "You can catch multiple exception types by writing a tuple of exception types instead"
      ]
    },
    {
      "cell_type": "code",
      "execution_count": null,
      "metadata": {
        "id": "sZuvCBE1jpCl",
        "outputId": "71e343b5-cd23-4d91-85d2-7caede12f3d0"
      },
      "outputs": [
        {
          "data": {
            "text/plain": [
              "(1, 2)"
            ]
          },
          "execution_count": 63,
          "metadata": {},
          "output_type": "execute_result"
        }
      ],
      "source": [
        "def attempt_float(x):\n",
        "    try:\n",
        "        return float(x)\n",
        "    except (TypeError, ValueError):\n",
        "        return x\n",
        "\n",
        "attempt_float((1, 2))"
      ]
    },
    {
      "cell_type": "markdown",
      "metadata": {
        "id": "P39Ni_4VjpCm"
      },
      "source": [
        "use finally"
      ]
    },
    {
      "cell_type": "code",
      "execution_count": null,
      "metadata": {
        "id": "f06icmpBjpCm"
      },
      "outputs": [],
      "source": [
        "f = open(\"README.md\", mode=\"w\")\n",
        "try:\n",
        "    write_to_file(f)\n",
        "finally:\n",
        "    f.close()"
      ]
    },
    {
      "cell_type": "code",
      "execution_count": null,
      "metadata": {
        "id": "XKuw8ZyVjpCm"
      },
      "outputs": [],
      "source": [
        "f = open(\"README.md\", mode=\"w\")\n",
        "try:\n",
        "    write_to_file(f)\n",
        "except:\n",
        "    print(\"Failed\")\n",
        "else:\n",
        "    print(\"Succeeded\")\n",
        "finally:\n",
        "    f.close()"
      ]
    },
    {
      "cell_type": "markdown",
      "metadata": {
        "id": "XOhH6UA_jpCm"
      },
      "source": [
        "#### Exceptions in IPython\n",
        "If an exception is raised while you are %run-ing a script or executing any statement,\n",
        "IPython will by default print a full call stack trace (traceback) with a few lines of\n",
        "context around the position at each point in the stack:"
      ]
    },
    {
      "cell_type": "code",
      "execution_count": null,
      "metadata": {
        "id": "02Gw7EonjpCm",
        "outputId": "0ecbc476-d615-40ac-b432-e4c5cc69d266"
      },
      "outputs": [
        {
          "ename": "Exception",
          "evalue": "File `'examples/ipython_bug.py'` not found.",
          "output_type": "error",
          "traceback": [
            "\u001b[1;31m---------------------------------------------------------------------------\u001b[0m",
            "\u001b[1;31mOSError\u001b[0m                                   Traceback (most recent call last)",
            "File \u001b[1;32m~\\AppData\\Roaming\\Python\\Python312\\site-packages\\IPython\\core\\magics\\execution.py:720\u001b[0m, in \u001b[0;36mExecutionMagics.run\u001b[1;34m(self, parameter_s, runner, file_finder)\u001b[0m\n\u001b[0;32m    719\u001b[0m     fpath \u001b[38;5;241m=\u001b[39m arg_lst[\u001b[38;5;241m0\u001b[39m]\n\u001b[1;32m--> 720\u001b[0m     filename \u001b[38;5;241m=\u001b[39m \u001b[43mfile_finder\u001b[49m\u001b[43m(\u001b[49m\u001b[43mfpath\u001b[49m\u001b[43m)\u001b[49m\n\u001b[0;32m    721\u001b[0m \u001b[38;5;28;01mexcept\u001b[39;00m \u001b[38;5;167;01mIndexError\u001b[39;00m \u001b[38;5;28;01mas\u001b[39;00m e:\n",
            "File \u001b[1;32m~\\AppData\\Roaming\\Python\\Python312\\site-packages\\IPython\\utils\\path.py:91\u001b[0m, in \u001b[0;36mget_py_filename\u001b[1;34m(name)\u001b[0m\n\u001b[0;32m     90\u001b[0m         \u001b[38;5;28;01mreturn\u001b[39;00m py_name\n\u001b[1;32m---> 91\u001b[0m \u001b[38;5;28;01mraise\u001b[39;00m \u001b[38;5;167;01mIOError\u001b[39;00m(\u001b[38;5;124m\"\u001b[39m\u001b[38;5;124mFile `\u001b[39m\u001b[38;5;132;01m%r\u001b[39;00m\u001b[38;5;124m` not found.\u001b[39m\u001b[38;5;124m\"\u001b[39m \u001b[38;5;241m%\u001b[39m name)\n",
            "\u001b[1;31mOSError\u001b[0m: File `'examples/ipython_bug.py'` not found.",
            "\nThe above exception was the direct cause of the following exception:\n",
            "\u001b[1;31mException\u001b[0m                                 Traceback (most recent call last)",
            "Cell \u001b[1;32mIn[65], line 1\u001b[0m\n\u001b[1;32m----> 1\u001b[0m \u001b[43mget_ipython\u001b[49m\u001b[43m(\u001b[49m\u001b[43m)\u001b[49m\u001b[38;5;241;43m.\u001b[39;49m\u001b[43mrun_line_magic\u001b[49m\u001b[43m(\u001b[49m\u001b[38;5;124;43m'\u001b[39;49m\u001b[38;5;124;43mrun\u001b[39;49m\u001b[38;5;124;43m'\u001b[39;49m\u001b[43m,\u001b[49m\u001b[43m \u001b[49m\u001b[38;5;124;43m'\u001b[39;49m\u001b[38;5;124;43mexamples/ipython_bug.py\u001b[39;49m\u001b[38;5;124;43m'\u001b[39;49m\u001b[43m)\u001b[49m\n",
            "File \u001b[1;32m~\\AppData\\Roaming\\Python\\Python312\\site-packages\\IPython\\core\\interactiveshell.py:2480\u001b[0m, in \u001b[0;36mInteractiveShell.run_line_magic\u001b[1;34m(self, magic_name, line, _stack_depth)\u001b[0m\n\u001b[0;32m   2478\u001b[0m     kwargs[\u001b[38;5;124m'\u001b[39m\u001b[38;5;124mlocal_ns\u001b[39m\u001b[38;5;124m'\u001b[39m] \u001b[38;5;241m=\u001b[39m \u001b[38;5;28mself\u001b[39m\u001b[38;5;241m.\u001b[39mget_local_scope(stack_depth)\n\u001b[0;32m   2479\u001b[0m \u001b[38;5;28;01mwith\u001b[39;00m \u001b[38;5;28mself\u001b[39m\u001b[38;5;241m.\u001b[39mbuiltin_trap:\n\u001b[1;32m-> 2480\u001b[0m     result \u001b[38;5;241m=\u001b[39m \u001b[43mfn\u001b[49m\u001b[43m(\u001b[49m\u001b[38;5;241;43m*\u001b[39;49m\u001b[43margs\u001b[49m\u001b[43m,\u001b[49m\u001b[43m \u001b[49m\u001b[38;5;241;43m*\u001b[39;49m\u001b[38;5;241;43m*\u001b[39;49m\u001b[43mkwargs\u001b[49m\u001b[43m)\u001b[49m\n\u001b[0;32m   2482\u001b[0m \u001b[38;5;66;03m# The code below prevents the output from being displayed\u001b[39;00m\n\u001b[0;32m   2483\u001b[0m \u001b[38;5;66;03m# when using magics with decorator @output_can_be_silenced\u001b[39;00m\n\u001b[0;32m   2484\u001b[0m \u001b[38;5;66;03m# when the last Python token in the expression is a ';'.\u001b[39;00m\n\u001b[0;32m   2485\u001b[0m \u001b[38;5;28;01mif\u001b[39;00m \u001b[38;5;28mgetattr\u001b[39m(fn, magic\u001b[38;5;241m.\u001b[39mMAGIC_OUTPUT_CAN_BE_SILENCED, \u001b[38;5;28;01mFalse\u001b[39;00m):\n",
            "File \u001b[1;32m~\\AppData\\Roaming\\Python\\Python312\\site-packages\\IPython\\core\\magics\\execution.py:731\u001b[0m, in \u001b[0;36mExecutionMagics.run\u001b[1;34m(self, parameter_s, runner, file_finder)\u001b[0m\n\u001b[0;32m    729\u001b[0m     \u001b[38;5;28;01mif\u001b[39;00m os\u001b[38;5;241m.\u001b[39mname \u001b[38;5;241m==\u001b[39m \u001b[38;5;124m'\u001b[39m\u001b[38;5;124mnt\u001b[39m\u001b[38;5;124m'\u001b[39m \u001b[38;5;129;01mand\u001b[39;00m re\u001b[38;5;241m.\u001b[39mmatch(\u001b[38;5;124mr\u001b[39m\u001b[38;5;124m\"\u001b[39m\u001b[38;5;124m^\u001b[39m\u001b[38;5;124m'\u001b[39m\u001b[38;5;124m.*\u001b[39m\u001b[38;5;124m'\u001b[39m\u001b[38;5;124m$\u001b[39m\u001b[38;5;124m\"\u001b[39m,fpath):\n\u001b[0;32m    730\u001b[0m         warn(\u001b[38;5;124m'\u001b[39m\u001b[38;5;124mFor Windows, use double quotes to wrap a filename: \u001b[39m\u001b[38;5;132;01m%r\u001b[39;00m\u001b[38;5;124mun \u001b[39m\u001b[38;5;124m\"\u001b[39m\u001b[38;5;124mmypath\u001b[39m\u001b[38;5;130;01m\\\\\u001b[39;00m\u001b[38;5;124mmyfile.py\u001b[39m\u001b[38;5;124m\"\u001b[39m\u001b[38;5;124m'\u001b[39m)\n\u001b[1;32m--> 731\u001b[0m     \u001b[38;5;28;01mraise\u001b[39;00m \u001b[38;5;167;01mException\u001b[39;00m(msg) \u001b[38;5;28;01mfrom\u001b[39;00m \u001b[38;5;21;01me\u001b[39;00m\n\u001b[0;32m    732\u001b[0m \u001b[38;5;28;01mexcept\u001b[39;00m \u001b[38;5;167;01mTypeError\u001b[39;00m:\n\u001b[0;32m    733\u001b[0m     \u001b[38;5;28;01mif\u001b[39;00m fpath \u001b[38;5;129;01min\u001b[39;00m sys\u001b[38;5;241m.\u001b[39mmeta_path:\n",
            "\u001b[1;31mException\u001b[0m: File `'examples/ipython_bug.py'` not found."
          ]
        }
      ],
      "source": [
        "%run examples/ipython_bug.py"
      ]
    },
    {
      "cell_type": "markdown",
      "metadata": {
        "id": "iqU79ubOjpCm"
      },
      "source": [
        "## 3.3 Files and the Operating System\n",
        "To open a file for reading or writing, use the built-in open function with either a\n",
        "relative or absolute file path and an optional file encoding:"
      ]
    },
    {
      "cell_type": "code",
      "execution_count": null,
      "metadata": {
        "id": "KTSFygsgjpCm"
      },
      "outputs": [],
      "source": [
        "path = \"C:\\\\Users\\\\Admin\\\\SGU Document\\\\Tài liệu ôn thi\\\\PHAO CỨU SINH MÔN JAVA.docx\"\n",
        "f = open(path, encoding=\"utf-8\")"
      ]
    },
    {
      "cell_type": "code",
      "execution_count": null,
      "metadata": {
        "id": "E38UP8TpjpCm"
      },
      "outputs": [],
      "source": [
        "lines = [x.rstrip() for x in open(path, encoding=\"utf-8\")]\n",
        "lines\n",
        "f.close()"
      ]
    },
    {
      "cell_type": "code",
      "execution_count": null,
      "metadata": {
        "id": "D2Tk_eu1jpCm"
      },
      "outputs": [],
      "source": [
        "# One of the ways\n",
        "with open(path, encoding=\"utf-8\") as f:\n",
        "    lines = [x.rstrip() for x in f]"
      ]
    },
    {
      "cell_type": "markdown",
      "metadata": {
        "id": "ScFDXMojjpCm"
      },
      "source": []
    },
    {
      "cell_type": "code",
      "execution_count": null,
      "metadata": {
        "id": "Et3ZlkMzjpCm"
      },
      "outputs": [],
      "source": [
        "f1 = open(path)\n",
        "f1.read(10)\n",
        "f2 = open(path, mode=\"rb\") # Binary mode\n",
        "f2.read(10)"
      ]
    },
    {
      "cell_type": "code",
      "execution_count": null,
      "metadata": {
        "id": "ObZ8AGy9jpCm"
      },
      "outputs": [],
      "source": [
        "f1.tell()\n",
        "f2.tell()"
      ]
    },
    {
      "cell_type": "code",
      "execution_count": null,
      "metadata": {
        "id": "Ys_JfDmsjpCm",
        "outputId": "643f0d85-a8a8-42f4-ca3c-491cf316e72d"
      },
      "outputs": [
        {
          "data": {
            "text/plain": [
              "'utf-8'"
            ]
          },
          "execution_count": 90,
          "metadata": {},
          "output_type": "execute_result"
        }
      ],
      "source": [
        "import sys\n",
        "sys.getdefaultencoding()"
      ]
    },
    {
      "cell_type": "code",
      "execution_count": null,
      "metadata": {
        "id": "Ds2Ad0C9jpCn"
      },
      "outputs": [],
      "source": [
        "f1.seek(3)\n",
        "f1.read(1)\n",
        "f1.tell()"
      ]
    },
    {
      "cell_type": "markdown",
      "metadata": {
        "id": "BbnCQWrUjpCn"
      },
      "source": [
        "Lastly, we remember to close the files:"
      ]
    },
    {
      "cell_type": "code",
      "execution_count": null,
      "metadata": {
        "id": "3J-S9Z8AjpCn"
      },
      "outputs": [],
      "source": [
        "f1.close()\n",
        "f2.close()"
      ]
    },
    {
      "cell_type": "markdown",
      "metadata": {
        "id": "C0vpUBeUjpCn"
      },
      "source": [
        "To write text to a file, you can use the file’s write or writelines methods. For\n",
        "example, we could create a version of PHAO CỨU SINH MÔN JAVA.docx with no blank lines\n",
        "like so:"
      ]
    },
    {
      "cell_type": "code",
      "execution_count": null,
      "metadata": {
        "id": "IyH6dXRQjpCn",
        "outputId": "2f23da37-6feb-4e1e-fc05-b2f523e36051"
      },
      "outputs": [
        {
          "data": {
            "text/plain": [
              "'C:\\\\Users\\\\Admin\\\\SGU Document\\\\Tài liệu ôn thi\\\\PHAO CỨU SINH MÔN JAVA.docx'"
            ]
          },
          "execution_count": 93,
          "metadata": {},
          "output_type": "execute_result"
        }
      ],
      "source": [
        "path"
      ]
    },
    {
      "cell_type": "markdown",
      "metadata": {
        "id": "HeKTi7MqjpCn"
      },
      "source": []
    },
    {
      "cell_type": "code",
      "execution_count": null,
      "metadata": {
        "id": "iq3Ei4iRjpCn"
      },
      "outputs": [],
      "source": [
        "with open(\"tmp.txt\", mode=\"w\") as handle:\n",
        "    handle.writelines(x for x in open(path) if len(x) > 1)\n",
        "\n",
        "with open(\"tmp.txt\") as f:\n",
        "    lines = f.readlines()\n",
        "lines"
      ]
    },
    {
      "cell_type": "markdown",
      "metadata": {
        "id": "yNoHmO4bjpCn"
      },
      "source": [
        "### Bytes and Unicode with Files\n",
        "The default behavior for Python files (whether readable or writable) is text mode,\n",
        "which means that you intend to work with Python strings (i.e., Unicode). This\n",
        "contrasts with binary mode, which you can obtain by appending b to the file mode."
      ]
    },
    {
      "cell_type": "code",
      "execution_count": null,
      "metadata": {
        "id": "0qbHiOhOjpCn"
      },
      "outputs": [],
      "source": [
        "with open(path) as f:\n",
        "    chars = f.read(10)\n",
        "chars\n",
        "\n",
        "len(chars)"
      ]
    },
    {
      "cell_type": "code",
      "execution_count": null,
      "metadata": {
        "id": "0ux823UCjpCn"
      },
      "outputs": [],
      "source": [
        "with open(path, mode=\"rb\") as f:\n",
        "    data = f.read(10)\n",
        "data"
      ]
    },
    {
      "cell_type": "code",
      "execution_count": null,
      "metadata": {
        "id": "W_cX_bEZjpCn"
      },
      "outputs": [],
      "source": [
        "data.decode(\"utf-8\")\n",
        "data[:4].decode(\"utf-8\")"
      ]
    },
    {
      "cell_type": "markdown",
      "metadata": {
        "id": "I_sQEqdJjpCn"
      },
      "source": [
        "Text mode, combined with the encoding option of open, provides a convenient way\n",
        "to convert from one Unicode encoding to another:"
      ]
    },
    {
      "cell_type": "code",
      "execution_count": null,
      "metadata": {
        "id": "C0Gv6RWujpCn"
      },
      "outputs": [],
      "source": [
        "sink_path = \"sink.txt\"\n",
        "\n",
        "with open(path) as source:\n",
        "    with open(sink_path, \"x\", encoding=\"iso-8859-1\") as sink:\n",
        "        sink.write(source.read())\n",
        "\n",
        "with open(sink_path, encoding=\"iso-8859-1\") as f:\n",
        "    print(f.read(10))"
      ]
    },
    {
      "cell_type": "code",
      "execution_count": null,
      "metadata": {
        "id": "FU6VxM4jjpCn"
      },
      "outputs": [],
      "source": [
        "f = open(path, encoding='utf-8')\n",
        "f.read(5)\n",
        "f.seek(4)\n",
        "f.read(1)\n",
        "f.close()"
      ]
    },
    {
      "cell_type": "markdown",
      "metadata": {
        "id": "J_VWaGLCjpCn"
      },
      "source": [
        "## 3.4 Conclusion"
      ]
    },
    {
      "cell_type": "markdown",
      "metadata": {
        "id": "P_sLC2rHjpCn"
      },
      "source": [
        "# CHAPTER 4:\n",
        "---\n",
        "## NumPy Basics: Arrays and Vectorized Computation"
      ]
    },
    {
      "cell_type": "code",
      "execution_count": null,
      "metadata": {
        "id": "eu1QrYppjpCo"
      },
      "outputs": [],
      "source": [
        "import numpy as np\n",
        "my_arr = np.arange(1_000_000)\n",
        "my_list = list(range(1_000_000))"
      ]
    },
    {
      "cell_type": "code",
      "execution_count": null,
      "metadata": {
        "id": "rh30t5fxjpCo",
        "outputId": "5eab0918-3785-4b48-9030-9b0135f0b2a1"
      },
      "outputs": [
        {
          "name": "stdout",
          "output_type": "stream",
          "text": [
            "1.14 ms ± 58.4 μs per loop (mean ± std. dev. of 7 runs, 1,000 loops each)\n"
          ]
        }
      ],
      "source": [
        "# Now let’s multiply each sequence by 2:\n",
        "%timeit my_arr2 = my_arr * 2"
      ]
    },
    {
      "cell_type": "code",
      "execution_count": null,
      "metadata": {
        "id": "efCo0Do5jpCo",
        "outputId": "4fe93290-503c-4b1f-8507-6b30160c5646"
      },
      "outputs": [
        {
          "name": "stdout",
          "output_type": "stream",
          "text": [
            "50 ms ± 1.54 ms per loop (mean ± std. dev. of 7 runs, 10 loops each)\n"
          ]
        }
      ],
      "source": [
        "%timeit my_list2 = [x * 2 for x in my_list]"
      ]
    },
    {
      "cell_type": "markdown",
      "metadata": {
        "id": "DNK78YOzjpCo"
      },
      "source": [
        "NumPy-based algorithms are generally 10 to 100 times faster (or more) than their\n",
        "pure Python counterparts and use significantly less memory."
      ]
    },
    {
      "cell_type": "markdown",
      "metadata": {
        "id": "GALv4ll0jpCo"
      },
      "source": [
        "## 4.1 The NumPy ndarray: A Multidimensional Array Object"
      ]
    },
    {
      "cell_type": "code",
      "execution_count": null,
      "metadata": {
        "id": "k7vglFiLjpCo",
        "outputId": "61ecadaa-8238-4b5a-d587-8687027c2ab8"
      },
      "outputs": [
        {
          "data": {
            "text/plain": [
              "array([[ 1.5, -0.1,  3. ],\n",
              "       [ 0. , -3. ,  6.5]])"
            ]
          },
          "execution_count": 98,
          "metadata": {},
          "output_type": "execute_result"
        }
      ],
      "source": [
        "import numpy as np\n",
        "data = np.array([[1.5, -0.1, 3], [0, -3, 6.5]])\n",
        "data"
      ]
    },
    {
      "cell_type": "code",
      "execution_count": null,
      "metadata": {
        "id": "xN6r-w4-jpCo",
        "outputId": "fe36ceb5-b53e-4989-b3e8-cd6fca299d2c"
      },
      "outputs": [
        {
          "data": {
            "text/plain": [
              "array([[ 15.,  -1.,  30.],\n",
              "       [  0., -30.,  65.]])"
            ]
          },
          "execution_count": 99,
          "metadata": {},
          "output_type": "execute_result"
        }
      ],
      "source": [
        "data * 10"
      ]
    },
    {
      "cell_type": "code",
      "execution_count": null,
      "metadata": {
        "id": "pNGe8K1NjpCo",
        "outputId": "8f076012-8cd4-4056-d578-d8c8366483e6"
      },
      "outputs": [
        {
          "data": {
            "text/plain": [
              "array([[ 3. , -0.2,  6. ],\n",
              "       [ 0. , -6. , 13. ]])"
            ]
          },
          "execution_count": 100,
          "metadata": {},
          "output_type": "execute_result"
        }
      ],
      "source": [
        "data + data"
      ]
    },
    {
      "cell_type": "code",
      "execution_count": null,
      "metadata": {
        "id": "e1bG9fgQjpCo",
        "outputId": "ed05df07-7a25-486c-dbcd-95528527f2d5"
      },
      "outputs": [
        {
          "data": {
            "text/plain": [
              "(2, 3)"
            ]
          },
          "execution_count": 101,
          "metadata": {},
          "output_type": "execute_result"
        }
      ],
      "source": [
        "data.shape"
      ]
    },
    {
      "cell_type": "code",
      "execution_count": null,
      "metadata": {
        "id": "v2vEpooFjpCo",
        "outputId": "f0facbe9-c8b4-40a5-db8e-5a9c6fe97811"
      },
      "outputs": [
        {
          "data": {
            "text/plain": [
              "dtype('float64')"
            ]
          },
          "execution_count": 102,
          "metadata": {},
          "output_type": "execute_result"
        }
      ],
      "source": [
        "data.dtype"
      ]
    },
    {
      "cell_type": "markdown",
      "metadata": {
        "id": "8TrD3C3jjpCo"
      },
      "source": [
        "### Creating ndarrays"
      ]
    },
    {
      "cell_type": "code",
      "execution_count": null,
      "metadata": {
        "id": "-cEWAPHPjpCo",
        "outputId": "3c11d708-4be0-4cb6-91d4-1d15fe517a27"
      },
      "outputs": [
        {
          "data": {
            "text/plain": [
              "array([6. , 7.5, 8. , 0. , 1. ])"
            ]
          },
          "execution_count": 103,
          "metadata": {},
          "output_type": "execute_result"
        }
      ],
      "source": [
        "data1 = [6, 7.5, 8, 0, 1]\n",
        "arr1 = np.array(data1)\n",
        "arr1"
      ]
    },
    {
      "cell_type": "code",
      "execution_count": null,
      "metadata": {
        "id": "te-Myt2DjpCo",
        "outputId": "89f406e3-18ba-4262-8cc2-ec3fe316b186"
      },
      "outputs": [
        {
          "data": {
            "text/plain": [
              "array([[1, 2, 3, 4],\n",
              "       [5, 6, 7, 8]])"
            ]
          },
          "execution_count": 104,
          "metadata": {},
          "output_type": "execute_result"
        }
      ],
      "source": [
        "data2 = [[1, 2, 3, 4], [5, 6, 7, 8]]\n",
        "arr2 = np.array(data2)\n",
        "arr2"
      ]
    },
    {
      "cell_type": "code",
      "execution_count": null,
      "metadata": {
        "id": "EwYMMLvxjpCp",
        "outputId": "f52e1df8-3371-4c19-ddf4-2d4bd473b6aa"
      },
      "outputs": [
        {
          "name": "stdout",
          "output_type": "stream",
          "text": [
            "2\n",
            "(2, 4)\n",
            "int32\n",
            "float64\n"
          ]
        }
      ],
      "source": [
        "print(arr2.ndim)\n",
        "print(arr2.shape)\n",
        "print(arr2.dtype)\n",
        "print(arr1.dtype)\n"
      ]
    },
    {
      "cell_type": "markdown",
      "metadata": {
        "id": "89rPzjrYjpCp"
      },
      "source": [
        "To create a higher dimensional array\n",
        "with these methods, pass a tuple for the shape:"
      ]
    },
    {
      "cell_type": "code",
      "execution_count": null,
      "metadata": {
        "id": "kvA24lyQjpCp",
        "outputId": "0839581a-ff54-4666-92aa-709faae76780"
      },
      "outputs": [
        {
          "data": {
            "text/plain": [
              "array([0., 0., 0., 0., 0., 0., 0., 0., 0., 0.])"
            ]
          },
          "execution_count": 106,
          "metadata": {},
          "output_type": "execute_result"
        }
      ],
      "source": [
        "np.zeros(10)"
      ]
    },
    {
      "cell_type": "code",
      "execution_count": null,
      "metadata": {
        "id": "8tnMbLe3jpCp",
        "outputId": "5777ff40-7b41-4581-8234-6dc94df2e2a7"
      },
      "outputs": [
        {
          "data": {
            "text/plain": [
              "array([[0., 0., 0., 0., 0., 0.],\n",
              "       [0., 0., 0., 0., 0., 0.],\n",
              "       [0., 0., 0., 0., 0., 0.]])"
            ]
          },
          "execution_count": 107,
          "metadata": {},
          "output_type": "execute_result"
        }
      ],
      "source": [
        "np.zeros((3, 6))"
      ]
    },
    {
      "cell_type": "code",
      "execution_count": null,
      "metadata": {
        "id": "O3pOka1MjpCp",
        "outputId": "a4ab513c-865e-45f9-88e8-74b26981afa1"
      },
      "outputs": [
        {
          "data": {
            "text/plain": [
              "array([[[6.95328437e-310, 9.88753912e-312],\n",
              "        [2.96439388e-323, 9.88753912e-312],\n",
              "        [1.11260619e-306, 9.88753912e-312]],\n",
              "\n",
              "       [[4.22757997e-090, 0.00000000e+000],\n",
              "        [9.88753912e-312, 9.88753912e-312],\n",
              "        [9.88753912e-312, 0.00000000e+000]]])"
            ]
          },
          "execution_count": 108,
          "metadata": {},
          "output_type": "execute_result"
        }
      ],
      "source": [
        "np.empty((2, 3, 2))"
      ]
    },
    {
      "cell_type": "markdown",
      "metadata": {
        "id": "pCxhlIDzjpCp"
      },
      "source": [
        "**numpy.arange** is an array-valued version of the built-in Python range function:"
      ]
    },
    {
      "cell_type": "code",
      "execution_count": null,
      "metadata": {
        "id": "HS0nR33mjpCp",
        "outputId": "c5d1b579-a7ba-4564-89a1-299bcae5f25d"
      },
      "outputs": [
        {
          "data": {
            "text/plain": [
              "array([ 0,  1,  2,  3,  4,  5,  6,  7,  8,  9, 10, 11, 12, 13, 14])"
            ]
          },
          "execution_count": 109,
          "metadata": {},
          "output_type": "execute_result"
        }
      ],
      "source": [
        "np.arange(15)"
      ]
    },
    {
      "cell_type": "markdown",
      "metadata": {
        "id": "cNMSCnnLjpCp"
      },
      "source": [
        "### Data Types for ndarrays\n",
        "The data type or dtype is a special object containing the information (or metadata,\n",
        "data about data) the ndarray needs to interpret a chunk of memory as a particular\n",
        "type of data:"
      ]
    },
    {
      "cell_type": "code",
      "execution_count": null,
      "metadata": {
        "id": "ZJ3GjdCLjpCp",
        "outputId": "0601f6e1-6408-4459-83d0-bd8c5678656f"
      },
      "outputs": [
        {
          "name": "stdout",
          "output_type": "stream",
          "text": [
            "float64\n",
            "int32\n"
          ]
        }
      ],
      "source": [
        "arr1 = np.array([1, 2, 3], dtype=np.float64)\n",
        "arr2 = np.array([1, 2, 3], dtype=np.int32)\n",
        "print(arr1.dtype)\n",
        "print(arr2.dtype)"
      ]
    },
    {
      "cell_type": "code",
      "execution_count": null,
      "metadata": {
        "id": "JU3-PyinjpCp",
        "outputId": "dec5b9b0-84ee-4d44-f20e-3848f27fab7f"
      },
      "outputs": [
        {
          "name": "stdout",
          "output_type": "stream",
          "text": [
            "int32\n",
            "[1. 2. 3. 4. 5.]\n"
          ]
        },
        {
          "data": {
            "text/plain": [
              "dtype('float64')"
            ]
          },
          "execution_count": 113,
          "metadata": {},
          "output_type": "execute_result"
        }
      ],
      "source": [
        "arr = np.array([1, 2, 3, 4, 5])\n",
        "print(arr.dtype)\n",
        "\n",
        "float_arr = arr.astype(np.float64)\n",
        "print(float_arr)\n",
        "float_arr.dtype"
      ]
    },
    {
      "cell_type": "markdown",
      "metadata": {
        "id": "_Jaf7n-2jpCp"
      },
      "source": [
        "In this example, integers were cast to floating point. If I cast some floating-point\n",
        "numbers to be of integer data type, the decimal part will be truncated:"
      ]
    },
    {
      "cell_type": "code",
      "execution_count": null,
      "metadata": {
        "id": "SpX6kK5PjpCq",
        "outputId": "0841344b-dacc-423c-9d8c-d09b3eb8f5d4"
      },
      "outputs": [
        {
          "name": "stdout",
          "output_type": "stream",
          "text": [
            "[ 3.7 -1.2 -2.6  0.5 12.9 10.1]\n"
          ]
        },
        {
          "data": {
            "text/plain": [
              "array([ 3, -1, -2,  0, 12, 10])"
            ]
          },
          "execution_count": 114,
          "metadata": {},
          "output_type": "execute_result"
        }
      ],
      "source": [
        "arr = np.array([3.7, -1.2, -2.6, 0.5, 12.9, 10.1])\n",
        "print(arr)\n",
        "arr.astype(np.int32)"
      ]
    },
    {
      "cell_type": "code",
      "execution_count": null,
      "metadata": {
        "id": "sN2s8NT-jpCq",
        "outputId": "dfcddea4-e01f-4a95-9137-7d84e7427992"
      },
      "outputs": [
        {
          "data": {
            "text/plain": [
              "array([ 1.25, -9.6 , 42.  ])"
            ]
          },
          "execution_count": 115,
          "metadata": {},
          "output_type": "execute_result"
        }
      ],
      "source": [
        "numeric_strings = np.array([\"1.25\", \"-9.6\", \"42\"], dtype=np.string_)\n",
        "numeric_strings.astype(float)"
      ]
    },
    {
      "cell_type": "markdown",
      "metadata": {
        "id": "_ljTGNRJjpCq"
      },
      "source": [
        "You can also use another array’s dtype attribute:"
      ]
    },
    {
      "cell_type": "code",
      "execution_count": null,
      "metadata": {
        "id": "zaOoRTlGjpCq",
        "outputId": "71fdffc2-dc31-4b58-9993-80db3c6cab4e"
      },
      "outputs": [
        {
          "data": {
            "text/plain": [
              "array([0., 1., 2., 3., 4., 5., 6., 7., 8., 9.])"
            ]
          },
          "execution_count": 116,
          "metadata": {},
          "output_type": "execute_result"
        }
      ],
      "source": [
        "int_array = np.arange(10)\n",
        "calibers = np.array([.22, .270, .357, .380, .44, .50], dtype=np.float64)\n",
        "int_array.astype(calibers.dtype)"
      ]
    },
    {
      "cell_type": "code",
      "execution_count": null,
      "metadata": {
        "id": "687QSxNAjpCr",
        "outputId": "4abe83da-c6ac-4a9b-be52-8501293dc933"
      },
      "outputs": [
        {
          "data": {
            "text/plain": [
              "array([0, 0, 0, 0, 0, 0, 0, 0], dtype=uint32)"
            ]
          },
          "execution_count": 117,
          "metadata": {},
          "output_type": "execute_result"
        }
      ],
      "source": [
        "zeros_uint32 = np.zeros(8, dtype=\"u4\")\n",
        "zeros_uint32"
      ]
    },
    {
      "cell_type": "markdown",
      "metadata": {
        "id": "wHg8FpIRjpCr"
      },
      "source": [
        "### Arithmetic with NumPy Arrays\n",
        "Arrays are important because they enable you to express batch operations on data\n",
        "without writing any for loops. NumPy users call this vectorization. Any arithmetic\n",
        "operations between equal-size arrays apply the operation element-wise:"
      ]
    },
    {
      "cell_type": "code",
      "execution_count": null,
      "metadata": {
        "id": "jAlvp_1rjpCr",
        "outputId": "881d6f83-0abb-4902-b1e0-3838f11df6f1"
      },
      "outputs": [
        {
          "name": "stdout",
          "output_type": "stream",
          "text": [
            "[[1. 2. 3.]\n",
            " [4. 5. 6.]]\n",
            "[[ 1.  4.  9.]\n",
            " [16. 25. 36.]]\n",
            "[[0. 0. 0.]\n",
            " [0. 0. 0.]]\n",
            "[[1.         0.5        0.33333333]\n",
            " [0.25       0.2        0.16666667]]\n",
            "[[1.         1.41421356 1.73205081]\n",
            " [2.         2.23606798 2.44948974]]\n"
          ]
        }
      ],
      "source": [
        "arr = np.array([[1., 2., 3.], [4., 5., 6.]])\n",
        "print(arr)\n",
        "\n",
        "print(arr * arr)\n",
        "print(arr - arr)\n",
        "print(1 / arr)\n",
        "print(arr ** 0.5)\n"
      ]
    },
    {
      "cell_type": "code",
      "execution_count": null,
      "metadata": {
        "id": "p00UNbvHjpCr",
        "outputId": "f10da63f-b444-4796-e4a9-95b44cd987dc"
      },
      "outputs": [
        {
          "name": "stdout",
          "output_type": "stream",
          "text": [
            "[[False  True False]\n",
            " [ True False  True]]\n"
          ]
        }
      ],
      "source": [
        "arr2 = np.array([[0., 4., 1.], [7., 2., 12.]])\n",
        "\n",
        "print(arr2 > arr)"
      ]
    },
    {
      "cell_type": "markdown",
      "metadata": {
        "id": "_U795cLBjpCr"
      },
      "source": [
        "### Basic Indexing and Slicing"
      ]
    },
    {
      "cell_type": "code",
      "execution_count": null,
      "metadata": {
        "id": "NYHPHbUJjpCr",
        "outputId": "fb1bbbbf-c960-40b1-c1ea-c01c0eb70258"
      },
      "outputs": [
        {
          "name": "stdout",
          "output_type": "stream",
          "text": [
            "[0 1 2 3 4 5 6 7 8 9]\n",
            "5\n",
            "[5 6 7]\n",
            "[ 0  1  2  3  4 12 12 12  8  9]\n"
          ]
        }
      ],
      "source": [
        "arr = np.arange(10)\n",
        "print(arr)\n",
        "print(arr[5])\n",
        "print(arr[5:8])\n",
        "arr[5:8] = 12\n",
        "print(arr)"
      ]
    },
    {
      "cell_type": "code",
      "execution_count": null,
      "metadata": {
        "id": "Jx6chCbvjpCr",
        "outputId": "5ffde67b-ec37-4da9-cad6-15c490fc5b44"
      },
      "outputs": [
        {
          "name": "stdout",
          "output_type": "stream",
          "text": [
            "[12 12 12]\n",
            "[    0     1     2     3     4    12 12345    12     8     9]\n"
          ]
        }
      ],
      "source": [
        "arr_slice = arr[5:8]\n",
        "print(arr_slice)\n",
        "arr_slice[1] = 12345\n",
        "print(arr)"
      ]
    },
    {
      "cell_type": "markdown",
      "metadata": {
        "id": "bx0Sx_WUjpCr"
      },
      "source": [
        "The “bare” slice [:] will assign to all values in an array:"
      ]
    },
    {
      "cell_type": "code",
      "execution_count": null,
      "metadata": {
        "id": "tt_3OnzgjpCr",
        "outputId": "bf01a3ce-6fff-421d-c150-3cba75d532c0"
      },
      "outputs": [
        {
          "name": "stdout",
          "output_type": "stream",
          "text": [
            "[ 0  1  2  3  4 64 64 64  8  9]\n"
          ]
        }
      ],
      "source": [
        "arr_slice[:] = 64\n",
        "print(arr)"
      ]
    },
    {
      "cell_type": "markdown",
      "metadata": {
        "id": "vOIU9n9njpCr"
      },
      "source": [
        "With higher dimensional arrays, you have many more options. In a two-dimensional\n",
        "array, the elements at each index are no longer scalars but rather one-dimensional\n",
        "arrays:"
      ]
    },
    {
      "cell_type": "code",
      "execution_count": null,
      "metadata": {
        "id": "bYFERJ7CjpCr",
        "outputId": "4392fe36-652b-4b06-9e36-dd341daca0a7"
      },
      "outputs": [
        {
          "name": "stdout",
          "output_type": "stream",
          "text": [
            "[7 8 9]\n",
            "3\n",
            "3\n"
          ]
        }
      ],
      "source": [
        "arr2d = np.array([[1, 2, 3], [4, 5, 6], [7, 8, 9]])\n",
        "print(arr2d[2])\n",
        "print(arr2d[0][2])\n",
        "print(arr2d[0, 2])"
      ]
    },
    {
      "cell_type": "code",
      "execution_count": null,
      "metadata": {
        "id": "1bCUTjmPjpCr",
        "outputId": "5217de79-c511-49df-c996-d82b454cb685"
      },
      "outputs": [
        {
          "name": "stdout",
          "output_type": "stream",
          "text": [
            "[[[ 1  2  3]\n",
            "  [ 4  5  6]]\n",
            "\n",
            " [[ 7  8  9]\n",
            "  [10 11 12]]]\n",
            "[[1 2 3]\n",
            " [4 5 6]]\n",
            "[[ 7  8  9]\n",
            " [10 11 12]]\n"
          ]
        }
      ],
      "source": [
        "arr3d = np.array([[[1, 2, 3], [4, 5, 6]],\n",
        "                  [[7, 8, 9], [10, 11, 12]]])\n",
        "print(arr3d)\n",
        "print(arr3d[0])\n",
        "print(arr3d[1])"
      ]
    },
    {
      "cell_type": "code",
      "execution_count": null,
      "metadata": {
        "id": "lKBMvXJHjpCs",
        "outputId": "e0d63286-7f11-4a46-8e46-8437984cf6eb"
      },
      "outputs": [
        {
          "name": "stdout",
          "output_type": "stream",
          "text": [
            "[[[42 42 42]\n",
            "  [42 42 42]]\n",
            "\n",
            " [[ 7  8  9]\n",
            "  [10 11 12]]]\n",
            "[[[ 1  2  3]\n",
            "  [ 4  5  6]]\n",
            "\n",
            " [[ 7  8  9]\n",
            "  [10 11 12]]]\n"
          ]
        }
      ],
      "source": [
        "old_values = arr3d[0].copy()\n",
        "arr3d[0] = 42\n",
        "print(arr3d)\n",
        "arr3d[0] = old_values\n",
        "print(arr3d)"
      ]
    },
    {
      "cell_type": "markdown",
      "metadata": {
        "id": "1zD8MEc3jpCs"
      },
      "source": [
        "Similarly, arr3d[1, 0] gives you all of the values whose indices start with (1, 0),\n",
        "forming a one-dimensional array:"
      ]
    },
    {
      "cell_type": "code",
      "execution_count": null,
      "metadata": {
        "id": "QyyFw1ObjpCs",
        "outputId": "11316572-11d0-493c-ff29-6f379ff060d8"
      },
      "outputs": [
        {
          "data": {
            "text/plain": [
              "array([7, 8, 9])"
            ]
          },
          "execution_count": 128,
          "metadata": {},
          "output_type": "execute_result"
        }
      ],
      "source": [
        "arr3d[1,0]"
      ]
    },
    {
      "cell_type": "code",
      "execution_count": null,
      "metadata": {
        "id": "XrrWqjWIjpCs",
        "outputId": "ffa24da7-e8ff-4eb7-a85f-cee070e85a08"
      },
      "outputs": [
        {
          "name": "stdout",
          "output_type": "stream",
          "text": [
            "[[ 7  8  9]\n",
            " [10 11 12]]\n",
            "[7 8 9]\n"
          ]
        }
      ],
      "source": [
        "x = arr3d[1]\n",
        "print(x)\n",
        "y = x[0]\n",
        "print(y)"
      ]
    },
    {
      "cell_type": "markdown",
      "metadata": {
        "id": "wlgvQwawjpCs"
      },
      "source": [
        "#### Indexing with slices\n",
        "Like one-dimensional objects such as Python lists, ndarrays can be sliced with the\n",
        "familiar syntax:"
      ]
    },
    {
      "cell_type": "code",
      "execution_count": null,
      "metadata": {
        "id": "ecHDrJaKjpCs",
        "outputId": "17043531-1174-483d-d624-ab47e0a065d4"
      },
      "outputs": [
        {
          "name": "stdout",
          "output_type": "stream",
          "text": [
            "[ 0  1  2  3  4 64 64 64  8  9]\n",
            "[ 1  2  3  4 64]\n",
            "[[1 2 3]\n",
            " [4 5 6]\n",
            " [7 8 9]]\n",
            "[[1 2 3]\n",
            " [4 5 6]]\n",
            "[[2 3]\n",
            " [5 6]]\n"
          ]
        }
      ],
      "source": [
        "print(arr)\n",
        "print(arr[1:6])\n",
        "\n",
        "print(arr2d)\n",
        "print(arr2d[:2])\n",
        "print(arr2d[:2, 1:])"
      ]
    },
    {
      "cell_type": "code",
      "execution_count": null,
      "metadata": {
        "id": "peg_6N9HjpCs",
        "outputId": "41e76005-806b-4f6f-c1ba-a8fc17d0f90b"
      },
      "outputs": [
        {
          "name": "stdout",
          "output_type": "stream",
          "text": [
            "(2,)\n",
            "[3 6]\n",
            "[[1]\n",
            " [4]\n",
            " [7]]\n",
            "[[1 0 0]\n",
            " [4 0 0]\n",
            " [7 8 9]]\n"
          ]
        }
      ],
      "source": [
        "lower_dim_slice = arr2d[1, :2]\n",
        "print(lower_dim_slice.shape)\n",
        "print(arr2d[:2, 2])\n",
        "print(arr2d[ : , :1])\n",
        "arr2d[:2, 1:] = 0\n",
        "print(arr2d)"
      ]
    },
    {
      "cell_type": "markdown",
      "metadata": {
        "id": "evp7fZPpjpCs"
      },
      "source": [
        "### Boolean Indexing"
      ]
    },
    {
      "cell_type": "code",
      "execution_count": null,
      "metadata": {
        "id": "l7Ro9xDFjpCs",
        "outputId": "044fc8f0-079a-4428-d263-39a41a0db338"
      },
      "outputs": [
        {
          "name": "stdout",
          "output_type": "stream",
          "text": [
            "['Bob' 'Joe' 'Will' 'Bob' 'Will' 'Joe' 'Joe']\n",
            "[[  4   7]\n",
            " [  0   2]\n",
            " [ -5   6]\n",
            " [  0   0]\n",
            " [  1   2]\n",
            " [-12  -4]\n",
            " [  3   4]]\n"
          ]
        }
      ],
      "source": [
        "names = np.array([\"Bob\", \"Joe\", \"Will\", \"Bob\", \"Will\", \"Joe\", \"Joe\"])\n",
        "data = np.array([[4, 7], [0, 2], [-5, 6], [0, 0], [1, 2], [-12, -4], [3, 4]])\n",
        "print(names)\n",
        "print(data)"
      ]
    },
    {
      "cell_type": "markdown",
      "metadata": {
        "id": "ZDNiCkxnjpCs"
      },
      "source": [
        "Suppose each name corresponds to a row in the data array and we wanted to\n",
        "select all the rows with the corresponding name \"Bob\"."
      ]
    },
    {
      "cell_type": "code",
      "execution_count": null,
      "metadata": {
        "id": "DUwqjEQwjpCs",
        "outputId": "7a31c86d-aecc-4fe9-cb77-704af3d89fd5"
      },
      "outputs": [
        {
          "data": {
            "text/plain": [
              "array([ True, False, False,  True, False, False, False])"
            ]
          },
          "execution_count": 137,
          "metadata": {},
          "output_type": "execute_result"
        }
      ],
      "source": [
        "names == \"Bob\""
      ]
    },
    {
      "cell_type": "code",
      "execution_count": null,
      "metadata": {
        "id": "hsynzmQ9jpCs",
        "outputId": "6dab56f0-3276-4de8-ef96-024e4b418dae"
      },
      "outputs": [
        {
          "data": {
            "text/plain": [
              "array([[4, 7],\n",
              "       [0, 0]])"
            ]
          },
          "execution_count": 138,
          "metadata": {},
          "output_type": "execute_result"
        }
      ],
      "source": [
        "# This Boolean array can be passed when indexing the array:\n",
        "data[names == \"Bob\"]"
      ]
    },
    {
      "cell_type": "markdown",
      "metadata": {
        "id": "my91KZmEjpCs"
      },
      "source": [
        "In these examples, I select from the rows where names == \"Bob\" and index the\n",
        "columns, too:"
      ]
    },
    {
      "cell_type": "code",
      "execution_count": null,
      "metadata": {
        "id": "Rs21y1V6jpCs",
        "outputId": "2b0e4f2b-8321-4a51-b43f-2714354220ca"
      },
      "outputs": [
        {
          "name": "stdout",
          "output_type": "stream",
          "text": [
            "[[7]\n",
            " [0]]\n",
            "---------------\n",
            "[7 0]\n",
            "---------------\n",
            "[False  True  True False  True  True  True]\n",
            "---------------\n",
            "[False  True  True False  True  True  True]\n",
            "---------------\n",
            "[[  0   2]\n",
            " [ -5   6]\n",
            " [  1   2]\n",
            " [-12  -4]\n",
            " [  3   4]]\n"
          ]
        }
      ],
      "source": [
        "print(data[names == \"Bob\", 1:])\n",
        "print(\"---------------\")\n",
        "print(data[names == \"Bob\", 1])\n",
        "print(\"---------------\")\n",
        "mask = (names != \"Bob\")\n",
        "print(mask)\n",
        "print(\"---------------\")\n",
        "print(~(names == \"Bob\"))\n",
        "print(\"---------------\")\n",
        "print(data[mask])"
      ]
    },
    {
      "cell_type": "markdown",
      "metadata": {
        "id": "AistIjMPjpCt"
      },
      "source": [
        "The ~ operator can be useful when you want to invert a Boolean array referenced by a\n",
        "variable:"
      ]
    },
    {
      "cell_type": "code",
      "execution_count": null,
      "metadata": {
        "id": "vlp_SxUjjpCt",
        "outputId": "6cfbf135-c050-48f0-8ce5-e24d080d85c3"
      },
      "outputs": [
        {
          "data": {
            "text/plain": [
              "array([[  0,   2],\n",
              "       [ -5,   6],\n",
              "       [  1,   2],\n",
              "       [-12,  -4],\n",
              "       [  3,   4]])"
            ]
          },
          "execution_count": 140,
          "metadata": {},
          "output_type": "execute_result"
        }
      ],
      "source": [
        "cond = names == \"Bob\"\n",
        "data[~cond]"
      ]
    },
    {
      "cell_type": "markdown",
      "metadata": {
        "id": "CQKEn3_cjpCt"
      },
      "source": [
        "To select two of the three names to combine multiple Boolean conditions, use\n",
        "Boolean arithmetic operators like & (and) and | (or):"
      ]
    },
    {
      "cell_type": "code",
      "execution_count": null,
      "metadata": {
        "id": "B7S-y74ajpCt",
        "outputId": "8639073e-a9ca-4384-d74a-f4112427419e"
      },
      "outputs": [
        {
          "name": "stdout",
          "output_type": "stream",
          "text": [
            "[ True False  True  True  True False False]\n",
            "[[ 4  7]\n",
            " [-5  6]\n",
            " [ 0  0]\n",
            " [ 1  2]]\n"
          ]
        }
      ],
      "source": [
        "mask = (names == \"Bob\") | (names == \"Will\")\n",
        "print(mask)\n",
        "print(data[mask])"
      ]
    },
    {
      "cell_type": "code",
      "execution_count": null,
      "metadata": {
        "id": "fKeTOgv6jpCt",
        "outputId": "859463ac-6146-4f74-e268-9cb4153a65cb"
      },
      "outputs": [
        {
          "data": {
            "text/plain": [
              "array([[4, 7],\n",
              "       [0, 2],\n",
              "       [0, 6],\n",
              "       [0, 0],\n",
              "       [1, 2],\n",
              "       [0, 0],\n",
              "       [3, 4]])"
            ]
          },
          "execution_count": 142,
          "metadata": {},
          "output_type": "execute_result"
        }
      ],
      "source": [
        "data[data < 0] = 0\n",
        "data"
      ]
    },
    {
      "cell_type": "code",
      "execution_count": null,
      "metadata": {
        "id": "o_QlJunqjpCt",
        "outputId": "51f702a4-d32e-4ac9-bbe3-6c0eca8f9406"
      },
      "outputs": [
        {
          "data": {
            "text/plain": [
              "array([[7, 7],\n",
              "       [0, 2],\n",
              "       [7, 7],\n",
              "       [7, 7],\n",
              "       [7, 7],\n",
              "       [0, 0],\n",
              "       [3, 4]])"
            ]
          },
          "execution_count": 143,
          "metadata": {},
          "output_type": "execute_result"
        }
      ],
      "source": [
        "# You can also set whole rows or columns using a one-dimensional Boolean array:\n",
        "data[names != \"Joe\"] = 7\n",
        "data"
      ]
    },
    {
      "cell_type": "markdown",
      "metadata": {
        "id": "aJjacM97jpCt"
      },
      "source": [
        "### Fancy Indexing\n",
        "Fancy indexing is a term adopted by NumPy to describe indexing using integer arrays.\n"
      ]
    },
    {
      "cell_type": "code",
      "execution_count": null,
      "metadata": {
        "id": "hGjboqnDjpCt",
        "outputId": "2557997c-b765-455c-9928-d5a14f8c9d67"
      },
      "outputs": [
        {
          "data": {
            "text/plain": [
              "array([[0., 0., 0., 0.],\n",
              "       [1., 1., 1., 1.],\n",
              "       [2., 2., 2., 2.],\n",
              "       [3., 3., 3., 3.],\n",
              "       [4., 4., 4., 4.],\n",
              "       [5., 5., 5., 5.],\n",
              "       [6., 6., 6., 6.],\n",
              "       [7., 7., 7., 7.]])"
            ]
          },
          "execution_count": 144,
          "metadata": {},
          "output_type": "execute_result"
        }
      ],
      "source": [
        "arr = np.zeros((8, 4))\n",
        "for i in range(8):\n",
        "    arr[i] = i\n",
        "arr"
      ]
    },
    {
      "cell_type": "code",
      "execution_count": null,
      "metadata": {
        "id": "urJibKkCjpCt",
        "outputId": "cf45f8fe-d54c-4b45-8838-34fd12c66fac"
      },
      "outputs": [
        {
          "data": {
            "text/plain": [
              "array([[4., 4., 4., 4.],\n",
              "       [3., 3., 3., 3.],\n",
              "       [0., 0., 0., 0.],\n",
              "       [6., 6., 6., 6.]])"
            ]
          },
          "execution_count": 146,
          "metadata": {},
          "output_type": "execute_result"
        }
      ],
      "source": [
        "# To select a subset of the rows in a particular order, you can simply pass a list or\n",
        "# ndarray of integers specifying the desired order:\n",
        "arr[[4, 3, 0, 6]]\n"
      ]
    },
    {
      "cell_type": "code",
      "execution_count": null,
      "metadata": {
        "id": "7DeUzeC5jpCt",
        "outputId": "20d1aa78-9fd2-49f3-b779-dd5bcbc73dff"
      },
      "outputs": [
        {
          "data": {
            "text/plain": [
              "array([[5., 5., 5., 5.],\n",
              "       [3., 3., 3., 3.],\n",
              "       [1., 1., 1., 1.]])"
            ]
          },
          "execution_count": 147,
          "metadata": {},
          "output_type": "execute_result"
        }
      ],
      "source": [
        "# Hopefully this code did what you expected! Using negative indices selects rows from\n",
        "# the end:\n",
        "arr[[-3, -5, -7]]"
      ]
    },
    {
      "cell_type": "code",
      "execution_count": null,
      "metadata": {
        "id": "EU9ZCdorjpCt",
        "outputId": "3e626f31-fbc3-4946-cc2b-7ed29f079e29"
      },
      "outputs": [
        {
          "name": "stdout",
          "output_type": "stream",
          "text": [
            "[[ 0  1  2  3]\n",
            " [ 4  5  6  7]\n",
            " [ 8  9 10 11]\n",
            " [12 13 14 15]\n",
            " [16 17 18 19]\n",
            " [20 21 22 23]\n",
            " [24 25 26 27]\n",
            " [28 29 30 31]]\n",
            "---------------\n",
            "[ 4 23 29 10]\n",
            "---------------\n",
            "[[ 0  1  2  3]\n",
            " [ 0  5  6  7]\n",
            " [ 8  9  0 11]\n",
            " [12 13 14 15]\n",
            " [16 17 18 19]\n",
            " [20 21 22  0]\n",
            " [24 25 26 27]\n",
            " [28  0 30 31]]\n"
          ]
        }
      ],
      "source": [
        "arr = np.arange(32).reshape((8, 4))\n",
        "print(arr)\n",
        "print(\"---------------\")\n",
        "print(arr[[1, 5, 7, 2], [0, 3, 1, 2]])\n",
        "print(\"---------------\")\n",
        "arr[[1,5,7,2], [0,3,1,2]] = 0\n",
        "print(arr)"
      ]
    },
    {
      "cell_type": "markdown",
      "metadata": {
        "id": "BhgsUQDIjpCt"
      },
      "source": [
        "### Transposing Arrays and Swapping Axes\n",
        "Transposing is a special form of reshaping that similarly returns a view on the\n",
        "underlying data without copying anything."
      ]
    },
    {
      "cell_type": "code",
      "execution_count": null,
      "metadata": {
        "id": "xhJOBQxtjpCt",
        "outputId": "cbb020df-c145-449e-e853-36c11aacd7d2"
      },
      "outputs": [
        {
          "name": "stdout",
          "output_type": "stream",
          "text": [
            "[[ 0  1  2  3  4]\n",
            " [ 5  6  7  8  9]\n",
            " [10 11 12 13 14]]\n",
            "---------------\n",
            "[[ 0  5 10]\n",
            " [ 1  6 11]\n",
            " [ 2  7 12]\n",
            " [ 3  8 13]\n",
            " [ 4  9 14]]\n",
            "---------------\n"
          ]
        }
      ],
      "source": [
        "arr = np.arange(15).reshape((3, 5))\n",
        "print(arr)\n",
        "print(\"---------------\")\n",
        "# Simple transposing with .T is a special case of swapping axes. ndarray has the method\n",
        "#swapaxes\n",
        "print(arr.T)\n",
        "print(\"---------------\")"
      ]
    },
    {
      "cell_type": "code",
      "execution_count": null,
      "metadata": {
        "id": "ongcl6JYjpCu",
        "outputId": "96ebc3be-68ee-413b-f3b0-fb7790d7253e"
      },
      "outputs": [
        {
          "name": "stdout",
          "output_type": "stream",
          "text": [
            "[[ 0  1  0]\n",
            " [ 1  2 -2]\n",
            " [ 6  3  2]\n",
            " [-1  0 -1]\n",
            " [ 1  0  1]]\n",
            "---------------\n",
            "[[39 20 12]\n",
            " [20 14  2]\n",
            " [12  2 10]]\n",
            "---------------\n",
            "[[39 20 12]\n",
            " [20 14  2]\n",
            " [12  2 10]]\n"
          ]
        }
      ],
      "source": [
        "arr = np.array([[0, 1, 0], [1, 2, -2], [6, 3, 2], [-1, 0, -1], [1, 0, 1]])\n",
        "print(arr)\n",
        "print(\"---------------\")\n",
        "print(np.dot(arr.T, arr))\n",
        "print(\"---------------\")\n",
        "# The @ infix operator is another way to do matrix multiplication:\n",
        "print(arr.T @ arr)"
      ]
    },
    {
      "cell_type": "code",
      "execution_count": null,
      "metadata": {
        "id": "mGnolc8wjpCu",
        "outputId": "668d4dd4-7e1b-4f37-c3b7-4d77bd0fe99f"
      },
      "outputs": [
        {
          "name": "stdout",
          "output_type": "stream",
          "text": [
            "[[ 0  1  0]\n",
            " [ 1  2 -2]\n",
            " [ 6  3  2]\n",
            " [-1  0 -1]\n",
            " [ 1  0  1]]\n",
            "[[ 0  1  6 -1  1]\n",
            " [ 1  2  3  0  0]\n",
            " [ 0 -2  2 -1  1]]\n"
          ]
        }
      ],
      "source": [
        "print(arr)\n",
        "print(arr.swapaxes(0, 1))"
      ]
    },
    {
      "cell_type": "markdown",
      "metadata": {
        "id": "M8YFTuyZjpCu"
      },
      "source": [
        "## 4.2 Pseudorandom Number Generation"
      ]
    },
    {
      "cell_type": "code",
      "source": [
        "import numpy as np\n",
        "import pandas as pd\n",
        "samples = np.random.standard_normal(size=(4, 4))\n",
        "samples"
      ],
      "metadata": {
        "colab": {
          "base_uri": "https://localhost:8080/"
        },
        "id": "lPLa5GXMmo5q",
        "outputId": "3ff8dcc7-6124-48f1-f707-eafd82053388"
      },
      "execution_count": 1,
      "outputs": [
        {
          "output_type": "execute_result",
          "data": {
            "text/plain": [
              "array([[-1.35490198, -0.26719984, -0.01036215,  1.34536821],\n",
              "       [ 1.80953731, -0.76673748,  0.3777302 ,  1.59453858],\n",
              "       [-0.45315156,  1.69407568, -0.39300054,  1.68413738],\n",
              "       [ 1.88535872,  0.29087109,  0.63454908,  1.55427562]])"
            ]
          },
          "metadata": {},
          "execution_count": 1
        }
      ]
    },
    {
      "cell_type": "markdown",
      "metadata": {
        "id": "bvUc-mdojpCu"
      },
      "source": [
        "Python’s built-in random module,"
      ]
    },
    {
      "cell_type": "code",
      "source": [
        "from random import normalvariate\n",
        "N = 1_000_000\n",
        "%timeit samples = [normalvariate(0, 1) for _ in range(N)]\n",
        "%timeit np.random.standard_normal(N)"
      ],
      "metadata": {
        "colab": {
          "base_uri": "https://localhost:8080/"
        },
        "id": "DjltztxAnEcD",
        "outputId": "a1568149-55ce-453b-d048-5f16989bf2f3"
      },
      "execution_count": 3,
      "outputs": [
        {
          "output_type": "stream",
          "name": "stdout",
          "text": [
            "738 ms ± 193 ms per loop (mean ± std. dev. of 7 runs, 1 loop each)\n",
            "30.1 ms ± 679 µs per loop (mean ± std. dev. of 7 runs, 10 loops each)\n"
          ]
        }
      ]
    },
    {
      "cell_type": "code",
      "source": [
        "rng = np.random.default_rng(seed=12345)\n",
        "data = rng.standard_normal((2, 3))\n",
        "type(rng)"
      ],
      "metadata": {
        "colab": {
          "base_uri": "https://localhost:8080/"
        },
        "id": "VLFh7GWhpUWZ",
        "outputId": "50f05584-348c-4b6c-c3a4-51b7c71e2e17"
      },
      "execution_count": 4,
      "outputs": [
        {
          "output_type": "execute_result",
          "data": {
            "text/plain": [
              "numpy.random._generator.Generator"
            ]
          },
          "metadata": {},
          "execution_count": 4
        }
      ]
    },
    {
      "cell_type": "markdown",
      "source": [
        "## 4.3 Universal Functions: Fast Element-Wise Array Functions"
      ],
      "metadata": {
        "id": "MTXwKElTpcda"
      }
    },
    {
      "cell_type": "markdown",
      "source": [
        "A universal function, or ufunc, is a function that performs element-wise operations\n",
        "on data in ndarrays.\n",
        "\n",
        "Many ufuncs are simple element-wise transformations, like numpy.sqrt or\n",
        "numpy.exp:"
      ],
      "metadata": {
        "id": "eKuve5LUpfnB"
      }
    },
    {
      "cell_type": "code",
      "source": [
        "arr = np.arange(10)\n",
        "print(arr)\n",
        "print(\"--------\")\n",
        "print(np.sqrt(arr))\n",
        "print(\"--------\")\n",
        "print(np.exp(arr))"
      ],
      "metadata": {
        "colab": {
          "base_uri": "https://localhost:8080/"
        },
        "id": "_zUn9xCJpej4",
        "outputId": "cca88a8d-1516-4a32-edf5-5465dbcd6e08"
      },
      "execution_count": 5,
      "outputs": [
        {
          "output_type": "stream",
          "name": "stdout",
          "text": [
            "[0 1 2 3 4 5 6 7 8 9]\n",
            "--------\n",
            "[0.         1.         1.41421356 1.73205081 2.         2.23606798\n",
            " 2.44948974 2.64575131 2.82842712 3.        ]\n",
            "--------\n",
            "[1.00000000e+00 2.71828183e+00 7.38905610e+00 2.00855369e+01\n",
            " 5.45981500e+01 1.48413159e+02 4.03428793e+02 1.09663316e+03\n",
            " 2.98095799e+03 8.10308393e+03]\n"
          ]
        }
      ]
    },
    {
      "cell_type": "markdown",
      "source": [
        "These are referred to as unary ufuncs. Others, such as numpy.add or numpy.maximum,\n",
        "take two arrays (thus, binary ufuncs) and return a single array as the result:"
      ],
      "metadata": {
        "id": "l-ogcEBNp-Jh"
      }
    },
    {
      "cell_type": "code",
      "source": [
        "x = rng.standard_normal(8)\n",
        "y = rng.standard_normal(8)\n",
        "x"
      ],
      "metadata": {
        "colab": {
          "base_uri": "https://localhost:8080/"
        },
        "id": "b_iZPFuhp6MW",
        "outputId": "86528d6c-4f4b-43b3-c3eb-9d3f5130750a"
      },
      "execution_count": 6,
      "outputs": [
        {
          "output_type": "execute_result",
          "data": {
            "text/plain": [
              "array([-1.3677927 ,  0.6488928 ,  0.36105811, -1.95286306,  2.34740965,\n",
              "        0.96849691, -0.75938718,  0.90219827])"
            ]
          },
          "metadata": {},
          "execution_count": 6
        }
      ]
    },
    {
      "cell_type": "code",
      "source": [
        "y"
      ],
      "metadata": {
        "colab": {
          "base_uri": "https://localhost:8080/"
        },
        "id": "AqRZnlgoqDhE",
        "outputId": "95c4ea26-b905-4881-85a7-752c7236f7fa"
      },
      "execution_count": 7,
      "outputs": [
        {
          "output_type": "execute_result",
          "data": {
            "text/plain": [
              "array([-0.46695317, -0.06068952,  0.78884434, -1.25666813,  0.57585751,\n",
              "        1.39897899,  1.32229806, -0.29969852])"
            ]
          },
          "metadata": {},
          "execution_count": 7
        }
      ]
    },
    {
      "cell_type": "code",
      "source": [
        "np.maximum(x, y)"
      ],
      "metadata": {
        "colab": {
          "base_uri": "https://localhost:8080/"
        },
        "id": "dA7Llg3FqHFh",
        "outputId": "65bee959-84c8-4165-a823-f1edbe71e1db"
      },
      "execution_count": 8,
      "outputs": [
        {
          "output_type": "execute_result",
          "data": {
            "text/plain": [
              "array([-0.46695317,  0.6488928 ,  0.78884434, -1.25666813,  2.34740965,\n",
              "        1.39897899,  1.32229806,  0.90219827])"
            ]
          },
          "metadata": {},
          "execution_count": 8
        }
      ]
    },
    {
      "cell_type": "markdown",
      "source": [
        "While not common, a ufunc can return multiple arrays. numpy.modf is one example:"
      ],
      "metadata": {
        "id": "0yyCfcLDqYuh"
      }
    },
    {
      "cell_type": "code",
      "source": [
        "arr = rng.standard_normal(7) * 5\n",
        "print(arr)\n",
        "remainder, whole_part = np.modf(arr)\n",
        "print(remainder)\n",
        "whole_part"
      ],
      "metadata": {
        "colab": {
          "base_uri": "https://localhost:8080/"
        },
        "id": "GUg0NxwXqLEP",
        "outputId": "994a2221-49c0-4e3a-f6fc-b8e2b1199457"
      },
      "execution_count": 9,
      "outputs": [
        {
          "output_type": "stream",
          "name": "stdout",
          "text": [
            "[ 4.51459671 -8.10791367 -0.7909463   2.24741966 -6.71800536 -0.40843795\n",
            "  8.62369966]\n",
            "[ 0.51459671 -0.10791367 -0.7909463   0.24741966 -0.71800536 -0.40843795\n",
            "  0.62369966]\n"
          ]
        },
        {
          "output_type": "execute_result",
          "data": {
            "text/plain": [
              "array([ 4., -8., -0.,  2., -6., -0.,  8.])"
            ]
          },
          "metadata": {},
          "execution_count": 9
        }
      ]
    },
    {
      "cell_type": "markdown",
      "source": [
        "Ufuncs accept an optional out argument that allows them to assign their results into\n",
        "an existing array rather than create a new one:"
      ],
      "metadata": {
        "id": "yvHAIPRcqvdR"
      }
    },
    {
      "cell_type": "code",
      "source": [
        "print(arr)\n",
        "print(\"-------------\")\n",
        "out = np.zeros_like(arr)\n",
        "print(np.add(arr, 1))\n",
        "print(\"-------------\")\n",
        "print(np.add(arr, 1, out=out))\n",
        "print(\"-------------\")\n",
        "print(out)"
      ],
      "metadata": {
        "colab": {
          "base_uri": "https://localhost:8080/"
        },
        "id": "YkpFRZlHqv4G",
        "outputId": "b6bd530e-65e0-4f15-ac6a-7aee2530662a"
      },
      "execution_count": 11,
      "outputs": [
        {
          "output_type": "stream",
          "name": "stdout",
          "text": [
            "[ 4.51459671 -8.10791367 -0.7909463   2.24741966 -6.71800536 -0.40843795\n",
            "  8.62369966]\n",
            "-------------\n",
            "[ 5.51459671 -7.10791367  0.2090537   3.24741966 -5.71800536  0.59156205\n",
            "  9.62369966]\n",
            "-------------\n",
            "[ 5.51459671 -7.10791367  0.2090537   3.24741966 -5.71800536  0.59156205\n",
            "  9.62369966]\n",
            "-------------\n",
            "[ 5.51459671 -7.10791367  0.2090537   3.24741966 -5.71800536  0.59156205\n",
            "  9.62369966]\n"
          ]
        }
      ]
    },
    {
      "cell_type": "markdown",
      "source": [
        "## 4.4 Array-Oriented Programming with Arrays\n",
        "Using NumPy arrays enables you to express many kinds of data processing tasks as\n",
        "concise array expressions that might otherwise require writing loops. This practice\n",
        "of replacing explicit loops with array expressions is referred to by some people\n",
        "as vectorization."
      ],
      "metadata": {
        "id": "smsNzJa4rIHJ"
      }
    },
    {
      "cell_type": "code",
      "source": [
        "points = np.arange(-5, 5, 0.01)\n",
        "xs, ys = np.meshgrid(points, points)\n",
        "ys"
      ],
      "metadata": {
        "colab": {
          "base_uri": "https://localhost:8080/"
        },
        "id": "tVTsjsjNq-ie",
        "outputId": "2d4acab3-4d4f-43f1-d4b9-96ab85601c3f"
      },
      "execution_count": 12,
      "outputs": [
        {
          "output_type": "execute_result",
          "data": {
            "text/plain": [
              "array([[-5.  , -5.  , -5.  , ..., -5.  , -5.  , -5.  ],\n",
              "       [-4.99, -4.99, -4.99, ..., -4.99, -4.99, -4.99],\n",
              "       [-4.98, -4.98, -4.98, ..., -4.98, -4.98, -4.98],\n",
              "       ...,\n",
              "       [ 4.97,  4.97,  4.97, ...,  4.97,  4.97,  4.97],\n",
              "       [ 4.98,  4.98,  4.98, ...,  4.98,  4.98,  4.98],\n",
              "       [ 4.99,  4.99,  4.99, ...,  4.99,  4.99,  4.99]])"
            ]
          },
          "metadata": {},
          "execution_count": 12
        }
      ]
    },
    {
      "cell_type": "code",
      "source": [
        "z = np.sqrt(xs ** 2 + ys ** 2)\n",
        "z"
      ],
      "metadata": {
        "colab": {
          "base_uri": "https://localhost:8080/"
        },
        "id": "LM0aod0Hrf4J",
        "outputId": "3abb2c3e-dd56-408b-ad52-1da62ed554d9"
      },
      "execution_count": 13,
      "outputs": [
        {
          "output_type": "execute_result",
          "data": {
            "text/plain": [
              "array([[7.07106781, 7.06400028, 7.05693985, ..., 7.04988652, 7.05693985,\n",
              "        7.06400028],\n",
              "       [7.06400028, 7.05692568, 7.04985815, ..., 7.04279774, 7.04985815,\n",
              "        7.05692568],\n",
              "       [7.05693985, 7.04985815, 7.04278354, ..., 7.03571603, 7.04278354,\n",
              "        7.04985815],\n",
              "       ...,\n",
              "       [7.04988652, 7.04279774, 7.03571603, ..., 7.0286414 , 7.03571603,\n",
              "        7.04279774],\n",
              "       [7.05693985, 7.04985815, 7.04278354, ..., 7.03571603, 7.04278354,\n",
              "        7.04985815],\n",
              "       [7.06400028, 7.05692568, 7.04985815, ..., 7.04279774, 7.04985815,\n",
              "        7.05692568]])"
            ]
          },
          "metadata": {},
          "execution_count": 13
        }
      ]
    },
    {
      "cell_type": "code",
      "source": [
        "import matplotlib.pyplot as plt\n",
        "plt.imshow(z, cmap=plt.cm.gray, extent=[-5, 5, -5, 5])\n",
        "plt.colorbar()\n",
        "plt.title(\"Image plot of $\\sqrt{x^2 + y^2}$ for a grid of values\")"
      ],
      "metadata": {
        "colab": {
          "base_uri": "https://localhost:8080/",
          "height": 553
        },
        "id": "6lVuxycPrbQS",
        "outputId": "ae5faf40-0939-4481-baeb-816efa1cf6c9"
      },
      "execution_count": 15,
      "outputs": [
        {
          "output_type": "stream",
          "name": "stderr",
          "text": [
            "<>:4: SyntaxWarning: invalid escape sequence '\\s'\n",
            "<>:4: SyntaxWarning: invalid escape sequence '\\s'\n",
            "/tmp/ipython-input-1149770671.py:4: SyntaxWarning: invalid escape sequence '\\s'\n",
            "  plt.title(\"Image plot of $\\sqrt{x^2 + y^2}$ for a grid of values\")\n"
          ]
        },
        {
          "output_type": "execute_result",
          "data": {
            "text/plain": [
              "Text(0.5, 1.0, 'Image plot of $\\\\sqrt{x^2 + y^2}$ for a grid of values')"
            ]
          },
          "metadata": {},
          "execution_count": 15
        },
        {
          "output_type": "display_data",
          "data": {
            "text/plain": [
              "<Figure size 640x480 with 2 Axes>"
            ],
            "image/png": "[encoded data removed]"
          },
          "metadata": {}
        }
      ]
    },
    {
      "cell_type": "markdown",
      "source": [
        "If you’re working in IPython, you can close all open plot windows by executing\n",
        "plt.close(\"all\"):"
      ],
      "metadata": {
        "id": "yP41peGEr_QB"
      }
    },
    {
      "cell_type": "code",
      "source": [
        "plt.close(\"all\")"
      ],
      "metadata": {
        "id": "xgpTmkSVruTo"
      },
      "execution_count": 16,
      "outputs": []
    },
    {
      "cell_type": "markdown",
      "source": [
        "### Expressing Conditional Logic as Array Operations"
      ],
      "metadata": {
        "id": "KRqRreTGsEWB"
      }
    },
    {
      "cell_type": "markdown",
      "source": [
        "The `numpy.where` function is a vectorized version of the ternary expression `x if\n",
        "condition else y`."
      ],
      "metadata": {
        "id": "3RHLiDxWsILC"
      }
    },
    {
      "cell_type": "code",
      "source": [
        "xarr = np.array([1.1, 1.2, 1.3, 1.4, 1.5])\n",
        "yarr = np.array([2.1, 2.2, 2.3, 2.4, 2.5])\n",
        "cond = np.array([True, False, True, True, False])\n",
        "result = [(x if c else y) for x, y, c in zip(xarr, yarr, cond)]\n",
        "result"
      ],
      "metadata": {
        "colab": {
          "base_uri": "https://localhost:8080/"
        },
        "id": "apm9TgC2sBI6",
        "outputId": "6953bca5-3b02-4076-9fa1-ca3ca565a253"
      },
      "execution_count": 17,
      "outputs": [
        {
          "output_type": "execute_result",
          "data": {
            "text/plain": [
              "[np.float64(1.1),\n",
              " np.float64(2.2),\n",
              " np.float64(1.3),\n",
              " np.float64(1.4),\n",
              " np.float64(2.5)]"
            ]
          },
          "metadata": {},
          "execution_count": 17
        }
      ]
    },
    {
      "cell_type": "code",
      "source": [
        "arr = rng.standard_normal((4, 4))\n",
        "arr"
      ],
      "metadata": {
        "colab": {
          "base_uri": "https://localhost:8080/"
        },
        "id": "vrbJqBX-sdiV",
        "outputId": "7c0bbdbc-fb0f-4b06-c498-d330f2081fbd"
      },
      "execution_count": 18,
      "outputs": [
        {
          "output_type": "execute_result",
          "data": {
            "text/plain": [
              "array([[ 2.61815943,  0.77736134,  0.8286332 , -0.95898831],\n",
              "       [-1.20938829, -1.41229201,  0.54154683,  0.7519394 ],\n",
              "       [-0.65876032, -1.22867499,  0.25755777,  0.31290292],\n",
              "       [-0.13081169,  1.26998312, -0.09296246, -0.06615089]])"
            ]
          },
          "metadata": {},
          "execution_count": 18
        }
      ]
    },
    {
      "cell_type": "code",
      "source": [
        "arr > 0"
      ],
      "metadata": {
        "colab": {
          "base_uri": "https://localhost:8080/"
        },
        "id": "r5e3OYufsxXb",
        "outputId": "ada3d916-a8d4-4028-c948-875c22b9956e"
      },
      "execution_count": 19,
      "outputs": [
        {
          "output_type": "execute_result",
          "data": {
            "text/plain": [
              "array([[ True,  True,  True, False],\n",
              "       [False, False,  True,  True],\n",
              "       [False, False,  True,  True],\n",
              "       [False,  True, False, False]])"
            ]
          },
          "metadata": {},
          "execution_count": 19
        }
      ]
    },
    {
      "cell_type": "code",
      "source": [
        "np.where(arr > 0, 2, -2)"
      ],
      "metadata": {
        "colab": {
          "base_uri": "https://localhost:8080/"
        },
        "id": "bV82PjuXs0A7",
        "outputId": "a343a6d4-882a-4127-c1a7-b79129382a19"
      },
      "execution_count": 20,
      "outputs": [
        {
          "output_type": "execute_result",
          "data": {
            "text/plain": [
              "array([[ 2,  2,  2, -2],\n",
              "       [-2, -2,  2,  2],\n",
              "       [-2, -2,  2,  2],\n",
              "       [-2,  2, -2, -2]])"
            ]
          },
          "metadata": {},
          "execution_count": 20
        }
      ]
    },
    {
      "cell_type": "markdown",
      "source": [
        "You can combine scalars and arrays when using numpy.where. For example, I can\n",
        "replace all positive values in arr with the constant 2, like so:"
      ],
      "metadata": {
        "id": "dRIApT9ptHdR"
      }
    },
    {
      "cell_type": "code",
      "source": [
        "np.where(arr > 0, 2, arr)"
      ],
      "metadata": {
        "colab": {
          "base_uri": "https://localhost:8080/"
        },
        "id": "pmLM8UpSs495",
        "outputId": "310856fa-0b0c-40b6-a3a3-51be2bb6acaf"
      },
      "execution_count": 21,
      "outputs": [
        {
          "output_type": "execute_result",
          "data": {
            "text/plain": [
              "array([[ 2.        ,  2.        ,  2.        , -0.95898831],\n",
              "       [-1.20938829, -1.41229201,  2.        ,  2.        ],\n",
              "       [-0.65876032, -1.22867499,  2.        ,  2.        ],\n",
              "       [-0.13081169,  2.        , -0.09296246, -0.06615089]])"
            ]
          },
          "metadata": {},
          "execution_count": 21
        }
      ]
    },
    {
      "cell_type": "markdown",
      "source": [
        "### Mathematical and Statistical Methods\n",
        "A set of mathematical functions that compute statistics about an entire array or\n",
        "about the data along an axis are accessible as methods of the array class. You can\n",
        "use aggregations (sometimes called reductions) like `sum`, `mean`, and `std` (standard\n",
        "deviation) either by calling the array instance method or using the top-level NumPy\n",
        "function."
      ],
      "metadata": {
        "id": "X3u8-TBPtQZh"
      }
    },
    {
      "cell_type": "code",
      "source": [
        "arr = rng.standard_normal((5, 4))\n",
        "print(arr)\n",
        "print(\"----------\")\n",
        "print(arr.mean())\n",
        "print(\"----------\")\n",
        "print(np.mean(arr))\n",
        "print(\"----------\")\n",
        "arr.sum()"
      ],
      "metadata": {
        "colab": {
          "base_uri": "https://localhost:8080/"
        },
        "id": "rziWLZ4vtMhk",
        "outputId": "5a4f0cd9-7061-4c7b-d416-01b479d0957a"
      },
      "execution_count": 23,
      "outputs": [
        {
          "output_type": "stream",
          "name": "stdout",
          "text": [
            "[[-0.85725882  0.68828179 -1.15452958  0.65045239]\n",
            " [-1.38835995 -0.90738246 -1.09542531  0.00714569]\n",
            " [ 0.5343599  -1.06580785 -0.18147274  1.6219518 ]\n",
            " [-0.31739195 -0.81581497  0.38657902 -0.22363893]\n",
            " [-0.70169081 -1.79571318  0.81832562 -0.5710329 ]]\n",
            "----------\n",
            "-0.31842116119478125\n",
            "----------\n",
            "-0.31842116119478125\n",
            "----------\n"
          ]
        },
        {
          "output_type": "execute_result",
          "data": {
            "text/plain": [
              "np.float64(-6.368423223895625)"
            ]
          },
          "metadata": {},
          "execution_count": 23
        }
      ]
    },
    {
      "cell_type": "markdown",
      "source": [
        "Functions like `mean` and `sum` take an optional axis argument that computes the\n",
        "statistic over the given axis, resulting in an array with one less dimension:"
      ],
      "metadata": {
        "id": "CznXcEFYtwvx"
      }
    },
    {
      "cell_type": "code",
      "source": [
        "print(arr.mean(axis=1))\n",
        "print(\"----------\")\n",
        "print(arr.sum(axis=0))"
      ],
      "metadata": {
        "colab": {
          "base_uri": "https://localhost:8080/"
        },
        "id": "e-DzXbWNttow",
        "outputId": "58ef209d-8d16-4001-f374-99cfd134db0e"
      },
      "execution_count": 24,
      "outputs": [
        {
          "output_type": "stream",
          "name": "stdout",
          "text": [
            "[-0.16826356 -0.84600551  0.22725778 -0.24256671 -0.56252782]\n",
            "----------\n",
            "[-2.73034163 -3.89643666 -1.22652299  1.48487805]\n"
          ]
        }
      ]
    },
    {
      "cell_type": "markdown",
      "source": [
        "Here, `arr.mean(axis=1)` means “compute mean across the columns,” where\n",
        "`arr.sum(axis=0)` means “compute sum down the rows.”"
      ],
      "metadata": {
        "id": "28gNoSL4t_LZ"
      }
    },
    {
      "cell_type": "code",
      "source": [
        "arr = np.array([0, 1, 2, 3, 4, 5, 6, 7])\n",
        "arr.cumsum()"
      ],
      "metadata": {
        "colab": {
          "base_uri": "https://localhost:8080/"
        },
        "id": "o97WiLYXuBvD",
        "outputId": "78adba0c-a77e-4de0-b706-5d4f21da281b"
      },
      "execution_count": 25,
      "outputs": [
        {
          "output_type": "execute_result",
          "data": {
            "text/plain": [
              "array([ 0,  1,  3,  6, 10, 15, 21, 28])"
            ]
          },
          "metadata": {},
          "execution_count": 25
        }
      ]
    },
    {
      "cell_type": "markdown",
      "source": [
        "In multidimensional arrays, accumulation functions like `cumsum` return an array of\n",
        "the same size but with the partial aggregates computed along the indicated axis\n",
        "according to each lower dimensional slice:"
      ],
      "metadata": {
        "id": "fa1JossHuqzR"
      }
    },
    {
      "cell_type": "code",
      "source": [
        "arr = np.array([[0, 1, 2], [3, 4, 5], [6, 7, 8]])\n",
        "arr"
      ],
      "metadata": {
        "colab": {
          "base_uri": "https://localhost:8080/"
        },
        "id": "nTnjzHgyuInP",
        "outputId": "316cf8be-005f-4e1b-fbc2-2067493f77af"
      },
      "execution_count": 26,
      "outputs": [
        {
          "output_type": "execute_result",
          "data": {
            "text/plain": [
              "array([[0, 1, 2],\n",
              "       [3, 4, 5],\n",
              "       [6, 7, 8]])"
            ]
          },
          "metadata": {},
          "execution_count": 26
        }
      ]
    },
    {
      "cell_type": "code",
      "source": [
        "arr.cumsum(axis=0)"
      ],
      "metadata": {
        "colab": {
          "base_uri": "https://localhost:8080/"
        },
        "id": "oa24Qtr3uv4g",
        "outputId": "b1b7b4b2-fd08-4651-a949-4725d371f84d"
      },
      "execution_count": 27,
      "outputs": [
        {
          "output_type": "execute_result",
          "data": {
            "text/plain": [
              "array([[ 0,  1,  2],\n",
              "       [ 3,  5,  7],\n",
              "       [ 9, 12, 15]])"
            ]
          },
          "metadata": {},
          "execution_count": 27
        }
      ]
    },
    {
      "cell_type": "code",
      "source": [
        "arr.cumsum(axis=1)"
      ],
      "metadata": {
        "colab": {
          "base_uri": "https://localhost:8080/"
        },
        "id": "QyRQ3kMSuxnp",
        "outputId": "e064c70a-8c01-4ae9-f1a4-0952d924859a"
      },
      "execution_count": 28,
      "outputs": [
        {
          "output_type": "execute_result",
          "data": {
            "text/plain": [
              "array([[ 0,  1,  3],\n",
              "       [ 3,  7, 12],\n",
              "       [ 6, 13, 21]])"
            ]
          },
          "metadata": {},
          "execution_count": 28
        }
      ]
    },
    {
      "cell_type": "markdown",
      "source": [
        "### Methods for Boolean Arrays\n",
        "Boolean values are coerced to 1 (True) and 0 (False) in the preceding methods."
      ],
      "metadata": {
        "id": "svC3LWB_u74B"
      }
    },
    {
      "cell_type": "code",
      "source": [
        "arr = rng.standard_normal(100)\n",
        "(arr > 0).sum()"
      ],
      "metadata": {
        "colab": {
          "base_uri": "https://localhost:8080/"
        },
        "id": "6fDQUv8AuzhZ",
        "outputId": "219fbc8f-3d3d-4aab-b1f7-65453423c807"
      },
      "execution_count": 29,
      "outputs": [
        {
          "output_type": "execute_result",
          "data": {
            "text/plain": [
              "np.int64(54)"
            ]
          },
          "metadata": {},
          "execution_count": 29
        }
      ]
    },
    {
      "cell_type": "code",
      "source": [
        "(arr <= 0).sum()"
      ],
      "metadata": {
        "colab": {
          "base_uri": "https://localhost:8080/"
        },
        "id": "DYZkL2kmvFfB",
        "outputId": "4ec15667-5b1e-40d1-dbb0-8f6bb2ce05e1"
      },
      "execution_count": 30,
      "outputs": [
        {
          "output_type": "execute_result",
          "data": {
            "text/plain": [
              "np.int64(46)"
            ]
          },
          "metadata": {},
          "execution_count": 30
        }
      ]
    },
    {
      "cell_type": "markdown",
      "source": [
        "The parentheses here in the expression `(arr > 0).sum()` are necessary to be able to\n",
        "call `sum()` on the temporary result of `arr > 0`."
      ],
      "metadata": {
        "id": "EVFOqbPtvJ5h"
      }
    },
    {
      "cell_type": "code",
      "source": [
        "bools = np.array([False, False, True, False])\n",
        "print(bools.any())\n",
        "bools.all()"
      ],
      "metadata": {
        "colab": {
          "base_uri": "https://localhost:8080/"
        },
        "id": "wjcyn4UsvHLY",
        "outputId": "d99b23a9-c9d2-4897-add0-319b5a6b626a"
      },
      "execution_count": 31,
      "outputs": [
        {
          "output_type": "stream",
          "name": "stdout",
          "text": [
            "True\n"
          ]
        },
        {
          "output_type": "execute_result",
          "data": {
            "text/plain": [
              "np.False_"
            ]
          },
          "metadata": {},
          "execution_count": 31
        }
      ]
    },
    {
      "cell_type": "markdown",
      "source": [
        "### Sorting"
      ],
      "metadata": {
        "id": "_d_7cHvRvWWD"
      }
    },
    {
      "cell_type": "code",
      "source": [
        "arr = rng.standard_normal(6)\n",
        "print(arr)\n",
        "arr.sort()\n",
        "print(arr)"
      ],
      "metadata": {
        "colab": {
          "base_uri": "https://localhost:8080/"
        },
        "id": "NxQqohA2vTxu",
        "outputId": "5c9662ab-eb27-4149-c58b-13235b8799e8"
      },
      "execution_count": 32,
      "outputs": [
        {
          "output_type": "stream",
          "name": "stdout",
          "text": [
            "[ 0.75539067 -1.15912585  2.15031011 -0.15027022 -0.16116428 -1.07944248]\n",
            "[-1.15912585 -1.07944248 -0.16116428 -0.15027022  0.75539067  2.15031011]\n"
          ]
        }
      ]
    },
    {
      "cell_type": "markdown",
      "source": [
        "You can sort each one-dimensional section of values in a multidimensional array in\n",
        "place along an axis by passing the axis number to sort."
      ],
      "metadata": {
        "id": "7dQKzgMqviy5"
      }
    },
    {
      "cell_type": "code",
      "source": [
        "arr = rng.standard_normal((5, 3))\n",
        "arr"
      ],
      "metadata": {
        "colab": {
          "base_uri": "https://localhost:8080/"
        },
        "id": "sGWKJeCfvfJu",
        "outputId": "4966ab89-ffdf-47d5-efd5-85dfe5e48495"
      },
      "execution_count": 33,
      "outputs": [
        {
          "output_type": "execute_result",
          "data": {
            "text/plain": [
              "array([[ 0.87796618,  0.22446741, -0.59159345],\n",
              "       [ 0.2262628 ,  0.68618251,  1.21500461],\n",
              "       [ 0.21605944, -0.96482356, -0.5566078 ],\n",
              "       [-2.29838764, -0.73208213,  0.7364691 ],\n",
              "       [ 0.46571672, -0.10787605, -0.34143629]])"
            ]
          },
          "metadata": {},
          "execution_count": 33
        }
      ]
    },
    {
      "cell_type": "markdown",
      "source": [
        "`arr.sort(axis=0)` sorts the values within each column, while `arr.sort(axis=1)`\n",
        "sorts across each row:"
      ],
      "metadata": {
        "id": "Wqc3YSVTvory"
      }
    },
    {
      "cell_type": "code",
      "source": [
        "arr.sort(axis=0)\n",
        "print(arr)\n",
        "arr.sort(axis=1)\n",
        "print(arr)\n"
      ],
      "metadata": {
        "colab": {
          "base_uri": "https://localhost:8080/"
        },
        "id": "8e3J4pmzvmGi",
        "outputId": "92a2a070-de3e-4801-b030-71c1be5042c0"
      },
      "execution_count": 34,
      "outputs": [
        {
          "output_type": "stream",
          "name": "stdout",
          "text": [
            "[[-2.29838764 -0.96482356 -0.59159345]\n",
            " [ 0.21605944 -0.73208213 -0.5566078 ]\n",
            " [ 0.2262628  -0.10787605 -0.34143629]\n",
            " [ 0.46571672  0.22446741  0.7364691 ]\n",
            " [ 0.87796618  0.68618251  1.21500461]]\n",
            "[[-2.29838764 -0.96482356 -0.59159345]\n",
            " [-0.73208213 -0.5566078   0.21605944]\n",
            " [-0.34143629 -0.10787605  0.2262628 ]\n",
            " [ 0.22446741  0.46571672  0.7364691 ]\n",
            " [ 0.68618251  0.87796618  1.21500461]]\n"
          ]
        }
      ]
    },
    {
      "cell_type": "code",
      "source": [
        "arr2 = np.array([5, -10, 7, 1, 0, -3])\n",
        "sorted_arr2 = np.sort(arr2)\n",
        "sorted_arr2"
      ],
      "metadata": {
        "colab": {
          "base_uri": "https://localhost:8080/"
        },
        "id": "0piHFdkevynw",
        "outputId": "d1db2a8d-d0bf-467b-cfb7-e55acdd85a65"
      },
      "execution_count": 35,
      "outputs": [
        {
          "output_type": "execute_result",
          "data": {
            "text/plain": [
              "array([-10,  -3,   0,   1,   5,   7])"
            ]
          },
          "metadata": {},
          "execution_count": 35
        }
      ]
    },
    {
      "cell_type": "markdown",
      "source": [
        "### Unique and Other Set Logic\n",
        "NumPy has some basic set operations for one-dimensional ndarrays. A commonly\n",
        "used one is numpy.unique, which returns the sorted unique values in an array:"
      ],
      "metadata": {
        "id": "HXUu7avBv78z"
      }
    },
    {
      "cell_type": "code",
      "source": [
        "names = np.array([\"Bob\", \"Will\", \"Joe\", \"Bob\", \"Will\", \"Joe\", \"Joe\"])\n",
        "np.unique(names)"
      ],
      "metadata": {
        "colab": {
          "base_uri": "https://localhost:8080/"
        },
        "id": "M2zT917ZvwwK",
        "outputId": "19a32ef5-3ede-4c35-b58e-6018b5fccad9"
      },
      "execution_count": 36,
      "outputs": [
        {
          "output_type": "execute_result",
          "data": {
            "text/plain": [
              "array(['Bob', 'Joe', 'Will'], dtype='<U4')"
            ]
          },
          "metadata": {},
          "execution_count": 36
        }
      ]
    },
    {
      "cell_type": "code",
      "source": [
        "ints = np.array([3, 3, 3, 2, 2, 1, 1, 4, 4])\n",
        "np.unique(ints)"
      ],
      "metadata": {
        "colab": {
          "base_uri": "https://localhost:8080/"
        },
        "id": "hNC6MIrwwHxK",
        "outputId": "c9a3fb77-3603-49d1-fd43-7cd35100c31e"
      },
      "execution_count": 37,
      "outputs": [
        {
          "output_type": "execute_result",
          "data": {
            "text/plain": [
              "array([1, 2, 3, 4])"
            ]
          },
          "metadata": {},
          "execution_count": 37
        }
      ]
    },
    {
      "cell_type": "markdown",
      "source": [
        "Contrast `numpy.unique` with the pure Python alternative:"
      ],
      "metadata": {
        "id": "CGsYPD8KwLeR"
      }
    },
    {
      "cell_type": "code",
      "source": [
        "sorted(set(names))"
      ],
      "metadata": {
        "colab": {
          "base_uri": "https://localhost:8080/"
        },
        "id": "xtHUtDrywOK8",
        "outputId": "2655cee5-b996-4186-b927-7040b9e39583"
      },
      "execution_count": 38,
      "outputs": [
        {
          "output_type": "execute_result",
          "data": {
            "text/plain": [
              "[np.str_('Bob'), np.str_('Joe'), np.str_('Will')]"
            ]
          },
          "metadata": {},
          "execution_count": 38
        }
      ]
    },
    {
      "cell_type": "markdown",
      "source": [
        "Another function, `numpy.in1d`, tests membership of the values in one array in\n",
        "another, returning a Boolean array:"
      ],
      "metadata": {
        "id": "wxYe8UaqwZX6"
      }
    },
    {
      "cell_type": "code",
      "source": [
        "values = np.array([6, 0, 0, 3, 2, 5, 6])\n",
        "np.in1d(values, [2, 3, 6])"
      ],
      "metadata": {
        "colab": {
          "base_uri": "https://localhost:8080/"
        },
        "id": "oryl3FrBwSco",
        "outputId": "12ab0149-2c10-46ff-f697-57ea54af1cea"
      },
      "execution_count": 39,
      "outputs": [
        {
          "output_type": "stream",
          "name": "stderr",
          "text": [
            "/tmp/ipython-input-1293837718.py:2: DeprecationWarning: `in1d` is deprecated. Use `np.isin` instead.\n",
            "  np.in1d(values, [2, 3, 6])\n"
          ]
        },
        {
          "output_type": "execute_result",
          "data": {
            "text/plain": [
              "array([ True, False, False,  True,  True, False,  True])"
            ]
          },
          "metadata": {},
          "execution_count": 39
        }
      ]
    },
    {
      "cell_type": "code",
      "source": [],
      "metadata": {
        "id": "Zl_cBqBEwdhX"
      },
      "execution_count": null,
      "outputs": []
    }
  ],
  "metadata": {
    "colab": {
      "provenance": [],
      "include_colab_link": true
    },
    "kernelspec": {
      "display_name": "Python 3",
      "name": "python3"
    },
    "language_info": {
      "codemirror_mode": {
        "name": "ipython",
        "version": 3
      },
      "file_extension": ".py",
      "mimetype": "text/x-python",
      "name": "python",
      "nbconvert_exporter": "python",
      "pygments_lexer": "ipython3",
      "version": "3.12.1"
    }
  },
  "nbformat": 4,
  "nbformat_minor": 0
}